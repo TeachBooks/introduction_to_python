{
 "cells": [
  {
   "cell_type": "markdown",
   "metadata": {
    "nbgrader": {
     "grade": false,
     "locked": true,
     "solution": false
    }
   },
   "source": [
    "<figure>\n",
    "  <IMG SRC=\"https://raw.githubusercontent.com/mbakker7/exploratory_computing_with_python/master/tudelft_logo.png\" WIDTH=250 ALIGN=\"right\">\n",
    "</figure>\n",
    "\n",
    "# Exercise Notebook 3 - Data structures, loops and debugging\n",
    "\n",
    "You can download this notebook and the additional files by clicking the download button({fa}`download`) in the top right and selecting \"Exercise notebook\". \n",
    "\n",
    "```{custom_download_link} exercise_notebook_3_structures_loops_debugging.zip\n",
    ":text: \"Exercise notebook\"\n",
    ":replace_default: \"True\"\n",
    "```"
   ]
  },
  {
   "cell_type": "markdown",
   "metadata": {},
   "source": [
    "<div class=\"alert alert-block alert-info\"><b>Exercise 3.1.1</b><br><br><div style=\"text-align: justify\">\n",
    "\n",
    "Now, let's get down to practice.<br><br>Your first task is to finish the <code>pack_variables()</code> function — a function which will combine all inputs in one list and return it.\n",
    "\n",
    "More precisely, this function will receive $5$ arguments as input and you have to return a list with these $5$ elements inside.\n",
    "</div></div>"
   ]
  },
  {
   "cell_type": "code",
   "execution_count": null,
   "metadata": {},
   "outputs": [],
   "source": [
    "def pack_variables(arg1, arg2, arg3, arg4, arg5):\n",
    "    ...\n",
    "\n",
    "\n",
    "print(pack_variables(1, 2, 4, 22, 7))\n"
   ]
  },
  {
   "cell_type": "markdown",
   "metadata": {},
   "source": [
    "<div class=\"alert alert-block alert-info\"><b>Exercise 3.1.2</b><br><br><div style=\"text-align: justify\">\n",
    "\n",
    "Here, you will have to perform a quality assessment on a received list of GNSS measurements. But a simple one.\n",
    "\n",
    "You have to check whether the received data has more than $1000$ measurements, in that case we know the receiver was running for a long time without being interrupted.\n",
    "If it is shorter than $1000$, we assume there were some interruptions. Hence, your function should return a message whether the data is fine or not.\n",
    "\n",
    "You may want to add <code>print(measurements)</code> to the cell to check what goes on inside the function.</div></div>"
   ]
  },
  {
   "cell_type": "code",
   "execution_count": null,
   "metadata": {},
   "outputs": [],
   "source": [
    "def check_data(measurements):\n",
    "   ...\n",
    "\n",
    "#You can check your code below, where we simulate 1250 measurements\n",
    "import random \n",
    "gnss_data = [random.random() * 2.2e8 for i in range(1250)]\n",
    "\n",
    "print(check_data(gnss_data))"
   ]
  },
  {
   "cell_type": "markdown",
   "metadata": {},
   "source": [
    "explanations for the test data will follow later, but in brief:\n",
    " * `random.random()` returns a random number between 0 and 1\n",
    " * `[... for i in range(...)]` is a _list comprehension_, creating a list from an expression.\n",
    " * here a list of 1250 random numbers is created\n"
   ]
  },
  {
   "cell_type": "markdown",
   "metadata": {},
   "source": [
    "<div class=\"alert alert-block alert-info\"><b>Exercise 3.1.3</b><br><br><div style=\"text-align: justify\">\n",
    "\n",
    "In this exercise you will practice how to access data from a dictionary. Sometimes it is easier to work with the most convenient data type, that is best suited for a specific task. In this example, you have to write a function which accepts data stored in a dictionary and saves some data from it. More precisely, you have to select the $x$ and $y$ coordinates saved in the <code>input_dict</code> dictionary, and return them as a tuple, with $x$ being the first entry.</div></div>"
   ]
  },
  {
   "cell_type": "code",
   "execution_count": null,
   "metadata": {},
   "outputs": [],
   "source": [
    "# you do not have to change anything in this cell, just run it\n",
    "\n",
    "input_dict = {\n",
    "    'ID': '334856',\n",
    "    'operator_name': 'Jarno',\n",
    "    'observation_amount': '2485',\n",
    "    'loc_x': [2, 5, 10, 12, -5, 8, 27, 1],\n",
    "    'loc_y': [6, 1, -5, 15, 4, 8, 0, 10]\n",
    "}\n"
   ]
  },
  {
   "cell_type": "code",
   "execution_count": null,
   "metadata": {},
   "outputs": [],
   "source": [
    "def unpack_dictionary(input_dict):\n",
    "    ...\n",
    "\n",
    "\n",
    "print(unpack_dictionary(input_dict))"
   ]
  },
  {
   "cell_type": "markdown",
   "metadata": {
    "id": "su7ODKnqB7tv",
    "nbgrader": {
     "grade": false,
     "locked": true,
     "solution": false
    }
   },
   "source": [
    "<div class=\"alert alert-block alert-info\"><b>Exercise 3.2.1</b>\n",
    "\n",
    "<div style=\"text-align: justify\">\n",
    "\n",
    "In this exercise you will write your own Celsius to Fahrenheit converter! Your task is to write a function, which will accept the list of temperatures <code>temp_c</code>, in Celsius, and will output a list with the same temperatures, but in Fahrenheit. \n",
    "\n",
    "Hint: create an empty list for the result, then append values to this list. See the \"personalized greeting\" example in Section 3.2.\n",
    "\n",
    "</div></div>"
   ]
  },
  {
   "cell_type": "code",
   "execution_count": null,
   "metadata": {
    "id": "ldeM_71XgK--",
    "nbgrader": {
     "grade": false,
     "locked": true,
     "solution": false
    }
   },
   "outputs": [],
   "source": [
    "# you do not need to change anything in this cell\n",
    "\n",
    "temperatures_c = [-1, -1.2, 1.3, 6.4, 11.2, 14.8, 17.8, 17.7, 13.7, 8.5, 4.1, 0.9]"
   ]
  },
  {
   "cell_type": "code",
   "execution_count": null,
   "metadata": {
    "id": "WYqtQ21Kgqzs"
   },
   "outputs": [],
   "source": [
    "def celsius_to_fahrenheit(temp_c):\n",
    "    ...\n",
    "\n",
    "print(celsius_to_fahrenheit(temperatures_c))"
   ]
  },
  {
   "cell_type": "markdown",
   "metadata": {
    "id": "2iKtqd2XhAcU",
    "nbgrader": {
     "grade": false,
     "locked": true,
     "solution": false
    }
   },
   "source": [
    "<div class=\"alert alert-block alert-info\"><b>Exercise 3.2.2</b><br><br><div style=\"text-align: justify\">Your task here is to write a function which will analyze a broadcasting message of the following format: <b>\"satellite_ids;date\"</b>, where the first part of the message contains unique lowercase letters, each corresponding to a different satellite ID, and the last part contains the date of the message.<br><br>\n",
    "Here are some examples:\n",
    "    <b>\"agf;06062022\"</b> (3 satellites: a, g, and f),\n",
    "    <b> \"abcdefgops;03121999\"</b> (10 satellites), \n",
    "    <b> \"xyz;11112011\"</b> (3 satellites).\n",
    "<br><br>Your task is to write a function, which for a provided broadcast message, will count the number of satellites mentioned in the message.\n",
    "</div></div>\n"
   ]
  },
  {
   "cell_type": "code",
   "execution_count": null,
   "metadata": {
    "id": "niMqThVgiVeG"
   },
   "outputs": [],
   "source": [
    "def count_satellites(message):\n",
    "    ...\n",
    "\n",
    "# Check that with the example below you count 5 satellites\n",
    "print(count_satellites(\"hpzde;12122007\"))"
   ]
  },
  {
   "cell_type": "markdown",
   "metadata": {
    "id": "GFziFh2Misx_",
    "nbgrader": {
     "grade": false,
     "locked": true,
     "solution": false
    }
   },
   "source": [
    "<div class=\"alert alert-block alert-info\"><b>Exercise 3.2.3</b>\n",
    "<div style=\"text-align: justify\">\n",
    "\n",
    "Here you need to write a function that is able to sort any list consisting only of real numbers, in the descending order. For example, the list $[19, 5, 144, 6]$ becomes $[144, 19, 6, 5]$.\n",
    "\n",
    "\n",
    "Hint: use a built-in <code>sorted()</code> function to sort the list in ascending order, and then think of a clever way to change the order this list to descending order.\n",
    "</div></div>"
   ]
  },
  {
   "cell_type": "code",
   "execution_count": null,
   "metadata": {
    "colab": {
     "base_uri": "https://localhost:8080/"
    },
    "id": "2DB2jWVpi9Lr",
    "outputId": "c6af4f43-7138-4d09-b1ae-a913154dd107"
   },
   "outputs": [],
   "source": [
    "def sort_list(unsorted_list):\n",
    "    ...\n",
    "\n",
    "print(sort_list([9, 3, -1, 5, 1, -9, 1]))"
   ]
  },
  {
   "cell_type": "markdown",
   "metadata": {
    "nbgrader": {
     "grade": false,
     "locked": true,
     "solution": false
    }
   },
   "source": [
    "<div class=\"alert alert-block alert-info\"><b>Exercise 3.2.4</b><br><br><div style=\"text-align: justify\">\n",
    "Use a for loop and what you learned about <code>range()</code> to print out every third element of the list <code>L</code>, starting from the second.\n",
    "</div></div>\n"
   ]
  },
  {
   "cell_type": "code",
   "execution_count": null,
   "metadata": {},
   "outputs": [],
   "source": [
    "L = ['a', '1', 'b', 'c', '2', 'd', 'e', '3', 'f', 'g', '4', 'h'] # you don't need to change L\n",
    "\n",
    "# your loop here\n",
    "..."
   ]
  },
  {
   "cell_type": "markdown",
   "metadata": {
    "nbgrader": {
     "grade": false,
     "locked": true,
     "solution": false
    }
   },
   "source": [
    "<div class=\"alert alert-block alert-info\">\n",
    "<b>Exercise 3.2.5</b><br><br><div style=\"text-align: justify\"> Write a function that converts a number from degrees to radians.\n",
    "</div></div>"
   ]
  },
  {
   "cell_type": "code",
   "execution_count": null,
   "metadata": {},
   "outputs": [],
   "source": [
    "def DegToRad(deg):\n",
    "    ...\n",
    "\n",
    "Angle = 180 # Degrees\n",
    "print(f\"An angle of {Angle} Degrees is equal to {DegToRad(Angle):.3f} radians\")"
   ]
  },
  {
   "cell_type": "markdown",
   "metadata": {
    "nbgrader": {
     "grade": false,
     "locked": true,
     "solution": false
    }
   },
   "source": [
    "<div class=\"alert alert-block alert-info\">\n",
    "<b>Exercise 3.2.6</b><br><br><div style=\"text-align: justify\"> Write a function that takes four inputs:\n",
    "\n",
    "$(x_1, y_1, x_2, y_2)$ and computes the <a href=\"https://en.wikipedia.org/wiki/Euclidean_distance\">Euclidian distance</a> between point 1 $(x_1,y_1)$ and point 2 $(x_2,y_2)$.\n",
    "</div></div>"
   ]
  },
  {
   "cell_type": "code",
   "execution_count": null,
   "metadata": {},
   "outputs": [],
   "source": [
    "import math # \n",
    "\n",
    "# def distance ...\n",
    "# ...\n",
    "# ...\n",
    "\n",
    "x1, y1 = 1, 1\n",
    "x2, y2 = 2, 3\n",
    "\n",
    "print(f\"Distance between points ({x1}, {y1}) and ({x2}, {y2}) is {distance(x1, y1, x2, y2):.3f}\")"
   ]
  },
  {
   "cell_type": "markdown",
   "metadata": {},
   "source": [
    "<div class=\"alert alert-block alert-info\">\n",
    "<b>Exercise 3.2.7</b><br><br><div style=\"text-align: justify\"> Write a function that determines if its argument is a prime number.\n",
    "\n",
    "* Hint 1: an integer $n$ is prime if $n > 1$ and $n$ is not divisible by any smaller integer $> 1$\n",
    "* Hint 2: divisibility can be tested with the <code>%</code> operator. If <code>n % i</code> is $0$, <code>n</code> is divisible by <code>i</code>.</div></div>"
   ]
  },
  {
   "cell_type": "code",
   "execution_count": null,
   "metadata": {},
   "outputs": [],
   "source": [
    "def is_prime(n):\n",
    "    return True # or False"
   ]
  },
  {
   "cell_type": "markdown",
   "metadata": {},
   "source": [
    "<div class=\"alert alert-block alert-info\">\n",
    "<b>Exercise 3.2.8</b><br><br><div style=\"text-align: justify\"> \n",
    "\n",
    "Use your <code>is_prime()</code> function to create a list of all primes $< 1000$. What is the sum of all primes $< 1000$?\n",
    "\n",
    "Hint: is there a nice way to calculate the sum of the elements in a list?\n",
    "</div></div>\n"
   ]
  },
  {
   "cell_type": "code",
   "execution_count": null,
   "metadata": {},
   "outputs": [],
   "source": [
    "prime_list = ...\n",
    "prime_sum = ...\n",
    "\n",
    "print(prime_list)\n",
    "print(prime_sum)"
   ]
  },
  {
   "cell_type": "markdown",
   "metadata": {
    "nbgrader": {
     "grade": false,
     "locked": true,
     "solution": false
    }
   },
   "source": [
    "<div class=\"alert alert-block alert-info\"><b>(Fixing) Exercise 3.3.1</b><br><br><div style=\"text-align: justify\">Fix the syntax errors so it prints <code>\"AES\"</code> without removing the variable that holds it. You'll need to fix 2 errors.</div></div>"
   ]
  },
  {
   "cell_type": "code",
   "execution_count": null,
   "metadata": {},
   "outputs": [],
   "source": [
    "def get_abbreviation():\n",
    "    my abbreviation = \"AES\"\n",
    "     return my_abbreviation\n",
    "        \n",
    "print(get_abbreviation())"
   ]
  },
  {
   "cell_type": "markdown",
   "metadata": {
    "nbgrader": {
     "grade": false,
     "locked": true,
     "solution": false
    }
   },
   "source": [
    "<div class=\"alert alert-block alert-info\"><b>(Fixing) Exercise 3.3.2</b><br><br><div style=\"text-align: justify\">Find the semantic error in this function.\n",
    "\n",
    "Hint: The factorial n! is defined as <code>n! = n * (n - 1) * (n - 2) * ... * 2 * 1</code>. The function uses the fact that if n > 0, <code>n! = n * (n - 1)!</code>. This is an example of a _recursive_ function, a function that calls itself.</div></div>"
   ]
  },
  {
   "cell_type": "code",
   "execution_count": null,
   "metadata": {},
   "outputs": [],
   "source": [
    "def factorial(x):\n",
    "    \"returns the factorial of x\"\n",
    "    if x == 0:\n",
    "        return 1\n",
    "    else: \n",
    "        return x ** factorial(x-1)\n",
    "\n",
    "factorial(4)"
   ]
  },
  {
   "cell_type": "code",
   "execution_count": null,
   "metadata": {},
   "outputs": [],
   "source": []
  }
 ],
 "metadata": {
  "kernelspec": {
   "display_name": "Python 3 (ipykernel)",
   "language": "python",
   "name": "python3"
  },
  "language_info": {
   "codemirror_mode": {
    "name": "ipython",
    "version": 3
   },
   "file_extension": ".py",
   "mimetype": "text/x-python",
   "name": "python",
   "nbconvert_exporter": "python",
   "pygments_lexer": "ipython3",
   "version": "3.10.0"
  },
  "latex_envs": {
   "LaTeX_envs_menu_present": true,
   "autoclose": false,
   "autocomplete": true,
   "bibliofile": "biblio.bib",
   "cite_by": "apalike",
   "current_citInitial": 1,
   "eqLabelWithNumbers": true,
   "eqNumInitial": 1,
   "hotkeys": {
    "equation": "Ctrl-E",
    "itemize": "Ctrl-I"
   },
   "labels_anchors": false,
   "latex_user_defs": false,
   "report_style_numbering": false,
   "user_envs_cfg": false
  },
  "vscode": {
   "interpreter": {
    "hash": "1fe2f2b718b1108b9c4176932db8a0ead471245140baaa21ea96a4066683e6b2"
   }
  }
 },
 "nbformat": 4,
 "nbformat_minor": 4
}
