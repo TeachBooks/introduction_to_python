{
 "cells": [
  {
   "cell_type": "markdown",
   "metadata": {
    "nbgrader": {
     "grade": false,
     "locked": true,
     "solution": false
    }
   },
   "source": [
    "<figure>\n",
    "  <IMG SRC=\"https://raw.githubusercontent.com/mbakker7/exploratory_computing_with_python/master/tudelft_logo.png\" WIDTH=250 ALIGN=\"right\">\n",
    "</figure>\n",
    "\n",
    "# Exercise Notebook 6 - Python files"
   ]
  },
  {
   "cell_type": "markdown",
   "metadata": {},
   "source": [
    "This week, please hand in your exercise as `.py` files, not notebooks.\n",
    "See the course material for how to work with .py files. You should submit three .py files in Brightspace.\n",
    "\n",
    "Name your files according to this template:\n",
    "\n",
    "`Notebook7_Group_<N>_<exericse number>.py`"
   ]
  },
  {
   "cell_type": "markdown",
   "metadata": {},
   "source": [
    "<div class=\"alert alert-block alert-info\"><b>Exercise 7.1 An interative map</b><br><br><div style=\"text-align: justify\">\n",
    "   \n",
    "Doctor M. studies the following sequence:\n",
    "\n",
    "$$z_0 = 0$$\n",
    "\n",
    "$$z_n = z_{n-1}^2 + c$$\n",
    "\n",
    "where $z$ and $c$ are complex numbers.\n",
    "    \n",
    "For some values of $c$, the sequence remains bounded, while for others the magnitude of $z$ grows larger and larger.\n",
    "Write a function to test a value of $c$ and determine the behavior of the sequence.\n",
    "    \n",
    "**Input**: Your function should take two parameters: c and a maximum number of iterations.\n",
    "If the value of $|z|$ is ever larger than 2, it is known that $|z|$ will grow large, and you can stop iterating.\n",
    "\n",
    "**Output**: The function should return the number of iterations needed until $|z| > 2$, or 0 if $|z|$ remains bounded.\n",
    "\n",
    "**Hint 1:** c will be a complex number, but since this is Python you don't need to worry much, normal math will just work. But remember `abs()` for $|z|$.\n",
    "    \n",
    "**Hint 2:** you don't need to save all the $z_n$.\n",
    "  You can use a single z, and update it each iteration.\n",
    "\n",
    "  Your function should look like this (but remember, this week you should work in a Python file, not a notebook) \n",
    "  \n",
    "</div></div>"
   ]
  },
  {
   "cell_type": "code",
   "execution_count": null,
   "metadata": {},
   "outputs": [],
   "source": [
    "def M(c, Nmax):\n",
    "    ...\n",
    "    return N "
   ]
  },
  {
   "cell_type": "markdown",
   "metadata": {},
   "source": [
    "<div class=\"alert alert-block alert-info\"><b>Exercise 7.2 Plot M</b><br><br><div style=\"text-align: justify\">\n",
    "    \n",
    "Use Nmax = 100, and make a plot of M in the complex plane.\n",
    "Use `plt.imshow()` to create a plot of M, where colors are used to indicate the values in M.   \n",
    "\n",
    "When you plot from a Python script in a .py file, you need to call `plt.show()` at the end of the script. Otherwise\n",
    "the plot will not be shown, the program just ends.\n",
    "    \n",
    "Hint:\n",
    "</div></div>"
   ]
  },
  {
   "cell_type": "code",
   "execution_count": null,
   "metadata": {},
   "outputs": [],
   "source": [
    "...\n",
    "\n",
    "# set the figure size large\n",
    "plt.figure(figsize=(8,8))\n",
    "\n",
    "Nmax = 100   # maximum number of iterations\n",
    "dx = 0.01    # resolution\n",
    "\n",
    "# make lists of x and y coordinates, with step size dx\n",
    "X = np.arange(-2.5, 1.5, dx)\n",
    "Y = np.arange(-2, 2, dx)\n",
    "\n",
    "print(f'The plot has {len(X)} x {len(Y)} points')\n",
    "\n",
    "# number of iterations for each point in the plane,\n",
    "# you should fill it in\n",
    "N = np.zeros((len(Y), len(X))) \n",
    "\n",
    "# for every point in N\n",
    "for j in range(len(Y)):\n",
    "    for i in range(len(X)):\n",
    "        c = X[i] + 1j * Y[j]  # prepare a c,  c = x + iy\n",
    "        ... \n",
    "\n",
    "plt.imshow(N, origin='lower') \n",
    "# origin=lower makes the y axis start at the bottom of the plot\n",
    "\n",
    "# ask Matplotlib to use the same scale in x and y\n",
    "plt.gca().axis('equal') \n",
    "\n",
    "..."
   ]
  },
  {
   "cell_type": "markdown",
   "metadata": {},
   "source": [
    "<div class=\"alert alert-block alert-info\"><b>Exercise 7.3 Plot some more</b><br><br><div style=\"text-align: justify\">\n",
    "    \n",
    "Adjust the plot settings to your liking. Try to find an interesting view and use the hints below.\n",
    "\n",
    "* You can zoom in, by adjusting the ranges for x and y, and also dx. \n",
    "A good size of the plot (adjusted by the ranges and dx) is roughly 1000 x 800 pixels - enough to show details, but not larger than your screen.\n",
    "    \n",
    "* Try increasing Nmax (but plotting will take longer).\n",
    "\n",
    "* Choose a color map you like, see the [Matplotlib documentation](https://matplotlib.org/stable/users/explain/colors/colormaps.html) \n",
    "for options.\n",
    "\n",
    "* Sometimes the plot looks better in a logarithmic color scale - color not by N but by log(N+1). Try it (use np.log()). \n",
    "The +1 is there since $log(0)$ is -infinity and might lead to problems.\n",
    "\n",
    "</div></div>"
   ]
  }
 ],
 "metadata": {
  "kernelspec": {
   "display_name": "Python 3 (ipykernel)",
   "language": "python",
   "name": "python3"
  },
  "language_info": {
   "codemirror_mode": {
    "name": "ipython",
    "version": 3
   },
   "file_extension": ".py",
   "mimetype": "text/x-python",
   "name": "python",
   "nbconvert_exporter": "python",
   "pygments_lexer": "ipython3",
   "version": "3.12.3"
  },
  "latex_envs": {
   "LaTeX_envs_menu_present": true,
   "autoclose": false,
   "autocomplete": true,
   "bibliofile": "biblio.bib",
   "cite_by": "apalike",
   "current_citInitial": 1,
   "eqLabelWithNumbers": true,
   "eqNumInitial": 1,
   "hotkeys": {
    "equation": "Ctrl-E",
    "itemize": "Ctrl-I"
   },
   "labels_anchors": false,
   "latex_user_defs": false,
   "report_style_numbering": false,
   "user_envs_cfg": false
  }
 },
 "nbformat": 4,
 "nbformat_minor": 4
}
