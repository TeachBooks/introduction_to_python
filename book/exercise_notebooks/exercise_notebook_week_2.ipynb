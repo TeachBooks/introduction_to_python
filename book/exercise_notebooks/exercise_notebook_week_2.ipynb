{
 "cells": [
  {
   "cell_type": "markdown",
   "metadata": {
    "vscode": {
     "languageId": "plaintext"
    }
   },
   "source": [
    "# Exercise Notebook $-$ Week 2\n",
    "\n",
    "You can download this notebook and the additional files by clicking the download button({fa}`download`) in the top right and selecting \"Exercise notebook\".\n",
    "\n",
    "```{custom_download_link} exercise_notebook_week_2/exercise_notebook_week_2.zip\n",
    ":text: \"Exercise notebook\"\n",
    ":replace_default: \"True\"\n",
    "```"
   ]
  },
  {
   "cell_type": "markdown",
   "metadata": {},
   "source": [
    "\n",
    "## 1.2 Python Variables"
   ]
  },
  {
   "cell_type": "markdown",
   "metadata": {},
   "source": [
    "<div class=\"alert alert-block alert-info\"><b>Exercise 1.2.1<br><br></b><div style=\"text-align: justify\">You know that your taxes is the product of your income and the tax rate. Complete the line below to assign the correct calculation for the <code>my_taxes</code> variable. Use the <code>my_income</code> and <code>tax_rate</code> variables for that.<br> \n",
    "</div></div>\n",
    "\n",
    "<div class=\"alert alert-block alert-warning\"><b></b> The dotted lines (...) below mark the location where you should change the code yourself! </div>"
   ]
  },
  {
   "cell_type": "code",
   "execution_count": null,
   "metadata": {},
   "outputs": [],
   "source": [
    "my_income = 100\n",
    "tax_rate = 0.1\n",
    "my_taxes = ...\n",
    "print(my_taxes)"
   ]
  },
  {
   "cell_type": "markdown",
   "metadata": {},
   "source": [
    "Use the cell block below to find out what is the **`type`** of the variable **`my_taxes`**"
   ]
  },
  {
   "cell_type": "code",
   "execution_count": null,
   "metadata": {},
   "outputs": [],
   "source": [
    "# use this line to check the type of the variable my_taxes\n",
    "..."
   ]
  },
  {
   "cell_type": "markdown",
   "metadata": {},
   "source": [
    "<div class=\"alert alert-block alert-info\"><b>Exercise 1.2.2<br><br></b><div style=\"text-align: justify\">What is the type of the result of the expression $3 + 1.5 + 4?$ <br>Assign the type to the variable beneath (e.g. if you think it is an integer then <code>expression_type = int</code>)\n",
    "</div></div>"
   ]
  },
  {
   "cell_type": "code",
   "execution_count": null,
   "metadata": {},
   "outputs": [],
   "source": [
    "expression_type = ..."
   ]
  },
  {
   "cell_type": "markdown",
   "metadata": {},
   "source": [
    "<div class=\"alert alert-block alert-info\"><b>Exercise 1.2.3<br><br></b><div style=\"text-align: justify\">Print the letter <code>'w'</code> of the sentence <code>'Hello world!'</code> using indexing of the variable <code>sentence</code>. <br>   \n",
    "</div></div>"
   ]
  },
  {
   "cell_type": "code",
   "execution_count": null,
   "metadata": {},
   "outputs": [],
   "source": [
    "sentence = 'Hello world!'\n",
    "letter_w = ...\n",
    "\n",
    "print(letter_w)"
   ]
  },
  {
   "cell_type": "markdown",
   "metadata": {
    "vscode": {
     "languageId": "plaintext"
    }
   },
   "source": [
    "In the following exercise you will be using a piece of code, which was written by other people. It can contain concepts you haven't encountered yet but you will have to make it work! You need to practice with using code you don't understand completely, as you want to be able to use programs written by other people. \n",
    "\n",
    "In order to approach the problem, start from the point of error. If your error cannot be solved there, work your way backwards through the code. Try to understand the parts that are necessary to fix your problem, and avoid changing parts you know that work.\n"
   ]
  },
  {
   "cell_type": "markdown",
   "metadata": {},
   "source": [
    "<div class=\"alert alert-block alert-info\">\n",
    "<div style=\"text-align: justify\">\n",
    "    <b>(Fixing) Exercise 1.2.4<br><br>\n",
    "    </b>There are 2 types of numbers in Python: integer numbers and floating point numbers. Both have overlapping and different applications. For example, counting rocks will require only integers (1 rock, 2 rocks, 3 rocks, etc), while their weight can be expressed in both <i>int</i> and <i>float</i> (depending on the required accuracy). <br>  \n",
    "    Beneath you can see a small dataset of the measured daily temperatures and a filter function, which is used to remove incorrect measurements. Just run the cell, you don't have to change anything there and it is not important to understand it completely for now.\n",
    "</div></div>\n"
   ]
  },
  {
   "cell_type": "code",
   "execution_count": null,
   "metadata": {},
   "outputs": [],
   "source": [
    "temp_data = [12.0, 13.5, 11.0, 12.7, 67.5, 11.8] # temperature measurements in Delft, in Celsius\n",
    "\n",
    "# A function to remove erroneous measurements\n",
    "def filter_errors(data, error_id):\n",
    "    print('Data before filtering', data)\n",
    "    \n",
    "    del temp_data[error_id - 1] # deleting the erroneous measurement\n",
    "    \n",
    "    print('Data after filtering', data)"
   ]
  },
  {
   "cell_type": "markdown",
   "metadata": {},
   "source": [
    "<div class=\"alert alert-block alert-info\">\n",
    "<div style=\"text-align: justify\">\n",
    "In the code cell below a student wanted to indicate the position of the erroneous measurement, so it can be later filtered out during data analysis. However, it wasn't removed. The filter is known to work flawlessly (no errors there), meaning that the mistake happened in the indication step. It is known that the corrupted sample is the 5th in the dataset (index 4 because the first element has index 0! Python has a zero-based indexing).\n",
    "<br><br>\n",
    "Your task is to fix it and remove the error!\n",
    "</div></div>"
   ]
  },
  {
   "cell_type": "code",
   "execution_count": null,
   "metadata": {},
   "outputs": [],
   "source": [
    "error_id = 4 # index of erroneous measurement\n",
    "\n",
    "filter_errors(temp_data, error_id)"
   ]
  },
  {
   "cell_type": "markdown",
   "metadata": {},
   "source": [
    "<div class=\"alert alert-block alert-info\">\n",
    "<div style=\"text-align: justify\">\n",
    "<b>(Searching) Exercise 1.2.5 </b><br><br>\n",
    "There are also other data types in Python, which were not mentioned in this part (in case they are not as useful or will be introduced later). For instance, <b>Complex</b> is one of them. The sad truth is that every software developer searches the web a lot. It's not because she/he is lazy or incompetent. It is because programming languages are constantly updated and some tools are limited to a narrow field of applications. It is impractical to learn everything at once, therefore every coder has learned how to look up the functionality their task requires. Therefore, it is crucial for you to learn how to search as well. Complex type is used in Python to represent complex numbers. If you haven't heard about them — a complex number is a number, which has a real and an imaginary part. For example, $x = 17 + 5i$. Here, $x$ is a complex number with a real part of $17$ and an imaginary part of $5$.<br><br> Your task is to create a variable <code>my_complex_num</code> of Complex type and assign a $3 + 2i$ value to it. For that you will have to Google a bit. Try to look for something like \"Python complex variables\". Python is very popular and you will be able to find everything you need. Make sure to filter the information you need — not everything you will find will be useful for this simple exercise.\n",
    "</div></div>"
   ]
  },
  {
   "cell_type": "code",
   "execution_count": null,
   "metadata": {},
   "outputs": [],
   "source": [
    "my_complex_var = ...\n",
    "\n",
    "print(my_complex_var)"
   ]
  },
  {
   "cell_type": "markdown",
   "metadata": {},
   "source": [
    "## 1.3 Python Operators"
   ]
  },
  {
   "cell_type": "markdown",
   "metadata": {},
   "source": [
    "<div class=\"alert alert-block alert-info\">\n",
    "\n",
    "<b>Exercise 1.3.1</b><br><br>\n",
    "\n",
    "Given that we have a rectangle with a height of $3$ cm, width of $5$ cm and a cutout circle of radius $0.6$ cm, as shown below. \n",
    "\n",
    "<figure>\n",
    "  <img src=\"../figures/rectangle.png\" width=\"300\">\n",
    "</figure>\n",
    "\n",
    "<br>What will the remainder area of the rectangle be? Hint: $A_{circle} = \\pi r^2$\n",
    "\n",
    "</div>"
   ]
  },
  {
   "cell_type": "code",
   "execution_count": null,
   "metadata": {},
   "outputs": [],
   "source": [
    "# variables for the rectangle\n",
    "rect_h = ...\n",
    "rect_w = ...\n",
    "\n",
    "# variables for the circle\n",
    "pi = 3.14159265359\n",
    "r = ...\n",
    "\n",
    "# calculating area\n",
    "circle_area = ...\n",
    "rect_area = ...\n",
    "remaining_area = ...\n",
    "\n",
    "print('The remaining area is', remaining_area, 'cm^2')"
   ]
  },
  {
   "cell_type": "markdown",
   "metadata": {},
   "source": [
    "<div class=\"alert alert-block alert-info\">\n",
    "<b>Exercise 1.3.2</b>\n",
    "\n",
    "Suppose a group of $5$ engineers ordered $3$ pizzas with $8$ slices each and  want to share their meal equally. Your task is to calculate the amount of pizza slices each engineer will get and the amount of slices which will be left untouched. Use <code>//</code> and <code>%</code> operators.\n",
    "\n",
    "</div>"
   ]
  },
  {
   "cell_type": "code",
   "execution_count": null,
   "metadata": {},
   "outputs": [],
   "source": [
    "pizza_slices = ...\n",
    "grp_members = ...\n",
    "\n",
    "slices_per_person = ...\n",
    "left_over_slices = ...\n",
    "\n",
    "print('Number of slices per person:', slices_per_person)\n",
    "print('Number of slices left over:', left_over_slices)"
   ]
  },
  {
   "cell_type": "markdown",
   "metadata": {},
   "source": [
    "<div class=\"alert alert-block alert-info\">\n",
    "\n",
    "<b>Exercise 1.3.3</b><br><br>\n",
    "    Assign any numbers to <code>num_a</code> and <code>num_b</code> variables in such a way that their comparison returns a <code>True</code> value.\n",
    "\n",
    "</div>"
   ]
  },
  {
   "cell_type": "code",
   "execution_count": null,
   "metadata": {},
   "outputs": [],
   "source": [
    "num_a = ...\n",
    "num_b = ...\n",
    "\n",
    "comparison_result = num_a != num_b\n",
    "print(comparison_result)"
   ]
  },
  {
   "cell_type": "markdown",
   "metadata": {},
   "source": [
    "<div class=\"alert alert-block alert-info\">\n",
    "\n",
    "<b>(Fixing) Exercise 1.3.4</b>\n",
    "\n",
    "Recall that Sentinel data titles are formatted as:<br><br> <b>S1A_IW_SLC__1SDV_20181205T015821_20181205T015851_024884_02BD8C_8700</b> where each part means something, e.g., <b>S1A</b> means <b>Sentinel-1A</b>.\n",
    "\n",
    "An ESA engineer wrote a piece of code to figure out if the data she has belongs to the Remote Sensing Satellite Sentinel-1; and, if it does, she would like to know the time of overpass... but for some reason she keeps getting an error. Could you maybe help her out?\n",
    "\n",
    "</div>"
   ]
  },
  {
   "cell_type": "code",
   "execution_count": null,
   "metadata": {},
   "outputs": [],
   "source": [
    "import datetime\n",
    "data = 'S1A_IW_SLC__1SDV_20220218T231336_20220218T231403_041974_04FFAC_A40F' \n",
    "\n",
    "platform_name = data[0:3]#selecting platform name\n",
    "print('Platform name:', platform_name)\n",
    "\n",
    "is_platform_name_correct = platform_name = 'S1A'#checking platform \n",
    "\n",
    "if is_platform_name_correct == True:\n",
    "    date = data[17:32]\n",
    "    print('Sentinel-1 overpass at {}'.format(datetime.datetime.strptime(date, \"%Y%m%dT%H%M%S\")))\n",
    "else: \n",
    "    print('Data is not from Sentinel-1 and will not be processed')\n"
   ]
  },
  {
   "cell_type": "markdown",
   "metadata": {},
   "source": [
    "<div class=\"alert alert-block alert-info\">\n",
    "\n",
    "<b>(Searching) Exercise 1.3.5</b>\n",
    "\n",
    "In Python, there are a lot of shortcuts! There are multiple ways to solve tasks (e.g. reading data, filtering noise, solving systems of equations, etc) and there is, usually, a way to write a \"one-liner\". A \"one-liner\" is a code, which solves the task in one line. Sometimes \"one-liners\" are not preferred (it usually lowers the readability of your code) but it is still useful to think about them. Think about <i>\"How can I solve this problem differently?\"</i>, or <i>\"How can I use Python most efficiently?\"</i>.\n",
    "\n",
    "For example, in the cell bellow you can see a small combination of comparison operators.\n",
    "\n",
    "</div>"
   ]
  },
  {
   "cell_type": "code",
   "execution_count": null,
   "metadata": {},
   "outputs": [],
   "source": [
    "my_number = 5\n",
    "result = 3 < my_number and my_number < 6\n",
    "print(f'My number {my_number} is within (3, 6) range:', result)"
   ]
  },
  {
   "cell_type": "markdown",
   "metadata": {},
   "source": [
    "<div class=\"alert alert-block alert-info\">\n",
    "\n",
    "This expression checks whether: first, <code>my_number</code> is bigger than $3$ and then, secondly, whether <code>my_number</code> is smaller than $6$. If the first check resulted in <code>True</code>, the second check starts. If the second check also returns <code>True</code>, then the result is <code>True</code> as well. Mathematically speaking we check whether a number lies in the $(3, 6)$ range. In Python, there is a way to make these expressions shorter. They are called \"chained comparison\". Your task is to rewrite the cell above with that technique.\n",
    "\n",
    "</div>"
   ]
  },
  {
   "cell_type": "code",
   "execution_count": 3,
   "metadata": {},
   "outputs": [],
   "source": [
    "# use this line to create a chained comparison\n",
    "..."
   ]
  }
 ],
 "metadata": {
  "kernelspec": {
   "display_name": "base",
   "language": "python",
   "name": "python3"
  },
  "language_info": {
   "codemirror_mode": {
    "name": "ipython",
    "version": 3
   },
   "file_extension": ".py",
   "mimetype": "text/x-python",
   "name": "python",
   "nbconvert_exporter": "python",
   "pygments_lexer": "ipython3",
   "version": "3.12.4"
  }
 },
 "nbformat": 4,
 "nbformat_minor": 4
}
