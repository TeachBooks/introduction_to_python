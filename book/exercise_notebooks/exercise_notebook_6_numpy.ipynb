{
 "cells": [
  {
   "cell_type": "markdown",
   "metadata": {
    "nbgrader": {
     "grade": false,
     "locked": true,
     "solution": false
    }
   },
   "source": [
    "<figure>\n",
    "  <IMG SRC=\"https://raw.githubusercontent.com/mbakker7/exploratory_computing_with_python/master/tudelft_logo.png\" WIDTH=250 ALIGN=\"right\">\n",
    "</figure>\n",
    "\n",
    "# Exercise Notebook 6: Numpy\n",
    "<br>\n",
    "\n",
    "You can download this notebook and the additional files by clicking the download button({fa}`download`) in the top right and selecting \"Exercise notebook\". \n",
    "\n",
    "```{custom_download_link} exercise_notebook_6_numpy.zip\n",
    ":text: \"Exercise notebook\"\n",
    ":replace_default: \"True\"\n",
    "```"
   ]
  },
  {
   "cell_type": "markdown",
   "metadata": {},
   "source": [
    "<div class=\"alert alert-block alert-info\"><b>Exercise 6.1</b><br><br><div style=\"text-align: justify\">\n",
    "\n",
    "Plot the functions $ f(x) = \\sin(x) $ and $ g(x) = \\cos(x) $ over the interval $ x \\in [0, \\ 2\\pi] $. Ensure that your plots include appropriately labeled axes, a descriptive title, and a legend to distinguish between $ f(x) $  and $ g(x) $. \n",
    "\n",
    "</div></div>"
   ]
  },
  {
   "cell_type": "code",
   "execution_count": null,
   "metadata": {},
   "outputs": [],
   "source": [
    "### use this cell block for the exercise\n"
   ]
  },
  {
   "cell_type": "markdown",
   "metadata": {},
   "source": [
    "<div class=\"alert alert-block alert-info\"><b>Exercise 6.2 Bar graph revisited</b><br><br><div style=\"text-align: justify\">\n",
    "\n",
    "In the last notebook you made a bar graph of monthly rainfall amounts. Perhaps you wondered if it's possible to place the bars side by side so they don't overlap.\n",
    "\n",
    "You can do this by shifting the x-coordinates of your bars, and setting the bar width using the `width=` argument to the bar graph function.\n",
    "\n",
    "* copy your plotting code from the last notebook. \n",
    "* make a numpy array of the month list.\n",
    "* now you can easily add or subtract a number from the whole array.\n",
    "* make a plot where the bars for the different regions don't overlap.\n",
    "\n",
    "</div></div>"
   ]
  },
  {
   "cell_type": "code",
   "execution_count": null,
   "metadata": {},
   "outputs": [],
   "source": [
    "### use this cell block for the exercise\n"
   ]
  },
  {
   "cell_type": "markdown",
   "metadata": {},
   "source": [
    "<div class=\"alert alert-block alert-info\"><b>Exercise 6.3</b><br><br><div style=\"text-align: justify\">\n",
    "\n",
    "* Create a 4x2 matrix `m` filled with different values \n",
    "\n",
    "4x2 means four rows and two columns.\n",
    "You can use `np.array()`, and pass it nested lists,\n",
    "or you can use `np.zeros((rows, columns))` and fill in the values afterwards.\n",
    "Here `rows` and `columns` are the number of rows and columns you want. Note the double parentheses. The reason is that `(rows, columns)` is a tuple,\n",
    "and the `np.zeros()` function takes this tuple as it's argument.\n",
    "\n",
    "\n",
    "* Print the shape of your matrix.\n",
    "\n",
    "* Try the `transpose()` function on your array (hint: `m.transpose()`). What did it do?\n",
    "\n",
    "</div></div>"
   ]
  },
  {
   "cell_type": "code",
   "execution_count": null,
   "metadata": {},
   "outputs": [],
   "source": [
    "### use this cell block for the exercise\n"
   ]
  },
  {
   "cell_type": "markdown",
   "metadata": {},
   "source": [
    "<div class=\"alert alert-block alert-info\"><b>Exercise 6.4 Slicing matrices</b><br><br><div style=\"text-align: justify\">\n",
    "\n",
    "As you have seen for lists and strings, numpy arrays can also be sliced using `[start:end:step]`.\n",
    "\n",
    "* Use slicing to cut out the part\n",
    "\n",
    "```\n",
    "11, 12\n",
    "15, 16\n",
    "``` \n",
    "from matrix A defined below.\n",
    "\n",
    "</div></div>"
   ]
  },
  {
   "cell_type": "code",
   "execution_count": null,
   "metadata": {},
   "outputs": [],
   "source": [
    "### use this cell block for the exercise\n",
    "A = np.array([[ 1,  2,  3,  4],\n",
    "              [ 5,  6,  7,  8],\n",
    "              [ 9, 10, 11, 12],\n",
    "              [13, 14, 15, 16],\n",
    "              [17, 18, 19, 20]])"
   ]
  },
  {
   "cell_type": "markdown",
   "metadata": {},
   "source": [
    "<div class=\"alert alert-block alert-info\"><b>Exercise 6.5 Plot the RICO input data</b><br><br><div style=\"text-align: justify\">\n",
    "\n",
    "* split the matrix into separate variables for each column    \n",
    "* use subplots to plot several quantities side by side:\n",
    "    ```\n",
    "    fig, axes = plt.subplots(nrows=1, ncols=5, sharey=True, figsize=(13,4))\n",
    "    ```\n",
    "* to plot in the first subplot, use `axes[0].plot(...)`\n",
    "* to set x and y labels, use `axes[0].set_ylabel(...)`\n",
    "* use the y axis of the plot for the hight above ground\n",
    "  \n",
    "    \n",
    "* `sharey=True` makes the plots share the y axis\n",
    "* `figsize=(13,4)` sets the figure size in inches (width, height) at some assumed dots-per-inch value. It's included here to make the plot a bit wider, so that the labels don't overlap. \n",
    "\n",
    "</div></div>"
   ]
  },
  {
   "cell_type": "code",
   "execution_count": null,
   "metadata": {},
   "outputs": [],
   "source": [
    "### use this cell block for the exercise"
   ]
  }
 ],
 "metadata": {
  "kernelspec": {
   "display_name": "Python 3 (ipykernel)",
   "language": "python",
   "name": "python3"
  },
  "language_info": {
   "codemirror_mode": {
    "name": "ipython",
    "version": 3
   },
   "file_extension": ".py",
   "mimetype": "text/x-python",
   "name": "python",
   "nbconvert_exporter": "python",
   "pygments_lexer": "ipython3",
   "version": "3.10.0"
  },
  "latex_envs": {
   "LaTeX_envs_menu_present": true,
   "autoclose": false,
   "autocomplete": true,
   "bibliofile": "biblio.bib",
   "cite_by": "apalike",
   "current_citInitial": 1,
   "eqLabelWithNumbers": true,
   "eqNumInitial": 1,
   "hotkeys": {
    "equation": "Ctrl-E",
    "itemize": "Ctrl-I"
   },
   "labels_anchors": false,
   "latex_user_defs": false,
   "report_style_numbering": false,
   "user_envs_cfg": false
  },
  "vscode": {
   "interpreter": {
    "hash": "1fe2f2b718b1108b9c4176932db8a0ead471245140baaa21ea96a4066683e6b2"
   }
  }
 },
 "nbformat": 4,
 "nbformat_minor": 4
}
