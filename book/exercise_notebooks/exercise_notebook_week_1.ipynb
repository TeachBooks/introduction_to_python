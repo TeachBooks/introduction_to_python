{
 "cells": [
  {
   "cell_type": "markdown",
   "metadata": {
    "vscode": {
     "languageId": "plaintext"
    }
   },
   "source": [
    "# Exercise Notebook $-$ Week 1"
   ]
  },
  {
   "cell_type": "markdown",
   "metadata": {},
   "source": [
    "Substitude the `...` below with the name of the students in your group. Submit it in Brightspace. This first week's assignment is an easy one just to make sure you have everything running properly."
   ]
  },
  {
   "cell_type": "code",
   "execution_count": 6,
   "metadata": {},
   "outputs": [
    {
     "name": "stdout",
     "output_type": "stream",
     "text": [
      "Hello ... and ... ! \n",
      "You have succesfully completed this assignment!\n"
     ]
    }
   ],
   "source": [
    "student_name_1 = '...'\n",
    "student_name_2 = '...'\n",
    "\n",
    "print(\"Hello\", student_name_1, \"and\", student_name_2, \"! \\nYou have succesfully completed this assignment!\")"
   ]
  }
 ],
 "metadata": {
  "kernelspec": {
   "display_name": "base",
   "language": "python",
   "name": "python3"
  },
  "language_info": {
   "codemirror_mode": {
    "name": "ipython",
    "version": 3
   },
   "file_extension": ".py",
   "mimetype": "text/x-python",
   "name": "python",
   "nbconvert_exporter": "python",
   "pygments_lexer": "ipython3",
   "version": "3.12.2"
  }
 },
 "nbformat": 4,
 "nbformat_minor": 2
}
