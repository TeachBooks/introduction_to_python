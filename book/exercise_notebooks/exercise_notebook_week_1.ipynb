{
 "cells": [
  {
   "cell_type": "markdown",
   "metadata": {
    "vscode": {
     "languageId": "plaintext"
    }
   },
   "source": [
    "# Exercise Notebook $-$ Week 1"
   ]
  },
  {
   "cell_type": "markdown",
   "metadata": {},
   "source": [
    "Substitude the `...` below with the name of the students in your group. \n",
    "\n",
    "This first week's assignment is an easy one just to make sure you have everything running properly."
   ]
  },
  {
   "cell_type": "code",
   "execution_count": null,
   "metadata": {},
   "outputs": [],
   "source": [
    "student_name_1 = '...'\n",
    "student_name_2 = '...'\n",
    "\n",
    "print(\"Hello\", student_name_1, \"and\", student_name_2, \"! \\nYou have succesfully completed this assignment!\")"
   ]
  },
  {
   "cell_type": "markdown",
   "metadata": {},
   "source": [
    "Once finished, save this notebook as `Notebook1_Group_<number>.ipynb`, substitude `<number>` with the number of the group you are enrolled in Brightspace. Submit it under \"Assignments\" in Brightspace."
   ]
  }
 ],
 "metadata": {
  "kernelspec": {
   "display_name": "base",
   "language": "python",
   "name": "python3"
  },
  "language_info": {
   "codemirror_mode": {
    "name": "ipython",
    "version": 3
   },
   "file_extension": ".py",
   "mimetype": "text/x-python",
   "name": "python",
   "nbconvert_exporter": "python",
   "pygments_lexer": "ipython3",
   "version": "3.12.2"
  }
 },
 "nbformat": 4,
 "nbformat_minor": 2
}
