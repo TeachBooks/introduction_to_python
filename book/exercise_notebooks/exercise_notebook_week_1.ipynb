{
 "cells": [
  {
   "cell_type": "markdown",
   "metadata": {
    "vscode": {
     "languageId": "plaintext"
    }
   },
   "source": [
    "<figure>\n",
    "  <IMG SRC=\"https://raw.githubusercontent.com/mbakker7/exploratory_computing_with_python/master/tudelft_logo.png\" WIDTH=250 ALIGN=\"right\">\n",
    "</figure>\n",
    "\n",
    "# Exercise Notebook $-$ Week 1",
    "\n",
    "You can download this notebook and the additional files by clicking the download button({fa}`download`) in the top right and selecting \"Exercise notebook\".\n",
    "\n",
    "```{custom_download_link} exercise_notebook_1.zip\n",
    ":text: \"Exercise notebook\"\n",
    ":replace_default: \"True\"\n",
    "```"
   ]
  },
  {
   "cell_type": "markdown",
   "metadata": {},
   "source": [
    "Substitute the `...` below with the name of the students in your group. \n",
    "\n",
    "This first week's assignment is an easy one just to make sure you have everything running properly."
   ]
  },
  {
   "cell_type": "code",
   "execution_count": null,
   "metadata": {},
   "outputs": [],
   "source": [
    "student_name_1 = '...'\n",
    "student_name_2 = '...'\n",
    "\n",
    "print(\"Hello\", student_name_1, \"and\", student_name_2, \"! \\nYou have succesfully completed this assignment!\")"
   ]
  },
  {
   "cell_type": "markdown",
   "metadata": {},
   "source": [
    "If you were able to successfully run the cell - congrats!"
   ]
  }
 ],
 "metadata": {
  "kernelspec": {
   "display_name": "base",
   "language": "python",
   "name": "python3"
  },
  "language_info": {
   "codemirror_mode": {
    "name": "ipython",
    "version": 3
   },
   "file_extension": ".py",
   "mimetype": "text/x-python",
   "name": "python",
   "nbconvert_exporter": "python",
   "pygments_lexer": "ipython3",
   "version": "3.12.2"
  }
 },
 "nbformat": 4,
 "nbformat_minor": 2
}
