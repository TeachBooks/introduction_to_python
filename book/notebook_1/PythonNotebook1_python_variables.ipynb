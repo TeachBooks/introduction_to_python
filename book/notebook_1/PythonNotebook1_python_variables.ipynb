{
 "cells": [
  {
   "cell_type": "markdown",
   "id": "3f2908dd",
   "metadata": {
    "id": "OLzFLmBnS3Uz",
    "nbgrader": {
     "grade": false,
     "locked": true,
     "solution": false
    }
   },
   "source": [
    "<h2>1.2 Python Variables</h2><br><div style=\"text-align: justify\">Variable assignment follows <b><code>variable_name = value</code></b>, where a single equal sign $=$ is an <b>assignment operator</b>. More on operators will be covered in the next section. Let's see a few examples of how we can do this."
   ]
  },
  {
   "cell_type": "code",
   "execution_count": 2,
   "id": "87e5d37e",
   "metadata": {
    "id": "-oXjFB0TS3U0",
    "nbgrader": {
     "grade": false,
     "locked": true,
     "solution": false
    }
   },
   "outputs": [],
   "source": [
    "# Let's create a variable called \"a\" and assign it the number 5\n",
    "a = 5"
   ]
  },
  {
   "cell_type": "markdown",
   "id": "f88b67af",
   "metadata": {
    "id": "loj_CSZ3S3U0",
    "nbgrader": {
     "grade": false,
     "locked": true,
     "solution": false
    }
   },
   "source": [
    "Now if I use `a` in my Python script, Python will treat it as the number $5$."
   ]
  },
  {
   "cell_type": "code",
   "execution_count": 3,
   "id": "f69a58c4",
   "metadata": {
    "id": "-NydcpOmS3U0",
    "nbgrader": {
     "grade": false,
     "locked": true,
     "solution": false
    },
    "outputId": "0f54e2c6-c3b9-4247-94cd-0b341a2ad352"
   },
   "outputs": [
    {
     "data": {
      "text/plain": [
       "10"
      ]
     },
     "execution_count": 3,
     "metadata": {},
     "output_type": "execute_result"
    }
   ],
   "source": [
    "# Adding variables\n",
    "a + a"
   ]
  },
  {
   "cell_type": "markdown",
   "id": "9b25fbe4",
   "metadata": {
    "id": "xPQ0wjwUS3U0",
    "nbgrader": {
     "grade": false,
     "locked": true,
     "solution": false
    }
   },
   "source": [
    "What happens on reassignment? Will Python let us write over it?"
   ]
  },
  {
   "cell_type": "code",
   "execution_count": 4,
   "id": "a1c8c5b2",
   "metadata": {
    "id": "q-fGZ0wMS3U0",
    "nbgrader": {
     "grade": false,
     "locked": true,
     "solution": false
    }
   },
   "outputs": [],
   "source": [
    "# Reassignment\n",
    "a = 20"
   ]
  },
  {
   "cell_type": "code",
   "execution_count": 5,
   "id": "3cb992fb",
   "metadata": {
    "id": "d-6rzYcpS3U1",
    "nbgrader": {
     "grade": false,
     "locked": true,
     "solution": false
    },
    "outputId": "5e2f705f-9f13-4a46-cdc9-cac34cbc12e7"
   },
   "outputs": [
    {
     "name": "stdout",
     "output_type": "stream",
     "text": [
      "20\n"
     ]
    }
   ],
   "source": [
    "# Check\n",
    "print(a)"
   ]
  },
  {
   "cell_type": "markdown",
   "id": "75bc5720",
   "metadata": {
    "id": "8CcorXSqS3U1",
    "nbgrader": {
     "grade": false,
     "locked": true,
     "solution": false
    }
   },
   "source": [
    "<div style=\"text-align: justify\">Yes! Python allows you to overwrite assigned variable names. We can also use the variables themselves when doing the reassignment."
   ]
  },
  {
   "cell_type": "markdown",
   "id": "6fb20274",
   "metadata": {
    "id": "uqCmRVkbS3U1",
    "nbgrader": {
     "grade": false,
     "locked": true,
     "solution": false
    }
   },
   "source": [
    "<div style=\"text-align: justify\">Since <b><code>a = 20</code></b> was the last assignment to our variable <b><code>a</code></b>, you can keep using <b><code>a</code></b> in place of the number <b><code>20</code></b>:"
   ]
  },
  {
   "cell_type": "code",
   "execution_count": 6,
   "id": "2333d830",
   "metadata": {
    "id": "QMktLeFOS3U2",
    "nbgrader": {
     "grade": false,
     "locked": true,
     "solution": false
    },
    "outputId": "a9467aa2-393f-4961-cec0-4c36dac6e26d"
   },
   "outputs": [
    {
     "name": "stdout",
     "output_type": "stream",
     "text": [
      "25\n"
     ]
    }
   ],
   "source": [
    "a = a + 5\n",
    "print(a)"
   ]
  },
  {
   "cell_type": "markdown",
   "id": "f832a212",
   "metadata": {
    "id": "AjrlLAw7S3U2",
    "nbgrader": {
     "grade": false,
     "locked": true,
     "solution": false
    }
   },
   "source": [
    "<div style=\"text-align: justify\">Instead of writing <b><code>a+a</code></b>, Python has a built-in shortcut for these simple operations.<br><br>You can add, subtract, multiply and divide numbers with reassignment using <b><code>+=</code></b>, <b><code>-=</code></b>, <b><code>*=</code></b>, and <b><code>/=</code></b>, respectively."
   ]
  },
  {
   "cell_type": "code",
   "execution_count": 7,
   "id": "61bb9cca",
   "metadata": {
    "id": "ho172OFAS3U2",
    "nbgrader": {
     "grade": false,
     "locked": true,
     "solution": false
    }
   },
   "outputs": [],
   "source": [
    "a += 10"
   ]
  },
  {
   "cell_type": "markdown",
   "id": "4412a86a",
   "metadata": {
    "id": "de87302a",
    "nbgrader": {
     "grade": false,
     "locked": true,
     "solution": false
    }
   },
   "source": [
    "The above code will add **`10`** to the variable **`a`** every time you run that cell. \n",
    "\n",
    "Try it yourself, run it a few times and then run the below cell to see what's the value of **`a`**\n",
    "."
   ]
  },
  {
   "cell_type": "code",
   "execution_count": 8,
   "id": "8bd8a6c4",
   "metadata": {
    "id": "tzz54psQS3U4",
    "nbgrader": {
     "grade": false,
     "locked": true,
     "solution": false
    },
    "outputId": "9227bb53-b2b5-4cf1-e438-eb61095b1b1e"
   },
   "outputs": [
    {
     "name": "stdout",
     "output_type": "stream",
     "text": [
      "35\n"
     ]
    }
   ],
   "source": [
    "print(a)"
   ]
  },
  {
   "cell_type": "markdown",
   "id": "975e1cef",
   "metadata": {
    "id": "df4c695a",
    "nbgrader": {
     "grade": false,
     "locked": true,
     "solution": false
    }
   },
   "source": [
    "Below an example of a code that will double **`a`** every time that you run that cell."
   ]
  },
  {
   "cell_type": "code",
   "execution_count": 9,
   "id": "0d99cefb",
   "metadata": {
    "id": "Sv2xzyhVS3U9",
    "nbgrader": {
     "grade": false,
     "locked": true,
     "solution": false
    }
   },
   "outputs": [
    {
     "name": "stdout",
     "output_type": "stream",
     "text": [
      "70\n"
     ]
    }
   ],
   "source": [
    "a *= 2\n",
    "print(a)"
   ]
  },
  {
   "cell_type": "markdown",
   "id": "1851c2f5",
   "metadata": {
    "id": "gH1ebT4sS3VB",
    "nbgrader": {
     "grade": false,
     "locked": true,
     "solution": false
    }
   },
   "source": [
    "<h3>Determining variable type with <b><code>type()</code></b></h3><br><div style=\"text-align: justify\">You can check what type of object is assigned to a variable using Python's built-in <b><code>type()</code></b> function. Common data types include:</div>\n",
    "\n",
    "\n",
    "* **int** (for integer numbers)\n",
    "* **float** (for floating point / all real numbers)\n",
    "* **str** (for string/text)\n",
    "* **bool** (for Boolean True/False)\n",
    "* **list**\n",
    "* **tuple**\n",
    "* **dict** \n",
    "* **set**\n",
    "\n",
    "\n",
    "<div class=\"alert alert-block alert-warning\"><center><b>Always check the type of your variables when debugging!</b></center></div>"
   ]
  },
  {
   "cell_type": "markdown",
   "id": "6180191d",
   "metadata": {
    "id": "87e243a7",
    "nbgrader": {
     "grade": false,
     "locked": true,
     "solution": false
    }
   },
   "source": [
    "Below a few examples:"
   ]
  },
  {
   "cell_type": "code",
   "execution_count": 10,
   "id": "10aac23c",
   "metadata": {
    "id": "-DASPgHDS3VC",
    "nbgrader": {
     "grade": false,
     "locked": true,
     "solution": false
    },
    "outputId": "78ab767e-0978-4526-81e0-c79b369c2ae6"
   },
   "outputs": [
    {
     "data": {
      "text/plain": [
       "int"
      ]
     },
     "execution_count": 10,
     "metadata": {},
     "output_type": "execute_result"
    }
   ],
   "source": [
    "type(a)"
   ]
  },
  {
   "cell_type": "code",
   "execution_count": 11,
   "id": "b9805065",
   "metadata": {
    "id": "151cff3a",
    "nbgrader": {
     "grade": false,
     "locked": true,
     "solution": false
    },
    "outputId": "483b66c5-0363-43f4-f716-46f6ad86721f"
   },
   "outputs": [
    {
     "data": {
      "text/plain": [
       "float"
      ]
     },
     "execution_count": 11,
     "metadata": {},
     "output_type": "execute_result"
    }
   ],
   "source": [
    "float_var = 3.1415\n",
    "type(float_var)"
   ]
  },
  {
   "cell_type": "code",
   "execution_count": 12,
   "id": "025f54d5",
   "metadata": {
    "nbgrader": {
     "grade": false,
     "locked": true,
     "solution": false
    }
   },
   "outputs": [
    {
     "name": "stdout",
     "output_type": "stream",
     "text": [
      "0.09999999999999998\n"
     ]
    }
   ],
   "source": [
    "a = 0.3\n",
    "b = 0.2\n",
    "c = a - b\n",
    "print(c)"
   ]
  },
  {
   "cell_type": "markdown",
   "id": "a9343af2",
   "metadata": {
    "nbgrader": {
     "grade": false,
     "locked": true,
     "solution": false
    }
   },
   "source": [
    "You probably noticed that Python wrote $0.09999999999999998$ instead of $0.1$ when calculating $0.3 - 0.2$. We will return to this later in this Notebook."
   ]
  },
  {
   "cell_type": "code",
   "execution_count": 13,
   "id": "a2fc471f",
   "metadata": {
    "id": "ced9ae02",
    "nbgrader": {
     "grade": false,
     "locked": true,
     "solution": false
    },
    "outputId": "49d1b418-5b8f-48a9-c27f-84c5ccba21d1"
   },
   "outputs": [
    {
     "data": {
      "text/plain": [
       "bool"
      ]
     },
     "execution_count": 13,
     "metadata": {},
     "output_type": "execute_result"
    }
   ],
   "source": [
    "type(1 < 2)"
   ]
  },
  {
   "cell_type": "markdown",
   "id": "b738d641",
   "metadata": {
    "id": "cbabd161",
    "nbgrader": {
     "grade": false,
     "locked": true,
     "solution": false
    }
   },
   "source": [
    "<div style=\"text-align: justify\">Boolean variables can only take on two values: <b><code>True</code></b> or <b><code>False</code></b>. They are often used to check conditions.<br><br>More examples on this in Section 1.5."
   ]
  },
  {
   "cell_type": "code",
   "execution_count": 14,
   "id": "00eaa6fb",
   "metadata": {
    "id": "6e138f75",
    "nbgrader": {
     "grade": false,
     "locked": true,
     "solution": false
    },
    "outputId": "3a510470-c9ef-4501-9772-99fc52253c7f"
   },
   "outputs": [
    {
     "data": {
      "text/plain": [
       "True"
      ]
     },
     "execution_count": 14,
     "metadata": {},
     "output_type": "execute_result"
    }
   ],
   "source": [
    "1 < 2"
   ]
  },
  {
   "cell_type": "code",
   "execution_count": 15,
   "id": "aacf7ccb",
   "metadata": {
    "id": "4036bc6d",
    "nbgrader": {
     "grade": false,
     "locked": true,
     "solution": false
    },
    "outputId": "b34edd29-6020-47ec-cd03-14e0b1607413"
   },
   "outputs": [
    {
     "data": {
      "text/plain": [
       "str"
      ]
     },
     "execution_count": 15,
     "metadata": {},
     "output_type": "execute_result"
    }
   ],
   "source": [
    "# the variable from the first script\n",
    "\n",
    "type(message)"
   ]
  },
  {
   "cell_type": "markdown",
   "id": "6f091109",
   "metadata": {
    "id": "b358494d",
    "nbgrader": {
     "grade": false,
     "locked": true,
     "solution": false
    }
   },
   "source": [
    "<div style=\"text-align: justify\"><b>Strings</b> are variables represented in between <b><code>' '</code></b> or <b><code>\" \"</code></b>.<br><br>They are a <b>sequence</b> of values, therefore you are able to access and manipulate every character individually.<br><br>This is done with the bracket operator <b><code>[]</code></b>, which works as an <b>index</b>.<br><br>Let's take a look at our first variable from this notebook: <b><code>message</code></b>."
   ]
  },
  {
   "cell_type": "code",
   "execution_count": 16,
   "id": "3b785224",
   "metadata": {
    "id": "493e9703",
    "nbgrader": {
     "grade": false,
     "locked": true,
     "solution": false
    },
    "outputId": "18bf0c72-1e6d-49cc-90ed-79cd3793f345"
   },
   "outputs": [
    {
     "data": {
      "text/plain": [
       "'Hello world!'"
      ]
     },
     "execution_count": 16,
     "metadata": {},
     "output_type": "execute_result"
    }
   ],
   "source": [
    "message"
   ]
  },
  {
   "cell_type": "code",
   "execution_count": 17,
   "id": "2ce2cee4",
   "metadata": {
    "id": "9509e9ae",
    "nbgrader": {
     "grade": false,
     "locked": true,
     "solution": false
    },
    "outputId": "71b77b96-56ac-4fec-eeec-5de598c393f2"
   },
   "outputs": [
    {
     "data": {
      "text/plain": [
       "'e'"
      ]
     },
     "execution_count": 17,
     "metadata": {},
     "output_type": "execute_result"
    }
   ],
   "source": [
    "message[1]"
   ]
  },
  {
   "cell_type": "markdown",
   "id": "436dbf15",
   "metadata": {
    "id": "d378e554",
    "nbgrader": {
     "grade": false,
     "locked": true,
     "solution": false
    }
   },
   "source": [
    "<b>What happened?</b>"
   ]
  },
  {
   "cell_type": "markdown",
   "id": "191f16fb",
   "metadata": {
    "id": "52be9a23",
    "nbgrader": {
     "grade": false,
     "locked": true,
     "solution": false
    }
   },
   "source": [
    "<div style=\"text-align: justify\">Why index <b><code>[1]</code></b> gave us the second letter? For most people, the first letter of the sentence <b><code>Hello world!</code></b> is <b><code>H</code></b> not <b><code>e</code></b>.</div>\n",
    "\n",
    "So.. what happened?\n",
    "\n",
    "In Python, indexing starts at **`[0]`**. **`H`** is the *zero-th* character of **`Hello world!`**."
   ]
  },
  {
   "cell_type": "code",
   "execution_count": 18,
   "id": "2a9c9fbc",
   "metadata": {
    "id": "00bd0987",
    "nbgrader": {
     "grade": false,
     "locked": true,
     "solution": false
    },
    "outputId": "c62d6076-38bf-4a61-f153-aa50ca7c75fa"
   },
   "outputs": [
    {
     "data": {
      "text/plain": [
       "'H'"
      ]
     },
     "execution_count": 18,
     "metadata": {},
     "output_type": "execute_result"
    }
   ],
   "source": [
    "message[0]"
   ]
  },
  {
   "cell_type": "markdown",
   "id": "c02c4856",
   "metadata": {
    "id": "7cc759c9",
    "nbgrader": {
     "grade": false,
     "locked": true,
     "solution": false
    }
   },
   "source": [
    "<div style=\"text-align: justify\">You can also access the last value of a string using the index <b><code>[-1]</code></b>, the before-last using <b><code>[-2]</code></b> and so forth.. This will turn out to be very useful!"
   ]
  },
  {
   "cell_type": "code",
   "execution_count": 19,
   "id": "238c6d43",
   "metadata": {
    "id": "6f9dbc4a",
    "nbgrader": {
     "grade": false,
     "locked": true,
     "solution": false
    },
    "outputId": "2b4ac665-2aba-42a0-e5ea-bc8621f1574e"
   },
   "outputs": [
    {
     "data": {
      "text/plain": [
       "'!'"
      ]
     },
     "execution_count": 19,
     "metadata": {},
     "output_type": "execute_result"
    }
   ],
   "source": [
    "message[-1]"
   ]
  },
  {
   "cell_type": "markdown",
   "id": "b3b62bdd",
   "metadata": {
    "id": "27920277",
    "nbgrader": {
     "grade": false,
     "locked": true,
     "solution": false
    }
   },
   "source": [
    "<div style=\"text-align: justify\">Strings are <i>immutable</i>: you cannot reassign a new value for one of the characters. You will have to create a new string for that. Let's try to modify our string anyway:"
   ]
  },
  {
   "cell_type": "code",
   "execution_count": 20,
   "id": "62b97890",
   "metadata": {
    "id": "11579009",
    "nbgrader": {
     "grade": false,
     "locked": true,
     "solution": false
    },
    "outputId": "28eb007f-7adf-4108-fb8a-6db5e0bcfa05"
   },
   "outputs": [
    {
     "ename": "TypeError",
     "evalue": "'str' object does not support item assignment",
     "output_type": "error",
     "traceback": [
      "\u001b[1;31m---------------------------------------------------------------------------\u001b[0m",
      "\u001b[1;31mTypeError\u001b[0m                                 Traceback (most recent call last)",
      "Cell \u001b[1;32mIn[20], line 1\u001b[0m\n\u001b[1;32m----> 1\u001b[0m \u001b[43mmessage\u001b[49m\u001b[43m[\u001b[49m\u001b[38;5;241;43m0\u001b[39;49m\u001b[43m]\u001b[49m \u001b[38;5;241m=\u001b[39m \u001b[38;5;124m'\u001b[39m\u001b[38;5;124mJ\u001b[39m\u001b[38;5;124m'\u001b[39m\n",
      "\u001b[1;31mTypeError\u001b[0m: 'str' object does not support item assignment"
     ]
    }
   ],
   "source": [
    "message[0] = 'J'"
   ]
  },
  {
   "cell_type": "markdown",
   "id": "34c87ee9",
   "metadata": {
    "id": "5777fe12",
    "nbgrader": {
     "grade": false,
     "locked": true,
     "solution": false
    }
   },
   "source": [
    "This is an example of an error message. Python tells you that something is wrong with the code you just ran.\n",
    "The final line gives the error itself. Above that is an indication of which line in the cell caused the error (helpful for cells with more complicated programs).\n",
    "\n",
    "<div style=\"text-align: justify\">You can add (i.e. concatenate) strings and characters. But it will create a new string, it will not modify the old one (since they are immutable)."
   ]
  },
  {
   "cell_type": "code",
   "execution_count": 21,
   "id": "9c8c4a4c",
   "metadata": {
    "id": "5a8eab89",
    "nbgrader": {
     "grade": false,
     "locked": true,
     "solution": false
    },
    "outputId": "f886a8eb-8238-4c49-9c54-caae38e268b2"
   },
   "outputs": [
    {
     "data": {
      "text/plain": [
       "'Hello world!Hello world!'"
      ]
     },
     "execution_count": 21,
     "metadata": {},
     "output_type": "execute_result"
    }
   ],
   "source": [
    "message + message"
   ]
  },
  {
   "cell_type": "markdown",
   "id": "f852b92f",
   "metadata": {},
   "source": [
    "Now let's see how we can select a part of a string."
   ]
  },
  {
   "cell_type": "code",
   "execution_count": 22,
   "id": "e7fb9d02",
   "metadata": {
    "id": "a2164ca2",
    "nbgrader": {
     "grade": false,
     "locked": true,
     "solution": false
    },
    "outputId": "dde3141d-6812-454f-d960-4763d4552dbc"
   },
   "outputs": [
    {
     "data": {
      "text/plain": [
       "'Hell'"
      ]
     },
     "execution_count": 22,
     "metadata": {},
     "output_type": "execute_result"
    }
   ],
   "source": [
    "message[0] + message[1] + message[2] + message[3]"
   ]
  },
  {
   "cell_type": "markdown",
   "id": "2e7c8398",
   "metadata": {
    "id": "88633538",
    "nbgrader": {
     "grade": false,
     "locked": true,
     "solution": false
    }
   },
   "source": [
    "\n",
    "<div style=\"text-align: justify\">   \n",
    "A segment of a string is called a <b>slice</b>. Selecting a slice is similar to selecting a character. Using the operator <b><code>:</code></b> you select the first value that you want to <b>get</b>, and the first value you want to <b>leave out</b> of the slice, for example:<br><br></div>\n",
    "\n",
    "<div style=\"text-align: justify\">Let's say we want to write the word <b>Hell</b> using our variable <b><code>message</code></b>, without having to type as much as above.</div>\n",
    "\n",
    "1) Which letter is the first we want to <b>get</b>? **`H`**, which has index **`[0]`**.\n",
    "\n",
    "2) Which letter is the first we want to <b>leave out</b>? **`o`**, which has index **`[4]`**. So..."
   ]
  },
  {
   "cell_type": "code",
   "execution_count": 23,
   "id": "3fd22ce9",
   "metadata": {
    "id": "c65d21c0",
    "nbgrader": {
     "grade": false,
     "locked": true,
     "solution": false
    },
    "outputId": "d2317d7f-3f16-4e60-8f99-a9dc7c8543d8"
   },
   "outputs": [
    {
     "data": {
      "text/plain": [
       "'Hell'"
      ]
     },
     "execution_count": 23,
     "metadata": {},
     "output_type": "execute_result"
    }
   ],
   "source": [
    "message[0:4]"
   ]
  },
  {
   "cell_type": "markdown",
   "id": "8cf45597",
   "metadata": {
    "id": "b5eea88c",
    "nbgrader": {
     "grade": false,
     "locked": true,
     "solution": false
    }
   },
   "source": [
    "\n",
    "<div class=\"alert alert-block alert-success\"><center><b>Real life example: Analyzing satellite data<br><br></b>Sentinel data title is formatted as: <b>S1A_IW_SLC__1SDV_20181205T015821_20181205T015851_024884_02BD8C_8700</b><br>\n",
    "    where each part means something, S1A means Sentinel-1A, IW means Interferometric Wide Swath<br> 20181205T015821 is a date, 2018 12 05, at 01h58m21s, etc.<br><br> Therefore, being able to manipulate this string is fundamental in order to organize and select satellite data. We'll come back to this in Exercise 1.5.4. </center></div>\n",
    "\n",
    "***"
   ]
  },
  {
   "cell_type": "markdown",
   "id": "39187faa",
   "metadata": {
    "nbgrader": {
     "grade": false,
     "locked": true,
     "solution": false
    }
   },
   "source": [
    "<h3>Dynamic Typing</h3><br><div style=\"text-align: justify\">\n",
    "Python uses <b>dynamic typing</b>, meaning you can reassign variables to different data types. This makes Python very flexible in assigning data types; it differs from other languages that are <b>statically typed</b>, where each variable has a specified data type which cannot change.</div>"
   ]
  },
  {
   "cell_type": "markdown",
   "id": "11494af3",
   "metadata": {
    "nbgrader": {
     "grade": false,
     "locked": true,
     "solution": false
    }
   },
   "source": [
    "#### Pros and Cons of Dynamic Typing\n",
    "##### Pros of Dynamic Typing\n",
    "* very easy to work with\n",
    "* faster development time\n",
    "\n",
    "##### Cons of Dynamic Typing\n",
    "* may result in unexpected bugs!\n",
    "* you need to be aware of **`type()`**."
   ]
  },
  {
   "cell_type": "code",
   "execution_count": 24,
   "id": "11402a7c",
   "metadata": {
    "nbgrader": {
     "grade": false,
     "locked": true,
     "solution": false
    }
   },
   "outputs": [
    {
     "name": "stdout",
     "output_type": "stream",
     "text": [
      "Type of a is = <class 'int'>\n",
      "Type of a is = <class 'str'>\n"
     ]
    }
   ],
   "source": [
    "a = 5\n",
    "print('Type of a is =',type(a))\n",
    "a = 'string'\n",
    "print('Type of a is =',type(a))"
   ]
  },
  {
   "cell_type": "markdown",
   "id": "36584ffb",
   "metadata": {
    "nbgrader": {
     "grade": false,
     "locked": true,
     "solution": false
    }
   },
   "source": [
    "See, now **`a`** is no longer an **`int`** type but a **`str`** type"
   ]
  },
  {
   "cell_type": "markdown",
   "id": "3b93c38c",
   "metadata": {
    "nbgrader": {
     "grade": false,
     "locked": true,
     "solution": false
    }
   },
   "source": [
    "<h3>Casting types</h3><br><div style=\"text-align: justify\">Sometimes you want to change the type of a variable. For example, there is no point in arithmetically adding a number to a string. These problems can sometimes be solved with casting. <b>Casting</b> is a procedure of changing variable type. Actually, you create a new variable with the requested data type using the variable you want to alter.</div><br>Examples are shown below.\n",
    "    "
   ]
  },
  {
   "cell_type": "code",
   "execution_count": 25,
   "id": "56f1c735",
   "metadata": {
    "nbgrader": {
     "grade": false,
     "locked": true,
     "solution": false
    }
   },
   "outputs": [
    {
     "name": "stdout",
     "output_type": "stream",
     "text": [
      "123 <class 'str'>\n",
      "123 <class 'int'>\n"
     ]
    }
   ],
   "source": [
    "string_number = '123'\n",
    "print(string_number, type(string_number))\n",
    "\n",
    "integer_number = int(string_number)\n",
    "print(integer_number, type(integer_number))"
   ]
  },
  {
   "cell_type": "markdown",
   "id": "e6631811",
   "metadata": {
    "nbgrader": {
     "grade": false,
     "locked": true,
     "solution": false
    }
   },
   "source": [
    "<div style=\"text-align: justify\">As you can see, both variables look the same in the output but their type now is different. Because of that, the cell below will result in an error."
   ]
  },
  {
   "cell_type": "code",
   "execution_count": 26,
   "id": "e998cce1",
   "metadata": {
    "nbgrader": {
     "grade": false,
     "locked": true,
     "solution": false
    }
   },
   "outputs": [
    {
     "ename": "TypeError",
     "evalue": "can only concatenate str (not \"int\") to str",
     "output_type": "error",
     "traceback": [
      "\u001b[1;31m---------------------------------------------------------------------------\u001b[0m",
      "\u001b[1;31mTypeError\u001b[0m                                 Traceback (most recent call last)",
      "Cell \u001b[1;32mIn[26], line 1\u001b[0m\n\u001b[1;32m----> 1\u001b[0m \u001b[43mstring_number\u001b[49m\u001b[43m \u001b[49m\u001b[38;5;241;43m+\u001b[39;49m\u001b[43m \u001b[49m\u001b[38;5;241;43m5\u001b[39;49m\n",
      "\u001b[1;31mTypeError\u001b[0m: can only concatenate str (not \"int\") to str"
     ]
    }
   ],
   "source": [
    "string_number + 5"
   ]
  },
  {
   "cell_type": "markdown",
   "id": "0676af36",
   "metadata": {
    "nbgrader": {
     "grade": false,
     "locked": true,
     "solution": false
    }
   },
   "source": [
    "But the next cell will run normally."
   ]
  },
  {
   "cell_type": "code",
   "execution_count": 27,
   "id": "c5a1fec1",
   "metadata": {
    "nbgrader": {
     "grade": false,
     "locked": true,
     "solution": false
    }
   },
   "outputs": [
    {
     "data": {
      "text/plain": [
       "128"
      ]
     },
     "execution_count": 27,
     "metadata": {},
     "output_type": "execute_result"
    }
   ],
   "source": [
    "integer_number + 5"
   ]
  },
  {
   "cell_type": "markdown",
   "id": "c62184b0",
   "metadata": {
    "nbgrader": {
     "grade": false,
     "locked": true,
     "solution": false
    }
   },
   "source": [
    "<h3>Floating point numbers</h3>\n",
    "<br>\n",
    "We have seen that mathematics with integers (whole numbers) work as one might expect. But what about real numbers (with a decimal point)? \n",
    "On computers, these are called floating point numbers (where 'point' refers to the decimal point) or 'float' for short. \n",
    "\n",
    "An important thing to remember with floating point numbers is that doing mathematical operations with them is not exact, small rounding errors will appear. Even in simple calculations such as $0.3 - 0.1$. Try to run the cell below and see the result.</div>"
   ]
  },
  {
   "cell_type": "code",
   "execution_count": 28,
   "id": "206db967",
   "metadata": {
    "nbgrader": {
     "grade": false,
     "locked": true,
     "solution": false
    }
   },
   "outputs": [
    {
     "data": {
      "text/plain": [
       "0.19999999999999998"
      ]
     },
     "execution_count": 28,
     "metadata": {},
     "output_type": "execute_result"
    }
   ],
   "source": [
    "0.3 - 0.1"
   ]
  },
  {
   "cell_type": "markdown",
   "id": "f3d94f08",
   "metadata": {
    "nbgrader": {
     "grade": false,
     "locked": true,
     "solution": false
    }
   },
   "source": [
    "<div style=\"text-align: justify\">It is not what you would expect to see, right? The result has an error of $\\approx 10^{-15}$. In many cases these errors can be neglected, but be careful when comparing <b><code>float</code></b> and <b><code>int</code></b> numbers, as shown below. </div>"
   ]
  },
  {
   "cell_type": "code",
   "execution_count": 29,
   "id": "94bc9683",
   "metadata": {
    "nbgrader": {
     "grade": false,
     "locked": true,
     "solution": false
    }
   },
   "outputs": [
    {
     "data": {
      "text/plain": [
       "False"
      ]
     },
     "execution_count": 29,
     "metadata": {},
     "output_type": "execute_result"
    }
   ],
   "source": [
    "0.2 == 0.3 - 0.1"
   ]
  },
  {
   "cell_type": "markdown",
   "id": "14b3409e",
   "metadata": {
    "nbgrader": {
     "grade": false,
     "locked": true,
     "solution": false
    }
   },
   "source": [
    "Indeed, $0.2 \\neq 0.19999999999999998$.  A common advice is **Don't test floating point numbers for equality.** Testing for larger-than, smaller-than, is generally better."
   ]
  },
  {
   "cell_type": "markdown",
   "id": "d71b1183",
   "metadata": {
    "nbgrader": {
     "grade": false,
     "locked": true,
     "solution": false
    }
   },
   "source": [
    "<div style=\"text-align: justify\">\n",
    "    Within this course, in the end of each section you'll find exercises related to the subject that was just covered. There are three types of exercises: normal, fixing and searching.\n",
    "    Normal exercises are straight forward exercises that you should be able to solve without much trouble.\n",
    "    Fixing exercises are exercises where some piece of code is already written but contains an error. You need to debug it (find the cause of the error and fix it).\n",
    "    Searching exercises are exercises that purposefully incorporate subjects that were not covered yet, in an attempt to encourage you to try and solve issues you haven't learned about yet. <br><br>\n",
    "    Now let's practice!"
   ]
  },
  {
   "cell_type": "markdown",
   "id": "76617bca",
   "metadata": {},
   "source": [
    "```{important}\n",
    "**Exercise 1.4.1**\n",
    "\n",
    "You know that your taxes are the product of your income and the tax rate. Complete the line below to assign the correct calculation for the `my_taxes` variable. Use the `my_income` and `tax_rate` variables for that."
   ]
  },
  {
   "cell_type": "markdown",
   "id": "a167f813",
   "metadata": {
    "id": "GultfezaS3VN",
    "nbgrader": {
     "grade": false,
     "locked": true,
     "solution": false
    }
   },
   "source": [
    "<div class=\"alert alert-block alert-info\"><b>Exercise 1.2.1<br><br></b><div style=\"text-align: justify\">You know that your taxes is the product of your income and the tax rate. Complete the line below to assign the correct calculation for the <code>my_taxes</code> variable. Use the <code>my_income</code> and <code>tax_rate</code> variables for that.<br> \n",
    "</div></div>"
   ]
  },
  {
   "cell_type": "markdown",
   "id": "1f76a9fe",
   "metadata": {
    "nbgrader": {
     "grade": false,
     "locked": true,
     "solution": false
    }
   },
   "source": [
    "<div class=\"alert alert-block alert-warning\"><b></b> The dotted lines (...) below mark the location where you should change the code yourself! </div>"
   ]
  },
  {
   "cell_type": "code",
   "execution_count": 30,
   "id": "dc5aa31b",
   "metadata": {
    "id": "5LH1-9rqS3VN"
   },
   "outputs": [
    {
     "name": "stdout",
     "output_type": "stream",
     "text": [
      "Ellipsis\n"
     ]
    }
   ],
   "source": [
    "my_income = 100\n",
    "tax_rate = 0.1\n",
    "my_taxes = ...\n",
    "print(my_taxes)"
   ]
  },
  {
   "cell_type": "markdown",
   "id": "da5b6fbd",
   "metadata": {
    "id": "YY8Ff2wFS3VO",
    "nbgrader": {
     "grade": false,
     "locked": true,
     "solution": false
    }
   },
   "source": [
    "Use the cell block below to find out what is the **`type`** of the variable **`my_taxes`**"
   ]
  },
  {
   "cell_type": "code",
   "execution_count": 31,
   "id": "ad4b20ea",
   "metadata": {
    "id": "6qi5Su5fS3VO"
   },
   "outputs": [],
   "source": [
    "# use this line to check the type of the variable my_taxes\n",
    "...\n",
    "\n"
   ]
  },
  {
   "cell_type": "markdown",
   "id": "59e3850f",
   "metadata": {
    "id": "Pq9kETciS3VO",
    "nbgrader": {
     "grade": false,
     "locked": true,
     "solution": false
    }
   },
   "source": [
    "<div class=\"alert alert-block alert-info\"><b>Exercise 1.2.2<br><br></b><div style=\"text-align: justify\">What is the type of the result of the expression $3 + 1.5 + 4?$ <br>Assign the type to the variable beneath (e.g. if you think it is an integer then <code>expression_type = int</code>)\n",
    "</div></div>"
   ]
  },
  {
   "cell_type": "code",
   "execution_count": 32,
   "id": "ae47cbaa",
   "metadata": {
    "id": "fJnI43XxS3VO"
   },
   "outputs": [],
   "source": [
    "expression_type = ...\n"
   ]
  },
  {
   "cell_type": "markdown",
   "id": "502362de",
   "metadata": {
    "id": "cc546f8c",
    "nbgrader": {
     "grade": false,
     "locked": true,
     "solution": false
    }
   },
   "source": [
    "<div class=\"alert alert-block alert-info\"><b>Exercise 1.2.3<br><br></b><div style=\"text-align: justify\">Print the letter <code>'w'</code> of the sentence <code>'Hello world!'</code> using indexing of the variable <code>sentence</code>. <br>   \n",
    "</div></div>"
   ]
  },
  {
   "cell_type": "code",
   "execution_count": 33,
   "id": "5ed07f3f",
   "metadata": {
    "id": "93c4ffe3"
   },
   "outputs": [
    {
     "name": "stdout",
     "output_type": "stream",
     "text": [
      "Ellipsis\n"
     ]
    }
   ],
   "source": [
    "sentence = 'Hello world!'\n",
    "letter_w = ...\n",
    "\n",
    "print(letter_w)"
   ]
  },
  {
   "cell_type": "markdown",
   "id": "03848f47",
   "metadata": {
    "nbgrader": {
     "grade": false,
     "locked": true,
     "solution": false
    }
   },
   "source": [
    "<div style=\"text-align: justify\">\n",
    "In the following exercise you will be using a piece of code, which was written by other people. It can contain concepts you haven't encountered yet but you will have to make it work! You need to practice with using code you don't understand completely, as you want to be able to use programs written by other people. </div><br>\n",
    "\n",
    "<div style=\"text-align: justify\">\n",
    "In order to approach the problem, start from the point of error. If your error cannot be solved there, work your way backwards through the code. Try to understand the parts that are necessary to fix your problem, and avoid changing parts you know that work.</div>"
   ]
  },
  {
   "cell_type": "markdown",
   "id": "202e7625",
   "metadata": {
    "nbgrader": {
     "grade": false,
     "locked": true,
     "solution": false
    }
   },
   "source": [
    "<div class=\"alert alert-block alert-info\">\n",
    "<div style=\"text-align: justify\">\n",
    "    <b>(Fixing) Exercise 1.2.4<br><br>\n",
    "    </b>There are 2 types of numbers in Python: integer numbers and floating point numbers. Both have overlapping and different applications. For example, counting rocks will require only integers (1 rock, 2 rocks, 3 rocks, etc), while their weight can be expressed in both <i>int</i> and <i>float</i> (depending on the required accuracy). <br>  \n",
    "    Beneath you can see a small dataset of the measured daily temperatures and a filter function, which is used to remove incorrect measurements. Just run the cell, you don't have to change anything there and it is not important to understand it completely for now.\n",
    "</div></div>\n"
   ]
  },
  {
   "cell_type": "code",
   "execution_count": 34,
   "id": "a10bc6d2",
   "metadata": {
    "nbgrader": {
     "grade": false,
     "locked": true,
     "solution": false
    }
   },
   "outputs": [],
   "source": [
    "temp_data = [12.0, 13.5, 11.0, 12.7, 67.5, 11.8] # temperature measurements in Delft, in Celsius\n",
    "\n",
    "# A function to remove erroneous measurements\n",
    "def filter_errors(data, error_id):\n",
    "    print('Data before filtering', data)\n",
    "    \n",
    "    del temp_data[error_id - 1] # deleting the erroneous measurement\n",
    "    \n",
    "    print('Data after filtering', data)"
   ]
  },
  {
   "cell_type": "markdown",
   "id": "016d8256",
   "metadata": {
    "nbgrader": {
     "grade": false,
     "locked": true,
     "solution": false
    }
   },
   "source": [
    "<div class=\"alert alert-block alert-info\">\n",
    "<div style=\"text-align: justify\">\n",
    "In the code cell below a student wanted to indicate the position of the erroneous measurement, so it can be later filtered out during data analysis. However, it wasn't removed. The filter is known to work flawlessly (no errors there), meaning that the mistake happened in the indication step. It is known that the corrupted sample is the 5th in the dataset (index 4 because the first element has index 0! Python has a zero-based indexing).\n",
    "<br><br>\n",
    "Your task is to fix it and remove the error!\n",
    "    </div></div>"
   ]
  },
  {
   "cell_type": "code",
   "execution_count": 35,
   "id": "5bb75ef8",
   "metadata": {
    "nbgrader": {
     "grade": false,
     "grade_id": "Q1.4",
     "locked": false,
     "points": "1",
     "solution": false
    }
   },
   "outputs": [
    {
     "name": "stdout",
     "output_type": "stream",
     "text": [
      "Data before filtering [12.0, 13.5, 11.0, 12.7, 67.5, 11.8]\n",
      "Data after filtering [12.0, 13.5, 11.0, 67.5, 11.8]\n"
     ]
    }
   ],
   "source": [
    "error_id = 4 # index of erroneous measurement\n",
    "\n",
    "filter_errors(temp_data, error_id)"
   ]
  },
  {
   "cell_type": "markdown",
   "id": "fa839061",
   "metadata": {
    "nbgrader": {
     "grade": false,
     "locked": true,
     "solution": false
    }
   },
   "source": [
    "<div class=\"alert alert-block alert-info\">\n",
    "<div style=\"text-align: justify\">\n",
    "<b>(Searching) Exercise 1.2.5 </b><br><br>\n",
    "There are also other data types in Python, which were not mentioned in this part (in case they are not as useful or will be introduced later). For instance, <b>Complex</b> is one of them. The sad truth is that every software developer searches the web a lot. It's not because she/he is lazy or incompetent. It is because programming languages are constantly updated and some tools are limited to a narrow field of applications. It is impractical to learn everything at once, therefore every coder has learned how to look up the functionality their task requires. Therefore, it is crucial for you to learn how to search as well. Complex type is used in Python to represent complex numbers. If you haven't heard about them — a complex number is a number, which has a real and an imaginary part. For example, $x = 17 + 5i$. Here, $x$ is a complex number with a real part of $17$ and an imaginary part of $5$.<br><br> Your task is to create a variable <code>my_complex_num</code> of Complex type and assign a $3 + 2i$ value to it. For that you will have to Google a bit. Try to look for something like \"Python complex variables\". Python is very popular and you will be able to find everything you need. Make sure to filter the information you need — not everything you will find will be useful for this simple exercise.\n",
    "</div></div>"
   ]
  },
  {
   "cell_type": "code",
   "execution_count": 36,
   "id": "be21b0c5",
   "metadata": {},
   "outputs": [
    {
     "name": "stdout",
     "output_type": "stream",
     "text": [
      "Ellipsis\n"
     ]
    }
   ],
   "source": [
    "my_complex_var = ...\n",
    "\n",
    "print(my_complex_var)"
   ]
  },
  {
   "cell_type": "markdown",
   "id": "13c03d79",
   "metadata": {
    "nbgrader": {
     "grade": false,
     "locked": true,
     "solution": false
    }
   },
   "source": [
    "<div class=\"alert alert-block alert-danger\"><b>Additional study material:</b>\n",
    "\n",
    "* Official Python Documentation - https://docs.python.org/3/tutorial/introduction.html\n",
    "* Think Python (2nd ed.) - Section 2\n",
    "\n",
    "As an observation, web search quality has decreased over the last few years. For this reason, it may be helpful to search specific sites rather than using a general search engine. Some tips:\n",
    "* The Think Python book, open it in a web browser or pdf reader, do text search (Control + F) (but it won't help you for this question...)\n",
    "* The official Python documentation, or later when you start using *modules*, the documentation of the module in question.\n",
    "* Use a general search engine, look at the Stack Overflow results\n",
    "</div>"
   ]
  }
 ],
 "metadata": {
  "colab": {
   "collapsed_sections": [],
   "name": "merged.ipynb",
   "provenance": []
  },
  "kernelspec": {
   "display_name": "Python 3 (ipykernel)",
   "language": "python",
   "name": "python3"
  },
  "language_info": {
   "codemirror_mode": {
    "name": "ipython",
    "version": 3
   },
   "file_extension": ".py",
   "mimetype": "text/x-python",
   "name": "python",
   "nbconvert_exporter": "python",
   "pygments_lexer": "ipython3",
   "version": "3.11.5"
  },
  "latex_envs": {
   "LaTeX_envs_menu_present": true,
   "autoclose": false,
   "autocomplete": true,
   "bibliofile": "biblio.bib",
   "cite_by": "apalike",
   "current_citInitial": 1,
   "eqLabelWithNumbers": true,
   "eqNumInitial": 1,
   "hotkeys": {
    "equation": "Ctrl-E",
    "itemize": "Ctrl-I"
   },
   "labels_anchors": false,
   "latex_user_defs": false,
   "report_style_numbering": false,
   "user_envs_cfg": false
  }
 },
 "nbformat": 4,
 "nbformat_minor": 5
}
