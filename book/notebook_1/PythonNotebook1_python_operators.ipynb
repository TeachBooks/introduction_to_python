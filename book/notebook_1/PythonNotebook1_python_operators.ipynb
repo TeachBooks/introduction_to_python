{
 "cells": [
  {
   "cell_type": "markdown",
   "id": "10f5acbc",
   "metadata": {
    "id": "Tpeh8gLqS3V4",
    "nbgrader": {
     "grade": false,
     "locked": true,
     "solution": false
    }
   },
   "source": [
    "<figure>\n",
    "  <IMG SRC=\"https://raw.githubusercontent.com/mbakker7/exploratory_computing_with_python/master/tudelft_logo.png\" WIDTH=250 ALIGN=\"right\">\n",
    "</figure>\n",
    "\n",
    "# 1.3 Python Operators\n",
    "\n",
    "<br>Python <b>operators</b> are used to perform operations on variables and values. They are symbols that represent a form of computation; think of addition or multiplication. The value to which this computation is applied to is called the <i>'operand'</i>. Most of the common operators you will recognize from mathematics."
   ]
  },
  {
   "cell_type": "markdown",
   "id": "df6474e2",
   "metadata": {
    "id": "1yHso5KtS3WC",
    "nbgrader": {
     "grade": false,
     "locked": true,
     "solution": false
    }
   },
   "source": [
    "### Arithmetic Operators \n",
    "\n",
    "| Math sign | Python sign | name |\n",
    "| :-: | :-: |:-:|\n",
    "| + | + | addition |\n",
    "| - | - | subtraction |\n",
    "| * | * | multiplication |\n",
    "| / | / | division |\n",
    "| ^ | ** | exponentiation |\n",
    "| mod | % | modulus |\n",
    "|  | // | floor division |\n",
    "\n",
    "<br>Most of the mathematical symbols stay the same when transforming a piece of mathematics to Python. Note that the exponentiation sign is a double multiplication sign!<br><br>\n",
    "The last two operators, modulus and floor division, can be defined as the following:<br>\n",
    "- modulus: return the remainder of a division<br>\n",
    "- floor division: returns the integer/whole part of the division\n"
   ]
  },
  {
   "cell_type": "markdown",
   "id": "98283e68",
   "metadata": {
    "id": "Ijx03oCKS3WD",
    "nbgrader": {
     "grade": false,
     "locked": true,
     "solution": false
    }
   },
   "source": [
    "Now we will provide some small examples\n",
    "\n",
    "    a: multiply 4 by 3 and then add 2\n",
    "    b: 2 to the power of 4 plus 1\n",
    "    c: take the modulus of 352 over 23\n",
    "    d: the floor division of 352 over 23\n",
    "\n"
   ]
  },
  {
   "cell_type": "code",
   "execution_count": 37,
   "id": "15cea58a",
   "metadata": {
    "colab": {
     "base_uri": "https://localhost:8080/"
    },
    "id": "wOPRR9oLS3WD",
    "nbgrader": {
     "grade": false,
     "locked": true,
     "solution": false
    },
    "outputId": "d888e6de-7185-453a-a33e-dc2f38817e9f"
   },
   "outputs": [
    {
     "name": "stdout",
     "output_type": "stream",
     "text": [
      "14\n"
     ]
    }
   ],
   "source": [
    "a = 2 + 4 * 3\n",
    "print(a)"
   ]
  },
  {
   "cell_type": "code",
   "execution_count": 38,
   "id": "8ab76575",
   "metadata": {
    "colab": {
     "base_uri": "https://localhost:8080/"
    },
    "id": "V50AuE4US3WD",
    "nbgrader": {
     "grade": false,
     "locked": true,
     "solution": false
    },
    "outputId": "d7518f7e-535f-4ea2-a233-06e71de779be"
   },
   "outputs": [
    {
     "name": "stdout",
     "output_type": "stream",
     "text": [
      "17\n"
     ]
    }
   ],
   "source": [
    "b = 2**4 + 1\n",
    "print(b)"
   ]
  },
  {
   "cell_type": "code",
   "execution_count": 39,
   "id": "3efd7ebb",
   "metadata": {
    "colab": {
     "base_uri": "https://localhost:8080/"
    },
    "id": "a674y2ZoS3WE",
    "nbgrader": {
     "grade": false,
     "locked": true,
     "solution": false
    },
    "outputId": "2b8bfe90-f5db-40b7-beac-119d63142e3f"
   },
   "outputs": [
    {
     "name": "stdout",
     "output_type": "stream",
     "text": [
      "7\n"
     ]
    }
   ],
   "source": [
    "c = 352 % 23\n",
    "print(c)"
   ]
  },
  {
   "cell_type": "markdown",
   "id": "7410dc80",
   "metadata": {
    "nbgrader": {
     "grade": false,
     "locked": true,
     "solution": false
    }
   },
   "source": [
    "Explanation: $352 = 15 \\times 23 + 7$, therefore the **modulus operator** returns the value $7$."
   ]
  },
  {
   "cell_type": "code",
   "execution_count": null,
   "id": "ce65969b",
   "metadata": {
    "nbgrader": {
     "grade": false,
     "locked": true,
     "solution": false
    }
   },
   "outputs": [],
   "source": [
    "d = 352 // 23\n",
    "print(d)"
   ]
  },
  {
   "cell_type": "markdown",
   "id": "317cd6d2",
   "metadata": {
    "nbgrader": {
     "grade": false,
     "locked": true,
     "solution": false
    }
   },
   "source": [
    "Explanation: $352 = 15 \\times 23 + 7$, therefore the **floor division operator** returns the value $15$."
   ]
  },
  {
   "cell_type": "markdown",
   "id": "d56631a9",
   "metadata": {
    "id": "w3HQ3fRHS3WE",
    "nbgrader": {
     "grade": false,
     "locked": true,
     "solution": false
    }
   },
   "source": [
    "```{admonition} Note\n",
    ":class: tip\n",
    "\n",
    "Besides making sure that you use the right operators when writing mathematical functions, it is also important that you pay attention to the order of operators. When not done right, this can cause huge changes in the outcome. Therefore, when writing out large equations it is easier to use parentheses or split it into multiple variables. e.g.:\n",
    "\n",
    "$$\n",
    "y = x\\tan\\theta - \\frac{1}{2v_0^2}\\frac{g x^2}{\\cos^2\\theta} + y_0\n",
    "$$\n",
    "\n",
    "You could split this equation into four distinct variables:\n",
    "\n",
    "\n",
    "1) var_1 $ = x\\tan\\theta$\n",
    "\n",
    "2) var_2 $= \\frac{1}{2v_0^2}$\n",
    "\n",
    "3) var_3 $= \\frac{g x^2}{\\cos^2\\theta}$\n",
    "\n",
    "4) var_4 $= y_0$\n",
    "\n",
    "And then re-write it as <code>y = var_1 - (var_2 * var_3) + var_4</code>\n",
    "```"
   ]
  },
  {
   "cell_type": "markdown",
   "id": "584ea624",
   "metadata": {},
   "source": [
    "***\n",
    "### Comparison Operators\n",
    "\n",
    "In Python, you often want to compare a value with another. For that, you use comparison operators.\n",
    "\n",
    "| Math sign | Python sign | Meaning |\n",
    "| :-: | :-: | :-: |\n",
    "| = | `==` | Equal to |\n",
    "| > | `>` | Greater than |\n",
    "| < | `<` | Less than |\n",
    "| ≥ | `>=` | Greater than or equal to |\n",
    "| ≤ | `<=` | Less than or equal to |\n",
    "| ≠ | `!=` | Not equal to |\n"
   ]
  },
  {
   "cell_type": "markdown",
   "id": "1e0552df",
   "metadata": {
    "id": "tYgJkAjkS3WF",
    "nbgrader": {
     "grade": false,
     "locked": true,
     "solution": false
    }
   },
   "source": [
    "#### Checking if a value corresponds to the set conditions\n",
    "\n",
    "Check if the the variable **`num`** satisfies the set condition."
   ]
  },
  {
   "cell_type": "code",
   "execution_count": null,
   "id": "a92000c1",
   "metadata": {
    "colab": {
     "base_uri": "https://localhost:8080/"
    },
    "id": "cwI6HOvCS3WF",
    "nbgrader": {
     "grade": false,
     "locked": true,
     "solution": false
    },
    "outputId": "8b6f1e68-f812-4758-b66c-8c1ece6e9885"
   },
   "outputs": [],
   "source": [
    "num = 6\n",
    "print(num > 2)"
   ]
  },
  {
   "cell_type": "markdown",
   "id": "393c7c48",
   "metadata": {
    "id": "rahfXQevS3WG",
    "nbgrader": {
     "grade": false,
     "locked": true,
     "solution": false
    }
   },
   "source": [
    "If the value does not satisfy the condition the system will return <b><code>False</code></b>"
   ]
  },
  {
   "cell_type": "code",
   "execution_count": null,
   "id": "7139f725",
   "metadata": {
    "id": "n3-STHSWS3WG",
    "nbgrader": {
     "grade": false,
     "locked": true,
     "solution": false
    },
    "outputId": "6796f022-fc31-4a4c-cb2e-9242d0be0761"
   },
   "outputs": [],
   "source": [
    "print(num > 7)"
   ]
  },
  {
   "cell_type": "markdown",
   "id": "9ca6f464",
   "metadata": {
    "id": "k1fHyoR_S3WH",
    "nbgrader": {
     "grade": false,
     "locked": true,
     "solution": false
    }
   },
   "source": [
    " ***\n",
    "### Logical & Identity Operators\n",
    " \n",
    " |sign|description|\n",
    " |:-:|:-:|\n",
    " |and|returns True if both statements are true|\n",
    " |or|return True if at least 1 statements is true|\n",
    " |not|reverse of the results; returns False if the statement is True|\n",
    " |in|returns True if a sequence with the specified value is present in the object|\n",
    " |not in|returns True if a sequence with the specified value is not present in the object|"
   ]
  },
  {
   "cell_type": "markdown",
   "id": "9bc7eb80",
   "metadata": {
    "id": "z-vMNiI9S3WH",
    "nbgrader": {
     "grade": false,
     "locked": true,
     "solution": false
    }
   },
   "source": [
    "#### <b><code>and</code></b> statement\n",
    "\n",
    "By using the <b><code>and</code></b> statement you can set multiple conditions for the system to return. This can be seen as setting a boundary condition for a mathematical function."
   ]
  },
  {
   "cell_type": "code",
   "execution_count": null,
   "id": "11d97b02",
   "metadata": {
    "id": "C2nBS6w6S3WH",
    "nbgrader": {
     "grade": false,
     "locked": true,
     "solution": false
    },
    "outputId": "5ec763aa-a8d9-4a76-9442-c7d98a084b0e"
   },
   "outputs": [],
   "source": [
    "\n",
    "num = 5\n",
    "print(num > 4 and num < 8)"
   ]
  },
  {
   "cell_type": "markdown",
   "id": "065daae0",
   "metadata": {
    "id": "jFLv4WxVS3WH",
    "nbgrader": {
     "grade": false,
     "locked": true,
     "solution": false
    }
   },
   "source": [
    "#### checking if a value appears in an object\n",
    "Suppose we have a string \"sandstone\", we can check if a value is present within the string through the following lines of code."
   ]
  },
  {
   "cell_type": "code",
   "execution_count": null,
   "id": "02aed9b1",
   "metadata": {
    "id": "y3hzxJlPS3WH",
    "nbgrader": {
     "grade": false,
     "locked": true,
     "solution": false
    },
    "outputId": "847bb1bc-e366-4e2d-e18a-7e08b54826b8"
   },
   "outputs": [],
   "source": [
    "rock_type = \"sandstone\"\n",
    "print(\"sand\" in rock_type)"
   ]
  },
  {
   "cell_type": "markdown",
   "id": "1735d516",
   "metadata": {
    "nbgrader": {
     "grade": false,
     "locked": true,
     "solution": false
    }
   },
   "source": [
    "```{admonition} Additional study material\n",
    ":class: tip\n",
    "\n",
    "* Official Python Documentation - https://docs.python.org/3/library/operator.html\n",
    "* https://realpython.com/python-operators-expressions/\n",
    "* Think Python (2nd ed.) - Sections 2 and 5\n",
    "+++\n",
    "```"
   ]
  },
  {
   "cell_type": "markdown",
   "id": "5df678be",
   "metadata": {
    "nbgrader": {
     "grade": false,
     "locked": true,
     "solution": false
    }
   },
   "source": [
    "#### After this Notebook you should be able to:\n",
    "\n",
    "- create and re-assign new variables\n",
    "- determine the type of a variable using `type()`\n",
    "- slice strings\n",
    "- perform simple math using arithmetic operators\n",
    "- compare two or more variables"
   ]
  }
 ],
 "metadata": {
  "colab": {
   "collapsed_sections": [],
   "name": "merged.ipynb",
   "provenance": []
  },
  "kernelspec": {
   "display_name": "base",
   "language": "python",
   "name": "python3"
  },
  "language_info": {
   "codemirror_mode": {
    "name": "ipython",
    "version": 3
   },
   "file_extension": ".py",
   "mimetype": "text/x-python",
   "name": "python",
   "nbconvert_exporter": "python",
   "pygments_lexer": "ipython3",
   "version": "3.12.2"
  },
  "latex_envs": {
   "LaTeX_envs_menu_present": true,
   "autoclose": false,
   "autocomplete": true,
   "bibliofile": "biblio.bib",
   "cite_by": "apalike",
   "current_citInitial": 1,
   "eqLabelWithNumbers": true,
   "eqNumInitial": 1,
   "hotkeys": {
    "equation": "Ctrl-E",
    "itemize": "Ctrl-I"
   },
   "labels_anchors": false,
   "latex_user_defs": false,
   "report_style_numbering": false,
   "user_envs_cfg": false
  }
 },
 "nbformat": 4,
 "nbformat_minor": 5
}
