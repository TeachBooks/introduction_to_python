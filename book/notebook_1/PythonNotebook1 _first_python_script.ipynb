{
 "cells": [
  {
   "cell_type": "markdown",
   "id": "c8b595f9",
   "metadata": {
    "id": "c0279304",
    "nbgrader": {
     "grade": false,
     "locked": true,
     "solution": false
    }
   },
   "source": [
    "<h2> 1.1 First Python Script</h2>\n",
    "\n",
    "So, it is time for your first Python script. It is located beneath. Go ahead, run it: select the cell by clicking on it, then press shift + enter.\n",
    "</div>"
   ]
  },
  {
   "cell_type": "code",
   "execution_count": 1,
   "id": "60701c6e",
   "metadata": {
    "colab": {
     "base_uri": "https://localhost:8080/"
    },
    "id": "3d1f70cf",
    "nbgrader": {
     "grade": false,
     "locked": true,
     "solution": false
    },
    "outputId": "ee5c28c1-473e-4c2d-9a33-b15b51fffc5f"
   },
   "outputs": [
    {
     "name": "stdout",
     "output_type": "stream",
     "text": [
      "Hello world!\n"
     ]
    }
   ],
   "source": [
    "# My First Python Script\n",
    "\n",
    "message = 'Hello world!'\n",
    "print(message)"
   ]
  },
  {
   "cell_type": "markdown",
   "id": "23368ba5",
   "metadata": {
    "id": "7a16f396",
    "nbgrader": {
     "grade": false,
     "locked": true,
     "solution": false
    }
   },
   "source": [
    "Now, let's analyze it.<br><br>\n",
    "<div style=\"text-align: justify\">\n",
    "First line: <b><code># My First Python Script</code></b> is a <b>comment</b>, which is used just to explain and/or put useful information about the code next to it. If you need to create a comment — just type a <b><code>#</code></b> symbol and write your text after it. The <a href=\"https://docs.python.org/3/tutorial/interpreter.html\">interpreter</a> does nothing with it — the comments are there just as useful information for you or another reader.<br><br> </div>\n",
    "<div style=\"text-align: justify\">\n",
    "Second line: <b><code>message = 'Hello world!'</code></b> creates a <b>variable</b> called <i> message </i> and assigns the text literal (string) <i>Hello world!</i> to it, by using the operator <i>=</i> (equal sign). Variables are used to store all data you use in your code.\n",
    "When you assign text to a variable, enclose the text in single <b><code>' '</code></b> or double <b><code>\" \"</code></b> quotes.\n",
    "</div><br>\n",
    "<div style=\"text-align: justify\">\n",
    "Third line: <b><code>print(message)</code></b> calls the <b>function</b><code>print()</code> and passes the variable <i>message</i> to it. A function is just a set of encapsulated code, which is tailored to perform a certain action. This specific function outputs the content of everything you pass to it. Since the variable <i>message</i> had a small line of text in it, the function <b><code>print()</code></b> outputs that message.</div>\n",
    "<div style=\"text-align: justify\">\n",
    "<br>This script is quite simple but it represents the main idea of programming in Python. You have data (which is stored in variables) and you perform an operation on it: by using the inbuilt <b><code>print()</code></b> function. In addition, you could create your own functions. </div>"
   ]
  }
 ],
 "metadata": {
  "colab": {
   "collapsed_sections": [],
   "name": "merged.ipynb",
   "provenance": []
  },
  "kernelspec": {
   "display_name": "Python 3 (ipykernel)",
   "language": "python",
   "name": "python3"
  },
  "language_info": {
   "codemirror_mode": {
    "name": "ipython",
    "version": 3
   },
   "file_extension": ".py",
   "mimetype": "text/x-python",
   "name": "python",
   "nbconvert_exporter": "python",
   "pygments_lexer": "ipython3",
   "version": "3.11.5"
  },
  "latex_envs": {
   "LaTeX_envs_menu_present": true,
   "autoclose": false,
   "autocomplete": true,
   "bibliofile": "biblio.bib",
   "cite_by": "apalike",
   "current_citInitial": 1,
   "eqLabelWithNumbers": true,
   "eqNumInitial": 1,
   "hotkeys": {
    "equation": "Ctrl-E",
    "itemize": "Ctrl-I"
   },
   "labels_anchors": false,
   "latex_user_defs": false,
   "report_style_numbering": false,
   "user_envs_cfg": false
  }
 },
 "nbformat": 4,
 "nbformat_minor": 5
}
