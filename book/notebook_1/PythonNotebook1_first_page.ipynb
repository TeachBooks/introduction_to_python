{
 "cells": [
  {
   "cell_type": "markdown",
   "id": "1ce83365",
   "metadata": {
    "id": "7vcVhbkFS81g",
    "nbgrader": {
     "grade": false,
     "locked": true,
     "solution": false
    }
   },
   "source": [
    "<figure>\n",
    "  <IMG SRC=\"https://raw.githubusercontent.com/mbakker7/exploratory_computing_with_python/master/tudelft_logo.png\" WIDTH=250 ALIGN=\"right\">\n",
    "</figure>\n",
    "\n",
    "# Python Notebook #1"
   ]
  },
  {
   "cell_type": "markdown",
   "id": "62d561fb",
   "metadata": {},
   "source": [
    "<div style=\"text-align: justify\">Python is a computer programming language that is widely used in both academia and industries related to Civil Engineering, Environmental Engineering and Applied Earth Sciences. Being skilled in Python will help you on multiple occasions, including in your Master courses. With this set of notebooks we will guide you through the basics of Python programming. As an additional study material for learning Python basics, we advise the open source book <a href=\"https://greenteapress.com/wp/think-python-2e/\">\"Think Python 2nd Edition\" by Allen B. Downey</a>. It describes in more detail what is covered in the Notebooks of this course.</div>\n",
    "\n",
    "<br>\n",
    "\n",
    "<div style=\"text-align: justify\">\n",
    "In this course you are going to use <b> Python Notebooks </b> with Jupyter Notebooks or Jupyter Lab. These notebooks allow you to run your script in parts, blocks, or in other words, in cells. Just select a cell with the code part you want to run and press the <b>'run cell'</b> button (or <b>shift + enter</b>). Running cell blocks is convenient for data analysis since sometimes you just need to change a small part of your code or add some explanation, math formulas, or figures.\n",
    "</div>"
   ]
  }
 ],
 "metadata": {
  "colab": {
   "collapsed_sections": [],
   "name": "merged.ipynb",
   "provenance": []
  },
  "kernelspec": {
   "display_name": "Python 3 (ipykernel)",
   "language": "python",
   "name": "python3"
  },
  "language_info": {
   "codemirror_mode": {
    "name": "ipython",
    "version": 3
   },
   "file_extension": ".py",
   "mimetype": "text/x-python",
   "name": "python",
   "nbconvert_exporter": "python",
   "pygments_lexer": "ipython3",
   "version": "3.11.5"
  },
  "latex_envs": {
   "LaTeX_envs_menu_present": true,
   "autoclose": false,
   "autocomplete": true,
   "bibliofile": "biblio.bib",
   "cite_by": "apalike",
   "current_citInitial": 1,
   "eqLabelWithNumbers": true,
   "eqNumInitial": 1,
   "hotkeys": {
    "equation": "Ctrl-E",
    "itemize": "Ctrl-I"
   },
   "labels_anchors": false,
   "latex_user_defs": false,
   "report_style_numbering": false,
   "user_envs_cfg": false
  }
 },
 "nbformat": 4,
 "nbformat_minor": 5
}
