{
 "cells": [
  {
   "cell_type": "markdown",
   "metadata": {
    "id": "fHmKWsUSKuj4",
    "nbgrader": {
     "grade": false,
     "locked": true,
     "solution": false
    }
   },
   "source": [
    "<figure>\n",
    "  <IMG SRC=\"https://raw.githubusercontent.com/mbakker7/exploratory_computing_with_python/master/tudelft_logo.png\" WIDTH=250 ALIGN=\"right\">\n",
    "</figure>\n",
    "\n",
    "# 3.1 Data Structures\n",
    "\n",
    "\n",
    "In this Section you will tackle a data management problem! In the first module you have learned how to create variables, which is cool. But when you populate a lot of variables, or you want to store & access them within one entity, you need to have a data structure.\n",
    "\n",
    "There are plenty of them, which differ their use cases and complexity. Today we will tackle some of the standard Python built-in data structures. The most popular of those are: <b><code>list</code></b>, <b><code>dict</code></b> and <b><code>tuple</code></b>."
   ]
  },
  {
   "cell_type": "markdown",
   "metadata": {
    "id": "BcEOnv2kTT9A",
    "nbgrader": {
     "grade": false,
     "locked": true,
     "solution": false
    }
   },
   "source": [
    "## <code>list</code>\n",
    "\n",
    "First, the easiest and the most popular data structure in Python: <b><code>list</code></b> (which is similar to a typical array you could have seen in a different programming language).\n",
    "\n",
    "You can create a list in the following ways:"
   ]
  },
  {
   "cell_type": "code",
   "execution_count": null,
   "metadata": {
    "colab": {
     "base_uri": "https://localhost:8080/"
    },
    "id": "U8OUPaXESz44",
    "nbgrader": {
     "grade": false,
     "locked": true,
     "solution": false
    },
    "outputId": "ee38751f-5efe-4a85-a9a9-a34efc3bfb02"
   },
   "outputs": [],
   "source": [
    "# 1). Creating an empty list, option 1\n",
    "\n",
    "empty_list1 = []\n",
    "print('Type of my_list1 object', type(empty_list1))\n",
    "print('Contents of my_list1', empty_list1)\n",
    "print('--------------------')\n",
    "\n",
    "# 2). Creating an empty list, option 2 - using the class constructor\n",
    "\n",
    "empty_list2 = list()\n",
    "print('Type of my_list2 object', type(empty_list2))\n",
    "print('Contents of my_list2', empty_list2)\n",
    "print('--------------------')\n",
    "\n",
    "# 3). Creating a list from existing data - option 1\n",
    "\n",
    "my_var1 = 5\n",
    "my_var2 = \"hello\"\n",
    "my_var3 = 37.5\n",
    "\n",
    "my_list = [my_var1, my_var2, my_var3]\n",
    "print('Type of my_list3 object', type(my_list))\n",
    "print('Contents of my_list3', my_list)\n",
    "print('--------------------')\n",
    "\n",
    "# 4). Creating a list from existing data - option 2\n",
    "\n",
    "cool_rock = \"sandstone\" # remember that a string is a collection of characters\n",
    "\n",
    "list_with_letters = list(cool_rock)\n",
    "\n",
    "print('Type of my_list3 object', type(list_with_letters))\n",
    "print('Contents of list_with_letters', list_with_letters)\n",
    "print('--------------------')\n"
   ]
  },
  {
   "cell_type": "markdown",
   "metadata": {
    "id": "I-9MNCzBUgH9",
    "nbgrader": {
     "grade": false,
     "locked": true,
     "solution": false
    }
   },
   "source": [
    "As you can see, in all three cases we created a list, only the method how we did it was slightly different:\n",
    "\n",
    "- the first method uses the bracket notation,\n",
    "- the second method uses class constructor approach. \n",
    "\n",
    "Both methods also apply to the other data structures.\n",
    "\n",
    "Now, we have a list — what can we do with it?\n",
    "\n",
    "Well... we can access and modify any element of an existing list. In order to access a list element, square brackets <b><code>[]</code></b> are used with the index of the element we want to access inside. Sounds easy, but keep in mind that Python has a zero-based indexing (as mentioned in Section 1.4 in Notebook 1).\n",
    "\n",
    "As a reminder, a zero-based indexing means that the first element has index 0 (not 1), the second element has index 1 (not 2) and the n-th element has index n - 1 (not n)!"
   ]
  },
  {
   "cell_type": "code",
   "execution_count": null,
   "metadata": {
    "colab": {
     "base_uri": "https://localhost:8080/",
     "height": 295
    },
    "id": "CksNFv0AVmLw",
    "nbgrader": {
     "grade": false,
     "locked": true,
     "solution": false
    },
    "outputId": "bbddff89-959c-4065-89a5-04500ceedf91"
   },
   "outputs": [],
   "source": [
    "# len() function returns the lengths of an iterable (string, list, array, etc)\n",
    "print(len(my_list))\n",
    "\n",
    "# We have 3 elements, thus we can access 0th, 1st, and 2nd elements\n",
    "print('First element of my list:', my_list[0])\n",
    "\n",
    "print('Last element of my list:', my_list[2])\n",
    "\n",
    "# After the element is accessed, it can be used as any variable,\n",
    "# the list only provides a convenient storage\n",
    "\n",
    "summation = my_list[0] + my_list[2]\n",
    "print(f'Sum of {my_list[0]} and {my_list[2]} is {summation}')\n",
    "\n",
    "# Since it is a storage - we can easily alter and swap list elements\n",
    "my_list[0] += 7\n",
    "my_list[1] = \"My new element\"\n",
    "\n",
    "print(my_list)\n",
    "\n",
    "# However we can only access data we have - Python will give us an error for the following\n",
    "\n",
    "my_list[10] = 199"
   ]
  },
  {
   "cell_type": "markdown",
   "metadata": {
    "id": "zxkLDWef7IM-",
    "nbgrader": {
     "grade": false,
     "locked": true,
     "solution": false
    }
   },
   "source": [
    "We can also add new elements to a list, or remove them! Adding is realized with the <b><code>append</code></b> method and removal of an element uses the <b><code>del</code></b> keyword."
   ]
  },
  {
   "cell_type": "code",
   "execution_count": null,
   "metadata": {
    "colab": {
     "base_uri": "https://localhost:8080/"
    },
    "id": "Yos0Cl9C7W1H",
    "nbgrader": {
     "grade": false,
     "locked": true,
     "solution": false
    },
    "outputId": "ba48887c-c2ff-4fc6-a231-68543e8bf97a"
   },
   "outputs": [],
   "source": [
    "# adding a new element to the end of the list\n",
    "my_list.append(\"new addition to  my variable collection!\")\n",
    "print(my_list)\n",
    "\n",
    "# we can also store a list inside a list - list inception! Useful for matrices, images etc\n",
    "my_list.append(['another list', False, 1 + 2j])\n",
    "print(my_list)\n",
    "\n",
    "# Let's remove 37.5\n",
    "\n",
    "del my_list[2]\n",
    "\n",
    "print(my_list)"
   ]
  },
  {
   "cell_type": "markdown",
   "metadata": {
    "id": "WZgLxAbJ8icK",
    "nbgrader": {
     "grade": false,
     "locked": true,
     "solution": false
    }
   },
   "source": [
    "Lists also have other useful functionalities, as you can see from the <a href=\"https://docs.python.org/3/tutorial/datastructures.html\">official documentation</a>. Since lists are still objects you can try and apply some operations to them as well."
   ]
  },
  {
   "cell_type": "code",
   "execution_count": null,
   "metadata": {
    "colab": {
     "base_uri": "https://localhost:8080/"
    },
    "id": "UEBv_4u09K9T",
    "nbgrader": {
     "grade": false,
     "locked": true,
     "solution": false
    },
    "outputId": "96987502-088b-48d8-d114-2b9967f2de78"
   },
   "outputs": [],
   "source": [
    "lst1 = [2, 4, False]\n",
    "lst2 = ['second list', 0, 222]\n",
    "\n",
    "#what will happen?\n",
    "lst1 = lst1 + lst2\n",
    "print(lst1)\n",
    "\n",
    "lst2 = lst2 * 4\n",
    "print(lst2)\n",
    "\n",
    "lst2[3] = 5050\n",
    "print(lst2)"
   ]
  },
  {
   "cell_type": "markdown",
   "metadata": {
    "id": "SVvYBl6H96du",
    "nbgrader": {
     "grade": false,
     "locked": true,
     "solution": false
    }
   },
   "source": [
    "As you can see, adding lists together concatenates them and multiplying them basically does the same thing (it performs addition several times, just like in real math...).\n",
    "\n",
    "Additionally, you can also use the <b><code>in</code></b> keyword to check the presence of a value inside a list."
   ]
  },
  {
   "cell_type": "code",
   "execution_count": null,
   "metadata": {
    "colab": {
     "base_uri": "https://localhost:8080/"
    },
    "id": "15hwh0COFf-p",
    "nbgrader": {
     "grade": false,
     "locked": true,
     "solution": false
    },
    "outputId": "2b3d16c6-9487-49ea-a6f6-8ffb989ac95c"
   },
   "outputs": [],
   "source": [
    "print(lst1)\n",
    "\n",
    "if 222 in lst1:\n",
    "    print('We found 222 inside lst1')\n",
    "else:\n",
    "    print('Nope, nothing there....')"
   ]
  },
  {
   "cell_type": "markdown",
   "metadata": {
    "id": "NAJZYyQd-fG2",
    "nbgrader": {
     "grade": false,
     "locked": true,
     "solution": false
    }
   },
   "source": [
    "## <code>tuple</code>\n",
    "\n",
    "If you understood how <code>list</code> works, then you already understand 95% of <b><code>tuple</code></b>. Tuples are just like lists, with some small differences.\n",
    "\n",
    "1. In order to create a tuple you need to use <b><code>()</code></b> brackets, comma or a <b><code>tuple</code></b> class constructor.\n",
    "2. You can change the content of your list, however <b>tuples are immutable</b> (just like strings).\n",
    "\n"
   ]
  },
  {
   "cell_type": "code",
   "execution_count": null,
   "metadata": {
    "colab": {
     "base_uri": "https://localhost:8080/",
     "height": 313
    },
    "id": "QnEd7YSsE2Ih",
    "nbgrader": {
     "grade": false,
     "locked": true,
     "solution": false
    },
    "outputId": "1a2e1b57-dbff-4c7d-d7c4-8968fecf67a1"
   },
   "outputs": [],
   "source": [
    "# Creating an empty tuple - a bit useless, since you cannot change it\n",
    "\n",
    "tupl1 = tuple() # option 1 with class constructor\n",
    "print('Type of tupl1', type(tupl1))\n",
    "print('Content of tupl1', tupl1)\n",
    "\n",
    "tupl2 = () # option 2 with ()\n",
    "print(type(tupl2), tupl2)"
   ]
  },
  {
   "cell_type": "code",
   "execution_count": null,
   "metadata": {
    "nbgrader": {
     "grade": false,
     "locked": true,
     "solution": false
    }
   },
   "outputs": [],
   "source": [
    "# Creating a non-empty tuple using brackets\n",
    "\n",
    "my_var1 = 26.5\n",
    "my_var2 = 'Oil'\n",
    "my_var3 = False\n",
    "\n",
    "my_tuple = (my_var1, my_var2, my_var3, 'some additional stuff', 777)\n",
    "print('my tuple', my_tuple)\n",
    "\n",
    "# Creating a non-empty tuple using comma\n",
    "\n",
    "comma_tuple = 2, 'hi!', 228\n",
    "print('A comma made tuple', comma_tuple)\n",
    "\n",
    "# now, let's try to access an element\n",
    "print('4th element of my_tuple:', my_tuple[3])\n",
    "\n",
    "# but, can we change it?\n",
    "my_tuple[3] = 'will I change?'"
   ]
  },
  {
   "cell_type": "markdown",
   "metadata": {
    "id": "1RxahCCiHJRl",
    "nbgrader": {
     "grade": false,
     "locked": true,
     "solution": false
    }
   },
   "source": [
    "Since tuples are immutable, it has no <b><code>append()</code></b> method nor any other methods to alter them.\n",
    "\n",
    "You might think that tuple is a useless class. However, there are some reasons for it to exist:\n",
    "1)   Storing constants & objects which shouldn't be changed.\n",
    "2)   Saving memory (tuple uses less memory to store the same data than a list).\n",
    "\n"
   ]
  },
  {
   "cell_type": "code",
   "execution_count": null,
   "metadata": {
    "colab": {
     "base_uri": "https://localhost:8080/"
    },
    "id": "A9cA-BpNIMzd",
    "nbgrader": {
     "grade": false,
     "locked": true,
     "solution": false
    },
    "outputId": "d7100baa-0a2c-4498-b8c0-01d1733e732f"
   },
   "outputs": [],
   "source": [
    "#creating a list and a tuple from the same data\n",
    "\n",
    "my_name = 'Vasyan'\n",
    "my_age = 27\n",
    "is_student = True\n",
    "\n",
    "a = (my_name, my_age, is_student)\n",
    "b = [my_name, my_age, is_student]\n",
    "\n",
    "print('size of a =', a.__sizeof__(), 'bytes') #.__sizeof__() determines the size of a variable in bytes\n",
    "print('size of b =', b.__sizeof__(), 'bytes')"
   ]
  },
  {
   "cell_type": "markdown",
   "metadata": {
    "id": "IYyveiZJJOTZ",
    "nbgrader": {
     "grade": false,
     "locked": true,
     "solution": false
    }
   },
   "source": [
    "## <code>dictionary</code>\n",
    "\n",
    "After seeing lists and tuples, you may think: \n",
    "\n",
    "\"Wow, storing all my variables within another variable is cool and gnarly! But... sometimes it's boring & inconvenient to access my data by using it's position within a tuple/list. Is there a way that I can store my object within a data structure but access it via something meaningful, like a keyword...?\"\n",
    "\n",
    "Don't worry if you had this exact same thought.. Python had it as well!\n",
    "\n",
    "Dictionaries are suited especially for that purpose — to each element you want to store, you give it a nickname (i.e., a key) and use that key to access the value you want."
   ]
  },
  {
   "cell_type": "code",
   "execution_count": null,
   "metadata": {
    "colab": {
     "base_uri": "https://localhost:8080/"
    },
    "id": "r5vjDJ8CKaT8",
    "nbgrader": {
     "grade": false,
     "locked": true,
     "solution": false
    },
    "outputId": "46ee6315-d5a5-40a5-8db3-175a681dbf0c"
   },
   "outputs": [],
   "source": [
    "# Creating an empty dictionary - we used () for tuples and and [] for lists. \n",
    "# Now, it's time to use {}.\n",
    "\n",
    "empty_dict1 = {}\n",
    "print('Type of empty_dict1', type(empty_dict1))\n",
    "print('Content of it ->', empty_dict1)\n",
    "\n",
    "# Creating an empty dictionary - using class constructor\n",
    "empty_dict2 = dict()\n",
    "print('Type of empty_dict2', type(empty_dict2))\n",
    "print('Content of it ->', empty_dict2)"
   ]
  },
  {
   "cell_type": "code",
   "execution_count": null,
   "metadata": {
    "nbgrader": {
     "grade": false,
     "locked": true,
     "solution": false
    }
   },
   "outputs": [],
   "source": [
    "# Creating a non-empty dictionary - specifying pairs of key:value pattern\n",
    "my_dict = {\n",
    "    'name': 'Jarno',\n",
    "    'color': 'red',\n",
    "    'year': 2007,\n",
    "    'is cool': True,\n",
    "    6: 'it works',\n",
    "    (2, 22): 'that is a strange key'\n",
    "}\n",
    "\n",
    "print('Content of my_dict>>>', my_dict)"
   ]
  },
  {
   "cell_type": "markdown",
   "metadata": {
    "id": "2tQEahKqM9p8",
    "nbgrader": {
     "grade": false,
     "locked": true,
     "solution": false
    }
   },
   "source": [
    "In the last example, you can see that only strings, numbers, or tuples were used as keys. Dictionaries can only use immutable data (or numbers) as keys:"
   ]
  },
  {
   "cell_type": "code",
   "execution_count": null,
   "metadata": {
    "colab": {
     "base_uri": "https://localhost:8080/",
     "height": 242
    },
    "id": "V38R-AweNbF7",
    "nbgrader": {
     "grade": false,
     "locked": true,
     "solution": false
    },
    "outputId": "6039cc3b-8d72-4f23-986f-e1027265aec5"
   },
   "outputs": [],
   "source": [
    "# using mutable structures won't work: \n",
    "\n",
    "mutable_key_dict = {\n",
    "    5: 'lets try',\n",
    "    True: 'I hope it will run perfectly',\n",
    "    6.78: 'heh',\n",
    "    ['No problemo', 'right?']: False  \n",
    "}\n",
    "\n",
    "print(mutable_key_dict)"
   ]
  },
  {
   "cell_type": "markdown",
   "metadata": {
    "id": "erVQ8Yy6OFzW",
    "nbgrader": {
     "grade": false,
     "locked": true,
     "solution": false
    }
   },
   "source": [
    "Alright, now it is time to access the data we have managed to store inside <b><code>my_dict</code></b>..."
   ]
  },
  {
   "cell_type": "code",
   "execution_count": null,
   "metadata": {
    "colab": {
     "base_uri": "https://localhost:8080/",
     "height": 313
    },
    "id": "4_s_--xzORQx",
    "nbgrader": {
     "grade": false,
     "locked": true,
     "solution": false
    },
    "outputId": "d2dcabbb-057f-41e2-d54c-07d8ca3aa344"
   },
   "outputs": [],
   "source": [
    "# for that we use keys!\n",
    "\n",
    "print('Some random content of my_dict:')\n",
    "print(my_dict['name'])\n",
    "print(my_dict[(2, 22)])"
   ]
  },
  {
   "cell_type": "code",
   "execution_count": null,
   "metadata": {
    "nbgrader": {
     "grade": false,
     "locked": true,
     "solution": false
    }
   },
   "outputs": [],
   "source": [
    "# remember the mutable key dict? Let's make it work by omitting the list item\n",
    "mutable_key_dict = {\n",
    "    5: 'lets try',\n",
    "    True: 'I hope it will run perfectly',\n",
    "    6.78: 'heh'\n",
    "}\n",
    "\n",
    "# You can see that it doesn't give any errors but how do we access the data inside it?\n",
    "# use keys!\n",
    "print('Accessing weird dictionary...')\n",
    "print(mutable_key_dict[True])\n",
    "print(mutable_key_dict[5])\n",
    "print(mutable_key_dict[6.78])"
   ]
  },
  {
   "cell_type": "code",
   "execution_count": null,
   "metadata": {
    "nbgrader": {
     "grade": false,
     "locked": true,
     "solution": false
    }
   },
   "outputs": [],
   "source": [
    "# Trying to access something we have and something we don't have\n",
    "print('My favorite year is', my_dict['year'])\n",
    "print('My favorite song is', my_dict['song'])"
   ]
  },
  {
   "cell_type": "markdown",
   "metadata": {
    "id": "mVmNASbEPw27",
    "nbgrader": {
     "grade": false,
     "locked": true,
     "solution": false
    }
   },
   "source": [
    "```{admonition} Attention\n",
    ":class: danger\n",
    "It is best practice to use mainly <i><b>strings</b></i> as keys — the other options are weird and are almost never used.\n",
    "+++\n",
    "```\n",
    "\n",
    "What's next? Dictionaries are mutable, so let's go ahead and add some additional data and delete old ones."
   ]
  },
  {
   "cell_type": "code",
   "execution_count": null,
   "metadata": {
    "colab": {
     "base_uri": "https://localhost:8080/"
    },
    "id": "C2Tm8iaXQ4ej",
    "nbgrader": {
     "grade": false,
     "locked": true,
     "solution": false
    },
    "outputId": "62ea0bcc-a09b-474e-dd7b-e2688746ff31"
   },
   "outputs": [],
   "source": [
    "print('my_dict right now', my_dict)\n",
    "\n",
    "my_dict['new_element'] = 'magenta'\n",
    "my_dict['weight'] = 27.8\n",
    "del my_dict['year']\n",
    "\n",
    "print('my_dict after some operations', my_dict)"
   ]
  },
  {
   "cell_type": "markdown",
   "metadata": {
    "id": "J80LstNFSFeN",
    "nbgrader": {
     "grade": false,
     "locked": true,
     "solution": false
    }
   },
   "source": [
    "You can also print all keys present in the dictionary using the <b><code>.keys()</code></b> method, or check whether a certain key exists in a dictionary, as shown below. More operations can be found <a href=\"https://docs.python.org/3/tutorial/datastructures.html\">here</a>."
   ]
  },
  {
   "cell_type": "code",
   "execution_count": null,
   "metadata": {
    "colab": {
     "base_uri": "https://localhost:8080/"
    },
    "id": "pEYa3nKRUZD1",
    "nbgrader": {
     "grade": false,
     "locked": true,
     "solution": false
    },
    "outputId": "2b850789-9071-414f-ce44-bb23203243a6"
   },
   "outputs": [],
   "source": [
    "print(my_dict.keys())\n",
    "\n",
    "# check if my_dict has a name key\n",
    "print(\"\\nmy_dict has a ['name'] key:\", 'name' in my_dict)"
   ]
  },
  {
   "cell_type": "markdown",
   "metadata": {
    "nbgrader": {
     "grade": false,
     "locked": true,
     "solution": false
    }
   },
   "source": [
    "```{admonition} Real life example: Analyzing satellite metadata\n",
    ":class: important\n",
    "Metadata is a set of data that describes and gives information about other data. For Sentinel-1, the metadata of the satellite is acquired as an <i>.xml</i> file. It is common for Dictionaries to play an important role in classifying this metadata. One could write a function to read and obtain important information from this metadata and store them in a Dictionary. Some examples of keys for the metadata of Sentinel-1 are:\n",
    "    \n",
    "<i>dict_keys(['azimuthSteeringRate', 'dataDcPolynomial', 'dcAzimuthtime', 'dcT0', 'rangePixelSpacing', 'azimuthPixelSpacing', 'azimuthFmRatePolynomial', 'azimuthFmRateTime', 'azimuthFmRateT0', 'radarFrequency', 'velocity', 'velocityTime', 'linesPerBurst', 'azimuthTimeInterval', 'rangeSamplingRate', 'slantRangeTime', 'samplesPerBurst', 'no_burst'])</i>\n",
    "+++\n",
    "```"
   ]
  },
  {
   "cell_type": "markdown",
   "metadata": {
    "id": "XvpRgp7eUsLP",
    "nbgrader": {
     "grade": false,
     "locked": true,
     "solution": false
    }
   },
   "source": [
    "## Slices\n",
    "\n",
    "The last important thing for this Notebook are slices. Similar to how you can slice a <b>string</b> (shown in Section 1.4, in Notebook 1). This technique allows you to select a subset of data from a list or tuple."
   ]
  },
  {
   "cell_type": "code",
   "execution_count": null,
   "metadata": {
    "colab": {
     "base_uri": "https://localhost:8080/"
    },
    "id": "S96Y3-HcXN3P",
    "nbgrader": {
     "grade": false,
     "locked": true,
     "solution": false
    },
    "outputId": "b0d9151f-f476-4ffa-de00-74f85a4b962c"
   },
   "outputs": [],
   "source": [
    "# let's make a simple list\n",
    "\n",
    "x = [1, 2, 3, 4, 5, 6, 7]\n",
    "n = len(x) # len(x) gives the length of x\n",
    "\n",
    "# in order to select a slice of it, you have to use a : symbol,\n",
    "# like this => my_list[start:end], \n",
    "# it will select all elements with indices [start, end), \n",
    "# starting from start and ending at end-1 (excluding the end).\n",
    "print('The first three elements of x:', x[0:3])\n",
    "\n",
    "# getting the same subset but using a different slice \"equation\"\n",
    "\n",
    "# if we start from the beginning (at index 0) - we can omit the 0\n",
    "print(x[:3])\n",
    "\n",
    "# instead of counting elements from the beginning, we can count from end\n",
    "print('The last element is', x[6], 'or', x[n - 1], 'or', x[-1])\n",
    "\n",
    "# thus, we can apply it in slicing our list\n",
    "print(x[0:-4])\n",
    "\n",
    "# we can also specify a third argument: the step size of our selection\n",
    "print(x[0:3:1])"
   ]
  },
  {
   "cell_type": "markdown",
   "metadata": {
    "id": "d4v9TBKyZJEh",
    "nbgrader": {
     "grade": false,
     "locked": true,
     "solution": false
    }
   },
   "source": [
    "Thus, the general slicing call is given by <b><code>iterable[start:end:step]</code></b>.\n",
    "\n",
    "Here's another example:"
   ]
  },
  {
   "cell_type": "code",
   "execution_count": null,
   "metadata": {
    "colab": {
     "base_uri": "https://localhost:8080/"
    },
    "id": "GO8qP2d1ZXkq",
    "nbgrader": {
     "grade": false,
     "locked": true,
     "solution": false
    },
    "outputId": "832458e8-6202-4fa8-8898-6d2a2a1ad423"
   },
   "outputs": [],
   "source": [
    "numbers = [0, 1, 2, 3, 4, 5, 6, 7, 8, 9, 10]\n",
    "\n",
    "# similar to omiting the 0 if you start at the beginning of the list\n",
    "# you can omit the last value if you want all values until the end\n",
    "print('Selecting all even numbers', numbers[::2])\n",
    "# in the above case you start at 0 (omited), end at 10 (omited)\n",
    "# with a step of 2 (not omited)\n",
    "\n",
    "print('All odd numbers', numbers[1::2])\n",
    "\n",
    "# Reversing the list\n",
    "print('Normal order', numbers)\n",
    "print('Reversed order', numbers[::-1])\n",
    "\n",
    "# Selecting middle subset\n",
    "print('Numbers from 5 to 8:', numbers[5:9])"
   ]
  },
  {
   "cell_type": "markdown",
   "metadata": {
    "id": "lDKimbtECAAz",
    "nbgrader": {
     "grade": false,
     "locked": true,
     "solution": false
    }
   },
   "source": [
    "```{admonition} Additional study material:\n",
    ":class: tip\n",
    "\n",
    "* Official Python Documentation - https://docs.python.org/3/tutorial/datastructures.html\n",
    "* Think Python (2nd ed.) - Chapters 8, 10, 11, 12\n",
    "+++\n",
    "```"
   ]
  }
 ],
 "metadata": {
  "colab": {
   "collapsed_sections": [],
   "name": "Python_2_1.ipynb",
   "provenance": []
  },
  "kernelspec": {
   "display_name": "Python 3 (ipykernel)",
   "language": "python",
   "name": "python3"
  },
  "language_info": {
   "codemirror_mode": {
    "name": "ipython",
    "version": 3
   },
   "file_extension": ".py",
   "mimetype": "text/x-python",
   "name": "python",
   "nbconvert_exporter": "python",
   "pygments_lexer": "ipython3",
   "version": "3.9.13"
  },
  "vscode": {
   "interpreter": {
    "hash": "978ede36192cb259dee8e5bd565c04d84487df4425914b0b004da2b901af68ae"
   }
  }
 },
 "nbformat": 4,
 "nbformat_minor": 4
}
