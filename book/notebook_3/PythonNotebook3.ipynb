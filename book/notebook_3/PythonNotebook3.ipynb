{
 "cells": [
  {
   "cell_type": "markdown",
   "metadata": {},
   "source": [
    "**PLEASE FILL THE FOLLOWING:**\n",
    "\n",
    "Group number: ___\n",
    "\n",
    "Student #1: ___\n",
    "\n",
    "Student #2: ___"
   ]
  },
  {
   "cell_type": "markdown",
   "metadata": {
    "nbgrader": {
     "grade": false,
     "locked": true,
     "solution": false
    }
   },
   "source": [
    "<figure>\n",
    "  <IMG SRC=\"https://raw.githubusercontent.com/mbakker7/exploratory_computing_with_python/master/tudelft_logo.png\" WIDTH=250 ALIGN=\"right\">\n",
    "</figure>\n",
    "\n",
    "\n",
    "# Python Notebook #3\n",
    "\n",
    "## Table of Contents\n",
    "\n",
    "<ul>\n",
    "    <li> <a href=\"#loops\">3.1 Loops</a>\n",
    "    <li> <a href=\"#advanced_functions\">3.2 More functions and loops practice</a>    \n",
    "    <li> <a href=\"#debugging\">3.3 Debugging</a>  \n",
    "</ul>"
   ]
  },
  {
   "cell_type": "markdown",
   "metadata": {
    "id": "fHmKWsUSKuj4",
    "nbgrader": {
     "grade": false,
     "locked": true,
     "solution": false
    }
   },
   "source": [
    "<div id='loops'></div><h2>3.1 Loops</h2><div style=\"text-align: justify\">Let's do another step to automatize things. Previous Sections introduced a lot of fundamental concepts, but they still don't unveil the true power of any programming language — loops!<br><br>If we want to perform the same procedure multiple times, then we would have to take the same code and copy-paste it. This approach would work, however it would require a lot of manual work and it does not look cool.<br><br>This problem is resolved with a <i>loop</i> construction. As the name suggest, this construction allows you to loop (or run) certain piece of code several times at one execution."
   ]
  },
  {
   "cell_type": "markdown",
   "metadata": {
    "id": "BcEOnv2kTT9A",
    "nbgrader": {
     "grade": false,
     "locked": true,
     "solution": false
    }
   },
   "source": [
    "<h3><code>for</code> loop</h3><div style=\"text-align: justify\">The most common looping technique is a <b><code>for</code></b> loop. Let's see some examples:"
   ]
  },
  {
   "cell_type": "code",
   "execution_count": null,
   "metadata": {
    "colab": {
     "base_uri": "https://localhost:8080/"
    },
    "id": "fNaiOimubLMF",
    "nbgrader": {
     "grade": false,
     "locked": true,
     "solution": false
    },
    "outputId": "77085dd8-83cc-41d8-b7c1-17fc55dc38eb"
   },
   "outputs": [],
   "source": [
    "# let's create a list with some stuff in it\n",
    "\n",
    "my_list = [100, 'marble', False, 2, 2, [7, 7, 7], 'end']\n",
    "\n",
    "# in order to iterate (or go through each element of a list)\n",
    "# we use a for loop\n",
    "\n",
    "print('Start of the loop')\n",
    "for list_item in my_list:\n",
    "    print('In my list I can find:', list_item)\n",
    "print('End of the loop')"
   ]
  },
  {
   "cell_type": "markdown",
   "metadata": {
    "id": "NkKA4qLDb9IM",
    "nbgrader": {
     "grade": false,
     "locked": true,
     "solution": false
    }
   },
   "source": [
    "<div style=\"text-align: justify\">\n",
    "General <code>for</code> loop construction looks like this:<br><br>\n",
    "<code>for iterator_variable in iterable:\n",
    "       do something with iterator_variable</code><br><br>\n",
    "\n",
    "iterable here means something with elements that can be iterated over, think of a list. During each iteration the following steps are happening under the hood:<br><br>1.   <b><code>iterator_variable = iterable[0]</code></b> iterator_variable is assigned the first value from the iterable.<br>2.   Then, you use iterator_variable as you wish<br>3.   By the end of the 'cycle', the next element from the iterable is selected (<code>iterable[1]</code>), i.e., we return to step 1, but now assigning the second element... and so on.<br>4. When there is not a next element (in other words, we have reached the end of the iterable) — it exits and the code under the loop is now executed.<br><br>Looks cool, but what if we want to alter the original list within the loop?\n",
    "\n",
    "\n"
   ]
  },
  {
   "cell_type": "code",
   "execution_count": null,
   "metadata": {
    "colab": {
     "base_uri": "https://localhost:8080/"
    },
    "id": "1hZm9bOuhOiE",
    "nbgrader": {
     "grade": false,
     "locked": true,
     "solution": false
    },
    "outputId": "0b50490d-1d74-41cb-ba84-d4a595a7eede"
   },
   "outputs": [],
   "source": [
    "# let's see whether we can change the original list within a list \n",
    "# with a for loop\n",
    "\n",
    "x = [100, 'marble', False, 2, 2, [7, 7, 7], 'end']\n",
    "print('Try #1, before:', x)\n",
    "\n",
    "for item in x:\n",
    "    item = [5,6,7]\n",
    "\n",
    "print('Try #1, after', x)"
   ]
  },
  {
   "cell_type": "markdown",
   "metadata": {
    "nbgrader": {
     "grade": false,
     "locked": true,
     "solution": false
    }
   },
   "source": [
    "Nothing has changed.... let's try another method."
   ]
  },
  {
   "cell_type": "code",
   "execution_count": null,
   "metadata": {
    "nbgrader": {
     "grade": false,
     "locked": true,
     "solution": false
    }
   },
   "outputs": [],
   "source": [
    "length_of_x = len(x)\n",
    "print(f'Length of x: {length_of_x}')\n",
    "\n",
    "# range() is used to generate a sequence of numbers\n",
    "# more info at https://www.w3schools.com/python/ref_func_range.asp\n",
    "indices = range(length_of_x) # this will generate numbers from 0 till length_of_x, excluding the last one\n",
    "print(list(indices)) # print the numbers in the range (converted to a list)\n",
    "\n",
    "print('Try #2, before', my_list)\n",
    "\n",
    "for id in indices:\n",
    "    my_list[id] = -1\n",
    "\n",
    "print('Try #2, after', my_list)"
   ]
  },
  {
   "cell_type": "markdown",
   "metadata": {
    "nbgrader": {
     "grade": false,
     "locked": true,
     "solution": false
    }
   },
   "source": [
    "<div style=\"text-align: justify\">Now we have a method in our arsenal which can not only loop through a list but also access and alter its contents. Also, you can generate new data by using a <b><code>for</code></b> loop and by applying some processing to it. Here's an example on how you can automatize your greetings routine!"
   ]
  },
  {
   "cell_type": "code",
   "execution_count": null,
   "metadata": {
    "nbgrader": {
     "grade": false,
     "locked": true,
     "solution": false
    }
   },
   "outputs": [],
   "source": [
    "# General greeting\n",
    "msg = \"Ohayo\"\n",
    "\n",
    "# the list with your friends names\n",
    "names = [\"Jarno\", \"Alex\", \"John\", \"Maria\", \"Xenia\", \"Janis\", \"Vasya\"]\n",
    "\n",
    "# An empty list, where all greetings will be stored (otherwise you cannot use the .append in the for loop below!)\n",
    "greetings = []\n",
    "\n",
    "for name in names:\n",
    "    personalized_greeting = f'{msg}, {name}-kun!' # create the personalize greeting\n",
    "    greetings.append(personalized_greeting) # append the personalized meeting tot the list of greetings\n",
    "\n",
    "# Printing our newly created greetings\n",
    "print(greetings)"
   ]
  },
  {
   "cell_type": "markdown",
   "metadata": {
    "nbgrader": {
     "grade": false,
     "locked": true,
     "solution": false
    }
   },
   "source": [
    "And you can also have loops inside loops!"
   ]
  },
  {
   "cell_type": "code",
   "execution_count": null,
   "metadata": {
    "nbgrader": {
     "grade": false,
     "locked": true,
     "solution": false
    }
   },
   "outputs": [],
   "source": [
    "# Let's say that you put down all your expenses per day separately, \n",
    "# in euros\n",
    "day1_expenses = [15, 100, 9]\n",
    "day2_expenses = [200]\n",
    "day3_expenses = [10, 12, 15, 5, 1]\n",
    "\n",
    "# you can also keep them within one list together\n",
    "expenses = [day1_expenses, day2_expenses, day3_expenses]\n",
    "print('All my expenses', expenses)\n",
    "\n",
    "# you can access also each expense separately!\n",
    "# day3 is third array and 2nd expense is second element \n",
    "# within that array\n",
    "print(f'My second expense on day 3 is {expenses[2][1]}')# recall 0th based indexing!"
   ]
  },
  {
   "cell_type": "code",
   "execution_count": null,
   "metadata": {
    "nbgrader": {
     "grade": false,
     "locked": true,
     "solution": false
    }
   },
   "outputs": [],
   "source": [
    "# Now let's use it in some calculations \n",
    "\n",
    "# Option #1 - loop over lists using indices i and j\n",
    "total_expenses = 0\n",
    "\n",
    "for i in range(len(expenses)): # loop over all days\n",
    "    # Accessing expenses made at day i + 1\n",
    "    daily_expenses_list = expenses[i]\n",
    "    # Creating temporary storage for current day expenses\n",
    "    daily_expenses = 0\n",
    "    \n",
    "    for j in range(len(daily_expenses_list)): # loop over expenses for day i + 1\n",
    "        daily_expenses += daily_expenses_list[j]\n",
    "    \n",
    "    # Adding daily expenses to the total expenses\n",
    "    total_expenses += daily_expenses\n",
    "    \n",
    "print(f'Option #1: In total I have spent {total_expenses} euro!')"
   ]
  },
  {
   "cell_type": "code",
   "execution_count": null,
   "metadata": {
    "nbgrader": {
     "grade": false,
     "locked": true,
     "solution": false
    }
   },
   "outputs": [],
   "source": [
    "# Option #2 - Shorter, directly adding expenses to the grand total\n",
    "total_expenses = 0\n",
    "\n",
    "for i in range(len(expenses)):\n",
    "    for j in range(len(expenses[i])):\n",
    "        total_expenses += expenses[i][j]\n",
    "    \n",
    "print(f'Option #2: In total I have spent {total_expenses} euro!')"
   ]
  },
  {
   "cell_type": "code",
   "execution_count": null,
   "metadata": {
    "nbgrader": {
     "grade": false,
     "locked": true,
     "solution": false
    }
   },
   "outputs": [],
   "source": [
    "# Option #3 - loop over list items\n",
    "total_expenses = 0\n",
    "\n",
    "for day_expenses in expenses:\n",
    "    for e in day_expenses:\n",
    "        total_expenses += e\n",
    "    \n",
    "print(f'Option #3: In total I have spent {total_expenses} euro!')"
   ]
  },
  {
   "cell_type": "code",
   "execution_count": null,
   "metadata": {
    "nbgrader": {
     "grade": false,
     "locked": true,
     "solution": false
    }
   },
   "outputs": [],
   "source": [
    "# Option #4 - Advanced technique - There is no loop?\n",
    "total_expenses = sum(map(sum, expenses))\n",
    "print(f'Option #4: In total I have spent {total_expenses} euro!')\n",
    "\n",
    "# If you have extra time, figure out how this works"
   ]
  },
  {
   "cell_type": "markdown",
   "metadata": {
    "id": "TNGZ78d8LOYC",
    "nbgrader": {
     "grade": false,
     "locked": true,
     "solution": false
    }
   },
   "source": [
    "<h3><code>while</code> loop</h3><div style=\"text-align: justify\">The second popular loop construction is a <b><code>while</code></b> loop. The main difference is that it is suited for code structures that must repeat as long as a certain logical condition is satisfied. It looks like this:<br><br><center><code>while logical_condition == True:<br>do something</code></center><br>And here is a working code example:\n"
   ]
  },
  {
   "cell_type": "code",
   "execution_count": null,
   "metadata": {
    "colab": {
     "base_uri": "https://localhost:8080/"
    },
    "id": "rqsX011pL6p6",
    "nbgrader": {
     "grade": false,
     "locked": true,
     "solution": false
    },
    "outputId": "39bce5bb-bf01-469c-8758-6127efc4e943"
   },
   "outputs": [],
   "source": [
    "sum = 0\n",
    "\n",
    "while sum < 5:\n",
    "    print('sum in the beginning of the cycle:', sum)\n",
    "    sum += 1\n",
    "    print('sum in the end of the cycle:', sum)\n",
    "    print() # a blank line"
   ]
  },
  {
   "cell_type": "markdown",
   "metadata": {
    "id": "mW02NDD4MJWn",
    "nbgrader": {
     "grade": false,
     "locked": true,
     "solution": false
    }
   },
   "source": [
    "<div style=\"text-align: justify\">As you can see, this loop was used to increase the value of the sum variable until it reached $5$. The moment it reached $5$ and the loop condition was checked — it returned <b><code>False</code></b> and, therefore, the loop stopped.<br><br>Additionally, it is worth to mention that the code inside the loop was altering the variable used in the loop condition statement, which allowed it to first run, and then stop. In the case where the code doesn't alter the loop condition, it won't stop (infinite loop), unless another special word is used.<br><br>Here's a simple example of an infinite loop, which you may run (by removing the #'s) but in order to stop it — you have to interrupt the Notebook's kernel or restart it (use the Kernel menu)."
   ]
  },
  {
   "cell_type": "code",
   "execution_count": null,
   "metadata": {
    "colab": {
     "base_uri": "https://localhost:8080/",
     "height": 1000
    },
    "id": "AmIcH59oNaxU",
    "outputId": "e944bfe2-f906-45c9-ef2a-03280956679a"
   },
   "outputs": [],
   "source": [
    "# a, b = 0, 7\n",
    "\n",
    "# while a + b < 10:\n",
    "#     a += 1\n",
    "#     b -= 1\n",
    "#     print(f'a:{a};b:{b}')"
   ]
  },
  {
   "cell_type": "markdown",
   "metadata": {
    "id": "ryvB-qKfNxPh",
    "nbgrader": {
     "grade": false,
     "locked": true,
     "solution": false
    }
   },
   "source": [
    "<h3><code>break</code> keyword</h3><div style=\"text-align: justify\">After meeting and understanding the loop constructions, we can add a bit more control to it. For example, it would be nice to exit a loop earlier than it ends — in order to avoid infinite loops or just in case there is no need to run the loop further. This can be achieved by using the <b><code>break</code></b> keyword. The moment this keyword is executed, the code exits from the current loop."
   ]
  },
  {
   "cell_type": "code",
   "execution_count": null,
   "metadata": {
    "colab": {
     "base_uri": "https://localhost:8080/"
    },
    "id": "hvib4ruNTN6_",
    "nbgrader": {
     "grade": false,
     "locked": true,
     "solution": false
    },
    "outputId": "b0f08946-864e-430a-a8cc-765303a9ac6e"
   },
   "outputs": [],
   "source": [
    "stop_iteration = 4\n",
    "\n",
    "print('Before normal loop')\n",
    "for i in range(7):\n",
    "    print(f'{i} iteration and still running...')\n",
    "print('After normal loop')\n",
    "\n",
    "print('Before interrupted loop')\n",
    "for i in range(7):\n",
    "    print(f'{i} iteration and still running...')\n",
    "\n",
    "    if i == stop_iteration:\n",
    "        print('Leaving the loop')\n",
    "        break\n",
    "print('After interupted loop')"
   ]
  },
  {
   "cell_type": "markdown",
   "metadata": {
    "id": "guxGK4uGUXBA",
    "nbgrader": {
     "grade": false,
     "locked": true,
     "solution": false
    }
   },
   "source": [
    "<div style=\"text-align: justify\">\n",
    "    The second loop shows how a small intrusion of an <b><code>if</code></b> statement and the <b><code>break</code></b> keyword can help us with stopping the loop earlier. The same word can be also used in a <b><code>while</code></b> loop:"
   ]
  },
  {
   "cell_type": "code",
   "execution_count": null,
   "metadata": {
    "colab": {
     "base_uri": "https://localhost:8080/"
    },
    "id": "tVkdaOP8Ul-W",
    "nbgrader": {
     "grade": false,
     "locked": true,
     "solution": false
    },
    "outputId": "5f391d65-82a2-4408-d74d-af89b84a040b"
   },
   "outputs": [],
   "source": [
    "iteration_number = 0\n",
    "\n",
    "print('Before the loop')\n",
    "while True:\n",
    "    iteration_number += 1\n",
    "\n",
    "    print(f'Inside the loop #{iteration_number}')\n",
    "    if iteration_number > 5:\n",
    "        print('Too many iterations is bad for your health')\n",
    "        break\n",
    "print('After the loop')"
   ]
  },
  {
   "cell_type": "markdown",
   "metadata": {
    "id": "AtRCfdMlWzhn",
    "nbgrader": {
     "grade": false,
     "locked": true,
     "solution": false
    }
   },
   "source": [
    "<h3><code>continue</code> keyword</h3><div style=\"text-align: justify\">Another possibility to be more flexible when using loops is to use the <b><code>continue</code></b> keyword.<br><br>This will allow you to skip some iterations (more precisely — the moment the keyword is used it will skip the code underneath it and will start the next iteration from the beginning of the loop)."
   ]
  },
  {
   "cell_type": "code",
   "execution_count": null,
   "metadata": {
    "colab": {
     "base_uri": "https://localhost:8080/"
    },
    "id": "_1q4EB0bXMyk",
    "nbgrader": {
     "grade": false,
     "locked": true,
     "solution": false
    },
    "outputId": "57b11d07-251a-4319-d0ba-1d3ee1685b61"
   },
   "outputs": [],
   "source": [
    "def calculate_cool_function(arg):\n",
    "    res = 7 * arg ** 2 + 5 * arg + 3\n",
    "    print(f'Calculating cool function for {arg} ->  f({arg}) = {res}')\n",
    "\n",
    "print('Begin normal loop\\n')\n",
    "for i in range(7):\n",
    "    print(f'{i} iteration and still running...')\n",
    "    calculate_cool_function(i)\n",
    "print('\\nEnd normal loop\\n')\n",
    "\n",
    "print('-------------------')\n",
    "\n",
    "print('Begin altered loop\\n')\n",
    "for i in range(7):\n",
    "    print(f'{i} iteration and still running...')\n",
    "\n",
    "    # skipping every even iteration\n",
    "    if i % 2 == 0:\n",
    "        continue\n",
    "        \n",
    "    calculate_cool_function(i)\n",
    "    \n",
    "print('\\nEnd altered loop')"
   ]
  },
  {
   "cell_type": "markdown",
   "metadata": {
    "id": "_30hKsC4a1vy",
    "nbgrader": {
     "grade": false,
     "locked": true,
     "solution": false
    }
   },
   "source": [
    "<div style=\"text-align: justify\">As you can see, with the help of the <b><code>continue</code></b> keyword we managed to skip some of the iterations. Also worth noting that $0$ is divisible by any number, for that reason the <b><code>calculate_cool_function(i)</code></b> at <b><code>i = 0</code></b> didn't run."
   ]
  },
  {
   "cell_type": "markdown",
   "metadata": {},
   "source": [
    "<h3>More about <code>range()</code></h3><div style=\"text-align: justify\">\n",
    "\n",
    "<code>range()</code> can be used in three ways:\n",
    "* <code>list(end)</code>\n",
    "* <code>list(start, end)</code>\n",
    "* <code>list(start, end, step)</code>\n",
    "\n",
    "It creates a sequence of numbers, from <code>start<code> to <code>end</code>, optionally in steps of <code>step</code>.\n",
    "Note that the <code>end<code> number itself is not included.\n",
    "\n",
    "Try it below, and try out some different parameters.\n",
    "* What happens if the start > end? \n",
    "* Can you make range return numbers in descending order by using a negative step?\n",
    "* Does range work with floating point numbers?\n",
    "\n",
    "We use <code>list()</code> below to convert the range to a list of numbers. Try without <code>list()</code> to see what happens otherwise."
   ]
  },
  {
   "cell_type": "code",
   "execution_count": null,
   "metadata": {},
   "outputs": [],
   "source": [
    "list(range (3, 7))"
   ]
  },
  {
   "cell_type": "code",
   "execution_count": null,
   "metadata": {},
   "outputs": [],
   "source": [
    "list(range(3, 17, 2))"
   ]
  },
  {
   "cell_type": "code",
   "execution_count": null,
   "metadata": {},
   "outputs": [],
   "source": [
    "#Once you have a range, you can use it in a for loop\n",
    "for i in range(3, 17, 2):\n",
    "    print(f'i is {i}')"
   ]
  },
  {
   "cell_type": "markdown",
   "metadata": {
    "id": "su7ODKnqB7tv",
    "nbgrader": {
     "grade": false,
     "locked": true,
     "solution": false
    }
   },
   "source": [
    "<div class=\"alert alert-block alert-info\"><b>Exercise 3.1.1</b><br><br><div style=\"text-align: justify\">In this exercise you will write your own Celsius to Fahrenheit converter! Your task is to write a function, which will accept the list of temperatures <code>temp_c</code>, in Celsius, and will output a list with the same temperatures, but in Fahrenheit. \n",
    "\n",
    "Hint: create an empty list for the result, then append values to this list. See the \"personalized greeting\" example above."
   ]
  },
  {
   "cell_type": "code",
   "execution_count": null,
   "metadata": {
    "id": "ldeM_71XgK--",
    "nbgrader": {
     "grade": false,
     "locked": true,
     "solution": false
    }
   },
   "outputs": [],
   "source": [
    "# you do not need to change anything in this cell\n",
    "\n",
    "temperatures_c = [-1, -1.2, 1.3, 6.4, 11.2, 14.8, 17.8, 17.7, 13.7, 8.5, 4.1, 0.9]"
   ]
  },
  {
   "cell_type": "code",
   "execution_count": null,
   "metadata": {
    "id": "WYqtQ21Kgqzs"
   },
   "outputs": [],
   "source": [
    "def celsius_to_fahrenheit(temp_c):\n",
    "    ...\n",
    "\n",
    "print(celsius_to_fahrenheit(temperatures_c))"
   ]
  },
  {
   "cell_type": "markdown",
   "metadata": {
    "id": "2iKtqd2XhAcU",
    "nbgrader": {
     "grade": false,
     "locked": true,
     "solution": false
    }
   },
   "source": [
    "<div class=\"alert alert-block alert-info\"><b>Exercise 3.1.2</b><br><br><div style=\"text-align: justify\">Your task here is to write a function which will analyze a broadcasting message of the following format: <b>\"satellite_ids;date\"</b>, where the first part of the message contains unique lowercase letters, each corresponding to a different satellite ID, and the last part contains the date of the message.<br><br>\n",
    "Here are some examples:\n",
    "    <b>\"agf;06062022\"</b> (3 satellites: a, g, and f),\n",
    "    <b> \"abcdefgops;03121999\"</b> (10 satellites), \n",
    "    <b> \"xyz;11112011\"</b> (3 satellites).\n",
    "<br><br>Your task is to write a function, which for a provided broadcast message, will count the number of satellites mentioned in the message.\n"
   ]
  },
  {
   "cell_type": "code",
   "execution_count": null,
   "metadata": {
    "id": "niMqThVgiVeG"
   },
   "outputs": [],
   "source": [
    "def count_satellites(message):\n",
    "    ...\n",
    "\n",
    "# Check that with the example below you count 5 satellites\n",
    "print(count_satellites(\"hpzde;12122007\"))"
   ]
  },
  {
   "cell_type": "markdown",
   "metadata": {
    "id": "GFziFh2Misx_",
    "nbgrader": {
     "grade": false,
     "locked": true,
     "solution": false
    }
   },
   "source": [
    "<div class=\"alert alert-block alert-info\"><b>Exercise 3.1.3</b><br><br><div style=\"text-align: justify\">Here you need to write a function that is able to sort any list consisting only of real numbers, in the descending order. For example, the list $[19, 5, 144, 6]$ becomes $[144, 19, 6, 5]$.\n",
    "<br>\n",
    "Hint: use a built-in <code>sort()</code> function to sort the list in ascending order, and then think of a clever way to change the order this list to descending order."
   ]
  },
  {
   "cell_type": "code",
   "execution_count": null,
   "metadata": {
    "colab": {
     "base_uri": "https://localhost:8080/"
    },
    "id": "2DB2jWVpi9Lr",
    "outputId": "c6af4f43-7138-4d09-b1ae-a913154dd107"
   },
   "outputs": [],
   "source": [
    "def sort_list(unsorted_list):\n",
    "    ...\n",
    "\n",
    "print(sort_list([9, 3, -1, 5, 1, -9, 1]))"
   ]
  },
  {
   "cell_type": "markdown",
   "metadata": {
    "nbgrader": {
     "grade": false,
     "locked": true,
     "solution": false
    }
   },
   "source": [
    "<div class=\"alert alert-block alert-info\"><b>Exercise 3.1.4</b><br><br><div style=\"text-align: justify\">\n",
    "Use a for loop and what you learned above about <code>range()</code> to print out every third element of the list <code>L</code>, starting from the second.\n"
   ]
  },
  {
   "cell_type": "code",
   "execution_count": null,
   "metadata": {},
   "outputs": [],
   "source": [
    "L = ['a', '1', 'b', 'c', '2', 'd', 'e', '3', 'f', 'g', '4', 'h'] # you don't need to change L\n",
    "\n",
    "# your loop here\n",
    "..."
   ]
  },
  {
   "attachments": {},
   "cell_type": "markdown",
   "metadata": {
    "nbgrader": {
     "grade": false,
     "locked": true,
     "solution": false
    }
   },
   "source": [
    "<div id='advanced_functions'>\n",
    "<div style=\"text-align: justify\"><h2>3.2 More functions and loops practice</h2>\n"
   ]
  },
  {
   "cell_type": "markdown",
   "metadata": {
    "nbgrader": {
     "grade": false,
     "locked": true,
     "solution": false
    }
   },
   "source": [
    "<div class=\"alert alert-block alert-info\">\n",
    "<b>Exercise 3.2.1</b><br><br><div style=\"text-align: justify\"> Write a function that converts a number from degrees to radians.\n",
    "</div>"
   ]
  },
  {
   "cell_type": "code",
   "execution_count": null,
   "metadata": {},
   "outputs": [],
   "source": [
    "def DegToRad(deg):\n",
    "    ...\n",
    "\n",
    "Angle = 180 # Degrees\n",
    "print(f\"An angle of {Angle} Degrees is equal to {DegToRad(180):.3f} radians\")"
   ]
  },
  {
   "cell_type": "markdown",
   "metadata": {
    "nbgrader": {
     "grade": false,
     "locked": true,
     "solution": false
    }
   },
   "source": [
    "<div class=\"alert alert-block alert-info\">\n",
    "<b>Exercise 3.2.2</b><br><br><div style=\"text-align: justify\"> Write a function that takes four inputs: $(x_1, y_1, x_2, y_2)$ and computes the <a href=\"https://en.wikipedia.org/wiki/Euclidean_distance\">Euclidian distance</a> between point 1 $(x_1,y_1)$ and point 2 $(x_2,y_2)$.\n",
    "</div>"
   ]
  },
  {
   "cell_type": "code",
   "execution_count": null,
   "metadata": {},
   "outputs": [],
   "source": [
    "import math # \n",
    "\n",
    "# def distance ...\n",
    "\n",
    "x1, y1 = 1, 1\n",
    "x2, y2 = 2, 3\n",
    "\n",
    "print(f\"Distance between points ({x1}, {y1}) and ({x2}, {y2}) is {distance(x1, y1, x2, y2):.3f}\")"
   ]
  },
  {
   "cell_type": "markdown",
   "metadata": {},
   "source": [
    "<div class=\"alert alert-block alert-info\">\n",
    "<b>Exercise 3.2.3</b><br><br><div style=\"text-align: justify\"> Write a function that determines if its argument is a prime number.\n",
    "\n",
    "* Hint 1: an integer n is prime if n > 1 and n is not divisible by any smaller integer > 1\n",
    "* Hint 2: divisibility can be tested with the <code>%</code> operator. If <code>n % i</code> is 0, <code>n</code> is divisible by <code>i</code>."
   ]
  },
  {
   "cell_type": "code",
   "execution_count": null,
   "metadata": {},
   "outputs": [],
   "source": [
    "def is_prime(n):\n",
    "    return True # or False"
   ]
  },
  {
   "cell_type": "markdown",
   "metadata": {},
   "source": [
    "<div class=\"alert alert-block alert-info\">\n",
    "<b>Exercise 3.2.4</b><br><br><div style=\"text-align: justify\"> \n",
    "Use your <code>is_prime()</code> function to create a list of all primes < 1000. What is the sum of all primes < 1000?\n",
    "\n",
    "Hint: is there a nice way to calculate the sum of the elements in a list?\n"
   ]
  },
  {
   "cell_type": "code",
   "execution_count": null,
   "metadata": {},
   "outputs": [],
   "source": [
    "prime_list = ...\n",
    "prime_sum = ...\n",
    "\n",
    "print(prime_list)\n",
    "print(prime_sum)"
   ]
  },
  {
   "cell_type": "markdown",
   "metadata": {
    "nbgrader": {
     "grade": false,
     "locked": true,
     "solution": false
    }
   },
   "source": [
    "<div id='debugging'><h2>3.3 Debugging</h2><div style=\"text-align: justify\">It is very easy (and common) to make mistakes when programming. We call these errors <i>bugs</i>. Finding these <i>bugs</i> in your program and resolving them is what we call <i>debugging</i>.\n",
    "    \n",
    "<h3>Types of errors</h3><div style=\"text-align: justify\">\n",
    "According to <a href=\"https://greenteapress.com/wp/think-python-2e/\"><i>Think Python</i></a> — <i>Appendix A</i>, there are three different types of errors:<br><h4>1. Syntax errors</h4>\n",
    "<i>\"In computer science, the syntax of a computer language is the set of rules that defines the combinations of symbols that are considered to be correctly structured statements or expressions in that language.\"</i><br><br>Therefore, a syntax error is an error that does not obey the rules of the programming language. For example, parenthesis always comes in pairs... so <b><code>(1+2)</code></b> is OK, but <b><code>1+2)</code></b> is not. Below another example of a syntax error.  As you will see — this error is caught by the interpreter before running the code (hence, the <code>print</code> statements do not result in anything being printed)."
   ]
  },
  {
   "cell_type": "code",
   "execution_count": null,
   "metadata": {
    "nbgrader": {
     "grade": false,
     "locked": true,
     "solution": false
    }
   },
   "outputs": [],
   "source": [
    "# I want to raise 2 to the 3rd power.\n",
    "# However, I apply the wrong syntax, causing a syntax error:\n",
    "print('Message before')\n",
    "2***3\n",
    "print('Message after')"
   ]
  },
  {
   "cell_type": "markdown",
   "metadata": {
    "nbgrader": {
     "grade": false,
     "locked": true,
     "solution": false
    }
   },
   "source": [
    "<h4>2. Runtime errors</h4><div style=\"text-align: justify\"><i>\"The second type of error is a runtime error. This type of error does not appear until after the program has started running. These errors are also called <b>exceptions</b>, as they usually indicate that something exceptional (and bad) has happened.\"</i><br><br>Below an example of a runtime error:"
   ]
  },
  {
   "cell_type": "code",
   "execution_count": null,
   "metadata": {
    "nbgrader": {
     "grade": false,
     "locked": true,
     "solution": false
    }
   },
   "outputs": [],
   "source": [
    "# A small script to express fractions as decimals\n",
    "numerators = [1, 7, 5, 12, -1]\n",
    "denominators = [6, 8, -1, 0, 5]\n",
    "fractions = []\n",
    "\n",
    "for i in range(len(numerators)):\n",
    "    fractions.append(numerators[i] / denominators[i])\n",
    "    print(f'New fraction was added from {numerators[i]} and {denominators[i]}!\\n It is equal to {fractions[i]:.3f}')\n",
    "    # Error will appear, since you cannot divide by 0"
   ]
  },
  {
   "cell_type": "markdown",
   "metadata": {
    "nbgrader": {
     "grade": false,
     "locked": true,
     "solution": false
    }
   },
   "source": [
    "<h4>3. Semantic errors</h4><div style=\"text-align: justify\">According to the Oxford Dictionary, 'semantic' is an adjective relating to meaning. Therefore, a 'semantic error' is an error in the meaning of your code. Your code will still run without giving any error back, but it will not result in what you expected (or desired). For that reason, semantic errors are the hardest to identify. Below an example:"
   ]
  },
  {
   "cell_type": "code",
   "execution_count": null,
   "metadata": {
    "nbgrader": {
     "grade": false,
     "locked": true,
     "solution": false
    }
   },
   "outputs": [],
   "source": [
    "# I want to raise 2 to the 3rd power.\n",
    "# However, I apply the wrong syntax that does not represent raising to a power.\n",
    "# No error message is created, because this syntax is used \n",
    "# for another function in Python\n",
    "# However, this results in an output I did not expect nor desire\n",
    "\n",
    "power_of_2 = 2^3\n",
    "print(f'2 to the 3rd power is {power_of_2}')"
   ]
  },
  {
   "cell_type": "markdown",
   "metadata": {
    "nbgrader": {
     "grade": false,
     "locked": true,
     "solution": false
    }
   },
   "source": [
    "<h3>Debugging strategies</h3><div style=\"text-align: justify\">There are a few ways to debug a program. A simple one is to debug by tracking your values using print statements. By printing the values of the variables in between, we can find where the program does something unwanted. For example, the code block below:"
   ]
  },
  {
   "cell_type": "code",
   "execution_count": null,
   "metadata": {
    "nbgrader": {
     "grade": false,
     "locked": true,
     "solution": false
    }
   },
   "outputs": [],
   "source": [
    "A = [0, 1, 2, 3]\n",
    "\n",
    "def sumA(my_list):\n",
    "    \"returns the sum of all the values in a given list\"\n",
    "    my_sum = 0\n",
    "    i = 0\n",
    "    while i < len(A):\n",
    "        my_sum = A[i]\n",
    "        i += 1\n",
    "    return my_sum\n",
    "\n",
    "print('The sum of the elements of the list A is {}.'.format(sumA(A)))"
   ]
  },
  {
   "cell_type": "markdown",
   "metadata": {
    "nbgrader": {
     "grade": false,
     "locked": true,
     "solution": false
    }
   },
   "source": [
    "<div style=\"text-align: justify\">We see that our <b><code>sumA()</code></b> function outputs $3$, which isn't the sum of the contents of the list $A$. By adding a <b><code>print(my_sum)</code></b> inside the loop we can get a clearer understanding of what goes wrong."
   ]
  },
  {
   "cell_type": "code",
   "execution_count": null,
   "metadata": {
    "nbgrader": {
     "grade": false,
     "locked": true,
     "solution": false
    }
   },
   "outputs": [],
   "source": [
    "def sumA(my_list):\n",
    "    \"returns the sum of all the values in a given list\"\n",
    "    my_sum = 0\n",
    "    i = 0\n",
    "    while i < len(A):\n",
    "        my_sum = A[i]\n",
    "        print('var my_sum[{}] = {}'.format(i,my_sum))\n",
    "        i += 1\n",
    "    return my_sum\n",
    "\n",
    "print('The sum of the elements of the list A is {}.'.format(sumA(A)))"
   ]
  },
  {
   "cell_type": "markdown",
   "metadata": {
    "nbgrader": {
     "grade": false,
     "locked": true,
     "solution": false
    }
   },
   "source": [
    "<div style=\"text-align: justify\">It looks like the function is just stating the values of the list $A$, but not adding them... so we must have forgotten to add something. Below the fixed version of that function."
   ]
  },
  {
   "cell_type": "code",
   "execution_count": null,
   "metadata": {
    "nbgrader": {
     "grade": false,
     "locked": true,
     "solution": false
    }
   },
   "outputs": [],
   "source": [
    "def sumA_fixed(my_list):\n",
    "    \"returns the sum of all the values in a given list\"\n",
    "    my_sum = 0\n",
    "    i = 0\n",
    "    while i < len(A):\n",
    "        my_sum += A[i]\n",
    "        print('var my_sum[{}] = {}'.format(i,my_sum))\n",
    "        i += 1\n",
    "    return my_sum\n",
    "\n",
    "print('The sum of the elements of the list A is {}.'.format(sumA_fixed(A)))"
   ]
  },
  {
   "cell_type": "markdown",
   "metadata": {
    "nbgrader": {
     "grade": false,
     "locked": true,
     "solution": false
    }
   },
   "source": [
    "<div class=\"alert alert-block alert-info\"><b>(Fixing) Exercise 3.3.1</b><br><br><div style=\"text-align: justify\">Fix the syntax errors so it prints <code>\"AES\"</code> without removing the variable that holds it. You'll need to fix 2 errors."
   ]
  },
  {
   "cell_type": "code",
   "execution_count": null,
   "metadata": {},
   "outputs": [],
   "source": [
    "def get_abbreviation():\n",
    "    my abbreviation = \"AES\"\n",
    "     return my_abbreviation\n",
    "        \n",
    "print(get_abbreviation())"
   ]
  },
  {
   "cell_type": "markdown",
   "metadata": {
    "nbgrader": {
     "grade": false,
     "locked": true,
     "solution": false
    }
   },
   "source": [
    "<div class=\"alert alert-block alert-info\"><b>(Fixing) Exercise 3.3.2</b><br><br><div style=\"text-align: justify\">Find the semantic error in this function.\n",
    "\n",
    "Hint: The factorial n! is defined as <code>n! = n * (n - 1) * (n - 2) * ... * 2 * 1</code>. The function uses the fact that if n > 0, <code>n! = n * (n - 1)!</code>. This is an example of a _recursive_ function, a function that calls itself."
   ]
  },
  {
   "cell_type": "code",
   "execution_count": null,
   "metadata": {},
   "outputs": [],
   "source": [
    "def factorial(x):\n",
    "    \"returns the factorial of x\"\n",
    "    if x == 0:\n",
    "        return 1\n",
    "    else: \n",
    "        return x ** factorial(x-1)\n",
    "\n",
    "factorial(4)"
   ]
  },
  {
   "cell_type": "markdown",
   "metadata": {
    "nbgrader": {
     "grade": false,
     "locked": true,
     "solution": false
    }
   },
   "source": [
    "<div class=\"alert alert-block alert-danger\"><b>Additional study material:</b>\n",
    "    \n",
    "* Official Python Documentation - https://docs.python.org/3/library/debug.html\n",
    "* Think Python (2nd ed.) - Appendix A"
   ]
  },
  {
   "cell_type": "markdown",
   "metadata": {
    "nbgrader": {
     "grade": false,
     "locked": true,
     "solution": false
    }
   },
   "source": [
    "<h4>After this Notebook you should be able to:</h4>\n",
    "\n",
    "- use <code>for</code> loops\n",
    "- use <code>while</code> loops\n",
    "- use <code>break</code> and <code>continue</code> in loops\n",
    "- understand <code>range()</code>\n",
    "- know different types of errors\n",
    "- have a plan when debugging your code"
   ]
  },
  {
   "cell_type": "code",
   "execution_count": null,
   "metadata": {},
   "outputs": [],
   "source": []
  }
 ],
 "metadata": {
  "kernelspec": {
   "display_name": "Python 3 (ipykernel)",
   "language": "python",
   "name": "python3"
  },
  "language_info": {
   "codemirror_mode": {
    "name": "ipython",
    "version": 3
   },
   "file_extension": ".py",
   "mimetype": "text/x-python",
   "name": "python",
   "nbconvert_exporter": "python",
   "pygments_lexer": "ipython3",
   "version": "3.11.5"
  },
  "latex_envs": {
   "LaTeX_envs_menu_present": true,
   "autoclose": false,
   "autocomplete": true,
   "bibliofile": "biblio.bib",
   "cite_by": "apalike",
   "current_citInitial": 1,
   "eqLabelWithNumbers": true,
   "eqNumInitial": 1,
   "hotkeys": {
    "equation": "Ctrl-E",
    "itemize": "Ctrl-I"
   },
   "labels_anchors": false,
   "latex_user_defs": false,
   "report_style_numbering": false,
   "user_envs_cfg": false
  },
  "vscode": {
   "interpreter": {
    "hash": "1fe2f2b718b1108b9c4176932db8a0ead471245140baaa21ea96a4066683e6b2"
   }
  }
 },
 "nbformat": 4,
 "nbformat_minor": 4
}
