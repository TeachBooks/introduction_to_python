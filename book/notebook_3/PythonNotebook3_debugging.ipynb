{
 "cells": [
  {
   "cell_type": "markdown",
   "metadata": {
    "nbgrader": {
     "grade": false,
     "locked": true,
     "solution": false
    }
   },
   "source": [
    "<figure>\n",
    "  <IMG SRC=\"https://raw.githubusercontent.com/mbakker7/exploratory_computing_with_python/master/tudelft_logo.png\" WIDTH=250 ALIGN=\"right\">\n",
    "</figure>\n",
    "\n",
    "# 3.3 Debugging"
   ]
  },
  {
   "cell_type": "markdown",
   "metadata": {
    "nbgrader": {
     "grade": false,
     "locked": true,
     "solution": false
    }
   },
   "source": [
    "It is very easy (and common) to make mistakes when programming. We call these errors <i>bugs</i>. Finding these <i>bugs</i> in your program and resolving them is what we call <i>debugging</i>.\n",
    "    \n",
    "## Types of errors\n",
    "\n",
    "According to <a href=\"https://greenteapress.com/wp/think-python-2e/\"><i>Think Python</i></a> — <i>Appendix A</i>, there are three different types of errors:\n",
    "\n",
    "### 1. Syntax errors\n",
    "\n",
    "<i>\"In computer science, the syntax of a computer language is the set of rules that defines the combinations of symbols that are considered to be correctly structured statements or expressions in that language.\"</i>\n",
    "\n",
    "Therefore, a syntax error is an error that does not obey the rules of the programming language. For example, parenthesis always comes in pairs... so <b><code>(1+2)</code></b> is OK, but <b><code>(1+2)</code></b> is not. Below another example of a syntax error.  As you will see — this error is caught by the interpreter before running the code (hence, the <code>print</code> statements do not result in anything being printed)."
   ]
  },
  {
   "cell_type": "code",
   "execution_count": null,
   "metadata": {
    "nbgrader": {
     "grade": false,
     "locked": true,
     "solution": false
    }
   },
   "outputs": [],
   "source": [
    "# I want to raise 2 to the 3rd power.\n",
    "# However, I apply the wrong syntax, causing a syntax error:\n",
    "print('Message before')\n",
    "2***3\n",
    "print('Message after')"
   ]
  },
  {
   "cell_type": "markdown",
   "metadata": {
    "nbgrader": {
     "grade": false,
     "locked": true,
     "solution": false
    }
   },
   "source": [
    "### 2. Runtime errors\n",
    "\n",
    "<i>\"The second type of error is a runtime error. This type of error does not appear until after the program has started running. These errors are also called <b>exceptions</b>, as they usually indicate that something exceptional (and bad) has happened.\"</i>\n",
    "\n",
    "Below an example of a runtime error:"
   ]
  },
  {
   "cell_type": "code",
   "execution_count": null,
   "metadata": {
    "nbgrader": {
     "grade": false,
     "locked": true,
     "solution": false
    }
   },
   "outputs": [],
   "source": [
    "# A small script to express fractions as decimals\n",
    "numerators = [1, 7, 5, 12, -1]\n",
    "denominators = [6, 8, -1, 0, 5]\n",
    "fractions = []\n",
    "\n",
    "for i in range(len(numerators)):\n",
    "    fractions.append(numerators[i] / denominators[i])\n",
    "    print(f'New fraction was added from {numerators[i]} and {denominators[i]}!\\n It is equal to {fractions[i]:.3f}')\n",
    "    # Error will appear, since you cannot divide by 0"
   ]
  },
  {
   "cell_type": "markdown",
   "metadata": {
    "nbgrader": {
     "grade": false,
     "locked": true,
     "solution": false
    }
   },
   "source": [
    "### 3. Semantic errors\n",
    "\n",
    "According to the Oxford Dictionary, 'semantic' is an adjective relating to meaning. Therefore, a 'semantic error' is an error in the meaning of your code. Your code will still run without giving any error back, but it will not result in what you expected (or desired). For that reason, semantic errors are the hardest to identify. Below an example:"
   ]
  },
  {
   "cell_type": "code",
   "execution_count": null,
   "metadata": {
    "nbgrader": {
     "grade": false,
     "locked": true,
     "solution": false
    }
   },
   "outputs": [],
   "source": [
    "# I want to raise 2 to the 3rd power.\n",
    "# However, I apply the wrong syntax that does not represent raising to a power.\n",
    "# No error message is created, because this syntax is used \n",
    "# for another function in Python\n",
    "# However, this results in an output I did not expect nor desire\n",
    "\n",
    "power_of_2 = 2^3\n",
    "print(f'2 to the 3rd power is {power_of_2}')"
   ]
  },
  {
   "cell_type": "markdown",
   "metadata": {
    "nbgrader": {
     "grade": false,
     "locked": true,
     "solution": false
    }
   },
   "source": [
    "## Debugging strategies\n",
    "\n",
    "There are a few ways to debug a program. A simple one is to debug by tracking your values using print statements. By printing the values of the variables in between, we can find where the program does something unwanted. For example, the code block below:"
   ]
  },
  {
   "cell_type": "code",
   "execution_count": null,
   "metadata": {
    "nbgrader": {
     "grade": false,
     "locked": true,
     "solution": false
    }
   },
   "outputs": [],
   "source": [
    "A = [0, 1, 2, 3]\n",
    "\n",
    "def sumA(my_list):\n",
    "    \"returns the sum of all the values in a given list\"\n",
    "    my_sum = 0\n",
    "    i = 0\n",
    "    while i < len(A):\n",
    "        my_sum = A[i]\n",
    "        i += 1\n",
    "    return my_sum\n",
    "\n",
    "print('The sum of the elements of the list A is {}.'.format(sumA(A)))"
   ]
  },
  {
   "cell_type": "markdown",
   "metadata": {
    "nbgrader": {
     "grade": false,
     "locked": true,
     "solution": false
    }
   },
   "source": [
    "We see that our <b><code>sumA()</code></b> function outputs $3$, which isn't the sum of the contents of the list $A$. By adding a <b><code>print(my_sum)</code></b> inside the loop we can get a clearer understanding of what goes wrong."
   ]
  },
  {
   "cell_type": "code",
   "execution_count": null,
   "metadata": {
    "nbgrader": {
     "grade": false,
     "locked": true,
     "solution": false
    }
   },
   "outputs": [],
   "source": [
    "def sumA(my_list):\n",
    "    \"returns the sum of all the values in a given list\"\n",
    "    my_sum = 0\n",
    "    i = 0\n",
    "    while i < len(A):\n",
    "        my_sum = A[i]\n",
    "        print('var my_sum[{}] = {}'.format(i,my_sum))\n",
    "        i += 1\n",
    "    return my_sum\n",
    "\n",
    "print('The sum of the elements of the list A is {}.'.format(sumA(A)))"
   ]
  },
  {
   "cell_type": "markdown",
   "metadata": {
    "nbgrader": {
     "grade": false,
     "locked": true,
     "solution": false
    }
   },
   "source": [
    "It looks like the function is just stating the values of the list $A$, but not adding them... so we must have forgotten to add something. Below the fixed version of that function."
   ]
  },
  {
   "cell_type": "code",
   "execution_count": null,
   "metadata": {
    "nbgrader": {
     "grade": false,
     "locked": true,
     "solution": false
    }
   },
   "outputs": [],
   "source": [
    "def sumA_fixed(my_list):\n",
    "    \"returns the sum of all the values in a given list\"\n",
    "    my_sum = 0\n",
    "    i = 0\n",
    "    while i < len(A):\n",
    "        my_sum += A[i]\n",
    "        print('var my_sum[{}] = {}'.format(i,my_sum))\n",
    "        i += 1\n",
    "    return my_sum\n",
    "\n",
    "print('The sum of the elements of the list A is {}.'.format(sumA_fixed(A)))"
   ]
  },
  {
   "cell_type": "markdown",
   "metadata": {
    "nbgrader": {
     "grade": false,
     "locked": true,
     "solution": false
    }
   },
   "source": [
    "```{admonition} Additional study material:\n",
    ":class: tip\n",
    "\n",
    "* Official Python Documentation - https://docs.python.org/3/library/debug.html\n",
    "* Think Python (2nd ed.) - Appendix A\n",
    "+++\n",
    "```"
   ]
  },
  {
   "cell_type": "markdown",
   "metadata": {
    "nbgrader": {
     "grade": false,
     "locked": true,
     "solution": false
    }
   },
   "source": [
    "#### After this Notebook you should be able to:\n",
    "\n",
    "- understand the differences between **`list`**, **`tuple`**, and **`dict`**\n",
    "- slice lists and tuples\n",
    "- use <code>for</code> loops\n",
    "- use <code>while</code> loops\n",
    "- use <code>break</code> and <code>continue</code> in loops\n",
    "- understand <code>range()</code>\n",
    "- know different types of errors\n",
    "- have a plan when debugging your code"
   ]
  },
  {
   "cell_type": "code",
   "execution_count": null,
   "metadata": {},
   "outputs": [],
   "source": []
  }
 ],
 "metadata": {
  "kernelspec": {
   "display_name": "Python 3 (ipykernel)",
   "language": "python",
   "name": "python3"
  },
  "language_info": {
   "codemirror_mode": {
    "name": "ipython",
    "version": 3
   },
   "file_extension": ".py",
   "mimetype": "text/x-python",
   "name": "python",
   "nbconvert_exporter": "python",
   "pygments_lexer": "ipython3",
   "version": "3.11.5"
  },
  "latex_envs": {
   "LaTeX_envs_menu_present": true,
   "autoclose": false,
   "autocomplete": true,
   "bibliofile": "biblio.bib",
   "cite_by": "apalike",
   "current_citInitial": 1,
   "eqLabelWithNumbers": true,
   "eqNumInitial": 1,
   "hotkeys": {
    "equation": "Ctrl-E",
    "itemize": "Ctrl-I"
   },
   "labels_anchors": false,
   "latex_user_defs": false,
   "report_style_numbering": false,
   "user_envs_cfg": false
  },
  "vscode": {
   "interpreter": {
    "hash": "1fe2f2b718b1108b9c4176932db8a0ead471245140baaa21ea96a4066683e6b2"
   }
  }
 },
 "nbformat": 4,
 "nbformat_minor": 4
}
