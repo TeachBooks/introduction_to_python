{
 "cells": [
  {
   "cell_type": "markdown",
   "metadata": {
    "id": "fHmKWsUSKuj4",
    "nbgrader": {
     "grade": false,
     "locked": true,
     "solution": false
    }
   },
   "source": [
    "<figure>\n",
    "  <IMG SRC=\"https://raw.githubusercontent.com/mbakker7/exploratory_computing_with_python/master/tudelft_logo.png\" WIDTH=250 ALIGN=\"right\">\n",
    "</figure>\n",
    "\n",
    "```{admonition} Note\n",
    ":class: important\n",
    "\n",
    "This week's Notebook has theory together with the exercise. Download it by clicking the download button({fa}`download`) in the top right and selecting \"Exercise notebook\".\n",
    "+++\n",
    "```\n",
    "\n",
    "```{custom_download_link} ../exercise_notebooks/exercise_notebook_5_figures.zip\n",
    ":text: \"Exercise notebook\"\n",
    ":replace_default: \"True\"\n",
    "```\n",
    "\n",
    "\n",
    "# 5.1 Plotting with Matplotlib\n",
    "\n",
    "In this notebook we will learn how to make figures in Python, using the `matplotlib.pyplot` module. We start by importing the module."
   ]
  },
  {
   "cell_type": "code",
   "execution_count": null,
   "metadata": {},
   "outputs": [],
   "source": [
    "import matplotlib.pyplot as plt\n",
    "# this imports matplotlib.pyplot, and makes it's content's accessible through plt, for example: plt.plot\n",
    "# the name plt is arbitrary but commonly used"
   ]
  },
  {
   "cell_type": "markdown",
   "metadata": {},
   "source": [
    "Let's create some data which we would like to plot."
   ]
  },
  {
   "cell_type": "code",
   "execution_count": null,
   "metadata": {},
   "outputs": [],
   "source": [
    "x = [1, 2, 3, 4, 5]\n",
    "y = [1, 5, 2, 3, 2]"
   ]
  },
  {
   "cell_type": "code",
   "execution_count": null,
   "metadata": {},
   "outputs": [],
   "source": [
    "plt.figure()     # start a new plot\n",
    "plt.plot(x, y)   # add data to the plot\n",
    "plt.show()       # we're done setting up the plot, show it                 "
   ]
  },
  {
   "cell_type": "markdown",
   "metadata": {},
   "source": [
    "This is our first plot. Can you see how the data is shown in the figure?\n",
    "\n",
    "In notebooks, the `plt.show()` step is not needed, we will omit it below. However, if you run Python code outside a notebook, you need to include `plt.show()`, otherwise you never see the plot. Also `plt.figure()` can be omitted in notebooks, if you create only a single figure per cell in the notebook. Outside notebooks it cannot be omitted.\n",
    "\n",
    " A good plot needs labels describing the axes and their units:"
   ]
  },
  {
   "cell_type": "code",
   "execution_count": null,
   "metadata": {},
   "outputs": [],
   "source": [
    "plt.plot(x, y)\n",
    "plt.xlabel('Time since start of experiment (days)')\n",
    "plt.ylabel('Daily apple consumption')\n",
    "plt.title('Experiment #4')"
   ]
  },
  {
   "cell_type": "markdown",
   "metadata": {},
   "source": [
    "<div class=\"alert alert-block alert-info\"><b>Exercise 5.1.1</b><br><br><div style=\"text-align: justify\">\n",
    "\n",
    "What if your data does not represent a curve, but are just points in x-y space? For example in a scatter-plot. Plot the data from above, using the function `plt.scatter()`.</div></div>"
   ]
  },
  {
   "cell_type": "code",
   "execution_count": null,
   "metadata": {},
   "outputs": [],
   "source": []
  },
  {
   "cell_type": "markdown",
   "metadata": {},
   "source": [
    "## 5.1.2 Multiple curves, legends"
   ]
  },
  {
   "cell_type": "markdown",
   "metadata": {},
   "source": [
    "Let's make some temperature plots. First, run the cell below to define data to plot."
   ]
  },
  {
   "cell_type": "code",
   "execution_count": null,
   "metadata": {},
   "outputs": [],
   "source": [
    "month=range(1,13)\n",
    "T_NL      = [  3.7,   3.9,  6.5,  9.5, 13.1, 15.8, 17.9, 17.8, 14.8, 11.1,  7.2,  4.6]\n",
    "T_Madrid  = [  3.8,   4.4,  7.2,  9.2, 13.4, 18.6, 22.2, 22.0, 17.7, 12.3,  6.9,  4.3]\n",
    "T_Lapland = [-12.4, -11.4, -6.6, -0.2,  6.3, 12.3, 15.5, 13.0,  7.8,  0.7, -5.8, -9.6] # Sodankylä, Finland\n",
    "# mean temperature per month, °C, 1990 - 2019\n",
    "# Data from https://climatecharts.net/\n"
   ]
  },
  {
   "cell_type": "markdown",
   "metadata": {},
   "source": [
    "<div class=\"alert alert-block alert-info\"><b>Exercise 5.1.2</b><br><br><div style=\"text-align: justify\">\n",
    "    \n",
    "* Create plots of the three temperature time series. Just do three plt.plot() calls after each other. Like this: `plt.plot(month, T_NL)`\n",
    "\n",
    "You see that Matplotlib selects different colors for the three curves. But which is which? You need a legend.\n",
    "\n",
    "* add a label argument to each plot call: `plt.plot(month, T_NL, label='Madrid')`. Then add the command `plt.legend()` at the end of your script to create a legend which shows which colors and labels belong together.\n",
    "\n",
    "* add axis labels and units.\n",
    "</div></div>"
   ]
  },
  {
   "cell_type": "code",
   "execution_count": null,
   "metadata": {},
   "outputs": [],
   "source": [
    "# your plotting code here\n"
   ]
  },
  {
   "cell_type": "markdown",
   "metadata": {},
   "source": [
    "### Optional arguments to functions\n",
    "This is the first time we have used a construction like `label='Madrid'` in a function call. This is called a _keyword argument_. Using keyword arguments makes it possible to call a function with many _optional arguments_, and specifying only the arguments you need. \n",
    "What it means is that you pass the string `'Madrid'` to the `label` argument of the function. Many of the matplotlib functions have many optional arguments."
   ]
  },
  {
   "cell_type": "markdown",
   "metadata": {},
   "source": [
    "## Documentation\n",
    "\n",
    "Matplotlib is large and capable, but it can be hard to know which functions in it to use to get the effect one wants.\n",
    "There is a lot of documentation on the project homepage https://matplotlib.org. The detailed function description can be quite hard to read, but the examples are helpful.\n",
    "\n",
    "A good starting point in the matplotlib documentation is the [getting started guide](https://matplotlib.org/stable/users/getting_started/).\n",
    "Another good resource is the [gallery of plot types](https://matplotlib.org/stable/plot_types/index.html) with example code to create them.\n",
    "\n",
    "You can try a web search, for \"matplotlib\" and what you want to achieve. Often you find results from stackoverflow which tend to be helpful, or links to the official documentation (can be good or too complicated). Then there tends to be a lot of low-quality, advertising-infested data science blogs which are less useful.\n",
    "\n"
   ]
  },
  {
   "cell_type": "markdown",
   "metadata": {},
   "source": [
    "<div class=\"alert alert-block alert-info\"><b>Exercise 5.1.3 - Plotting in style</b><br><br><div style=\"text-align: justify\">\n",
    "    \n",
    "In the Matplotlib documentation (see above), find out how you can set the _line style_ (solid line, dashed line, dotted line, ...) and _line color_ in a plot. Copy the temperature plot above, and choose line styles and line colors for the curves.\n",
    "</div></div>\n",
    "\n"
   ]
  },
  {
   "cell_type": "code",
   "execution_count": null,
   "metadata": {},
   "outputs": [],
   "source": []
  },
  {
   "cell_type": "markdown",
   "metadata": {},
   "source": [
    "## 5.1.3 Plotting in 3D\n"
   ]
  },
  {
   "cell_type": "markdown",
   "metadata": {},
   "source": [
    "### Example: Parametric curve in 3D"
   ]
  },
  {
   "cell_type": "code",
   "execution_count": null,
   "metadata": {},
   "outputs": [],
   "source": [
    "import math\n",
    "\n",
    "ax = plt.axes(projection='3d')\n",
    "# An 'axes' object, in which we plot. \n",
    "# Previously these were automatically created for us by plt.plot(). \n",
    "# We need to do it ourselves now to be able to set the 3d projection.\n",
    "\n",
    "x = [] # empty lists for x,y,z coordinates\n",
    "y = []\n",
    "z = []\n",
    "\n",
    "for i in range(600):\n",
    "    # each iteration, add one point to the lists\n",
    "    t = i/300\n",
    "    x.append(t)\n",
    "    y.append(math.sin(7*t))\n",
    "    z.append(math.cos(7.8*t))\n",
    "\n",
    "ax.plot3D(x,y,z)"
   ]
  },
  {
   "cell_type": "markdown",
   "metadata": {},
   "source": [
    "<div class=\"alert alert-block alert-info\"><b>Exercise 5.1.4</b><br><br><div style=\"text-align: justify\">\n",
    "\n",
    "Copy the parametric curve example above, modify it to draw something else. Color the curve in your favourite color. Add labels to the x, y, and z axes.\n",
    "\n",
    "**Label hint:** unfortunately there is no function `plot.zlabel()`.\n",
    "Instead you have to use `ax.set_zlabel('...')`. You can use `ax.set_xlabel()` and `ax.set_ylabel()` too. Your script looks nicer if you handle all axes in the same way.\n",
    "   \n",
    "**Note:** the z-label doesn't necessary show up anyway, perhaps it's hidden behind the plot. If you could rotate the plot it might show up. For now let's choose our battles and not worry about this.\n",
    "</div></div>"
   ]
  },
  {
   "cell_type": "code",
   "execution_count": null,
   "metadata": {},
   "outputs": [],
   "source": [
    "# your code here"
   ]
  },
  {
   "cell_type": "markdown",
   "metadata": {},
   "source": [
    "<div class=\"alert alert-block alert-info\"><b>Exercise 5.1.5 - Bar graph</b><br><br><div style=\"text-align: justify\">\n",
    "\n",
    "In the Matplotlib documentation, find out how to make bar graphs. Plot the monthly mean rainfall data below in a bar graph. Add labels on the axes.\n",
    "\n",
    "**Hint:** you can plot the different locations one by one, one plot command each.\n",
    "    \n",
    "For now, let's accept that the bars sometimes overlap and hide each other. (One can in principle shift the bars in x so that they don't overlap).\n",
    "</div></div>\n"
   ]
  },
  {
   "cell_type": "code",
   "execution_count": null,
   "metadata": {},
   "outputs": [],
   "source": [
    "# just run this cell to define the data\n",
    "\n",
    "# Monthly mean precipitation (mm)\n",
    "# Data from https://climatecharts.net/\n",
    "\n",
    "month = range(1,13)\n",
    "Pr_NL      = [72.8, 54.1, 52.5, 38.7, 50.0, 63.0, 73.1, 82.9, 82.9, 86.8, 87.7, 83.6] # Netherlands\n",
    "Pr_Madrid  = [43.0, 45.1, 44.8, 58.6, 60.7, 31.0, 12.7, 16.3, 32.5, 75.8, 60.7, 48.5] # Spain, around Madrid\n",
    "Pr_Lapland = [27.0, 25.9, 22.5, 22.1, 35.6, 60.0, 66.9, 58.1, 46.6, 42.9, 34.2, 28.4] # Finland, Lapland, around Sodankylä\n",
    "#             Jan   Feb   Mar   Apr   May   Jun   Jul   Aug   Sep   Oct   Nov   Dec   "
   ]
  },
  {
   "cell_type": "code",
   "execution_count": null,
   "metadata": {},
   "outputs": [],
   "source": [
    "# your plotting code here\n"
   ]
  }
 ],
 "metadata": {
  "kernelspec": {
   "display_name": "Python 3 (ipykernel)",
   "language": "python",
   "name": "python3"
  },
  "language_info": {
   "codemirror_mode": {
    "name": "ipython",
    "version": 3
   },
   "file_extension": ".py",
   "mimetype": "text/x-python",
   "name": "python",
   "nbconvert_exporter": "python",
   "pygments_lexer": "ipython3",
   "version": "3.10.0"
  },
  "latex_envs": {
   "LaTeX_envs_menu_present": true,
   "autoclose": false,
   "autocomplete": true,
   "bibliofile": "biblio.bib",
   "cite_by": "apalike",
   "current_citInitial": 1,
   "eqLabelWithNumbers": true,
   "eqNumInitial": 1,
   "hotkeys": {
    "equation": "Ctrl-E",
    "itemize": "Ctrl-I"
   },
   "labels_anchors": false,
   "latex_user_defs": false,
   "report_style_numbering": false,
   "user_envs_cfg": false
  },
  "vscode": {
   "interpreter": {
    "hash": "1fe2f2b718b1108b9c4176932db8a0ead471245140baaa21ea96a4066683e6b2"
   }
  }
 },
 "nbformat": 4,
 "nbformat_minor": 4
}
