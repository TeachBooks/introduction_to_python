{
 "cells": [
  {
   "cell_type": "markdown",
   "id": "3f2908dd",
   "metadata": {
    "id": "OLzFLmBnS3Uz",
    "nbgrader": {
     "grade": false,
     "locked": true,
     "solution": false
    }
   },
   "source": [
    "<figure>\n",
    "  <IMG SRC=\"https://raw.githubusercontent.com/mbakker7/exploratory_computing_with_python/master/tudelft_logo.png\" WIDTH=250 ALIGN=\"right\">\n",
    "</figure>\n",
    "\n",
    "# 1.2 Python Variables\n",
    "\n",
    "Variable assignment follows <b><code>variable_name = value</code></b>, where a single equal sign = is an <b>assignment operator</b>. More on operators will be covered in the next section. Let's see a few examples of how we can do this.\n"
   ]
  },
  {
   "cell_type": "code",
   "execution_count": 2,
   "id": "87e5d37e",
   "metadata": {
    "id": "-oXjFB0TS3U0",
    "nbgrader": {
     "grade": false,
     "locked": true,
     "solution": false
    }
   },
   "outputs": [],
   "source": [
    "# Let's create a variable called \"a\" and assign it the number 5\n",
    "a = 5"
   ]
  },
  {
   "cell_type": "markdown",
   "id": "f88b67af",
   "metadata": {
    "id": "loj_CSZ3S3U0",
    "nbgrader": {
     "grade": false,
     "locked": true,
     "solution": false
    }
   },
   "source": [
    "No output will be printed to the screen when you clicked on 'Run', because there was no print statement. The print statement will be added later.\n",
    "\n",
    "Now if I use `a` in my Python script, Python will treat it as the number $5$."
   ]
  },
  {
   "cell_type": "code",
   "execution_count": null,
   "id": "f69a58c4",
   "metadata": {
    "id": "-NydcpOmS3U0",
    "nbgrader": {
     "grade": false,
     "locked": true,
     "solution": false
    },
    "outputId": "0f54e2c6-c3b9-4247-94cd-0b341a2ad352"
   },
   "outputs": [],
   "source": [
    "# Adding variables\n",
    "a + a"
   ]
  },
  {
   "cell_type": "markdown",
   "id": "9b25fbe4",
   "metadata": {
    "id": "xPQ0wjwUS3U0",
    "nbgrader": {
     "grade": false,
     "locked": true,
     "solution": false
    }
   },
   "source": [
    "What happens on reassignment? Will Python let us write over it?"
   ]
  },
  {
   "cell_type": "code",
   "execution_count": 4,
   "id": "a1c8c5b2",
   "metadata": {
    "id": "q-fGZ0wMS3U0",
    "nbgrader": {
     "grade": false,
     "locked": true,
     "solution": false
    }
   },
   "outputs": [],
   "source": [
    "# Reassignment\n",
    "a = 20"
   ]
  },
  {
   "cell_type": "code",
   "execution_count": null,
   "id": "3cb992fb",
   "metadata": {
    "id": "d-6rzYcpS3U1",
    "nbgrader": {
     "grade": false,
     "locked": true,
     "solution": false
    },
    "outputId": "5e2f705f-9f13-4a46-cdc9-cac34cbc12e7"
   },
   "outputs": [],
   "source": [
    "# Check\n",
    "print(a)"
   ]
  },
  {
   "cell_type": "markdown",
   "id": "75bc5720",
   "metadata": {
    "id": "8CcorXSqS3U1",
    "nbgrader": {
     "grade": false,
     "locked": true,
     "solution": false
    }
   },
   "source": [
    "Yes! Python allows you to overwrite assigned variable names. We can also use the variables themselves when doing the reassignment."
   ]
  },
  {
   "cell_type": "markdown",
   "id": "6fb20274",
   "metadata": {
    "id": "uqCmRVkbS3U1",
    "nbgrader": {
     "grade": false,
     "locked": true,
     "solution": false
    }
   },
   "source": [
    "Since <b><code>a = 20</code></b> was the last assignment to our variable <b><code>a</code></b>, you can keep using <b><code>a</code></b> in place of the number <b><code>20</code></b>:"
   ]
  },
  {
   "cell_type": "code",
   "execution_count": null,
   "id": "2333d830",
   "metadata": {
    "id": "QMktLeFOS3U2",
    "nbgrader": {
     "grade": false,
     "locked": true,
     "solution": false
    },
    "outputId": "a9467aa2-393f-4961-cec0-4c36dac6e26d"
   },
   "outputs": [],
   "source": [
    "a = a + 5\n",
    "print(a)"
   ]
  },
  {
   "cell_type": "markdown",
   "id": "f832a212",
   "metadata": {
    "id": "AjrlLAw7S3U2",
    "nbgrader": {
     "grade": false,
     "locked": true,
     "solution": false
    }
   },
   "source": [
    "Instead of writing <b><code>a+a</code></b>, Python has a built-in shortcut for these simple operations.<br><br>You can add, subtract, multiply and divide numbers with reassignment using <b><code>+=</code></b>, <b><code>-=</code></b>, <b><code>*=</code></b>, and <b><code>/=</code></b>, respectively."
   ]
  },
  {
   "cell_type": "code",
   "execution_count": 7,
   "id": "61bb9cca",
   "metadata": {
    "id": "ho172OFAS3U2",
    "nbgrader": {
     "grade": false,
     "locked": true,
     "solution": false
    }
   },
   "outputs": [],
   "source": [
    "a += 10"
   ]
  },
  {
   "cell_type": "markdown",
   "id": "4412a86a",
   "metadata": {
    "id": "de87302a",
    "nbgrader": {
     "grade": false,
     "locked": true,
     "solution": false
    }
   },
   "source": [
    "The above code will add **`10`** to the variable **`a`** every time you run that cell. \n",
    "\n",
    "Try it yourself, run it a few times and then run the below cell to see what's the value of **`a`**\n",
    "."
   ]
  },
  {
   "cell_type": "code",
   "execution_count": null,
   "id": "8bd8a6c4",
   "metadata": {
    "id": "tzz54psQS3U4",
    "nbgrader": {
     "grade": false,
     "locked": true,
     "solution": false
    },
    "outputId": "9227bb53-b2b5-4cf1-e438-eb61095b1b1e"
   },
   "outputs": [],
   "source": [
    "print(a)"
   ]
  },
  {
   "cell_type": "markdown",
   "id": "975e1cef",
   "metadata": {
    "id": "df4c695a",
    "nbgrader": {
     "grade": false,
     "locked": true,
     "solution": false
    }
   },
   "source": [
    "Below an example of a code that will double **`a`** every time that you run that cell."
   ]
  },
  {
   "cell_type": "code",
   "execution_count": null,
   "id": "0d99cefb",
   "metadata": {
    "id": "Sv2xzyhVS3U9",
    "nbgrader": {
     "grade": false,
     "locked": true,
     "solution": false
    }
   },
   "outputs": [],
   "source": [
    "a *= 2\n",
    "print(a)"
   ]
  },
  {
   "cell_type": "markdown",
   "id": "1851c2f5",
   "metadata": {
    "id": "gH1ebT4sS3VB",
    "nbgrader": {
     "grade": false,
     "locked": true,
     "solution": false
    }
   },
   "source": [
    "### Determining variable type with <b><code>type()</code></b>\n",
    "\n",
    "You can check what type of object is assigned to a variable using Python's built-in <b><code>type()</code></b> function. Common data types include:\n",
    "\n",
    "* **int** (for integer numbers)\n",
    "* **float** (for floating point / all real numbers)\n",
    "* **str** (for string/text)\n",
    "* **bool** (for Boolean True/False)\n",
    "* **list**\n",
    "* **tuple**\n",
    "* **dict** \n",
    "* **set**"
   ]
  },
  {
   "cell_type": "markdown",
   "id": "48bff95c",
   "metadata": {},
   "source": [
    "```{admonition} Attention\n",
    ":class: danger\n",
    "Always check the type of your variables as this is important to determine how the variables can be used in equations.\n",
    "+++\n",
    "```"
   ]
  },
  {
   "cell_type": "markdown",
   "id": "6180191d",
   "metadata": {
    "id": "87e243a7",
    "nbgrader": {
     "grade": false,
     "locked": true,
     "solution": false
    }
   },
   "source": [
    "Below a few examples:"
   ]
  },
  {
   "cell_type": "code",
   "execution_count": null,
   "id": "10aac23c",
   "metadata": {
    "id": "-DASPgHDS3VC",
    "nbgrader": {
     "grade": false,
     "locked": true,
     "solution": false
    },
    "outputId": "78ab767e-0978-4526-81e0-c79b369c2ae6"
   },
   "outputs": [],
   "source": [
    "type(a)"
   ]
  },
  {
   "cell_type": "code",
   "execution_count": null,
   "id": "b9805065",
   "metadata": {
    "id": "151cff3a",
    "nbgrader": {
     "grade": false,
     "locked": true,
     "solution": false
    },
    "outputId": "483b66c5-0363-43f4-f716-46f6ad86721f"
   },
   "outputs": [],
   "source": [
    "float_var = 3.1415\n",
    "type(float_var)"
   ]
  },
  {
   "cell_type": "code",
   "execution_count": null,
   "id": "025f54d5",
   "metadata": {
    "nbgrader": {
     "grade": false,
     "locked": true,
     "solution": false
    }
   },
   "outputs": [],
   "source": [
    "a = 0.3\n",
    "b = 0.2\n",
    "c = a - b\n",
    "print(c)"
   ]
  },
  {
   "cell_type": "markdown",
   "id": "a9343af2",
   "metadata": {
    "nbgrader": {
     "grade": false,
     "locked": true,
     "solution": false
    }
   },
   "source": [
    "You probably noticed that Python wrote $0.09999999999999998$ instead of $0.1$ when calculating $0.3 - 0.2$. We will return to this later in this Notebook."
   ]
  },
  {
   "cell_type": "code",
   "execution_count": null,
   "id": "a2fc471f",
   "metadata": {
    "id": "ced9ae02",
    "nbgrader": {
     "grade": false,
     "locked": true,
     "solution": false
    },
    "outputId": "49d1b418-5b8f-48a9-c27f-84c5ccba21d1"
   },
   "outputs": [],
   "source": [
    "type(1 < 2)"
   ]
  },
  {
   "cell_type": "markdown",
   "id": "b738d641",
   "metadata": {
    "id": "cbabd161",
    "nbgrader": {
     "grade": false,
     "locked": true,
     "solution": false
    }
   },
   "source": [
    "Boolean variables can only take on two values: <b><code>True</code></b> or <b><code>False</code></b>. They are often used to check conditions."
   ]
  },
  {
   "cell_type": "code",
   "execution_count": null,
   "id": "00eaa6fb",
   "metadata": {
    "id": "6e138f75",
    "nbgrader": {
     "grade": false,
     "locked": true,
     "solution": false
    },
    "outputId": "3a510470-c9ef-4501-9772-99fc52253c7f"
   },
   "outputs": [],
   "source": [
    "1 < 2"
   ]
  },
  {
   "cell_type": "code",
   "execution_count": null,
   "id": "aacf7ccb",
   "metadata": {
    "id": "4036bc6d",
    "nbgrader": {
     "grade": false,
     "locked": true,
     "solution": false
    },
    "outputId": "b34edd29-6020-47ec-cd03-14e0b1607413"
   },
   "outputs": [],
   "source": [
    "# the variable from the first script\n",
    "message = 'Hello world!'\n",
    "type(message)"
   ]
  },
  {
   "cell_type": "markdown",
   "id": "6f091109",
   "metadata": {
    "id": "b358494d",
    "nbgrader": {
     "grade": false,
     "locked": true,
     "solution": false
    }
   },
   "source": [
    "<b>Strings</b> are variables represented in between <b><code>' '</code></b> or <b><code>\" \"</code></b>.<br><br>They are a <b>sequence</b> of values, therefore you are able to access and manipulate every character individually.<br><br>This is done with the bracket operator <b><code>[]</code></b>, which works as an <b>index</b>.<br><br>Let's take a look at our first variable from this notebook: <b><code>message</code></b>."
   ]
  },
  {
   "cell_type": "code",
   "execution_count": null,
   "id": "3b785224",
   "metadata": {
    "id": "493e9703",
    "nbgrader": {
     "grade": false,
     "locked": true,
     "solution": false
    },
    "outputId": "18bf0c72-1e6d-49cc-90ed-79cd3793f345"
   },
   "outputs": [],
   "source": [
    "message"
   ]
  },
  {
   "cell_type": "code",
   "execution_count": null,
   "id": "2ce2cee4",
   "metadata": {
    "id": "9509e9ae",
    "nbgrader": {
     "grade": false,
     "locked": true,
     "solution": false
    },
    "outputId": "71b77b96-56ac-4fec-eeec-5de598c393f2"
   },
   "outputs": [],
   "source": [
    "message[1]"
   ]
  },
  {
   "cell_type": "markdown",
   "id": "436dbf15",
   "metadata": {
    "id": "d378e554",
    "nbgrader": {
     "grade": false,
     "locked": true,
     "solution": false
    }
   },
   "source": [
    "<b>What happened?</b>"
   ]
  },
  {
   "cell_type": "markdown",
   "id": "191f16fb",
   "metadata": {
    "id": "52be9a23",
    "nbgrader": {
     "grade": false,
     "locked": true,
     "solution": false
    }
   },
   "source": [
    "Why index <b><code>[1]</code></b> gave us the second letter? For most people, the first letter of the sentence <b><code>Hello world!</code></b> is <b><code>H</code></b> not <b><code>e</code></b>.\n",
    "\n",
    "So.. what happened?\n",
    "\n",
    "In Python, indexing starts at **`[0]`**. **`H`** is the *zero-th* character of **`Hello world!`**."
   ]
  },
  {
   "cell_type": "code",
   "execution_count": null,
   "id": "2a9c9fbc",
   "metadata": {
    "id": "00bd0987",
    "nbgrader": {
     "grade": false,
     "locked": true,
     "solution": false
    },
    "outputId": "c62d6076-38bf-4a61-f153-aa50ca7c75fa"
   },
   "outputs": [],
   "source": [
    "message[0]"
   ]
  },
  {
   "cell_type": "markdown",
   "id": "c02c4856",
   "metadata": {
    "id": "7cc759c9",
    "nbgrader": {
     "grade": false,
     "locked": true,
     "solution": false
    }
   },
   "source": [
    "You can also access the last value of a string using the index <b><code>[-1]</code></b>, the before-last using <b><code>[-2]</code></b> and so forth.. This will turn out to be very useful!"
   ]
  },
  {
   "cell_type": "code",
   "execution_count": null,
   "id": "238c6d43",
   "metadata": {
    "id": "6f9dbc4a",
    "nbgrader": {
     "grade": false,
     "locked": true,
     "solution": false
    },
    "outputId": "2b4ac665-2aba-42a0-e5ea-bc8621f1574e"
   },
   "outputs": [],
   "source": [
    "message[-1]"
   ]
  },
  {
   "cell_type": "markdown",
   "id": "b3b62bdd",
   "metadata": {
    "id": "27920277",
    "nbgrader": {
     "grade": false,
     "locked": true,
     "solution": false
    }
   },
   "source": [
    "Strings are <i>immutable</i>: you cannot reassign a new value for one of the characters. You will have to create a new string for that. Let's try to modify our string anyway:"
   ]
  },
  {
   "cell_type": "code",
   "execution_count": null,
   "id": "62b97890",
   "metadata": {
    "id": "11579009",
    "nbgrader": {
     "grade": false,
     "locked": true,
     "solution": false
    },
    "outputId": "28eb007f-7adf-4108-fb8a-6db5e0bcfa05"
   },
   "outputs": [],
   "source": [
    "message[0] = 'J'"
   ]
  },
  {
   "cell_type": "markdown",
   "id": "34c87ee9",
   "metadata": {
    "id": "5777fe12",
    "nbgrader": {
     "grade": false,
     "locked": true,
     "solution": false
    }
   },
   "source": [
    "This is an example of an error message. Python tells you that something is wrong with the code you just ran. The final line gives the error itself. Above that is an indication of which line in the cell caused the error (helpful for cells with more complicated programs).\n",
    "\n",
    "```{admonition} Attention\n",
    ":class: danger\n",
    "Always read and try to understand the error messages you receive, they are there for a reason!\n",
    "+++\n",
    "```\n",
    "\n",
    "You can also add (i.e. concatenate) strings and characters. But it will create a new string, it will not modify the old one (since they are immutable).\n"
   ]
  },
  {
   "cell_type": "code",
   "execution_count": null,
   "id": "9c8c4a4c",
   "metadata": {
    "id": "5a8eab89",
    "nbgrader": {
     "grade": false,
     "locked": true,
     "solution": false
    },
    "outputId": "f886a8eb-8238-4c49-9c54-caae38e268b2"
   },
   "outputs": [],
   "source": [
    "message + message"
   ]
  },
  {
   "cell_type": "markdown",
   "id": "f852b92f",
   "metadata": {},
   "source": [
    "Now let's see how we can select a part of a string."
   ]
  },
  {
   "cell_type": "code",
   "execution_count": null,
   "id": "e7fb9d02",
   "metadata": {
    "id": "a2164ca2",
    "nbgrader": {
     "grade": false,
     "locked": true,
     "solution": false
    },
    "outputId": "dde3141d-6812-454f-d960-4763d4552dbc"
   },
   "outputs": [],
   "source": [
    "message[0] + message[1] + message[2] + message[3]"
   ]
  },
  {
   "cell_type": "markdown",
   "id": "2e7c8398",
   "metadata": {
    "id": "88633538",
    "nbgrader": {
     "grade": false,
     "locked": true,
     "solution": false
    }
   },
   "source": [
    "A segment of a string is called a <b>slice</b>. Selecting a slice is similar to selecting a character. Using the operator <b><code>:</code></b> you select the first value that you want to <b>get</b>, and the first value you want to <b>leave out</b> of the slice, for example:\n",
    "\n",
    "Let's say we want to write the word <b>Hell</b> using our variable <b><code>message</code></b>, without having to type as much as above.\n",
    "\n",
    "1) Which letter is the first we want to <b>get</b>? **`H`**, which has index **`[0]`**.\n",
    "\n",
    "2) Which letter is the first we want to <b>leave out</b>? **`o`**, which has index **`[4]`**. So..."
   ]
  },
  {
   "cell_type": "code",
   "execution_count": null,
   "id": "3fd22ce9",
   "metadata": {
    "id": "c65d21c0",
    "nbgrader": {
     "grade": false,
     "locked": true,
     "solution": false
    },
    "outputId": "d2317d7f-3f16-4e60-8f99-a9dc7c8543d8"
   },
   "outputs": [],
   "source": [
    "message[0:4]"
   ]
  },
  {
   "cell_type": "markdown",
   "id": "8cf45597",
   "metadata": {
    "id": "b5eea88c",
    "nbgrader": {
     "grade": false,
     "locked": true,
     "solution": false
    }
   },
   "source": [
    "```{admonition} Real life example: Analyzing satellite data\n",
    ":class: important\n",
    "    \n",
    "The European Space Agency (ESA) has a float of satellites called Sentinel. The Sentinel missions are based on a constellation of two identical satellites in the same orbit around the Earth. Thanks to the data of these satellite, we can monitor vegetation, soil and water coverage on a high resolution of tens of meters. The satellite looks down on the earth's surface and covers an area with a certain width, which is called the swath width. The swath width of the Sentinel missions is hunderds of kilometers.\n",
    "\n",
    "When the data of the Sentinel missions are downloaded, the title of the file is formatted as: <b>S1A_IW_SLC__1SDV_20181205T015821_20181205T015851_024884_02BD8C_8700</b> where each part means something, <b>S1A</b> means Sentinel-1A, <b>IW</b> means Interferometric Wide Swath<br> <b>20181205T015821</b> is a date/time, 2018-12-05, at 01h58m21s, etc.\n",
    "\n",
    "Therefore, being able to manipulate this string is fundamental in order to organize and select satellite data. We'll come back to this in Exercise 1.3.4. \n",
    "+++\n",
    "```"
   ]
  },
  {
   "cell_type": "code",
   "execution_count": null,
   "id": "a53df672",
   "metadata": {},
   "outputs": [],
   "source": []
  },
  {
   "cell_type": "markdown",
   "id": "39187faa",
   "metadata": {
    "nbgrader": {
     "grade": false,
     "locked": true,
     "solution": false
    }
   },
   "source": [
    "### Dynamic Typing\n",
    "\n",
    "Python uses <b>dynamic typing</b>, meaning you can reassign variables to different data types. This makes Python very flexible in assigning data types; it differs from other languages that are <b>statically typed</b>, where each variable has a specified data type which cannot change.\n"
   ]
  },
  {
   "cell_type": "markdown",
   "id": "11494af3",
   "metadata": {
    "nbgrader": {
     "grade": false,
     "locked": true,
     "solution": false
    }
   },
   "source": [
    "#### Pros and Cons of Dynamic Typing\n",
    "##### Pros of Dynamic Typing\n",
    "* very easy to work with\n",
    "* faster development time\n",
    "\n",
    "##### Cons of Dynamic Typing\n",
    "* may result in unexpected bugs!\n",
    "* you need to be aware of **`type()`**."
   ]
  },
  {
   "cell_type": "code",
   "execution_count": null,
   "id": "11402a7c",
   "metadata": {
    "nbgrader": {
     "grade": false,
     "locked": true,
     "solution": false
    }
   },
   "outputs": [],
   "source": [
    "a = 5\n",
    "print('Type of a is =',type(a))\n",
    "a = 'string'\n",
    "print('Type of a is =',type(a))"
   ]
  },
  {
   "cell_type": "markdown",
   "id": "36584ffb",
   "metadata": {
    "nbgrader": {
     "grade": false,
     "locked": true,
     "solution": false
    }
   },
   "source": [
    "See, now **`a`** is no longer an **`int`** type but a **`str`** type"
   ]
  },
  {
   "cell_type": "markdown",
   "id": "3b93c38c",
   "metadata": {
    "nbgrader": {
     "grade": false,
     "locked": true,
     "solution": false
    }
   },
   "source": [
    "### Casting types\n",
    "\n",
    "Sometimes you want to change the type of a variable. For example, there is no point in arithmetically adding a number to a string. These problems can sometimes be solved with casting. <b>Casting</b> is a procedure of changing variable type. Actually, you create a new variable with the requested data type using the variable you want to alter.\n",
    "\n",
    "Examples are shown below.\n",
    "    "
   ]
  },
  {
   "cell_type": "code",
   "execution_count": null,
   "id": "56f1c735",
   "metadata": {
    "nbgrader": {
     "grade": false,
     "locked": true,
     "solution": false
    }
   },
   "outputs": [],
   "source": [
    "string_number = '123'\n",
    "print(string_number, type(string_number))\n",
    "\n",
    "integer_number = int(string_number)\n",
    "print(integer_number, type(integer_number))"
   ]
  },
  {
   "cell_type": "markdown",
   "id": "e6631811",
   "metadata": {
    "nbgrader": {
     "grade": false,
     "locked": true,
     "solution": false
    }
   },
   "source": [
    "As you can see, both variables look the same in the output but their type now is different. Because of that, the cell below will result in an error."
   ]
  },
  {
   "cell_type": "code",
   "execution_count": null,
   "id": "e998cce1",
   "metadata": {
    "nbgrader": {
     "grade": false,
     "locked": true,
     "solution": false
    }
   },
   "outputs": [],
   "source": [
    "string_number + 5"
   ]
  },
  {
   "cell_type": "markdown",
   "id": "0676af36",
   "metadata": {
    "nbgrader": {
     "grade": false,
     "locked": true,
     "solution": false
    }
   },
   "source": [
    "But the next cell will run normally."
   ]
  },
  {
   "cell_type": "code",
   "execution_count": null,
   "id": "c5a1fec1",
   "metadata": {
    "nbgrader": {
     "grade": false,
     "locked": true,
     "solution": false
    }
   },
   "outputs": [],
   "source": [
    "integer_number + 5"
   ]
  },
  {
   "cell_type": "markdown",
   "id": "c62184b0",
   "metadata": {
    "nbgrader": {
     "grade": false,
     "locked": true,
     "solution": false
    }
   },
   "source": [
    "### Floating point numbers\n",
    "\n",
    "We have seen that mathematics with integers (whole numbers) work as one might expect. But what about real numbers (with a decimal point)? \n",
    "On computers, these are called floating point numbers (where 'point' refers to the decimal point) or 'float' for short. \n",
    "\n",
    "An important thing to remember with floating point numbers is that doing mathematical operations with them is not exact, small rounding errors will appear. Even in simple calculations such as 0.3 - 0.1. Try to run the cell below and see the result.\n"
   ]
  },
  {
   "cell_type": "code",
   "execution_count": null,
   "id": "206db967",
   "metadata": {
    "nbgrader": {
     "grade": false,
     "locked": true,
     "solution": false
    }
   },
   "outputs": [],
   "source": [
    "0.3 - 0.1"
   ]
  },
  {
   "cell_type": "markdown",
   "id": "f3d94f08",
   "metadata": {
    "nbgrader": {
     "grade": false,
     "locked": true,
     "solution": false
    }
   },
   "source": [
    "It is not what you would expect to see, right? The result has an error of $\\approx 10^{-15}$. In many cases these errors can be neglected, but be careful when comparing <b><code>float</code></b> and <b><code>int</code></b> numbers, as shown below. \n"
   ]
  },
  {
   "cell_type": "code",
   "execution_count": null,
   "id": "94bc9683",
   "metadata": {
    "nbgrader": {
     "grade": false,
     "locked": true,
     "solution": false
    }
   },
   "outputs": [],
   "source": [
    "0.2 == 0.3 - 0.1"
   ]
  },
  {
   "cell_type": "markdown",
   "id": "14b3409e",
   "metadata": {
    "nbgrader": {
     "grade": false,
     "locked": true,
     "solution": false
    }
   },
   "source": [
    "Indeed, $0.2 \\neq 0.19999999999999998$.  A common advice is **Don't test floating point numbers for equality.** Testing for larger-than, smaller-than, is generally better."
   ]
  },
  {
   "cell_type": "markdown",
   "id": "d71b1183",
   "metadata": {
    "nbgrader": {
     "grade": false,
     "locked": true,
     "solution": false
    }
   },
   "source": [
    "Within this course, in the end of each lesson you get an exercise Notebook which is related to the subject that was just covered. Within the exercise Notebook, there are three types of exercises: **normal, fixing and searching**.\n",
    "- **Normal** exercises are straight forward exercises that you should be able to solve without much trouble.\n",
    "- **Fixing** exercises are exercises where some piece of code is already written but contains an error. You need to debug it (find the cause of the error and fix it).\n",
    "- **Searching** exercises are exercises that purposefully incorporate subjects that were not covered yet, in an attempt to encourage you to try and solve issues you haven't learned about yet. \n",
    "\n"
   ]
  },
  {
   "cell_type": "markdown",
   "id": "13c03d79",
   "metadata": {
    "nbgrader": {
     "grade": false,
     "locked": true,
     "solution": false
    }
   },
   "source": [
    "```{admonition} Additional study material\n",
    ":class: tip\n",
    "\n",
    "* Official Python Documentation - https://docs.python.org/3/tutorial/introduction.html\n",
    "* Think Python (2nd ed.) - Section 2\n",
    "\n",
    "As an observation, web search quality has decreased over the last few years. For this reason, it may be helpful to search specific sites rather than using a general search engine. Some tips:\n",
    "* The Think Python book, open it in a web browser or pdf reader, do text search (Control + F) (but it won't help you for this question...)\n",
    "* The official Python documentation, or later when you start using *modules*, the documentation of the module in question.\n",
    "* Use a general search engine, for example [Stack Overflow](https://stackoverflow.com/)\n",
    "+++\n",
    "```"
   ]
  }
 ],
 "metadata": {
  "colab": {
   "collapsed_sections": [],
   "name": "merged.ipynb",
   "provenance": []
  },
  "kernelspec": {
   "display_name": "base",
   "language": "python",
   "name": "python3"
  },
  "language_info": {
   "codemirror_mode": {
    "name": "ipython",
    "version": 3
   },
   "file_extension": ".py",
   "mimetype": "text/x-python",
   "name": "python",
   "nbconvert_exporter": "python",
   "pygments_lexer": "ipython3",
   "version": "3.12.2"
  },
  "latex_envs": {
   "LaTeX_envs_menu_present": true,
   "autoclose": false,
   "autocomplete": true,
   "bibliofile": "biblio.bib",
   "cite_by": "apalike",
   "current_citInitial": 1,
   "eqLabelWithNumbers": true,
   "eqNumInitial": 1,
   "hotkeys": {
    "equation": "Ctrl-E",
    "itemize": "Ctrl-I"
   },
   "labels_anchors": false,
   "latex_user_defs": false,
   "report_style_numbering": false,
   "user_envs_cfg": false
  }
 },
 "nbformat": 4,
 "nbformat_minor": 5
}
