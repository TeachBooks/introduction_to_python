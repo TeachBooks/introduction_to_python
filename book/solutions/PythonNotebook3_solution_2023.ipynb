{
 "cells": [
  {
   "cell_type": "markdown",
   "metadata": {
    "id": "su7ODKnqB7tv",
    "nbgrader": {
     "grade": false,
     "locked": true,
     "solution": false
    }
   },
   "source": [
    "<div class=\"alert alert-block alert-info\"><b>Exercise 3.1.1</b><br><br><div style=\"text-align: justify\">In this exercise you will write your own Celsius to Fahrenheit converter! Your task is to write a function, which will accept the list of temperatures <code>temp_c</code>, in Celsius, and will output a list with the same temperatures, but in Fahrenheit. \n",
    "\n",
    "Hint: create an empty list for the result, then append values to this list. See the \"personalized greeting\" example above."
   ]
  },
  {
   "cell_type": "code",
   "execution_count": null,
   "metadata": {
    "id": "ldeM_71XgK--",
    "nbgrader": {
     "grade": false,
     "locked": true,
     "solution": false
    }
   },
   "outputs": [],
   "source": [
    "# you do not need to change anything in this cell\n",
    "\n",
    "temperatures_c = [-1, -1.2, 1.3, 6.4, 11.2, 14.8, 17.8, 17.7, 13.7, 8.5, 4.1, 0.9]"
   ]
  },
  {
   "cell_type": "code",
   "execution_count": null,
   "metadata": {
    "id": "WYqtQ21Kgqzs"
   },
   "outputs": [],
   "source": [
    "def celsius_to_fahrenheit(temp_c):\n",
    "    ...\n",
    "\n",
    "###BEGIN SOLUTION TEMPLATE=\n",
    "def celsius_to_fahrenheit(temp_c):\n",
    "    temp_f = []\n",
    "\n",
    "    for i in range(len(temp_c)):\n",
    "        temp_f.append(temp_c[i] * 9 / 5 + 32) \n",
    "    return temp_f\n",
    "###END SOLUTION\n",
    "\n",
    "print(celsius_to_fahrenheit(temp_c))"
   ]
  },
  {
   "cell_type": "markdown",
   "metadata": {
    "id": "2iKtqd2XhAcU",
    "nbgrader": {
     "grade": false,
     "locked": true,
     "solution": false
    }
   },
   "source": [
    "<div class=\"alert alert-block alert-info\"><b>Exercise 3.1.2</b><br><br><div style=\"text-align: justify\">Your task here is to write a function which will analyze a broadcasting message of the following format: <b>\"satellite_ids;date\"</b>, where the first part of the message contains unique lowercase letters, each corresponding to a different satellite ID, and the last part contains the date of the message.<br><br>\n",
    "Here are some examples:\n",
    "    <b>\"agf;06062022\"</b> (3 satellites: a, g, and f),\n",
    "    <b> \"abcdefgops;03121999\"</b> (10 satellites), \n",
    "    <b> \"xyz;11112011\"</b> (3 satellites).\n",
    "<br><br>Your task is to write a function, which for a provided broadcast message, will count the number of satellites mentioned in the message.\n"
   ]
  },
  {
   "cell_type": "code",
   "execution_count": null,
   "metadata": {
    "id": "niMqThVgiVeG"
   },
   "outputs": [],
   "source": [
    "def count_satellites(message):\n",
    "    ...\n",
    "\n",
    "###BEGIN SOLUTION TEMPLATE=\n",
    "def count_satellites(message):\n",
    "    for i in range(len(message)):\n",
    "        if message[i] == ';':\n",
    "            break\n",
    "\n",
    "    return i\n",
    "###END SOLUTION\n",
    "\n",
    "# Check that with the example below you count 5 satellites\n",
    "print(count_satellites(\"hallo;12122007\"))\n"
   ]
  },
  {
   "cell_type": "markdown",
   "metadata": {
    "id": "GFziFh2Misx_",
    "nbgrader": {
     "grade": false,
     "locked": true,
     "solution": false
    }
   },
   "source": [
    "<div class=\"alert alert-block alert-info\"><b>Exercise 3.1.3</b><br><br><div style=\"text-align: justify\">Here you need to write a function that is able to sort any list consisting only of real numbers, in the descending order. For example, the list $[19, 5, 144, 6]$ becomes $[144, 19, 6, 5]$.\n",
    "<br>\n",
    "Hint: use a built-in <code>sort()</code> function to sort the list in ascending order, and then think of a clever way to change the order this list to descending order."
   ]
  },
  {
   "cell_type": "code",
   "execution_count": null,
   "metadata": {
    "colab": {
     "base_uri": "https://localhost:8080/"
    },
    "id": "2DB2jWVpi9Lr",
    "outputId": "c6af4f43-7138-4d09-b1ae-a913154dd107"
   },
   "outputs": [],
   "source": [
    "def sort_list(unsorted_list):\n",
    "    ...\n",
    "\n",
    "###BEGIN SOLUTION TEMPLATE=\n",
    "def sort_list(unsorted_list):\n",
    "    return sorted(unsorted_list)[::-1]\n",
    "###END SOLUTION\n",
    "\n",
    "\n",
    "print(sort_list([9, -1, 5, 1, -9, -9]))"
   ]
  },
  {
   "cell_type": "markdown",
   "metadata": {
    "nbgrader": {
     "grade": false,
     "locked": true,
     "solution": false
    }
   },
   "source": [
    "<div class=\"alert alert-block alert-info\"><b>Exercise 3.1.4</b><br><br><div style=\"text-align: justify\">\n",
    "Use a for loop and what you learned above about <code>range()</code> to print out every third element of the list <code>L</code>, starting from the second.\n"
   ]
  },
  {
   "cell_type": "code",
   "execution_count": 2,
   "metadata": {},
   "outputs": [
    {
     "name": "stdout",
     "output_type": "stream",
     "text": [
      "['b', 'd', 'f', 'h']\n"
     ]
    }
   ],
   "source": [
    "L = ['a', '1', 'b', 'c', '2', 'd', 'e', '3', 'f', 'g', '4', 'h'] # you don't need to change L\n",
    "\n",
    "# your loop here\n",
    "...\n",
    "\n",
    "###BEGIN SOLUTION TEMPLATE=\n",
    "\n",
    "# OPTION 1: list comprehension\n",
    "\n",
    "every_third_element_L = [L[i] for i in range(len(L)) if (i+1)%3 == 0]\n",
    "\n",
    "# OPTION 2: for loop\n",
    "\n",
    "every_third_element_L = []\n",
    "\n",
    "for i in range(len(L)):\n",
    "    if (i+1)%3 == 0:\n",
    "        every_third_element_L.append(L[i])\n",
    "\n",
    "# OPTION 3: using the step in range()\n",
    "\n",
    "every_third_element_L = []\n",
    "\n",
    "for i in range(2, len(L), 3):\n",
    "    every_third_element_L.append(L[i])\n",
    "\n",
    "print(every_third_element_L)\n",
    "\n",
    "\n",
    "###END SOLUTION"
   ]
  },
  {
   "attachments": {},
   "cell_type": "markdown",
   "metadata": {
    "nbgrader": {
     "grade": false,
     "locked": true,
     "solution": false
    }
   },
   "source": [
    "<div id='advanced_functions'>\n",
    "<div style=\"text-align: justify\"><h2>3.2 More functions and loops practice</h2>\n"
   ]
  },
  {
   "cell_type": "markdown",
   "metadata": {
    "nbgrader": {
     "grade": false,
     "locked": true,
     "solution": false
    }
   },
   "source": [
    "<div class=\"alert alert-block alert-info\">\n",
    "<b>Exercise 3.2.1</b><br><br><div style=\"text-align: justify\"> Write a function that converts a number from degrees to radians.\n",
    "</div>"
   ]
  },
  {
   "cell_type": "code",
   "execution_count": null,
   "metadata": {},
   "outputs": [],
   "source": [
    "def DegToRad(deg):\n",
    "    ...\n",
    "\n",
    "###BEGIN SOLUTION TEMPLATE=\n",
    "\n",
    "def DegToRad(deg):\n",
    "    \"\"\"\n",
    "    Convert degrees to radians.\n",
    "\n",
    "    Parameters:\n",
    "     deg (float): Angle in degrees.\n",
    "\n",
    "    Returns:\n",
    "     float: Angle in radians.\n",
    "    \"\"\"\n",
    "    \n",
    "    return deg * (3.1415 / 180)\n",
    "    \n",
    "###END SOLUTION\n",
    "\n",
    "Angle = 180 # Degrees\n",
    "print(f\"An angle of {Angle} Degrees is equal to {DegToRad(180):.3f} radians\")"
   ]
  },
  {
   "cell_type": "markdown",
   "metadata": {
    "nbgrader": {
     "grade": false,
     "locked": true,
     "solution": false
    }
   },
   "source": [
    "<div class=\"alert alert-block alert-info\">\n",
    "<b>Exercise 3.2.2</b><br><br><div style=\"text-align: justify\"> Write a function that takes four inputs: $(x_1, y_1, x_2, y_2)$ and computes the <a href=\"https://en.wikipedia.org/wiki/Euclidean_distance\">Euclidian distance</a> between point 1 $(x_1,y_1)$ and point 2 $(x_2,y_2)$.\n",
    "</div>"
   ]
  },
  {
   "cell_type": "code",
   "execution_count": null,
   "metadata": {},
   "outputs": [],
   "source": [
    "import math # \n",
    "\n",
    "# def distance ...\n",
    "\n",
    "###BEGIN SOLUTION TEMPLATE=\n",
    "def distance(x1,y1,x2,y2):\n",
    "    \"\"\"\n",
    "    Calculate the Euclidean distance between two points (x1, y1) and (x2, y2).\n",
    "\n",
    "    Parameters:\n",
    "     x1 (float): x-coordinate of the first point.\n",
    "     y1 (float): y-coordinate of the first point.\n",
    "     x2 (float): x-coordinate of the second point.\n",
    "     y2 (float): y-coordinate of the second point.\n",
    "\n",
    "    Returns:\n",
    "     float: Euclidean distance between the two points.\n",
    "    \"\"\"\n",
    "\n",
    "    # OPTION 1: without using the `math` library\n",
    "    \n",
    "    return ((x2 - x1)**2 + (y2 - y1)**2)**0.5\n",
    "\n",
    "    # OPTION 2: with the `math` library\n",
    "\n",
    "    return math.dist((x1,y1),(x2,y2))\n",
    "###END SOLUTION\n",
    "\n",
    "x1, y1 = 1, 1\n",
    "x2, y2 = 2, 3\n",
    "\n",
    "print(f\"Distance between points ({x1}, {y1}) and ({x2}, {y2}) is {distance(x1, y1, x2, y2):.3f}\")"
   ]
  },
  {
   "cell_type": "markdown",
   "metadata": {},
   "source": [
    "<div class=\"alert alert-block alert-info\">\n",
    "<b>Exercise 3.2.3</b><br><br><div style=\"text-align: justify\"> Write a function that determines if its argument is a prime number.\n",
    "\n",
    "* Hint 1: an integer n is prime if n > 1 and n is not divisible by any smaller integer > 1\n",
    "* Hint 2: divisibility can be tested with the <code>%</code> operator. If <code>n % i</code> is 0, <code>n</code> is divisible by <code>i</code>."
   ]
  },
  {
   "cell_type": "code",
   "execution_count": null,
   "metadata": {},
   "outputs": [],
   "source": [
    "def is_prime(n):\n",
    "    return True # or False\n",
    "\n",
    "###BEGIN SOLUTION TEMPLATE=\n",
    "def is_prime(n):\n",
    "    \"\"\"\n",
    "    Determine if a number is a prime number.\n",
    "\n",
    "    Parameters:\n",
    "     n (int): The number to check.\n",
    "\n",
    "    Returns:\n",
    "     bool: True if n is prime, False otherwise.\n",
    "    \"\"\"\n",
    "    if n > 1:\n",
    "        for i in range(2, int(n/2)+1):\n",
    "            if (n % i) == 0:\n",
    "                return False\n",
    "        return True\n",
    "    return False\n",
    "###END SOLUTION"
   ]
  },
  {
   "cell_type": "markdown",
   "metadata": {},
   "source": [
    "<div class=\"alert alert-block alert-info\">\n",
    "<b>Exercise 3.2.4</b><br><br><div style=\"text-align: justify\"> \n",
    "Use your <code>is_prime()</code> function to create a list of all primes < 1000. What is the sum of all primes < 1000?\n",
    "\n",
    "Hint: is there a nice way to calculate the sum of the elements in a list?\n"
   ]
  },
  {
   "cell_type": "code",
   "execution_count": null,
   "metadata": {},
   "outputs": [],
   "source": [
    "prime_list = ...\n",
    "prime_sum = ...\n",
    "###BEGIN SOLUTION TEMPLATE=\n",
    "\n",
    "# OPTION 1: list comprehension\n",
    "prime_list = [i for i in range(1000) if is_prime(i)] \n",
    "\n",
    "# OPTION 2: for loop\n",
    "prime_list = []\n",
    "\n",
    "for i in range(1000):\n",
    "    if is_prime(i): # <= same as doing `if is_prime(i) == True:`\n",
    "        prime_list.append(i)\n",
    "        \n",
    "prime_sum = sum(prime_list)\n",
    "\n",
    "###END SOLUTION\n",
    "print(prime_list)\n",
    "print(prime_sum)"
   ]
  },
  {
   "cell_type": "markdown",
   "metadata": {
    "nbgrader": {
     "grade": false,
     "locked": true,
     "solution": false
    }
   },
   "source": [
    "<div class=\"alert alert-block alert-info\"><b>(Fixing) Exercise 3.3.1</b><br><br><div style=\"text-align: justify\">Fix the syntax errors so it prints <code>\"AES\"</code> without removing the variable that holds it. You'll need to fix 2 errors."
   ]
  },
  {
   "cell_type": "code",
   "execution_count": null,
   "metadata": {},
   "outputs": [],
   "source": [
    "def get_abbreviation():\n",
    "    my abbreviation = \"AES\"\n",
    "     return my_abbreviation\n",
    "\n",
    "###BEGIN SOLUTION TEMPLATE=\n",
    "def get_abbreviation():\n",
    "    my_abbreviation = \"AES\"\n",
    "    return my_abbreviation\n",
    "###END SOLUTION\n",
    "        \n",
    "print(get_abbreviation())"
   ]
  },
  {
   "cell_type": "markdown",
   "metadata": {
    "nbgrader": {
     "grade": false,
     "locked": true,
     "solution": false
    }
   },
   "source": [
    "<div class=\"alert alert-block alert-info\"><b>(Fixing) Exercise 3.3.2</b><br><br><div style=\"text-align: justify\">Find the semantic error in this function.\n",
    "\n",
    "Hint: The factorial n! is defined as <code>n! = n * (n - 1) * (n - 2) * ... * 2 * 1</code>. The function uses the fact that if n > 0, <code>n! = n * (n - 1)!</code>. This is an example of a _recursive_ function, a function that calls itself."
   ]
  },
  {
   "cell_type": "code",
   "execution_count": null,
   "metadata": {},
   "outputs": [],
   "source": [
    "def factorial(x):\n",
    "    \"returns the factorial of x\"\n",
    "    if x == 0:\n",
    "        return 1\n",
    "    else: \n",
    "        return x ** factorial(x-1)\n",
    "        \n",
    "###BEGIN SOLUTION TEMPLATE=\n",
    "def factorial(x):\n",
    "    \"returns the factorial of x\"\n",
    "    if x == 0:\n",
    "        return 1\n",
    "    else: \n",
    "        return x * factorial(x-1)\n",
    "###END SOLUTION\n",
    "\n",
    "factorial(4)"
   ]
  }
 ],
 "metadata": {
  "kernelspec": {
   "display_name": "Python 3 (ipykernel)",
   "language": "python",
   "name": "python3"
  },
  "language_info": {
   "codemirror_mode": {
    "name": "ipython",
    "version": 3
   },
   "file_extension": ".py",
   "mimetype": "text/x-python",
   "name": "python",
   "nbconvert_exporter": "python",
   "pygments_lexer": "ipython3",
   "version": "3.9.13"
  },
  "latex_envs": {
   "LaTeX_envs_menu_present": true,
   "autoclose": false,
   "autocomplete": true,
   "bibliofile": "biblio.bib",
   "cite_by": "apalike",
   "current_citInitial": 1,
   "eqLabelWithNumbers": true,
   "eqNumInitial": 1,
   "hotkeys": {
    "equation": "Ctrl-E",
    "itemize": "Ctrl-I"
   },
   "labels_anchors": false,
   "latex_user_defs": false,
   "report_style_numbering": false,
   "user_envs_cfg": false
  },
  "vscode": {
   "interpreter": {
    "hash": "1fe2f2b718b1108b9c4176932db8a0ead471245140baaa21ea96a4066683e6b2"
   }
  }
 },
 "nbformat": 4,
 "nbformat_minor": 4
}
