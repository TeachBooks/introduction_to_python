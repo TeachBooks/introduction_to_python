{
 "cells": [
  {
   "cell_type": "markdown",
   "metadata": {},
   "source": [
    "<div class=\"alert alert-block alert-info\"><b>Exercise 2.1.1<br><br></b><div style=\"text-align: justify\">Calculate the area of a circle with a radius of $4$ cm in the box below using the <code>calculate_circle_area</code> function.<br> \n",
    "</div>"
   ]
  },
  {
   "cell_type": "code",
   "execution_count": null,
   "metadata": {},
   "outputs": [],
   "source": [
    "r = ...\n",
    "circle_area = ...\n",
    "\n",
    "###BEGIN SOLUTION TEMPLATE=\n",
    "r = 4\n",
    "circle_area = calculate_circle_area(r)\n",
    "###END SOLUTION\n",
    "\n",
    "print(circle_area)"
   ]
  },
  {
   "cell_type": "markdown",
   "metadata": {},
   "source": [
    "<div class=\"alert alert-block alert-info\"><b>Exercise 2.1.2 </b><br><br>Add a description to the <code>calculate_circle_area(r)</code> function below, as a docstring.<br> \n",
    "</div>"
   ]
  },
  {
   "cell_type": "code",
   "execution_count": null,
   "metadata": {},
   "outputs": [],
   "source": [
    "def calculate_circle_area(r):\n",
    "    '''...this function calculates the area of a circle...!'''\n",
    "    pi_circle = 3.141592653589793\n",
    "    area = pi_circle*(r**2)\n",
    "    return area"
   ]
  },
  {
   "cell_type": "markdown",
   "metadata": {},
   "source": [
    "<div class=\"alert alert-block alert-info\"><b>(Fixing) Exercise 2.1.3</b><br><br><div style=\"text-align: justify\">Below is a function that should calculate the water pressure in the sea, as a function of depth. But it isn't working. Can you spot the error and fix it? Do not change any other line except the line with the error.\n",
    "</div></div>"
   ]
  },
  {
   "cell_type": "code",
   "execution_count": null,
   "metadata": {},
   "outputs": [],
   "source": [
    "def water_pressure(z):\n",
    "    '''Calculates the water pressure in the sea at a depth of input z (meters). returns a value in Bar.'''\n",
    "    \n",
    "    water_density = 1000         #kg/m^3\n",
    "g = 9.81                     #m/s^2\n",
    "    p_atm = 100000               #Pa\n",
    "    \n",
    "    p_z = (p_atm + (z * water_density) * g) / 100000\n",
    "    \n",
    "    return p_z \n",
    "\n",
    "###BEGIN SOLUTION TEMPLATE=\n",
    "def water_pressure(z):\n",
    "    '''Calculates the water pressure in the sea at a depth of input z (meters). returns a value in Bar.'''\n",
    "    \n",
    "    water_density = 1000         #kg/m^3\n",
    "    g = 9.81                     #m/s^2\n",
    "    p_atm = 100000               #Pa\n",
    "    \n",
    "    p_z = (p_atm + (z * water_density) * g) / 100000\n",
    "    \n",
    "    return p_z \n",
    "\n",
    "###END SOLUTION\n",
    "\n",
    "calculated_pressure = water_pressure(2000)\n",
    "print(calculated_pressure)"
   ]
  },
  {
   "cell_type": "markdown",
   "metadata": {},
   "source": [
    "<div class=\"alert alert-block alert-info\"><b>Exercise 2.1.4</b><br><br> <div style=\"text-align: justify\">Write a function called <code>k_e()</code> to calculate the kinetic energy of some object. It should have mass and velocity as its arguments. In case you forgot, the kinetic energy equation is <br><br>$$E_k = \\frac{mv^2}{2}$$<br>\n",
    "</div>"
   ]
  },
  {
   "cell_type": "code",
   "execution_count": null,
   "metadata": {},
   "outputs": [],
   "source": [
    "#write your funtion below\n",
    "...\n",
    "...\n",
    "\n",
    "###BEGIN SOLUTION TEMPLATE=\n",
    "def k_e(mass, velocity):\n",
    "    return 0.5 * mass * velocity ** 2 \n",
    "###END SOLUTION\n",
    "print(k_e(10, 5))"
   ]
  },
  {
   "cell_type": "markdown",
   "metadata": {},
   "source": [
    "<div class=\"alert alert-block alert-info\"><b>(Searching) Exercise 2.1.5</b><br><br><div style=\"text-align: justify\">Use the <code>print()</code> and <code>k_e()</code> functions to print a nice formatted output for any arbitrary input. Example of a desired output: <b>The kinetic energy is: 200 J</b>\n",
    "</div>"
   ]
  },
  {
   "cell_type": "code",
   "execution_count": null,
   "metadata": {},
   "outputs": [],
   "source": [
    "#write your code here\n",
    "...\n",
    "...\n",
    "\n",
    "###BEGIN SOLUTION TEMPLATE=\n",
    "# k_e(x,y) = 200 # <= correct is to find x,y so that the function returns 200.\n",
    "myvar = 200 # <= lazy way\n",
    "print(f\"The kinectic energy is: {myvar} J.\")\n",
    "###END SOLUTION"
   ]
  },
  {
   "cell_type": "markdown",
   "metadata": {},
   "source": [
    "<div class=\"alert alert-block alert-info\"><b>(Fixing) Exercise 2.1.6</b><br><br> The function below does not give the right answer. Could you fix it?<br> \n",
    "</div>"
   ]
  },
  {
   "cell_type": "code",
   "execution_count": null,
   "metadata": {},
   "outputs": [],
   "source": [
    "def add_two(numb):\n",
    "    \"\"\"\n",
    "    add_two(numb) function -> takes the input numb and adds 2 to it\n",
    "    \n",
    "    Input:\n",
    "        numb -> an integer, to which 2 must be added\n",
    "    \n",
    "    Output:\n",
    "        ret -> a return integer, which is equal to numb + 2\n",
    "    \"\"\"\n",
    "    ret = add_one(add_one(add_one(numb)))\n",
    "    return ret\n",
    "\n",
    "def add_one(number):\n",
    "    \"\"\"\n",
    "    add_one(number) function -> takes the input number and adds 1 to it\n",
    "    \n",
    "    Input:\n",
    "        number -> an integer, to which 1 must be added\n",
    "    \n",
    "    Output:\n",
    "        ret -> a return integer, which is equal to number + 1\n",
    "    \"\"\"\n",
    "    ret = number\n",
    "    return ret\n",
    "\n",
    "\n",
    "###BEGIN SOLUTION TEMPLATE=\n",
    "def add_two(numb):\n",
    "    \"\"\"\n",
    "    add_two(numb) function -> takes the input numb and adds 2 to it\n",
    "    \n",
    "    Input:\n",
    "        numb -> an integer, to which 2 must be added\n",
    "    \n",
    "    Output:\n",
    "        ret -> a return integer, which is equal to numb + 2\n",
    "    \"\"\"\n",
    "    ret = add_one(add_one(numb))\n",
    "    return ret\n",
    "\n",
    "def add_one(number):\n",
    "    \"\"\"\n",
    "    add_one(number) function -> takes the input number and adds 1 to it\n",
    "    \n",
    "    Input:\n",
    "        number -> an integer, to which 1 must be added\n",
    "    \n",
    "    Output:\n",
    "        ret -> a return integer, which is equal to number + 1\n",
    "    \"\"\"\n",
    "    ret = number + 1\n",
    "    return ret\n",
    "###END SOLUTION\n",
    "\n",
    "x = 5\n",
    "y = add_two(x)\n",
    "\n",
    "print(f'{x} + 2 is {y}, which is {y == x + 2}')\n",
    "if y != x + 2:\n",
    "    print('Something is wrong here...')\n",
    "else:\n",
    "    print('Looks gucci')"
   ]
  },
  {
   "cell_type": "markdown",
   "metadata": {
    "id": "su7ODKnqB7tv",
    "nbgrader": {
     "grade": false,
     "locked": true,
     "solution": false
    }
   },
   "source": [
    "<div class=\"alert alert-block alert-info\"><b> Exercise 2.3.1</b><br><br><div style=\"text-align: justify\">One of the most crucial applications of <code>if</code> statements is filtering the data from errors and checking whether an error is within a certain limit.<br><br>For example, checking whether the difference between an estimated value and the actual value are within a certain range.<br><br>\n",
    "Mathematically speaking, this can be expressed as<br><br> $$|\\hat{y} - y| < \\epsilon$$<br>where $\\hat{y}$ is your estimated value, $y$ is the actual value and $\\epsilon$ is a certain error threshold.<br><br><br>The function <code>check_error_size()</code> below must do the same — it should return <code>True</code> if the error is within the acceptable range <code>eps</code> and <code>False</code> if it is not."
   ]
  },
  {
   "cell_type": "code",
   "execution_count": null,
   "metadata": {
    "id": "y5NHCoFlp0dF"
   },
   "outputs": [],
   "source": [
    "def check_error_size(estimated_value, true_value, eps):\n",
    "    ... # your if statement (error in acceptable range)\n",
    "        return True\n",
    "    ... # statement if not in acceptable range\n",
    "        return False\n",
    "\n",
    "###BEGIN SOLUTION TEMPLATE=\n",
    "def check_error_size(estimated_value, true_value, eps):\n",
    "    if abs(estimated_value - true_value) <= eps:\n",
    "        return True\n",
    "    else:\n",
    "        return False\n",
    "###END SOLUTION\n",
    "\n",
    "#You can try to check it by yourself by running the function with some self-chosen numbers\n",
    "check_error(...)"
   ]
  },
  {
   "cell_type": "markdown",
   "metadata": {
    "id": "HH2SHjK9rypL",
    "nbgrader": {
     "grade": false,
     "locked": true,
     "solution": false
    }
   },
   "source": [
    "<div class=\"alert alert-block alert-info\"><b>Exercise 2.3.2</b><br><br><div style=\"text-align: justify\">Use the knowledge you have obtained in this Notebook and write your very own function to classify soil samples based on the average grain size. The classification you have to implement is the following:<br>\n",
    "\n",
    "1.   Clay: avg grain size $<$ 0.002 mm\n",
    "2.   Silt: 0.002 mm $\\leq$ avg grain size $<$ 0.063 mm\n",
    "3.   Sand: 0.063 mm $\\leq$ avg grain size $<$ 2 mm\n",
    "4.   Gravel: 2 mm $\\leq$ avg grain size $<$ 63 mm\n",
    "\n",
    "<div style=\"text-align: justify\">Your task is to write the function, which will return the name of the soil type based on the provided average grain size in meters."
   ]
  },
  {
   "cell_type": "code",
   "execution_count": null,
   "metadata": {
    "id": "zn9ifDM8tJoX"
   },
   "outputs": [],
   "source": [
    "def classify_soil(avg_grain_size):\n",
    "    ...\n",
    "\n",
    "###BEGIN SOLUTION TEMPLATE=\n",
    "def classify_soil(avg_grain_size):\n",
    "    if avg_grain_size < 0.002:\n",
    "        return 'Clay'\n",
    "    elif avg_grain_size >= 0.002 and avg_grain_size < 0.063:\n",
    "        return 'Silt'\n",
    "    elif avg_grain_size >= 0.063 and avg_grain_size < 2:\n",
    "        return 'Sand'\n",
    "    elif avg_grain_size >= 2:\n",
    "        return 'Gravel'\n",
    "###END SOLUTION\n",
    "\n",
    "print(classify_soil(1.5))"
   ]
  },
  {
   "cell_type": "markdown",
   "metadata": {
    "id": "esf3kvxPtKB1",
    "nbgrader": {
     "grade": false,
     "locked": true,
     "solution": false
    }
   },
   "source": [
    "<div class=\"alert alert-block alert-info\"><b>Exercise 2.3.3 — Triangle Inequality</b><br><br><div style=\"text-align: justify\">Let's imagine that you received a request to manage a web-application, which provides and visualizes <a href=\"https://en.wikipedia.org/wiki/Interferometric_synthetic-aperture_radar\"><b>InSAR</b></a> data of the estimated displacement in an area.<br><br>The app is already quite cool, however, there is always room for improvement. For example, one might want to look into the statistics over the area of a triangle.<br><br>Your goal is to help implement such functionality by checking whether the user selected a valid triangle. You need to do this by checking that the length of <b>each</b> of the sides is smaller than the sum of the other two."
   ]
  },
  {
   "cell_type": "code",
   "execution_count": null,
   "metadata": {
    "id": "yWqQpiUHtWxo"
   },
   "outputs": [],
   "source": [
    "def check_triangle(side_a, side_b, side_c):\n",
    "    ...\n",
    "\n",
    "###BEGIN SOLUTION TEMPLATE=\n",
    "def check_triangle(side_a, side_b, side_c):\n",
    "    part1 = side_a < (side_b + side_c)\n",
    "    part2 = side_b < (side_a + side_c)\n",
    "    part3 = side_c < (side_a + side_b)\n",
    "    \n",
    "\n",
    "    if part1 and part2 and part3:\n",
    "        return \"Valid Triangle\"\n",
    "    else:\n",
    "        return \"Invalid Triangle\"\n",
    "###END SOLUTION"
   ]
  },
  {
   "cell_type": "markdown",
   "metadata": {
    "id": "z801Dffr5B-r",
    "nbgrader": {
     "grade": false,
     "locked": true,
     "solution": false
    }
   },
   "source": [
    "<div class=\"alert alert-block alert-info\"><b>Exercise 2.4.1</b><br><br><div style=\"text-align: justify\">Now, let's get down to practice.<br><br>Your first task is to finish the <code>pack_variables()</code> function — a function which will combine all inputs in one list and return it.<br><br>More precisely, this function will receive $5$ arguments as input and you have to return a list with these $5$ elements inside."
   ]
  },
  {
   "cell_type": "code",
   "execution_count": null,
   "metadata": {
    "id": "ILKR0y115Eiz"
   },
   "outputs": [],
   "source": [
    "def pack_variables(arg1, arg2, arg3, arg4, arg5):\n",
    "    ...\n",
    "\n",
    "###BEGIN SOLUTION TEMPLATE=\n",
    "def pack_variables(arg1, arg2, arg3, arg4, arg5):\n",
    "    pack = [arg1, arg2, arg3, arg4, arg5]\n",
    "    return pack\n",
    "###END SOLUTION\n",
    "\n",
    "print(pack_variables(1, 2, 4, 22, 7))\n"
   ]
  },
  {
   "cell_type": "markdown",
   "metadata": {
    "id": "UzRn8czA6oIg",
    "nbgrader": {
     "grade": false,
     "locked": true,
     "solution": false
    }
   },
   "source": [
    "<div class=\"alert alert-block alert-info\"><b>Exercise 2.4.2</b><br><br><div style=\"text-align: justify\">Here, you will have to perform a quality assessment on a received list of GNSS measurements. But a simple one.<br><br>You have to check whether the received data has more than $1000$ measurements, in that case we know the receiver was running for a long time without being interrupted.\n",
    "If it is shorter than $1000$, we assume there were some interruptions. Hence, your function should return a message whether the data is fine or not."
   ]
  },
  {
   "cell_type": "code",
   "execution_count": null,
   "metadata": {
    "id": "bZPVKfEG6oYP"
   },
   "outputs": [],
   "source": [
    "def check_data(measurements):\n",
    "    ...\n",
    "\n",
    "###BEGIN SOLUTION TEMPLATE=\n",
    "def check_data(measurements):\n",
    "    if len(measurements) < 1000:\n",
    "        return \"Something wrong\"\n",
    "    else:\n",
    "        return \"All fine\"\n",
    "###END SOLUTION\n",
    "\n",
    "#You can check your code below, where we simulate 1250 measurements\n",
    "import random \n",
    "\n",
    "gnss_data = [random.random() * 2.2e8 for i in range(1250)]\n",
    "print(check_data(gnss_data))"
   ]
  },
  {
   "cell_type": "markdown",
   "metadata": {
    "id": "oh_3_lSu8csf",
    "nbgrader": {
     "grade": false,
     "locked": true,
     "solution": false
    }
   },
   "source": [
    "<div class=\"alert alert-block alert-info\"><b>Exercise 2.4.3</b><br><br><div style=\"text-align: justify\">In this exercise you need to write something opposite to a packager... an unpacker! Sometimes it is easier to work with the most convenient data type, that is best suited for a specific task. In this example, you have to write a function which accepts data stored in a dictionary and saves some data from it. More precisely, you have to select $x$ and $y$ coordinates saved in the <code>input_dict</code> dictionary, and return them as a tuple, with $x$ being the first entry."
   ]
  },
  {
   "cell_type": "code",
   "execution_count": 1,
   "metadata": {
    "nbgrader": {
     "grade": false,
     "locked": true,
     "solution": false
    }
   },
   "outputs": [],
   "source": [
    "# you do not have to change anything in this cell\n",
    "\n",
    "input_dict = {\n",
    "    'ID': '334856',\n",
    "    'operator_name': 'Jarno',\n",
    "    'observation_amount': '2485',\n",
    "    'loc_x': [2, 5, 10, 12, -5, 8, 27, 1],\n",
    "    'loc_y': [6, 1, -5, 15, 4, 8, 0, 10]\n",
    "}\n"
   ]
  },
  {
   "cell_type": "code",
   "execution_count": 2,
   "metadata": {
    "id": "iQIBjGJF8dKX"
   },
   "outputs": [
    {
     "name": "stdout",
     "output_type": "stream",
     "text": [
      "[(2, 6), (5, 1), (10, -5), (12, 15), (-5, 4), (8, 8), (27, 0), (1, 10)]\n",
      "[(2, 6), (5, 1), (10, -5), (12, 15), (-5, 4), (8, 8), (27, 0), (1, 10)]\n"
     ]
    }
   ],
   "source": [
    "def unpack_dictionary(input_dict):\n",
    "    ...\n",
    "\n",
    "###BEGIN SOLUTION TEMPLATE=\n",
    "def unpack_dictionary1(input_dict):\n",
    "\n",
    "    ### OPTION 1: using `zip`, although not shown in the lecture\n",
    "    loc_x = input_dict['loc_x']\n",
    "    loc_y = input_dict['loc_y']\n",
    "    \n",
    "    return list(zip(loc_x, loc_y))\n",
    "\n",
    "def unpack_dictionary2(input_dict):\n",
    "    ### OPTION 2: using a for loop\n",
    "    loc_x = input_dict['loc_x']\n",
    "    loc_y = input_dict['loc_y']\n",
    "    locations = []\n",
    "    for i in range(len(loc_x)):\n",
    "        locations.append((loc_x[i], loc_y[i]))\n",
    "    return locations\n",
    "###END SOLUTION    \n",
    "\n",
    "print(unpack_dictionary1(input_dict))\n",
    "print(unpack_dictionary2(input_dict))"
   ]
  },
  {
   "cell_type": "code",
   "execution_count": null,
   "metadata": {},
   "outputs": [],
   "source": []
  }
 ],
 "metadata": {
  "colab": {
   "collapsed_sections": [],
   "name": "Python_2_1.ipynb",
   "provenance": []
  },
  "kernelspec": {
   "display_name": "Python 3 (ipykernel)",
   "language": "python",
   "name": "python3"
  },
  "language_info": {
   "codemirror_mode": {
    "name": "ipython",
    "version": 3
   },
   "file_extension": ".py",
   "mimetype": "text/x-python",
   "name": "python",
   "nbconvert_exporter": "python",
   "pygments_lexer": "ipython3",
   "version": "3.9.13"
  }
 },
 "nbformat": 4,
 "nbformat_minor": 4
}
