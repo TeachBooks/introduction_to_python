{
 "cells": [
  {
   "cell_type": "markdown",
   "metadata": {},
   "source": [
    "<figure>\n",
    "  <IMG SRC=\"https://raw.githubusercontent.com/mbakker7/exploratory_computing_with_python/master/tudelft_logo.png\" WIDTH=250 ALIGN=\"right\">\n",
    "</figure>\n",
    "\n",
    "# Lesson 4\n",
    "<br>\n",
    "\n",
    "In this chapter, we focus on enhancing our data visualization skills by exploring the `matplotlib` library. We begin with the basics of creating 2D plots and customizing their appearance. Next, we expand our visualization toolkit to include 3D plotting. Finally, we explore bar graphs for categorical data representation. \n",
    "\n",
    "Mastery of these visualization techniques will help you to effectively communicate insights and make your data analysis more impactful.\n",
    "\n",
    "```{admonition} Attention\n",
    ":class: danger\n",
    "\n",
    "Asking ChatGPT or another AI to solve these basic problems will not add anything to you (or them).\n",
    "+++\n",
    "```"
   ]
  }
 ],
 "metadata": {
  "language_info": {
   "name": "python"
  }
 },
 "nbformat": 4,
 "nbformat_minor": 2
}
