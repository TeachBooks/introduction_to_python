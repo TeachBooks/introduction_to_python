{
 "cells": [
  {
   "cell_type": "markdown",
   "metadata": {
    "nbgrader": {
     "grade": false,
     "locked": true,
     "solution": false
    }
   },
   "source": [
    "<figure>\n",
    "  <IMG SRC=\"https://raw.githubusercontent.com/mbakker7/exploratory_computing_with_python/master/tudelft_logo.png\" WIDTH=250 ALIGN=\"right\">\n",
    "</figure>\n",
    "\n",
    "# 2.1 Python Functions\n",
    "\n",
    "A <b>function</b> is a collection of code that is assigned to a specific name. You have already seen some built-in Python functions, such as <b><code>print()</code></b>. Using functions is useful because it allows you to run the same code again without having to type it a second time. \n",
    "\n",
    "Below are some examples of common built-in Python functions and what they do:\n",
    "\n",
    "``` \n",
    "print()          Prints input to screen\n",
    "type()           Returns the type of the input\n",
    "abs()            Returns the absolute value of the input\n",
    "min()            Returns the minimum value of the input. \n",
    "                 (input could be a list, tuple, etc.)\n",
    "max()            Same as above, but returns the maximum value\n",
    "sum()            Returns the sum of the input \n",
    "                 (input could be a list, tuple, etc.)\n",
    "```"
   ]
  },
  {
   "cell_type": "markdown",
   "metadata": {
    "nbgrader": {
     "grade": false,
     "locked": true,
     "solution": false
    }
   },
   "source": [
    "But the story doesn't end at built-in functions. You can also write your own functions!\n",
    "\n",
    "### How to write a function\n",
    "\n",
    "To write a function, you must first define it. This is done by using the <b><code>def</code></b> statement. Then, you name the function and add, in the parentheses, which variables this function takes as an input, followed by a colon. The colon tells Python you are going to define the <b>function body</b> next (the part of the function that actually does the computation). As shown below:"
   ]
  },
  {
   "cell_type": "markdown",
   "metadata": {},
   "source": [
    "`def function_name(input1, input2,...):`\n",
    "\n",
    "`:tab: function_body`\n",
    "\n",
    "`:tab: ...`\n",
    "\n",
    "`:tab: ...`\n",
    "\n",
    "Note that where we have `:tab:` you should press tab to make sure you have the proper indentation.\n",
    "\n",
    "The <b><code>calculate_circle_area(r)</code></b> function below defines <b><code>pi</code></b> as a variable and then computes the area of a circle, which is stored in the variable <b><code>area</code></b>. Finally, it uses the <b><code>return</code></b> statement to output the <b><code>area</code></b> back to you. Once you have defined the function, you can then <b>call</b> it by typing the function name, and  the inputs in the parenthesis. For example, calling: <b><code>print(\"Hello World!\")</code></b>, prints the string <b><code>\"Hello World!\"</code></b>.\n",
    "\n",
    "<b>Indentation</b>\n",
    "\n",
    "\n",
    "It is worth noting that the function body should be <b>indented</b>. This is how Python sees what piece of code is inside another code. An indented line of code is a line that starts with whitespace. You can do this by using the tab key on your keyboard."
   ]
  },
  {
   "cell_type": "markdown",
   "metadata": {
    "nbgrader": {
     "grade": false,
     "locked": true,
     "solution": false
    }
   },
   "source": [
    "```{admonition} Attention\n",
    ":class: danger\n",
    "Inputs of functions are more often called <b>arguments</b>.\n",
    "+++\n",
    "```"
   ]
  },
  {
   "cell_type": "markdown",
   "metadata": {
    "nbgrader": {
     "grade": false,
     "locked": true,
     "solution": false
    }
   },
   "source": [
    "#### Indentation of code within functions\n",
    "\n",
    "Let's say you'd want to compute the area of a circle, but you don't want to calculate $\\pi r^2$ every time. Then you can write a couple lines of code to do it for you, and wrap it up into a function, like the one below:"
   ]
  },
  {
   "cell_type": "code",
   "execution_count": 1,
   "metadata": {
    "nbgrader": {
     "grade": false,
     "locked": true,
     "solution": false
    }
   },
   "outputs": [],
   "source": [
    "def calculate_circle_area(r):\n",
    "    pi = 3.141592653589793\n",
    "    area = pi*(r**2)\n",
    "    return area"
   ]
  },
  {
   "cell_type": "markdown",
   "metadata": {
    "nbgrader": {
     "grade": false,
     "locked": true,
     "solution": false
    }
   },
   "source": [
    "This function is called <b><code>calculate_circle_area(r)</code></b>, and takes the value <b><code>r</code></b> as an argument."
   ]
  },
  {
   "cell_type": "markdown",
   "metadata": {
    "nbgrader": {
     "grade": false,
     "locked": true,
     "solution": false
    }
   },
   "source": [
    "Functions can have multiple arguments, for example:"
   ]
  },
  {
   "cell_type": "code",
   "execution_count": 2,
   "metadata": {
    "nbgrader": {
     "grade": false,
     "locked": true,
     "solution": false
    }
   },
   "outputs": [
    {
     "name": "stdout",
     "output_type": "stream",
     "text": [
      "Area of my rectangle is 24 cm^2\n"
     ]
    }
   ],
   "source": [
    "def calculate_rectangle_area(a, b):\n",
    "    area = a * b\n",
    "    return area\n",
    "\n",
    "print('Area of my rectangle is', calculate_rectangle_area(4, 6), 'cm^2')"
   ]
  },
  {
   "cell_type": "markdown",
   "metadata": {
    "nbgrader": {
     "grade": false,
     "locked": true,
     "solution": false
    }
   },
   "source": [
    "In the cell above, the **`calculate_rectangle_area(a, b)`** function takes $2$ arguments, $a$ and $b$. \n",
    "\n",
    "The built-in function **`print()`** takes $3$ arguments here:<br>\n",
    "the <b>string</b> <b><code>'Area of my rectangle is'</code></b>, the output of <b><code>calculate_rectangle_area(a, b)</code></b>, and another string <b><code>'cm^2'</code></b>.\n",
    "\n",
    "You can also print the results using f-strings:"
   ]
  },
  {
   "cell_type": "code",
   "execution_count": 8,
   "metadata": {
    "nbgrader": {
     "grade": false,
     "locked": true,
     "solution": false
    }
   },
   "outputs": [
    {
     "name": "stdout",
     "output_type": "stream",
     "text": [
      "Area of my rectangle is 24 cm^2.\n"
     ]
    }
   ],
   "source": [
    "print(f'Area of my rectangle is {calculate_rectangle_area(4,6)} cm^2.')"
   ]
  },
  {
   "cell_type": "markdown",
   "metadata": {
    "nbgrader": {
     "grade": false,
     "locked": true,
     "solution": false
    }
   },
   "source": [
    "#### Documenting functions\n",
    "\n",
    "We have now successfully created a function that computes the area of a circle and the area of a rectangle. You could send this code to fellow students, but maybe they wouldn't know how to use them. This is where a <b>docstring</b> comes in handy. This is a string specified in the beginning of the function body which states information about the function. A lot of built-in Python functions also have docstrings, which is really useful when you're trying to understand how to use a function. Try it out for yourself, add some docstring below."
   ]
  },
  {
   "cell_type": "code",
   "execution_count": 9,
   "metadata": {
    "nbgrader": {
     "grade": false,
     "locked": false,
     "solution": false
    }
   },
   "outputs": [],
   "source": [
    "def calculate_circle_area(r):\n",
    "    '''PUT YOUR DOCSTRING HERE!'''\n",
    "    pi_circle = 3.141592653589793\n",
    "    area = pi_circle*(r**2)\n",
    "    return area"
   ]
  },
  {
   "cell_type": "markdown",
   "metadata": {
    "nbgrader": {
     "grade": false,
     "locked": true,
     "solution": false
    }
   },
   "source": [
    "As you can see, nothing happened. But, if we now call the function like this:\n",
    "```\n",
    "calculate_circle_area?\n",
    "```\n",
    "or:\n",
    "```\n",
    "help(calculate_circle_area)\n",
    "```\n",
    "we should see the description (docstring) of the function. Try yourself below:"
   ]
  },
  {
   "cell_type": "code",
   "execution_count": null,
   "metadata": {},
   "outputs": [],
   "source": [
    "# use this line to check the the docstring of the above function, use one of the above methods\n",
    "...\n"
   ]
  },
  {
   "cell_type": "markdown",
   "metadata": {
    "nbgrader": {
     "grade": false,
     "locked": true,
     "solution": false
    }
   },
   "source": [
    "#### When to write or use a function?\n",
    "\n",
    "You can use functions in your code when you have a specific piece of code that you need to use multiple times (e.g.: plotting something).<br><br>Often you will find you want to use an output from a function later on. To do this, you can assign the value returned by a function to a variable. Let's say I want to use the area of a circle in a later calculation. Then you can store it in a variable like this:"
   ]
  },
  {
   "cell_type": "code",
   "execution_count": 10,
   "metadata": {
    "nbgrader": {
     "grade": false,
     "locked": true,
     "solution": false
    }
   },
   "outputs": [],
   "source": [
    "Circle_Area = calculate_circle_area(4)\n",
    "# here, we stored the area of a circle that has a radius 4 \n",
    "# in the variable 'Circle_Area'"
   ]
  },
  {
   "cell_type": "markdown",
   "metadata": {
    "nbgrader": {
     "grade": false,
     "locked": true,
     "solution": false
    }
   },
   "source": [
    "<div style=\"text-align: justify\">Nothing happens, but the value of <b><code>calculate_circle_area(4)</code></b> is now stored in the variable <b><code>Circle_Area</code></b>. See below:"
   ]
  },
  {
   "cell_type": "code",
   "execution_count": 11,
   "metadata": {
    "nbgrader": {
     "grade": false,
     "locked": true,
     "solution": false
    }
   },
   "outputs": [
    {
     "name": "stdout",
     "output_type": "stream",
     "text": [
      "50.26548245743669\n"
     ]
    }
   ],
   "source": [
    "print(Circle_Area)"
   ]
  },
  {
   "cell_type": "markdown",
   "metadata": {
    "nbgrader": {
     "grade": false,
     "locked": true,
     "solution": false
    }
   },
   "source": [
    "We can see that the value was indeed stored.\n",
    "\n",
    "```{admonition} Attention\n",
    ":class: danger\n",
    "Variables that are defined inside a function body can <b>NOT</b> be used outside of the function. These variables are called <b>local variables</b>.\n",
    "+++\n",
    "```"
   ]
  },
  {
   "cell_type": "markdown",
   "metadata": {
    "nbgrader": {
     "grade": false,
     "locked": true,
     "solution": false
    }
   },
   "source": [
    "Take the variable **`pi_circle`** that we defined in the function **`calculate_circle_area()`**. If we try to print it:"
   ]
  },
  {
   "cell_type": "code",
   "execution_count": 12,
   "metadata": {
    "nbgrader": {
     "grade": false,
     "locked": true,
     "solution": false
    }
   },
   "outputs": [
    {
     "ename": "NameError",
     "evalue": "name 'pi_circle' is not defined",
     "output_type": "error",
     "traceback": [
      "\u001b[1;31m---------------------------------------------------------------------------\u001b[0m",
      "\u001b[1;31mNameError\u001b[0m                                 Traceback (most recent call last)",
      "Cell \u001b[1;32mIn[12], line 1\u001b[0m\n\u001b[1;32m----> 1\u001b[0m \u001b[38;5;28mprint\u001b[39m(pi_circle)\n",
      "\u001b[1;31mNameError\u001b[0m: name 'pi_circle' is not defined"
     ]
    }
   ],
   "source": [
    "print(pi_circle)"
   ]
  },
  {
   "cell_type": "markdown",
   "metadata": {
    "nbgrader": {
     "grade": false,
     "locked": true,
     "solution": false
    }
   },
   "source": [
    "See, it doesn't work!\n",
    "The error you get: <i>name 'pi_circle' is not defined</i>, means that you tried to call a variable that does not exist."
   ]
  },
  {
   "cell_type": "markdown",
   "metadata": {
    "nbgrader": {
     "grade": false,
     "locked": true,
     "solution": false
    }
   },
   "source": [
    "```{admonition} Additional study material\n",
    ":class: tip\n",
    "\n",
    "* Official Python Documentation - https://docs.python.org/3/tutorial/controlflow.html#defining-functions\n",
    "* Think Python (2nd ed.) - Chapters 3, 6, and 16\n",
    "+++\n",
    "```"
   ]
  }
 ],
 "metadata": {
  "colab": {
   "collapsed_sections": [],
   "name": "Python_2_1.ipynb",
   "provenance": []
  },
  "kernelspec": {
   "display_name": "base",
   "language": "python",
   "name": "python3"
  },
  "language_info": {
   "codemirror_mode": {
    "name": "ipython",
    "version": 3
   },
   "file_extension": ".py",
   "mimetype": "text/x-python",
   "name": "python",
   "nbconvert_exporter": "python",
   "pygments_lexer": "ipython3",
   "version": "3.12.2"
  }
 },
 "nbformat": 4,
 "nbformat_minor": 4
}
