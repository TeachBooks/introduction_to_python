{
 "cells": [
  {
   "cell_type": "markdown",
   "metadata": {
    "nbgrader": {
     "grade": false,
     "locked": true,
     "solution": false
    }
   },
   "source": [
    "<figure>\n",
    "  <IMG SRC=\"https://raw.githubusercontent.com/mbakker7/exploratory_computing_with_python/master/tudelft_logo.png\" WIDTH=250 ALIGN=\"right\">\n",
    "</figure>\n",
    "\n",
    "# Python Notebook #2\n",
    "\n",
    "\n",
    "## Table of Contents\n",
    "<ul>\n",
    "    <li> <a href=\"#fstring\">2.0 Printing variables: f-strings</a>\n",
    "    <li> <a href=\"#func\">2.1 Functions</a>\n",
    "    <li> <a href=\"#modules\">2.2 Python Modules</a>\n",
    "    <li> <a href=\"#condition_if\">2.3 Conditions and if statements</a>\n",
    "    <li> <a href=\"#datastructure\">2.4 Data Structures</a>\n",
    "</ul>"
   ]
  },
  {
   "cell_type": "markdown",
   "metadata": {},
   "source": [
    "<div id='fstring'></div><br><h2>2.0 Printing variables: f-strings</h2><br><div style=\"text-align: justify\">\n",
    "    In the first notebook you learned to use <code>print()</code> to display text and variables.\n",
    "    But the print statements can get long if you want to show many variables at once:\n",
    "</div>"
   ]
  },
  {
   "cell_type": "code",
   "execution_count": null,
   "metadata": {},
   "outputs": [],
   "source": [
    "a = 2\n",
    "b = 7\n",
    "print('a is', a, 'and b is', b, '. Their product is', a*b, '.')"
   ]
  },
  {
   "cell_type": "markdown",
   "metadata": {},
   "source": [
    "Also you don't have full control over the spacing, e.g. the space added before the '.' after the value of b. There is a more convenient way to print variables:"
   ]
  },
  {
   "cell_type": "code",
   "execution_count": null,
   "metadata": {},
   "outputs": [],
   "source": [
    "print(f'a is {a} and b is {b}. Their product is {a*b}.')"
   ]
  },
  {
   "cell_type": "markdown",
   "metadata": {},
   "source": [
    "The string inside <code>print()</code> starts with <code>f'</code> and ends with a normal <code>'</code>. This type of string is called an \"f-string\", and it has special powers: it can contain variables and python code inside curly brackets <code>{ }</code>. Using f-strings is often more convenient than piecing together a print statement with a list of strings and variables.\n",
    "\n",
    "One more useful property of f-strings is that you can control how many decimal digits are printed for floating point numbers. After the variable but inside the brackets, type a colon followed by a formatting code. There are several such codes, for now we'll show only one: <code>.2f</code>.\n",
    "Here <code>.2</code> means two digits after the decimal point, and <code>f</code> specifies that the data to be printed is a floating point number."
   ]
  },
  {
   "cell_type": "code",
   "execution_count": null,
   "metadata": {},
   "outputs": [],
   "source": [
    "e = 2.71828182846\n",
    "\n",
    "print(f'e is {e}.')\n",
    "print(f'e with two decimals is {e:.2f}.')"
   ]
  },
  {
   "cell_type": "markdown",
   "metadata": {
    "nbgrader": {
     "grade": false,
     "locked": true,
     "solution": false
    }
   },
   "source": [
    "<div id='func'></div><br><h2>2.1 Python Functions</h2><br><div style=\"text-align: justify\">A <b>function</b> is a collection of code that is assigned to a specific name. You have already seen some built-in Python functions, such as <b><code>print()</code></b>. Using functions is useful because it allows you to run the same code again without having to type it a second time. </div>\n",
    "\n",
    "Below are some examples of common built-in Python functions and what they do:\n",
    "\n",
    "``` \n",
    "print()          Prints input to screen\n",
    "type()           Returns the type of the input\n",
    "abs()            Returns the absolute value of the input\n",
    "min()            Returns the minimum value of the input. \n",
    "                 (input could be a list, tuple, etc.)\n",
    "max()            Same as above, but returns the maximum value\n",
    "sum()            Returns the sum of the input \n",
    "                 (input could be a list, tuple, etc.)\n",
    "```"
   ]
  },
  {
   "cell_type": "markdown",
   "metadata": {
    "nbgrader": {
     "grade": false,
     "locked": true,
     "solution": false
    }
   },
   "source": [
    "But the story doesn't end at built-in functions. You can also write your own functions!<br><h3>How to write a function</h3><br><div style=\"text-align: justify\">To write a function, you must first define it. This is done by using the <b><code>def</code></b> statement. Then, you name the function and add, in the parentheses, which variables this function takes as an input, followed by a colon. The colon tells Python you are going to define the <b>function body</b> next (the part of the function that actually does the computation). As shown below:<br><br><center><code>def function_name(input1, input2,...):<br>function_body<br>...<br>...</code></center><br>The <b><code>calculate_circle_area(r)</code></b> function below defines <b><code>pi</code></b> as a variable and then computes the area of a circle, which is stored in the variable <b><code>area</code></b>. Finally, it uses the <b><code>return</code></b> statement to output the <b><code>area</code></b> back to you. Once you have defined the function, you can then <b>call</b> it by typing the function name, and  the inputs in the parenthesis. For example, calling: <b><code>print(\"Hello World!\")</code></b>, prints the string <b><code>\"Hello World!\"</code></b>.</div>\n",
    "\n",
    "<b>Indentation</b> <br>\n",
    "<div style=\"text-align: justify\">\n",
    "    It is worth noting that the function body should be <b>indented</b>. This is how Python sees what piece of code is inside another code. An indented line of code is a line that starts with whitespace. You can do this by using the tab key on your keyboard.</div>"
   ]
  },
  {
   "cell_type": "markdown",
   "metadata": {
    "nbgrader": {
     "grade": false,
     "locked": true,
     "solution": false
    }
   },
   "source": [
    "<div class=\"alert alert-block alert-warning\"><center>\n",
    "Inputs of functions are more often called <b>arguments</b>.\n",
    "</div>"
   ]
  },
  {
   "cell_type": "markdown",
   "metadata": {
    "nbgrader": {
     "grade": false,
     "locked": true,
     "solution": false
    }
   },
   "source": [
    "<h4>Indentation of code within functions</h4><br><div style=\"text-align: justify\">Let's say you'd want to compute the area of a circle, but you don't want to calculate $\\pi r^2$ every time. Then you can write a couple lines of code to do it for you, and wrap it up into a function, like the one below:\n",
    "    </div>"
   ]
  },
  {
   "cell_type": "code",
   "execution_count": null,
   "metadata": {
    "nbgrader": {
     "grade": false,
     "locked": true,
     "solution": false
    }
   },
   "outputs": [],
   "source": [
    "def calculate_circle_area(r):\n",
    "    pi = 3.141592653589793\n",
    "    area = pi*(r**2)\n",
    "    return area"
   ]
  },
  {
   "cell_type": "markdown",
   "metadata": {
    "nbgrader": {
     "grade": false,
     "locked": true,
     "solution": false
    }
   },
   "source": [
    "This function is called <b><code>calculate_circle_area(r)</code></b>, and takes the value <b><code>r</code></b> as an argument."
   ]
  },
  {
   "cell_type": "markdown",
   "metadata": {
    "nbgrader": {
     "grade": false,
     "locked": true,
     "solution": false
    }
   },
   "source": [
    "<div class=\"alert alert-block alert-info\"><b>Exercise 2.1.1<br><br></b><div style=\"text-align: justify\">Calculate the area of a circle with a radius of $4$ cm in the box below using the <code>calculate_circle_area</code> function.<br> \n",
    "</div></div>"
   ]
  },
  {
   "cell_type": "code",
   "execution_count": null,
   "metadata": {
    "nbgrader": {
     "grade": false,
     "locked": false,
     "solution": false
    }
   },
   "outputs": [],
   "source": [
    "r = ...\n",
    "circle_area = ...\n",
    "\n",
    "\n",
    "print(circle_area)"
   ]
  },
  {
   "cell_type": "markdown",
   "metadata": {
    "nbgrader": {
     "grade": false,
     "locked": true,
     "solution": false
    }
   },
   "source": [
    "Functions can have multiple arguments, for example:"
   ]
  },
  {
   "cell_type": "code",
   "execution_count": null,
   "metadata": {
    "nbgrader": {
     "grade": false,
     "locked": true,
     "solution": false
    }
   },
   "outputs": [],
   "source": [
    "def calculate_rectangle_area(a, b):\n",
    "    area = a * b\n",
    "    return area\n",
    "\n",
    "print('Area of my rectangle is', calculate_rectangle_area(4, 6), 'cm^2')"
   ]
  },
  {
   "cell_type": "markdown",
   "metadata": {
    "nbgrader": {
     "grade": false,
     "locked": true,
     "solution": false
    }
   },
   "source": [
    "In the cell above, the **`calculate_rectangle_area(a, b)`** function takes $2$ arguments, $a$ and $b$. \n",
    "\n",
    "The built-in function **`print()`** takes $3$ arguments here:<br>\n",
    "the <b>string</b> <b><code>'Area of my rectangle is'</code></b>, the output of <b><code>calculate_rectangle_area(a, b)</code></b>, and another string <b><code>'cm^2'</code></b>.\n",
    "\n",
    "You can also print the results using f-strings:"
   ]
  },
  {
   "cell_type": "code",
   "execution_count": null,
   "metadata": {
    "nbgrader": {
     "grade": false,
     "locked": true,
     "solution": false
    }
   },
   "outputs": [],
   "source": [
    "print(f'Area of my rectangle is {calculate_rectangle_area(4,6)} cm^2 and the area of my circle is {calculate_circle_area(r):.3f} cm^2')"
   ]
  },
  {
   "cell_type": "markdown",
   "metadata": {
    "nbgrader": {
     "grade": false,
     "locked": true,
     "solution": false
    }
   },
   "source": [
    "<h4>Documenting functions</h4><br><div style=\"text-align: justify\">We have now successfully created a function that computes the area of a circle and the area of a rectangle. You could send this code to fellow students, but maybe they wouldn't know how to use them. This is where a <b>docstring</b> comes in handy. This is a string specified in the beginning of the function body which states information about the function. A lot of built-in Python functions also have docstrings, which is really useful when you're trying to understand how to use a function.</div>"
   ]
  },
  {
   "cell_type": "markdown",
   "metadata": {
    "nbgrader": {
     "grade": false,
     "locked": true,
     "solution": false
    }
   },
   "source": [
    "<div class=\"alert alert-block alert-info\"><b>Exercise 2.1.2 </b><br><br>Add a description to the <code>calculate_circle_area(r)</code> function below, as a docstring.<br> \n",
    "</div>"
   ]
  },
  {
   "cell_type": "code",
   "execution_count": null,
   "metadata": {
    "nbgrader": {
     "grade": false,
     "locked": false,
     "solution": false
    }
   },
   "outputs": [],
   "source": [
    "def calculate_circle_area(r):\n",
    "    '''PUT YOUR DOCSTRING HERE!'''\n",
    "    pi_circle = 3.141592653589793\n",
    "    area = pi_circle*(r**2)\n",
    "    return area"
   ]
  },
  {
   "cell_type": "markdown",
   "metadata": {
    "nbgrader": {
     "grade": false,
     "locked": true,
     "solution": false
    }
   },
   "source": [
    "As you can see, nothing happened. But, if we now call the function like this:\n",
    "```\n",
    "calculate_circle_area?\n",
    "```\n",
    "or:\n",
    "```\n",
    "help(calculate_circle_area)\n",
    "```\n",
    "we should see the description (docstring) of the function. Try yourself below:"
   ]
  },
  {
   "cell_type": "code",
   "execution_count": null,
   "metadata": {},
   "outputs": [],
   "source": [
    "# use this line to check the the docstring of the above function, use one of the above methods\n",
    "...\n"
   ]
  },
  {
   "cell_type": "markdown",
   "metadata": {
    "nbgrader": {
     "grade": false,
     "locked": true,
     "solution": false
    }
   },
   "source": [
    "<h4>When to write or use a function?</h4><br><div style=\"text-align: justify\">You can use functions in your code when you have a specific piece of code that you need to use multiple times (e.g.: plotting something).<br><br>Often you will find you want to use an output from a function later on. To do this, you can assign the value returned by a function to a variable. Let's say I want to use the area of a circle in a later calculation. Then you can store it in a variable like this:</div>"
   ]
  },
  {
   "cell_type": "code",
   "execution_count": null,
   "metadata": {
    "nbgrader": {
     "grade": false,
     "locked": true,
     "solution": false
    }
   },
   "outputs": [],
   "source": [
    "Circle_Area = calculate_circle_area(4)\n",
    "# here, we stored the area of a circle that has a radius 4 \n",
    "# in the variable 'Circle_Area'"
   ]
  },
  {
   "cell_type": "markdown",
   "metadata": {
    "nbgrader": {
     "grade": false,
     "locked": true,
     "solution": false
    }
   },
   "source": [
    "<div style=\"text-align: justify\">Nothing happens, but the value of <b><code>calculate_circle_area(4)</code></b> is now stored in the variable <b><code>Circle_Area</code></b>. See below:"
   ]
  },
  {
   "cell_type": "code",
   "execution_count": null,
   "metadata": {
    "nbgrader": {
     "grade": false,
     "locked": true,
     "solution": false
    }
   },
   "outputs": [],
   "source": [
    "print(Circle_Area)"
   ]
  },
  {
   "cell_type": "markdown",
   "metadata": {
    "nbgrader": {
     "grade": false,
     "locked": true,
     "solution": false
    }
   },
   "source": [
    "We can see that the value was indeed stored.\n",
    "<div class=\"alert alert-block alert-warning\"><center>\n",
    "Variables that are defined inside a function body can <b>NOT</b> be used outside of the function. These variables are called <b>local variables</b>.\n",
    "</div>"
   ]
  },
  {
   "cell_type": "markdown",
   "metadata": {
    "nbgrader": {
     "grade": false,
     "locked": true,
     "solution": false
    }
   },
   "source": [
    "Take the variable **`pi_circle`** that we defined in the function **`calculate_circle_area()`**. If we try to print it:"
   ]
  },
  {
   "cell_type": "code",
   "execution_count": null,
   "metadata": {
    "nbgrader": {
     "grade": false,
     "locked": true,
     "solution": false
    }
   },
   "outputs": [],
   "source": [
    "print(pi_circle)"
   ]
  },
  {
   "cell_type": "markdown",
   "metadata": {
    "nbgrader": {
     "grade": false,
     "locked": true,
     "solution": false
    }
   },
   "source": [
    "See, it doesn't work!\n",
    "The error you get: <i>name 'pi_circle' is not defined</i>, means that you tried to call a variable that does not exist."
   ]
  },
  {
   "cell_type": "markdown",
   "metadata": {
    "nbgrader": {
     "grade": false,
     "locked": true,
     "solution": false
    }
   },
   "source": [
    "<div class=\"alert alert-block alert-info\"><b>(Fixing) Exercise 2.1.3</b><br><br><div style=\"text-align: justify\">Below is a function that should calculate the water pressure in the sea, as a function of depth. But it isn't working. Can you spot the error and fix it? Do not change any other line except the line with the error.\n",
    "</div></div>"
   ]
  },
  {
   "cell_type": "code",
   "execution_count": null,
   "metadata": {},
   "outputs": [],
   "source": [
    "def water_pressure(z):\n",
    "    '''Calculates the water pressure in the sea at a depth of input z (meters). returns a value in Bar.'''\n",
    "    \n",
    "    water_density = 1000         #kg/m^3\n",
    "g = 9.81                     #m/s^2\n",
    "    p_atm = 100000               #Pa\n",
    "    \n",
    "    p_z = (p_atm + (z * water_density) * g) / 100000\n",
    "    \n",
    "    return p_z \n",
    "\n",
    "calculated_pressure = water_pressure(2000)\n",
    "print(calculated_pressure)"
   ]
  },
  {
   "cell_type": "markdown",
   "metadata": {
    "nbgrader": {
     "grade": false,
     "locked": true,
     "solution": false
    }
   },
   "source": [
    "<div class=\"alert alert-block alert-info\"><b>Exercise 2.1.4</b><br><br> <div style=\"text-align: justify\">Write a function called <code>k_e()</code> to calculate the kinetic energy of some object. It should have mass and velocity as its arguments. In case you forgot, the kinetic energy equation is <br><br>$$E_k = \\frac{mv^2}{2}$$<br>\n",
    "</div></div>"
   ]
  },
  {
   "cell_type": "code",
   "execution_count": null,
   "metadata": {},
   "outputs": [],
   "source": [
    "#write your funtion below\n",
    "...\n",
    "...\n",
    "\n",
    "\n",
    "print(k_e(10, 5))"
   ]
  },
  {
   "cell_type": "markdown",
   "metadata": {
    "nbgrader": {
     "grade": false,
     "locked": true,
     "solution": false
    }
   },
   "source": [
    "<div class=\"alert alert-block alert-info\"><b>(Searching) Exercise 2.1.5</b><br><br><div style=\"text-align: justify\">Use the <code>print()</code> and <code>k_e()</code> functions to print a nice formatted output for any arbitrary input. Example of a desired output: <b>The kinetic energy is: 200 J</b>\n",
    "</div></div>"
   ]
  },
  {
   "cell_type": "code",
   "execution_count": null,
   "metadata": {},
   "outputs": [],
   "source": [
    "#write your code here\n",
    "...\n",
    "..."
   ]
  },
  {
   "cell_type": "markdown",
   "metadata": {
    "nbgrader": {
     "grade": false,
     "locked": true,
     "solution": false
    }
   },
   "source": [
    "<div class=\"alert alert-block alert-info\"><b>(Fixing) Exercise 2.1.6</b><br><br> The function below does not give the right answer. Could you fix it?<br> \n",
    "</div>"
   ]
  },
  {
   "cell_type": "code",
   "execution_count": null,
   "metadata": {},
   "outputs": [],
   "source": [
    "def add_two(numb):\n",
    "    \"\"\"\n",
    "    add_two(numb) function -> takes the input numb and adds 2 to it\n",
    "    \n",
    "    Input:\n",
    "        numb -> an integer, to which 2 must be added\n",
    "    \n",
    "    Output:\n",
    "        ret -> a return integer, which is equal to numb + 2\n",
    "    \"\"\"\n",
    "    ret = add_one(add_one(add_one(numb)))\n",
    "    return ret\n",
    "\n",
    "def add_one(number):\n",
    "    \"\"\"\n",
    "    add_one(number) function -> takes the input number and adds 1 to it\n",
    "    \n",
    "    Input:\n",
    "        number -> an integer, to which 1 must be added\n",
    "    \n",
    "    Output:\n",
    "        ret -> a return integer, which is equal to number + 1\n",
    "    \"\"\"\n",
    "    ret = number\n",
    "    return ret\n",
    "\n",
    "\n",
    "x = 5\n",
    "y = add_two(x)\n",
    "\n",
    "print(f'{x} + 2 is {y}, which is {y == x + 2}')\n",
    "if y != x + 2:\n",
    "    print('Something is wrong here...')\n",
    "else:\n",
    "    print('Looks gucci')"
   ]
  },
  {
   "cell_type": "markdown",
   "metadata": {
    "nbgrader": {
     "grade": false,
     "locked": true,
     "solution": false
    }
   },
   "source": [
    "<div class=\"alert alert-block alert-danger\"><b>Additional study material:</b>\n",
    "\n",
    "* Official Python Documentation - https://docs.python.org/3/tutorial/controlflow.html#defining-functions\n",
    "* Think Python (2nd ed.) - Chapters 3, 6, and 16"
   ]
  },
  {
   "cell_type": "markdown",
   "metadata": {
    "id": "fHmKWsUSKuj4",
    "nbgrader": {
     "grade": false,
     "locked": true,
     "solution": false
    }
   },
   "source": [
    "<div id=\"modules\"></div><br>\n",
    "<h2>2.2 Python Modules</h2><br><div style=\"text-align: justify\">Previously, you have learned how to: <br><br>1) initialize variables in Python; <br>2) perform simple actions with them (eg.: adding numbers together, displaying variables content, etc);<br>3) work with functions (have your own code in a function to reuse it many times or use a function, which was written by another person). <br><br>However, the scope of the last Notebook was limited by your Python knowledge and available functions in standard/vanilla Python (so-called <a href=\"https://docs.python.org/3/library/functions.html\">'built-in' Python functions</a>).\n",
    "There are not many Python built-in functions that can be useful for you, such as functions for math, plotting, signal processing, etc. Luckily, there are countless modules/packages written by other people.\n",
    "</div>\n"
   ]
  },
  {
   "cell_type": "markdown",
   "metadata": {
    "id": "oyr90lgAQGtD",
    "nbgrader": {
     "grade": false,
     "locked": true,
     "solution": false
    }
   },
   "source": [
    "<h3>Python built-in modules</h3><br><div style=\"text-align: justify\">By installing any version of Python, you also automatically install its built-in modules.<br><br>One may wonder — why do they provide some functions within built-in modules, but not directly as a built-in function, such as the <b><code>abs()</code></b> or <b><code>print()</code></b>?<br><br>The answers may vary, but, generally, it is to keep your code clean; compact; and, working. It keeps your code clean and compact as you only load functions that you need. It keeps your code working as it allows you to define your own functions with (almost) any kind of name, and use them easily, without worrying that you might break something if there is a function with the same name that does something completely different.</div>"
   ]
  },
  {
   "cell_type": "markdown",
   "metadata": {
    "id": "67a2hkUyRh_P",
    "nbgrader": {
     "grade": false,
     "locked": true,
     "solution": false
    }
   },
   "source": [
    "<h4><code>math</code></h4><br><div style=\"text-align: justify\">The <code>math</code> module is one of the most popular modules since it contains all implementations of basic math functions ($sin$, $cos$, $exp$, rounding, and other functions — the full list can be found <a href=\"https://docs.python.org/3/library/math.html\">here</a>). <br><br>In order to access it, you just have to import it into your code with an <b><code>import</code></b> statement.\n",
    "</div>"
   ]
  },
  {
   "cell_type": "code",
   "execution_count": null,
   "metadata": {
    "colab": {
     "base_uri": "https://localhost:8080/"
    },
    "id": "A1WjrfHoHYFV",
    "nbgrader": {
     "grade": false,
     "locked": true,
     "solution": false
    },
    "outputId": "e14b2fc7-6b0b-4f6e-8342-45c3791030b9"
   },
   "outputs": [],
   "source": [
    "# importing all contents of the module math\n",
    "import math\n",
    "\n",
    "print(math) # showing that math is actually a built-in Python module"
   ]
  },
  {
   "cell_type": "markdown",
   "metadata": {
    "id": "0ssGu7FsTEtz",
    "nbgrader": {
     "grade": false,
     "locked": true,
     "solution": false
    }
   },
   "source": [
    "You can now use its functions like this:"
   ]
  },
  {
   "cell_type": "code",
   "execution_count": null,
   "metadata": {
    "colab": {
     "base_uri": "https://localhost:8080/"
    },
    "id": "11FBTZH7TATg",
    "nbgrader": {
     "grade": false,
     "locked": true,
     "solution": false
    },
    "outputId": "41f2699c-47a3-4ed2-f7be-b1f2ea059819"
   },
   "outputs": [],
   "source": [
    "print(f'Square root of 16 is equal to {math.sqrt(16)}')"
   ]
  },
  {
   "cell_type": "markdown",
   "metadata": {
    "id": "0EscmfkpTxXv",
    "nbgrader": {
     "grade": false,
     "locked": true,
     "solution": false
    }
   },
   "source": [
    "You can also use the constants defined within the module, such as **`math.pi`**:"
   ]
  },
  {
   "cell_type": "code",
   "execution_count": null,
   "metadata": {
    "colab": {
     "base_uri": "https://localhost:8080/"
    },
    "id": "DtwKkug2TiGT",
    "nbgrader": {
     "grade": false,
     "locked": true,
     "solution": false
    },
    "outputId": "60ffed22-e0e0-459b-e1dc-d35edfb5a3ff"
   },
   "outputs": [],
   "source": [
    "print(f'π is equal to {math.pi}')\n",
    "\n",
    "print(f\"and Euler's number e is {math.e}\")\n"
   ]
  },
  {
   "cell_type": "markdown",
   "metadata": {
    "id": "M8OQGFnGf_S9",
    "nbgrader": {
     "grade": false,
     "locked": true,
     "solution": false
    }
   },
   "source": [
    "<h4><code>math.pi</code></h4><br><div style=\"text-align: justify\">As you can see, both constants and functions of a module are accessed by using: the module's name (in this case <b><code>math</code></b>) and a <b><code>.</code></b> followed by the name of the constant/function (in this case <b><code>pi</code></b>).<br><br>We are able to do this since we have loaded all contents of the module by using the <b><code>import</code></b> keyword. If we try to use these functions somehow differently — we will get an error:"
   ]
  },
  {
   "cell_type": "code",
   "execution_count": null,
   "metadata": {
    "colab": {
     "base_uri": "https://localhost:8080/",
     "height": 201
    },
    "id": "98zHvteQUA3S",
    "nbgrader": {
     "grade": false,
     "locked": true,
     "solution": false
    },
    "outputId": "914a0a33-dfc6-45bc-d4c2-941ec4e666a9"
   },
   "outputs": [],
   "source": [
    "print('Square root of 16 is equal to')\n",
    "print(sqrt(16))"
   ]
  },
  {
   "cell_type": "markdown",
   "metadata": {
    "id": "LRTVWDEqhGyk",
    "nbgrader": {
     "grade": false,
     "locked": true,
     "solution": false
    }
   },
   "source": [
    "<div style=\"text-align: justify\">\n",
    "You could, however, directly specify the functionality of the module you want to access. Then, the above cell would work.<br><br>This is done by typing: <code>from <b>module_name</b> import <b>necessary_functionality</b></code>, as shown below:"
   ]
  },
  {
   "cell_type": "code",
   "execution_count": null,
   "metadata": {
    "colab": {
     "base_uri": "https://localhost:8080/"
    },
    "id": "By8SDKMXhBKD",
    "nbgrader": {
     "grade": false,
     "locked": true,
     "solution": false
    },
    "outputId": "b277aeda-58a3-4e6d-de0e-038d843d77fe"
   },
   "outputs": [],
   "source": [
    "from math import sqrt\n",
    "\n",
    "print(f'Square root of 16 is equal to {sqrt(16)}.')"
   ]
  },
  {
   "cell_type": "code",
   "execution_count": null,
   "metadata": {
    "colab": {
     "base_uri": "https://localhost:8080/"
    },
    "id": "pVo16M0whkK7",
    "nbgrader": {
     "grade": false,
     "locked": true,
     "solution": false
    },
    "outputId": "053cee25-dc6b-4604-d69c-1025bbf60e6c"
   },
   "outputs": [],
   "source": [
    "from math import pi\n",
    "\n",
    "print(f'π is equal to {pi}.')"
   ]
  },
  {
   "cell_type": "markdown",
   "metadata": {
    "nbgrader": {
     "grade": false,
     "locked": true,
     "solution": false
    }
   },
   "source": [
    "<h4>Listing all functions</h4><br><div style=\"text-align: justify\"> Sometimes, when you use a module for the first time, you may have no clue about the functions inside of it. In order to unveil all the potential a module has to offer, you can either access the documentation on the corresponding web resource or you can use some Python code, as shown below:\n",
    "  "
   ]
  },
  {
   "cell_type": "code",
   "execution_count": null,
   "metadata": {
    "nbgrader": {
     "grade": false,
     "locked": true,
     "solution": false
    }
   },
   "outputs": [],
   "source": [
    "import math\n",
    "\n",
    "# listing all contents of a module\n",
    "print('contents of math:', dir(math))\n",
    "\n",
    "# trying to learn something about, let's say, the hypot thingy\n",
    "# note that \\n here is used to add a new line\n",
    "print('\\n\\nmath.hypot is a', math.hypot) "
   ]
  },
  {
   "cell_type": "code",
   "execution_count": null,
   "metadata": {
    "nbgrader": {
     "grade": false,
     "locked": true,
     "solution": false
    }
   },
   "outputs": [],
   "source": [
    "# you can also use ? or ?? to read the documentation about it in Python\n",
    "math??"
   ]
  },
  {
   "cell_type": "markdown",
   "metadata": {
    "id": "2SUM0W23oAdC",
    "nbgrader": {
     "grade": false,
     "locked": true,
     "solution": false
    }
   },
   "source": [
    "<h3>Python third-party modules</h3><br><div style=\"text-align: justify\"> Besides built-in modules, there are also modules developed by other people and companies, which can be also used in your code.\n",
    "These modules are not installed by default in Python, they are usually installed by using the <i>'pip'</i> or <i>'conda'</i> package managers. Once they have been installed, they are accessed like any other Python module.\n",
    "\n",
    "However, for the purpose of this course, you will not need to use these since Anaconda has all the needed modules already installed."
   ]
  },
  {
   "cell_type": "markdown",
   "metadata": {
    "id": "PQbf2l1kAOWu",
    "nbgrader": {
     "grade": false,
     "locked": true,
     "solution": false
    }
   },
   "source": [
    "<div class=\"alert alert-block alert-danger\"><b>Additional study material:</b>\n",
    "    \n",
    "* Official Python Documentation - https://docs.python.org/3/tutorial/modules.html\n",
    "* Think Python (2nd ed.) - Chapters 3 and 14 \n",
    "</div>"
   ]
  },
  {
   "cell_type": "markdown",
   "metadata": {
    "id": "fHmKWsUSKuj4",
    "nbgrader": {
     "grade": false,
     "locked": true,
     "solution": false
    }
   },
   "source": [
    "<div id='condition_if'></div><br><h2> 2.3 Conditions and <code>if</code> statements</h2><br><div style=\"text-align: justify\">In this Section you will learn how to control the flow of your code — process data differently based on some conditions. For that you will learn a construction called the <b><code>if</code></b> statement.\n",
    "\n"
   ]
  },
  {
   "cell_type": "markdown",
   "metadata": {
    "id": "oyr90lgAQGtD",
    "nbgrader": {
     "grade": false,
     "locked": true,
     "solution": false
    }
   },
   "source": [
    "<h3><code>if </code>keyword</h3><br><div style=\"text-align: justify\">The <b><code>if</code></b> statement in Python is similar to how we use it in English. <i>\"If I have apples, I can make an apple pie\"</i> — clearly states that an apple pie will exist under the condition of you having apples. Otherwise, no pie. <br><br>\n",
    "Well, it is the same in Python:"
   ]
  },
  {
   "cell_type": "code",
   "execution_count": null,
   "metadata": {
    "colab": {
     "base_uri": "https://localhost:8080/"
    },
    "id": "QGXlz9tvM56U",
    "nbgrader": {
     "grade": false,
     "locked": true,
     "solution": false
    },
    "outputId": "63cc3e01-7c4c-4829-d4b2-9ae08b587791"
   },
   "outputs": [],
   "source": [
    "amount_of_apples = 0\n",
    "\n",
    "if amount_of_apples > 0:\n",
    "    print(\"You have apples!\\nLet's make a pie!\")\n",
    "\n",
    "print('End of the cell block...')"
   ]
  },
  {
   "cell_type": "markdown",
   "metadata": {
    "id": "qiElV_BSNYgl",
    "nbgrader": {
     "grade": false,
     "locked": true,
     "solution": false
    }
   },
   "source": [
    "<div style=\"text-align: justify\">As you can see - nothing is printed besides <i>'End of the cell block...'.<br><br></i>But we can clearly see that there is another print statement! Why it is not printed? Because we have no apples... thus no pie for you.<br><br>Let's acquire some fruit and see whether something will change..."
   ]
  },
  {
   "cell_type": "code",
   "execution_count": null,
   "metadata": {
    "colab": {
     "base_uri": "https://localhost:8080/"
    },
    "id": "ja5Tz_GLNoUH",
    "nbgrader": {
     "grade": false,
     "locked": true,
     "solution": false
    },
    "outputId": "6bd36f78-2958-4bb6-ffcc-420951b3f8ba"
   },
   "outputs": [],
   "source": [
    "# adding 5 apples to our supply\n",
    "\n",
    "amount_of_apples += 5\n",
    "\n",
    "if amount_of_apples > 0:\n",
    "    print(\"You have apples!\\nLet's make a pie!\") \n",
    "\n",
    "print('End of the cell block...')"
   ]
  },
  {
   "cell_type": "markdown",
   "metadata": {
    "id": "UYZHMFlmNyyA",
    "nbgrader": {
     "grade": false,
     "locked": true,
     "solution": false
    }
   },
   "source": [
    "<div style=\"text-align: justify\">Now you can see that the same <b><code>if</code></b> statement prints text. It happened because our statement <b><code>amount_of_apples > 0</code></b> is now <b><code>True</code></b>.<br><br>That's how an <b><code>if</code></b> statement works — you type the <b><code>if</code></b> keyword, a statement and a colon. Beneath it, with an indentation of 4 spaces (1 tab), you place any code you want to run in case that <b><code>if</code></b> statement is <b><code>True</code></b>. This indentation is the same as described in Notebook 1 when defining a function.<br><br>If the result of the conditional expression is <b><code>False</code></b>, then the code inside of the <b><code>if</code></b> statement block will not run. Here's another example:"
   ]
  },
  {
   "cell_type": "code",
   "execution_count": null,
   "metadata": {
    "colab": {
     "base_uri": "https://localhost:8080/"
    },
    "id": "b1eW-x-3QMbZ",
    "nbgrader": {
     "grade": false,
     "locked": true,
     "solution": false
    },
    "outputId": "5d7df045-b19f-432d-e620-30d7cb34f605"
   },
   "outputs": [],
   "source": [
    "my_age = 25\n",
    "\n",
    "if my_age >= 18 and my_age <= 65:\n",
    "    print(\"I'm an adult, I have to work right now :(\")\n",
    "\n",
    "print('End of the cell block...')"
   ]
  },
  {
   "cell_type": "markdown",
   "metadata": {
    "id": "7dhdkRKERIz_",
    "nbgrader": {
     "grade": false,
     "locked": true,
     "solution": false
    }
   },
   "source": [
    "<div style=\"text-align: justify\">Slightly different setting but still the same construction. As you can see in this case, the condition of the <b><code>if</code></b> statement is more complicated than the previous one. It combines two smaller conditions by using the keyword <b><code>and</code></b>. Only if both conditions are <b><code>True</code></b> the final result is <b><code>True</code></b> (otherwise it would be <b><code>False</code></b>). <br><br></div>\n",
    "<b><div class=\"alert alert-block alert-warning\"><center>Thus, the condition can be as long and as complicated as you want it to be, just make sure that it is readable.</center></div></b>."
   ]
  },
  {
   "cell_type": "markdown",
   "metadata": {
    "id": "h3uicp2sTA5x",
    "nbgrader": {
     "grade": false,
     "locked": true,
     "solution": false
    }
   },
   "source": [
    "<h3><code>elif</code> keyword</h3><br>Now, let's add a bit more logic to our last example:"
   ]
  },
  {
   "cell_type": "code",
   "execution_count": null,
   "metadata": {
    "colab": {
     "base_uri": "https://localhost:8080/"
    },
    "id": "cZQHBzWcSdn8",
    "nbgrader": {
     "grade": false,
     "locked": true,
     "solution": false
    },
    "outputId": "0fdc9367-527d-4c1c-d4a2-b15d230a0f79"
   },
   "outputs": [],
   "source": [
    "my_age = 25\n",
    "\n",
    "if my_age >= 18 and my_age <= 65:\n",
    "    print(\"I'm an adult, I have to work right now :(\")\n",
    "elif my_age > 65:\n",
    "    print(\"I can finally retire!\")\n",
    "\n",
    "print('End of the cell block...')"
   ]
  },
  {
   "cell_type": "markdown",
   "metadata": {
    "id": "_6NOt61ZSufk",
    "nbgrader": {
     "grade": false,
     "locked": true,
     "solution": false
    }
   },
   "source": [
    "Still the same output, but what if we change our age..."
   ]
  },
  {
   "cell_type": "code",
   "execution_count": null,
   "metadata": {
    "colab": {
     "base_uri": "https://localhost:8080/"
    },
    "id": "QZ-AGXaJSy7j",
    "nbgrader": {
     "grade": false,
     "locked": true,
     "solution": false
    },
    "outputId": "9208a2bb-328b-4fe0-d1fd-65c443c8902f"
   },
   "outputs": [],
   "source": [
    "my_age = 66\n",
    "\n",
    "if my_age >= 18 and my_age <= 65:\n",
    "    print(\"I'm an adult, I have to work right now :(\") # msg #1\n",
    "elif my_age > 65:\n",
    "    print(\"I can finally retire!\") # msg #2\n",
    "\n",
    "print('End of the cell block...')"
   ]
  },
  {
   "cell_type": "markdown",
   "metadata": {
    "id": "u8RcnX-sTm4G",
    "nbgrader": {
     "grade": false,
     "locked": true,
     "solution": false
    }
   },
   "source": [
    "<div style=\"text-align: justify\">See.. we have a different output. Changing the value of our variable <b><code>my_age</code></b> changed the output of the <b><code>if</code></b> statement. Furthermore, the <b><code>elif</code></b> keyword helped us to add more logic to our code. \n",
    "    <code>elif</code> is short for else if.\n",
    "    Now, we have three different output scenarios:<br>\n",
    "- print message #$1$ if <b><code>my_age</code></b> is within the $[18, 65]$ range;<br>\n",
    "- print message #$2$ if <b><code>my_age</code></b> is bigger than $65$; and, <br>\n",
    "- print none of them if <b><code>my_age</code></b> doesn't comply with none of the conditions (as shown below)."
   ]
  },
  {
   "cell_type": "code",
   "execution_count": null,
   "metadata": {
    "colab": {
     "base_uri": "https://localhost:8080/"
    },
    "id": "9r9Mx2gkVyS7",
    "nbgrader": {
     "grade": false,
     "locked": true,
     "solution": false
    },
    "outputId": "4a513321-cca9-4c5e-ee7d-da2157e039d5"
   },
   "outputs": [],
   "source": [
    "my_age = 15\n",
    "\n",
    "if my_age >= 18 and my_age <= 65:\n",
    "    print(\"I'm an adult, I have to work right now :(\") # msg #1\n",
    "elif my_age > 65:\n",
    "    print(\"I can finally retire!\") # msg #2\n",
    "\n",
    "print('End of the cell block...')"
   ]
  },
  {
   "cell_type": "markdown",
   "metadata": {
    "id": "1lfzBWNfVwN0",
    "nbgrader": {
     "grade": false,
     "locked": true,
     "solution": false
    }
   },
   "source": [
    "<div style=\"text-align: justify\">\n",
    "One can also substitute an <code>elif</code> block by a different <code>if</code> block, however it is preferred to use <code>elif</code> instead to <i>\"keep the condition together\"</i> and to reduce code size.</div><br>\n",
    "<div class=\"alert alert-block alert-warning\"><center>It is important to know that there should be only <b>one</b> <code>if</code> block and <b>any number of</b> <code>elif</code> blocks within it.</center></div><br>A last example below:"
   ]
  },
  {
   "cell_type": "code",
   "execution_count": null,
   "metadata": {
    "colab": {
     "base_uri": "https://localhost:8080/"
    },
    "id": "0krMMx5DYpeO",
    "nbgrader": {
     "grade": false,
     "locked": true,
     "solution": false
    },
    "outputId": "19ac187f-b814-4aa5-ef91-9db6691ded6c"
   },
   "outputs": [],
   "source": [
    "# Setting my_age to run the first elif block\n",
    "my_age = 88\n",
    "\n",
    "if my_age >= 18 and my_age <= 65:\n",
    "    print(\"I'm an adult, I have to work right now :(\")\n",
    "elif my_age > 65:\n",
    "    print(\"I can finally retire!\")\n",
    "elif my_age < 10:\n",
    "    print(\"I'm really, really young\")\n",
    "\n",
    "# Setting my_age to run the second elif block\n",
    "my_age = 7\n",
    "\n",
    "if my_age >= 18 and my_age <= 65:\n",
    "    print(\"I'm an adult, I have to work right now :(\")\n",
    "elif my_age > 65:\n",
    "    print(\"I can finally retire!\")\n",
    "elif my_age < 10:\n",
    "    print(\"I'm really really young\")\n",
    "\n",
    "print('End of the cell block...')"
   ]
  },
  {
   "cell_type": "markdown",
   "metadata": {
    "id": "WGUFngFNV6ys",
    "nbgrader": {
     "grade": false,
     "locked": true,
     "solution": false
    }
   },
   "source": [
    "<h3><code>else</code> keyword</h3><br><div style=\"text-align: justify\">We can go even further and add an additional scenario to our <b><code>if</code></b> statement with the <b><code>else</code></b> keyword. It runs the code inside of it <b>only</b> when none of the <b><code>if</code></b> and <b><code>elif</code></b> conditions are <b><code>True</code></b>:"
   ]
  },
  {
   "cell_type": "code",
   "execution_count": null,
   "metadata": {
    "colab": {
     "base_uri": "https://localhost:8080/"
    },
    "id": "ieXD271nW903",
    "nbgrader": {
     "grade": false,
     "locked": true,
     "solution": false
    },
    "outputId": "ff7edbd8-33b5-4b6e-c7e7-657ec1d4e8a0"
   },
   "outputs": [],
   "source": [
    "my_age = 13\n",
    "\n",
    "if my_age >= 18 and my_age <= 65:\n",
    "    print(\"I'm an adult, I have to work right now :(\")\n",
    "elif my_age > 65:\n",
    "    print(\"I can finally retire!\")\n",
    "elif my_age < 10:\n",
    "    print(\"I'm really really young\")\n",
    "else:\n",
    "    print(\"I'm just young\")\n",
    "\n",
    "print('End of the cell block...')"
   ]
  },
  {
   "cell_type": "markdown",
   "metadata": {
    "id": "5_e10m98XJIn",
    "nbgrader": {
     "grade": false,
     "locked": true,
     "solution": false
    }
   },
   "source": [
    "<div style=\"text-align: justify\">\n",
    "    On the previous example, since <b><code>my_age</code></b> is <b>not</b> between $[18,65]$, <b>nor</b> bigger than $65$, <b>nor</b> smaller than $10$, the <b><code>else</code></b> block is run.\n",
    "\n",
    "Below, a final example:"
   ]
  },
  {
   "cell_type": "code",
   "execution_count": null,
   "metadata": {
    "colab": {
     "base_uri": "https://localhost:8080/"
    },
    "id": "Qc9WVQTxX76r",
    "nbgrader": {
     "grade": false,
     "locked": true,
     "solution": false
    },
    "outputId": "e4a5e6aa-6ebc-43c0-f7f2-eab350c66a8f"
   },
   "outputs": [],
   "source": [
    "# Setting age to run the if block\n",
    "my_age = 27\n",
    "\n",
    "if my_age >= 18 and my_age <= 65:\n",
    "    print(\"I'm an adult, I have to work right now :(\")\n",
    "elif my_age > 65:\n",
    "    print(\"I can finally retire!\")\n",
    "elif my_age < 10:\n",
    "    print(\"I'm really really young\")\n",
    "else:\n",
    "    print(\"I'm just young\")\n",
    "\n",
    "print('End of the cell block...')\n",
    "print('------------------------')\n",
    "\n",
    "# Setting age to run the first elif block\n",
    "my_age = 71\n",
    "\n",
    "if my_age >= 18 and my_age <= 65:\n",
    "    print(\"I'm an adult, I have to work right now :(\")\n",
    "elif my_age > 65: # first elif block\n",
    "    print(\"I can finally retire!\")\n",
    "elif my_age < 10:\n",
    "    print(\"I'm really really young\")\n",
    "else:\n",
    "    print(\"I'm just young\")\n",
    "\n",
    "print('End of the cell block...')\n",
    "print('------------------------')\n",
    "\n",
    "# Setting age to run the second elif block\n",
    "my_age = 9\n",
    "\n",
    "if my_age >= 18 and my_age <= 65:\n",
    "    print(\"I'm an adult, I have to work right now :(\")\n",
    "elif my_age > 65:\n",
    "    print(\"I can finally retire!\")\n",
    "elif my_age < 10: # second elif block\n",
    "    print(\"I'm really really young\")\n",
    "else:\n",
    "    print(\"I'm just young\")\n",
    "\n",
    "print('End of the cell block...')\n",
    "print('------------------------')\n",
    "\n",
    "# Setting age to run the else block\n",
    "my_age = 13\n",
    "\n",
    "if my_age >= 18 and my_age <= 65:\n",
    "    print(\"I'm an adult, I have to work right now :(\")\n",
    "elif my_age > 65:\n",
    "    print(\"I can finally retire!\")\n",
    "elif my_age < 10:\n",
    "    print(\"I'm really really young\")\n",
    "else: # else block\n",
    "    print(\"I'm just young\")\n",
    "\n",
    "print('End of the cell block...')\n",
    "print('------------------------')"
   ]
  },
  {
   "cell_type": "markdown",
   "metadata": {
    "id": "xAytN9YkYOtw",
    "nbgrader": {
     "grade": false,
     "locked": true,
     "solution": false
    }
   },
   "source": [
    "<div style=\"text-align: justify\">That's almost everything you have to know about <b><code>if</code></b> statements! The last two things are:<br><br>\n",
    "1) It goes from top to bottom. When the first condition to be <b><code>True</code></b> runs, it skips all conditions after it — as shown below:"
   ]
  },
  {
   "cell_type": "code",
   "execution_count": null,
   "metadata": {
    "colab": {
     "base_uri": "https://localhost:8080/"
    },
    "id": "clMld7oKa0n7",
    "nbgrader": {
     "grade": false,
     "locked": true,
     "solution": false
    },
    "outputId": "5cfedbfb-f653-4d90-abd0-658353746aea"
   },
   "outputs": [],
   "source": [
    "random_number = 17\n",
    "\n",
    "if random_number > 35:\n",
    "    print('Condition #1')\n",
    "elif random_number > 25:\n",
    "    print('Condition #2')\n",
    "elif random_number > 15:\n",
    "    print('Condition #3')\n",
    "elif random_number > 5:\n",
    "    print('Condition #4')\n",
    "else:\n",
    "    print('Condition #5')"
   ]
  },
  {
   "cell_type": "markdown",
   "metadata": {
    "id": "rfwRtedNbVs8",
    "nbgrader": {
     "grade": false,
     "locked": true,
     "solution": false
    }
   },
   "source": [
    "<div style=\"text-align: justify\">2) You can put almost everything inside each condition block and you can define variables within each block:"
   ]
  },
  {
   "cell_type": "code",
   "execution_count": null,
   "metadata": {
    "colab": {
     "base_uri": "https://localhost:8080/",
     "height": 242
    },
    "id": "5II4-Zcvbf3j",
    "nbgrader": {
     "grade": false,
     "locked": true,
     "solution": false
    },
    "outputId": "cb2f7c29-2970-48a2-eacc-56d6e3f1a829"
   },
   "outputs": [],
   "source": [
    "my_income = 150\n",
    "my_degree = 'BSc'\n",
    "\n",
    "if my_degree == 'BSc':\n",
    "    x = 5\n",
    "    if my_income > 300:\n",
    "        b = 2\n",
    "        print('I am a rich BSc student')\n",
    "    else:\n",
    "        print('I am a poor BSc student')\n",
    "\n",
    "elif my_degree == 'MSc':\n",
    "\n",
    "    if my_income > 300:\n",
    "        print('I am a rich MSc student')\n",
    "    else:\n",
    "        print('I am a poor MSc student')\n",
    "\n",
    "print('x =', x)\n",
    "print('b =', b)"
   ]
  },
  {
   "cell_type": "markdown",
   "metadata": {
    "id": "9nDrNWr2cjMd",
    "nbgrader": {
     "grade": false,
     "locked": true,
     "solution": false
    }
   },
   "source": [
    "<div style=\"text-align: justify\">As you can see, we can make it as complicated as we want in terms of conditional branching.<br><br>Additionally, you can see that only variables within the blocks which run were created, while other variables were not. Thus, we have a <i>NameError</i> that we tried to access a variable <b><code>(b)</code></b> that was not defined."
   ]
  },
  {
   "cell_type": "markdown",
   "metadata": {
    "id": "su7ODKnqB7tv",
    "nbgrader": {
     "grade": false,
     "locked": true,
     "solution": false
    }
   },
   "source": [
    "<div class=\"alert alert-block alert-info\"><b> Exercise 2.3.1</b><br><br><div style=\"text-align: justify\">One of the most crucial applications of <code>if</code> statements is filtering the data from errors and checking whether an error is within a certain limit.<br><br>For example, checking whether the difference between an estimated value and the actual value are within a certain range.<br><br>\n",
    "Mathematically speaking, this can be expressed as<br><br> $$|\\hat{y} - y| < \\epsilon$$<br>where $\\hat{y}$ is your estimated value, $y$ is the actual value and $\\epsilon$ is a certain error threshold.<br><br><br>The function <code>check_error_size()</code> below must do the same — it should return <code>True</code> if the error is within the acceptable range <code>eps</code> and <code>False</code> if it is not.</div>"
   ]
  },
  {
   "cell_type": "code",
   "execution_count": null,
   "metadata": {
    "id": "y5NHCoFlp0dF"
   },
   "outputs": [],
   "source": [
    "def check_error_size(estimated_value, true_value, eps):\n",
    "    ... # your if statement (error in acceptable range)\n",
    "        return True\n",
    "    ... # statement if not in acceptable range\n",
    "        return False\n",
    "\n",
    "#You can try to check it by yourself by running the function with some self-chosen numbers\n",
    "print(check_error(0.5, 0.4, 0.2))\n",
    "\n",
    "#Make your own tests below.\n"
   ]
  },
  {
   "cell_type": "markdown",
   "metadata": {
    "id": "HH2SHjK9rypL",
    "nbgrader": {
     "grade": false,
     "locked": true,
     "solution": false
    }
   },
   "source": [
    "<div class=\"alert alert-block alert-info\"><b>Exercise 2.3.2</b><br><br><div style=\"text-align: justify\">Use the knowledge you have obtained in this Notebook and write your very own function to classify soil samples based on the average grain size. The classification you have to implement is the following:<br></div>\n",
    "\n",
    "1.   Clay: avg grain size $<$ 0.002 mm\n",
    "2.   Silt: 0.002 mm $\\leq$ avg grain size $<$ 0.063 mm\n",
    "3.   Sand: 0.063 mm $\\leq$ avg grain size $<$ 2 mm\n",
    "4.   Gravel: 2 mm $\\leq$ avg grain size $<$ 63 mm\n",
    "\n",
    "<div style=\"text-align: justify\">Your task is to write the function, which will return the name of the soil type based on the provided average grain size in millimeters.</div>"
   ]
  },
  {
   "cell_type": "code",
   "execution_count": null,
   "metadata": {
    "id": "zn9ifDM8tJoX"
   },
   "outputs": [],
   "source": [
    "def classify_soil(avg_grain_size):\n",
    "    ...\n",
    "\n",
    "\n",
    "print(classify_soil(1.5))\n",
    "print(classify_soil(0.002))\n",
    "print(classify_soil(4))"
   ]
  },
  {
   "cell_type": "markdown",
   "metadata": {
    "id": "esf3kvxPtKB1",
    "nbgrader": {
     "grade": false,
     "locked": true,
     "solution": false
    }
   },
   "source": [
    "<div class=\"alert alert-block alert-info\"><b>Exercise 2.3.3 — Triangle Inequality</b><br><br><div style=\"text-align: justify\">Let's imagine that you received a request to manage a web-application, which provides and visualizes <a href=\"https://en.wikipedia.org/wiki/Interferometric_synthetic-aperture_radar\"><b>InSAR</b></a> data of the estimated displacement in an area.<br><br>The app is already quite cool, however, there is always room for improvement. For example, one might want to look into the statistics over the area of a triangle.<br><br>Your goal is to help implement such functionality by checking whether the user selected a valid triangle. You need to do this by checking that the length of <b>each</b> of the sides is smaller than the sum of the other two (this condition is called the triangle inequality).</div>"
   ]
  },
  {
   "cell_type": "code",
   "execution_count": null,
   "metadata": {
    "id": "yWqQpiUHtWxo"
   },
   "outputs": [],
   "source": [
    "def check_triangle(side_a, side_b, side_c):\n",
    "    ...\n",
    "\n",
    "\n",
    "print(check_triangle(1, 2, 4)) # invalid\n",
    "print(check_triangle(1, 2, 3)) # border-line (the triangle is flat) you may classify this as invalid\n",
    "print(check_triangle(3, 4, 5)) # valid\n"
   ]
  },
  {
   "cell_type": "markdown",
   "metadata": {
    "id": "lDKimbtECAAz",
    "nbgrader": {
     "grade": false,
     "locked": true,
     "solution": false
    }
   },
   "source": [
    "<div class=\"alert alert-block alert-danger\"><b>Additional study material:</b>\n",
    "    \n",
    "* Official Python Documentation - https://docs.python.org/3/tutorial/controlflow.html\n",
    "* Think Python (2nd ed.) - Chapter 5</div>"
   ]
  },
  {
   "cell_type": "markdown",
   "metadata": {
    "id": "fHmKWsUSKuj4",
    "nbgrader": {
     "grade": false,
     "locked": true,
     "solution": false
    }
   },
   "source": [
    "<div id=\"datastructure\"></div><br><h2>2.4 Data Structures</h2><br><div style=\"text-align: justify\">In this Section you will tackle a data management problem! In the first module you have learned how to create variables, which is cool. But when you populate a lot of variables, or you want to store & access them within one entity, you need to have a data structure.<br><br>There are plenty of them, which differ their use cases and complexity. Today we will tackle some of the standard Python built-in data structures. The most popular of those are: <b><code>list</code></b>, <b><code>dict</code></b> and <b><code>tuple</code></b>."
   ]
  },
  {
   "cell_type": "markdown",
   "metadata": {
    "id": "BcEOnv2kTT9A",
    "nbgrader": {
     "grade": false,
     "locked": true,
     "solution": false
    }
   },
   "source": [
    "<h3><code>list</code></h3><br><div style=\"text-align: justify\">First, the easiest and the most popular data structure in Python: <b><code>list</code></b> (which is similar to a typical array you could have seen in a different programming language).<br><br>\n",
    "You can create a list in the following ways:"
   ]
  },
  {
   "cell_type": "code",
   "execution_count": null,
   "metadata": {
    "colab": {
     "base_uri": "https://localhost:8080/"
    },
    "id": "U8OUPaXESz44",
    "nbgrader": {
     "grade": false,
     "locked": true,
     "solution": false
    },
    "outputId": "ee38751f-5efe-4a85-a9a9-a34efc3bfb02"
   },
   "outputs": [],
   "source": [
    "# 1). Creating an empty list, option 1\n",
    "\n",
    "empty_list1 = []\n",
    "print('Type of my_list1 object', type(empty_list1))\n",
    "print('Contents of my_list1', empty_list1)\n",
    "print('--------------------')\n",
    "\n",
    "# 2). Creating an empty list, option 2 - using the class constructor\n",
    "\n",
    "empty_list2 = list()\n",
    "print('Type of my_list2 object', type(empty_list2))\n",
    "print('Contents of my_list2', empty_list2)\n",
    "print('--------------------')\n",
    "\n",
    "# 3). Creating a list from existing data - option 1\n",
    "\n",
    "my_var1 = 5\n",
    "my_var2 = \"hello\"\n",
    "my_var3 = 37.5\n",
    "\n",
    "my_list = [my_var1, my_var2, my_var3]\n",
    "print('Type of my_list3 object', type(my_list))\n",
    "print('Contents of my_list3', my_list)\n",
    "print('--------------------')\n",
    "\n",
    "# 4). Creating a list from existing data - option 2\n",
    "\n",
    "cool_rock = \"sandstone\" # remember that a string is a collection of characters\n",
    "\n",
    "list_with_letters = list(cool_rock)\n",
    "\n",
    "print('Type of my_list3 object', type(list_with_letters))\n",
    "print('Contents of list_with_letters', list_with_letters)\n",
    "print('--------------------')\n"
   ]
  },
  {
   "cell_type": "markdown",
   "metadata": {
    "id": "I-9MNCzBUgH9",
    "nbgrader": {
     "grade": false,
     "locked": true,
     "solution": false
    }
   },
   "source": [
    "<div style=\"text-align: justify\">As you can see, in all three cases we created a list, only the method how we did it was slightly different: <br><br>\n",
    "- the first method uses the bracket notation,<br>\n",
    "- the second method uses class constructor approach. <br><br>\n",
    "Both methods also apply to the other data structures.<br><br>\n",
    "Now, we have a list — what can we do with it?\n",
    "Well... we can access and modify any element of an existing list. In order to access a list element, square brackets <b><code>[]</code></b> are used with the index of the element we want to access inside. Sounds easy, but keep in mind that Python has a zero-based indexing (as mentioned in Section 1.4 in Notebook 1).<br><br> \n",
    "  As a reminder, a zero-based indexing means that the first element has index 0 (not 1), the second element has index 1 (not 2) and the n-th element has index n - 1 (not n)!"
   ]
  },
  {
   "cell_type": "code",
   "execution_count": null,
   "metadata": {
    "colab": {
     "base_uri": "https://localhost:8080/",
     "height": 295
    },
    "id": "CksNFv0AVmLw",
    "nbgrader": {
     "grade": false,
     "locked": true,
     "solution": false
    },
    "outputId": "bbddff89-959c-4065-89a5-04500ceedf91"
   },
   "outputs": [],
   "source": [
    "# len() function returns the lengths of an iterable (string, list, array, etc)\n",
    "print(len(my_list))\n",
    "\n",
    "# We have 3 elements, thus we can access 0th, 1st, and 2nd elements\n",
    "print('First element of my list:', my_list[0])\n",
    "\n",
    "print('Last element of my list:', my_list[2])\n",
    "\n",
    "# After the element is accessed, it can be used as any variable,\n",
    "# the list only provides a convenient storage\n",
    "\n",
    "summation = my_list[0] + my_list[2]\n",
    "print(f'Sum of {my_list[0]} and {my_list[2]} is {summation}')\n",
    "\n",
    "# Since it is a storage - we can easily alter and swap list elements\n",
    "my_list[0] += 7\n",
    "my_list[1] = \"My new element\"\n",
    "\n",
    "print(my_list)\n",
    "\n",
    "# However we can only access data we have - Python will give us an error for the following\n",
    "\n",
    "my_list[10] = 199"
   ]
  },
  {
   "cell_type": "markdown",
   "metadata": {
    "id": "zxkLDWef7IM-",
    "nbgrader": {
     "grade": false,
     "locked": true,
     "solution": false
    }
   },
   "source": [
    "<div style=\"text-align: justify\">\n",
    "We can also add new elements to a list, or remove them! Adding is realized with the <b><code>append</code></b> method and removal of an element uses the <b><code>del</code></b> keyword."
   ]
  },
  {
   "cell_type": "code",
   "execution_count": null,
   "metadata": {
    "colab": {
     "base_uri": "https://localhost:8080/"
    },
    "id": "Yos0Cl9C7W1H",
    "nbgrader": {
     "grade": false,
     "locked": true,
     "solution": false
    },
    "outputId": "ba48887c-c2ff-4fc6-a231-68543e8bf97a"
   },
   "outputs": [],
   "source": [
    "# adding a new element to the end of the list\n",
    "my_list.append(\"new addition to  my variable collection!\")\n",
    "print(my_list)\n",
    "\n",
    "# we can also store a list inside a list - list inception! Useful for matrices, images etc\n",
    "my_list.append(['another list', False, 1 + 2j])\n",
    "print(my_list)\n",
    "\n",
    "# Let's remove 37.5\n",
    "\n",
    "del my_list[2]\n",
    "\n",
    "print(my_list)"
   ]
  },
  {
   "cell_type": "markdown",
   "metadata": {
    "id": "WZgLxAbJ8icK",
    "nbgrader": {
     "grade": false,
     "locked": true,
     "solution": false
    }
   },
   "source": [
    "<div style=\"text-align: justify\">\n",
    "Lists also have other useful functionalities, as you can see from the <a href=\"https://docs.python.org/3/tutorial/datastructures.html\">official documentation</a>. Since lists are still objects you can try and apply some operations to them as well."
   ]
  },
  {
   "cell_type": "code",
   "execution_count": null,
   "metadata": {
    "colab": {
     "base_uri": "https://localhost:8080/"
    },
    "id": "UEBv_4u09K9T",
    "nbgrader": {
     "grade": false,
     "locked": true,
     "solution": false
    },
    "outputId": "96987502-088b-48d8-d114-2b9967f2de78"
   },
   "outputs": [],
   "source": [
    "lst1 = [2, 4, False]\n",
    "lst2 = ['second list', 0, 222]\n",
    "\n",
    "#what will happen?\n",
    "lst1 = lst1 + lst2\n",
    "print(lst1)\n",
    "\n",
    "lst2 = lst2 * 4\n",
    "print(lst2)\n",
    "\n",
    "lst2[3] = 5050\n",
    "print(lst2)"
   ]
  },
  {
   "cell_type": "markdown",
   "metadata": {
    "id": "SVvYBl6H96du",
    "nbgrader": {
     "grade": false,
     "locked": true,
     "solution": false
    }
   },
   "source": [
    "<div style=\"text-align: justify\">\n",
    "As you can see, adding lists together concatenates them and multiplying them basically does the same thing (it performs addition several times, just like in real math...).<br><br> Additionally, you can also use the <b><code>in</code></b> keyword to check the presence of a value inside a list."
   ]
  },
  {
   "cell_type": "code",
   "execution_count": null,
   "metadata": {
    "colab": {
     "base_uri": "https://localhost:8080/"
    },
    "id": "15hwh0COFf-p",
    "nbgrader": {
     "grade": false,
     "locked": true,
     "solution": false
    },
    "outputId": "2b3d16c6-9487-49ea-a6f6-8ffb989ac95c"
   },
   "outputs": [],
   "source": [
    "print(lst1)\n",
    "\n",
    "if 222 in lst1:\n",
    "    print('We found 222 inside lst1')\n",
    "else:\n",
    "    print('Nope, nothing there....')"
   ]
  },
  {
   "cell_type": "markdown",
   "metadata": {
    "id": "NAJZYyQd-fG2",
    "nbgrader": {
     "grade": false,
     "locked": true,
     "solution": false
    }
   },
   "source": [
    "<h3><code>tuple</code></h3><br><div style=\"text-align: justify\">If you understood how <code>list</code> works, then you already understand 95% of <b><code>tuple</code></b>. Tuples are just like lists, with some small differences.<br><br>1.   In order to create a tuple you need to use <b><code>()</code></b> brackets, comma or a <b><code>tuple</code></b> class constructor.<br>2.   You can change the content of your list, however tuples are immutable (just like strings).\n",
    "\n"
   ]
  },
  {
   "cell_type": "code",
   "execution_count": null,
   "metadata": {
    "colab": {
     "base_uri": "https://localhost:8080/",
     "height": 313
    },
    "id": "QnEd7YSsE2Ih",
    "nbgrader": {
     "grade": false,
     "locked": true,
     "solution": false
    },
    "outputId": "1a2e1b57-dbff-4c7d-d7c4-8968fecf67a1"
   },
   "outputs": [],
   "source": [
    "# Creating an empty tuple - a bit useless, since you cannot change it\n",
    "\n",
    "tupl1 = tuple() # option 1 with class constructor\n",
    "print('Type of tupl1', type(tupl1))\n",
    "print('Content of tupl1', tupl1)\n",
    "\n",
    "tupl2 = () # option 2 with ()\n",
    "print(type(tupl2), tupl2)"
   ]
  },
  {
   "cell_type": "code",
   "execution_count": null,
   "metadata": {
    "nbgrader": {
     "grade": false,
     "locked": true,
     "solution": false
    }
   },
   "outputs": [],
   "source": [
    "# Creating a non-empty tuple using brackets\n",
    "\n",
    "my_var1 = 26.5\n",
    "my_var2 = 'Oil'\n",
    "my_var3 = False\n",
    "\n",
    "my_tuple = (my_var1, my_var2, my_var3, 'some additional stuff', 777)\n",
    "print('my tuple', my_tuple)\n",
    "\n",
    "# Creating a non-empty tuple using comma\n",
    "\n",
    "comma_tuple = 2, 'hi!', 228\n",
    "print('A comma made tuple', comma_tuple)\n",
    "\n",
    "# now, let's try to access an element\n",
    "print('4th element of my_tuple:', my_tuple[3])\n",
    "\n",
    "# but, can we change it?\n",
    "my_tuple[3] = 'will I change?'"
   ]
  },
  {
   "cell_type": "markdown",
   "metadata": {
    "id": "1RxahCCiHJRl",
    "nbgrader": {
     "grade": false,
     "locked": true,
     "solution": false
    }
   },
   "source": [
    "<div style=\"text-align: justify\">\n",
    "Since tuples are immutable, it has no <b><code>append()</code></b> method nor any other methods to alter them.<br><br>\n",
    "You might think that tuple is a useless class. However, there are some reasons for it to exist:<br><br>\n",
    "1)   Storing constants & objects which shouldn't be changed.<br>\n",
    "2)   Saving memory (tuple uses less memory to store the same data than a list).\n",
    "\n"
   ]
  },
  {
   "cell_type": "code",
   "execution_count": null,
   "metadata": {
    "colab": {
     "base_uri": "https://localhost:8080/"
    },
    "id": "A9cA-BpNIMzd",
    "nbgrader": {
     "grade": false,
     "locked": true,
     "solution": false
    },
    "outputId": "d7100baa-0a2c-4498-b8c0-01d1733e732f"
   },
   "outputs": [],
   "source": [
    "#creating a list and a tuple from the same data\n",
    "\n",
    "my_name = 'Vasyan'\n",
    "my_age = 27\n",
    "is_student = True\n",
    "\n",
    "a = (my_name, my_age, is_student)\n",
    "b = [my_name, my_age, is_student]\n",
    "\n",
    "print('size of a =', a.__sizeof__(), 'bytes') #.__sizeof__() determines the size of a variable in bytes\n",
    "print('size of b =', b.__sizeof__(), 'bytes')"
   ]
  },
  {
   "cell_type": "markdown",
   "metadata": {
    "id": "IYyveiZJJOTZ",
    "nbgrader": {
     "grade": false,
     "locked": true,
     "solution": false
    }
   },
   "source": [
    "<h3><code>dictionary</code></h3><br><div style=\"text-align: justify\">After seeing lists and tuples, you may think: <br><br>\"Wow, storing all my variables within another variable is cool and gnarly! But... sometimes it's boring & inconvenient to access my data by using it's position within a tuple/list. Is there a way that I can store my object within a data structure but access it via something meaningful, like a keyword...?\"<br><br>Don't worry if you had this exact same thought.. Python had it as well!<br><br>Dictionaries are suited especially for that purpose — to each element you want to store, you give it a nickname (i.e., a key) and use that key to access the value you want."
   ]
  },
  {
   "cell_type": "code",
   "execution_count": null,
   "metadata": {
    "colab": {
     "base_uri": "https://localhost:8080/"
    },
    "id": "r5vjDJ8CKaT8",
    "nbgrader": {
     "grade": false,
     "locked": true,
     "solution": false
    },
    "outputId": "46ee6315-d5a5-40a5-8db3-175a681dbf0c"
   },
   "outputs": [],
   "source": [
    "# Creating an empty dictionary - we used () for tuples and and [] for lists. \n",
    "# Now, it's time to use {}.\n",
    "\n",
    "empty_dict1 = {}\n",
    "print('Type of empty_dict1', type(empty_dict1))\n",
    "print('Content of it ->', empty_dict1)\n",
    "\n",
    "# Creating an empty dictionary - using class constructor\n",
    "empty_dict2 = dict()\n",
    "print('Type of empty_dict2', type(empty_dict2))\n",
    "print('Content of it ->', empty_dict2)"
   ]
  },
  {
   "cell_type": "code",
   "execution_count": null,
   "metadata": {
    "nbgrader": {
     "grade": false,
     "locked": true,
     "solution": false
    }
   },
   "outputs": [],
   "source": [
    "# Creating a non-empty dictionary - specifying pairs of key:value pattern\n",
    "my_dict = {\n",
    "    'name': 'Jarno',\n",
    "    'color': 'red',\n",
    "    'year': 2007,\n",
    "    'is cool': True,\n",
    "    6: 'it works',\n",
    "    (2, 22): 'that is a strange key'\n",
    "}\n",
    "\n",
    "print('Content of my_dict>>>', my_dict)"
   ]
  },
  {
   "cell_type": "markdown",
   "metadata": {
    "id": "2tQEahKqM9p8",
    "nbgrader": {
     "grade": false,
     "locked": true,
     "solution": false
    }
   },
   "source": [
    "<div style=\"text-align: justify\">\n",
    "In the last example, you can see that only strings, numbers, or tuples were used as keys. Dictionaries can only use immutable data (or numbers) as keys:"
   ]
  },
  {
   "cell_type": "code",
   "execution_count": null,
   "metadata": {
    "colab": {
     "base_uri": "https://localhost:8080/",
     "height": 242
    },
    "id": "V38R-AweNbF7",
    "nbgrader": {
     "grade": false,
     "locked": true,
     "solution": false
    },
    "outputId": "6039cc3b-8d72-4f23-986f-e1027265aec5"
   },
   "outputs": [],
   "source": [
    "# using mutable structures won't work: \n",
    "\n",
    "mutable_key_dict = {\n",
    "    5: 'lets try',\n",
    "    True: 'I hope it will run perfectly',\n",
    "    6.78: 'heh',\n",
    "    ['No problemo', 'right?']: False  \n",
    "}\n",
    "\n",
    "print(mutable_key_dict)"
   ]
  },
  {
   "cell_type": "markdown",
   "metadata": {
    "id": "erVQ8Yy6OFzW",
    "nbgrader": {
     "grade": false,
     "locked": true,
     "solution": false
    }
   },
   "source": [
    "<div style=\"text-align: justify\">\n",
    "Alright, now it is time to access the data we have managed to store inside <b><code>my_dict</code></b>..."
   ]
  },
  {
   "cell_type": "code",
   "execution_count": null,
   "metadata": {
    "colab": {
     "base_uri": "https://localhost:8080/",
     "height": 313
    },
    "id": "4_s_--xzORQx",
    "nbgrader": {
     "grade": false,
     "locked": true,
     "solution": false
    },
    "outputId": "d2dcabbb-057f-41e2-d54c-07d8ca3aa344"
   },
   "outputs": [],
   "source": [
    "# for that we use keys!\n",
    "\n",
    "print('Some random content of my_dict:')\n",
    "print(my_dict['name'])\n",
    "print(my_dict[(2, 22)])"
   ]
  },
  {
   "cell_type": "code",
   "execution_count": null,
   "metadata": {
    "nbgrader": {
     "grade": false,
     "locked": true,
     "solution": false
    }
   },
   "outputs": [],
   "source": [
    "# remember the mutable key dict? Let's make it work by omitting the list item\n",
    "mutable_key_dict = {\n",
    "    5: 'lets try',\n",
    "    True: 'I hope it will run perfectly',\n",
    "    6.78: 'heh'\n",
    "}\n",
    "\n",
    "# You can see that it doesn't give any errors but how do we access the data inside it?\n",
    "# use keys!\n",
    "print('Accessing weird dictionary...')\n",
    "print(mutable_key_dict[True])\n",
    "print(mutable_key_dict[5])\n",
    "print(mutable_key_dict[6.78])"
   ]
  },
  {
   "cell_type": "code",
   "execution_count": null,
   "metadata": {
    "nbgrader": {
     "grade": false,
     "locked": true,
     "solution": false
    }
   },
   "outputs": [],
   "source": [
    "# Trying to access something we have and something we don't have\n",
    "print('My favorite year is', my_dict['year'])\n",
    "print('My favorite song is', my_dict['song'])"
   ]
  },
  {
   "cell_type": "markdown",
   "metadata": {
    "id": "mVmNASbEPw27",
    "nbgrader": {
     "grade": false,
     "locked": true,
     "solution": false
    }
   },
   "source": [
    "<div class=\"alert alert-block alert-warning\"><div style=\"text-align: justify\"><center>It is best practice to use mainly <i><b>strings</b></i> as keys — the other options are weird and are almost never used.</center></div></div><br><div style=\"text-align: justify\">What's next? Dictionaries are mutable, so let's go ahead and add some additional data and delete old ones.</div></div>"
   ]
  },
  {
   "cell_type": "code",
   "execution_count": null,
   "metadata": {
    "colab": {
     "base_uri": "https://localhost:8080/"
    },
    "id": "C2Tm8iaXQ4ej",
    "nbgrader": {
     "grade": false,
     "locked": true,
     "solution": false
    },
    "outputId": "62ea0bcc-a09b-474e-dd7b-e2688746ff31"
   },
   "outputs": [],
   "source": [
    "print('my_dict right now', my_dict)\n",
    "\n",
    "my_dict['new_element'] = 'magenta'\n",
    "my_dict['weight'] = 27.8\n",
    "del my_dict['year']\n",
    "\n",
    "print('my_dict after some operations', my_dict)"
   ]
  },
  {
   "cell_type": "markdown",
   "metadata": {
    "id": "J80LstNFSFeN",
    "nbgrader": {
     "grade": false,
     "locked": true,
     "solution": false
    }
   },
   "source": [
    "<div style=\"text-align: justify\">\n",
    "    You can also print all keys present in the dictionary using the <b><code>.keys()</code></b> method, or check whether a certain key exists in a dictionary, as shown below. More operations can be found <a href=\"https://docs.python.org/3/tutorial/datastructures.html\">here</a>."
   ]
  },
  {
   "cell_type": "code",
   "execution_count": null,
   "metadata": {
    "colab": {
     "base_uri": "https://localhost:8080/"
    },
    "id": "pEYa3nKRUZD1",
    "nbgrader": {
     "grade": false,
     "locked": true,
     "solution": false
    },
    "outputId": "2b850789-9071-414f-ce44-bb23203243a6"
   },
   "outputs": [],
   "source": [
    "print(my_dict.keys())\n",
    "\n",
    "# check if my_dict has a name key\n",
    "print(\"\\nmy_dict has a ['name'] key:\", 'name' in my_dict)"
   ]
  },
  {
   "cell_type": "markdown",
   "metadata": {
    "nbgrader": {
     "grade": false,
     "locked": true,
     "solution": false
    }
   },
   "source": [
    "<div class=\"alert alert-block alert-success\"><center><b>Real life example: Analyzing satellite metadata<br><br></b>Metadata is a set of data that describes and gives information about other data. For Sentinel-1, the metadata of the satellite is acquired as an <i>.xml</i> file. It is common for Dictionaries to play an important role in classifying this metadata. One could write a function to read and obtain important information from this metadata and store them in a Dictionary. Some examples of keys for the metadata of Sentinel-1 are:</center><br></div>\n",
    "    \n",
    "<i><center>dict_keys(['azimuthSteeringRate', 'dataDcPolynomial', 'dcAzimuthtime', 'dcT0', 'rangePixelSpacing', 'azimuthPixelSpacing', 'azimuthFmRatePolynomial', 'azimuthFmRateTime', 'azimuthFmRateT0', 'radarFrequency', 'velocity', 'velocityTime', 'linesPerBurst', 'azimuthTimeInterval', 'rangeSamplingRate', 'slantRangeTime', 'samplesPerBurst', 'no_burst'])</i></div>\n"
   ]
  },
  {
   "cell_type": "markdown",
   "metadata": {
    "id": "XvpRgp7eUsLP",
    "nbgrader": {
     "grade": false,
     "locked": true,
     "solution": false
    }
   },
   "source": [
    "<h3>Slices</h3><br><div style=\"text-align: justify\">The last important thing for this Notebook are slices. Similar to how you can slice a <b>string</b> (shown in Section 1.4, in Notebook 1). This technique allows you to select a subset of data from a list or tuple."
   ]
  },
  {
   "cell_type": "code",
   "execution_count": null,
   "metadata": {
    "colab": {
     "base_uri": "https://localhost:8080/"
    },
    "id": "S96Y3-HcXN3P",
    "nbgrader": {
     "grade": false,
     "locked": true,
     "solution": false
    },
    "outputId": "b0d9151f-f476-4ffa-de00-74f85a4b962c"
   },
   "outputs": [],
   "source": [
    "# let's make a simple list\n",
    "\n",
    "x = [1, 2, 3, 4, 5, 6, 7]\n",
    "n = len(x) # len(x) gives the length of x\n",
    "\n",
    "# in order to select a slice of it, you have to use a : symbol,\n",
    "# like this => my_list[start:end], \n",
    "# it will select all elements with indices [start, end), \n",
    "# starting from start and ending at end-1 (excluding the end).\n",
    "print('The first three elements of x:', x[0:3])\n",
    "\n",
    "# getting the same subset but using a different slice \"equation\"\n",
    "\n",
    "# if we start from the beginning (at index 0) - we can omit the 0\n",
    "print(x[:3])\n",
    "\n",
    "# instead of counting elements from the beginning, we can count from end\n",
    "print('The last element is', x[6], 'or', x[n - 1], 'or', x[-1])\n",
    "\n",
    "# thus, we can apply it in slicing our list\n",
    "print(x[0:-4])\n",
    "\n",
    "# we can also specify a third argument: the step size of our selection\n",
    "print(x[0:3:1])"
   ]
  },
  {
   "cell_type": "markdown",
   "metadata": {
    "id": "d4v9TBKyZJEh",
    "nbgrader": {
     "grade": false,
     "locked": true,
     "solution": false
    }
   },
   "source": [
    "<div style=\"text-align: justify\">\n",
    "Thus, the general slicing call is given by <b><code>iterable[start:end:step]</code></b>. <br><br>Here's another example:"
   ]
  },
  {
   "cell_type": "code",
   "execution_count": null,
   "metadata": {
    "colab": {
     "base_uri": "https://localhost:8080/"
    },
    "id": "GO8qP2d1ZXkq",
    "nbgrader": {
     "grade": false,
     "locked": true,
     "solution": false
    },
    "outputId": "832458e8-6202-4fa8-8898-6d2a2a1ad423"
   },
   "outputs": [],
   "source": [
    "numbers = [0, 1, 2, 3, 4, 5, 6, 7, 8, 9, 10]\n",
    "\n",
    "# similar to omiting the 0 if you start at the beginning of the list\n",
    "# you can omit the last value if you want all values until the end\n",
    "print('Selecting all even numbers', numbers[::2])\n",
    "# in the above case you start at 0 (omited), end at 10 (omited)\n",
    "# with a step of 2 (not omited)\n",
    "\n",
    "print('All odd numbers', numbers[1::2])\n",
    "\n",
    "# Reversing the list\n",
    "print('Normal order', numbers)\n",
    "print('Reversed order', numbers[::-1])\n",
    "\n",
    "# Selecting middle subset\n",
    "print('Numbers from 5 to 8:', numbers[5:9])"
   ]
  },
  {
   "cell_type": "markdown",
   "metadata": {
    "id": "z801Dffr5B-r",
    "nbgrader": {
     "grade": false,
     "locked": true,
     "solution": false
    }
   },
   "source": [
    "<div class=\"alert alert-block alert-info\"><b>Exercise 2.4.1</b><br><br><div style=\"text-align: justify\">Now, let's get down to practice.<br><br>Your first task is to finish the <code>pack_variables()</code> function — a function which will combine all inputs in one list and return it.<br><br>More precisely, this function will receive $5$ arguments as input and you have to return a list with these $5$ elements inside.</div></div>"
   ]
  },
  {
   "cell_type": "code",
   "execution_count": null,
   "metadata": {
    "id": "ILKR0y115Eiz"
   },
   "outputs": [],
   "source": [
    "def pack_variables(arg1, arg2, arg3, arg4, arg5):\n",
    "    ...\n",
    "\n",
    "\n",
    "print(pack_variables(1, 2, 4, 22, 7))\n"
   ]
  },
  {
   "cell_type": "markdown",
   "metadata": {
    "id": "UzRn8czA6oIg",
    "nbgrader": {
     "grade": false,
     "locked": true,
     "solution": false
    }
   },
   "source": [
    "<div class=\"alert alert-block alert-info\"><b>Exercise 2.4.2</b><br><br><div style=\"text-align: justify\">Here, you will have to perform a quality assessment on a received list of GNSS measurements. But a simple one.<br><br>You have to check whether the received data has more than $1000$ measurements, in that case we know the receiver was running for a long time without being interrupted.\n",
    "If it is shorter than $1000$, we assume there were some interruptions. Hence, your function should return a message whether the data is fine or not.</div></div>"
   ]
  },
  {
   "cell_type": "code",
   "execution_count": null,
   "metadata": {
    "id": "bZPVKfEG6oYP"
   },
   "outputs": [],
   "source": [
    "def check_data(measurements):\n",
    "   ...\n",
    "\n",
    "#You can check your code below, where we simulate 1250 measurements\n",
    "import random \n",
    "gnss_data = [random.random() * 2.2e8 for i in range(1250)]\n",
    "\n",
    "print(check_data(gnss_data))"
   ]
  },
  {
   "cell_type": "markdown",
   "metadata": {},
   "source": [
    "explanations for the test data will follow later, but in brief:\n",
    " * `random.random()` returns a random number between 0 and 1\n",
    " * `[... for i in range(...)]` is a _list comprehension_, creating a list from an expression.\n",
    " * here a list of 1250 random numbers is created\n"
   ]
  },
  {
   "cell_type": "markdown",
   "metadata": {
    "id": "oh_3_lSu8csf",
    "nbgrader": {
     "grade": false,
     "locked": true,
     "solution": false
    }
   },
   "source": [
    "<div class=\"alert alert-block alert-info\"><b>Exercise 2.4.3</b><br><br><div style=\"text-align: justify\">In this exercise you need to write something opposite to a packager... an unpacker! Sometimes it is easier to work with the most convenient data type, that is best suited for a specific task. In this example, you have to write a function which accepts data stored in a dictionary and saves some data from it. More precisely, you have to select $x$ and $y$ coordinates saved in the <code>input_dict</code> dictionary, and return them as a tuple, with $x$ being the first entry.</div></div>"
   ]
  },
  {
   "cell_type": "code",
   "execution_count": null,
   "metadata": {
    "nbgrader": {
     "grade": false,
     "locked": true,
     "solution": false
    }
   },
   "outputs": [],
   "source": [
    "# you do not have to change anything in this cell, just run it\n",
    "\n",
    "input_dict = {\n",
    "    'ID': '334856',\n",
    "    'operator_name': 'Jarno',\n",
    "    'observation_amount': '2485',\n",
    "    'loc_x': [2, 5, 10, 12, -5, 8, 27, 1],\n",
    "    'loc_y': [6, 1, -5, 15, 4, 8, 0, 10]\n",
    "}\n"
   ]
  },
  {
   "cell_type": "code",
   "execution_count": null,
   "metadata": {
    "id": "iQIBjGJF8dKX"
   },
   "outputs": [],
   "source": [
    "def unpack_dictionary(input_dict):\n",
    "    ...\n",
    "\n",
    "\n",
    "print(unpack_dictionary(input_dict))"
   ]
  },
  {
   "cell_type": "markdown",
   "metadata": {
    "id": "lDKimbtECAAz",
    "nbgrader": {
     "grade": false,
     "locked": true,
     "solution": false
    }
   },
   "source": [
    "<div class=\"alert alert-block alert-danger\"><b>Additional study material:</b>\n",
    "    \n",
    "* Official Python Documentation - https://docs.python.org/3/tutorial/datastructures.html\n",
    "* Think Python (2nd ed.) - Chapters 8, 10, 11, 12</div>"
   ]
  },
  {
   "cell_type": "markdown",
   "metadata": {
    "nbgrader": {
     "grade": false,
     "locked": true,
     "solution": false
    }
   },
   "source": [
    "<h4>After this Notebook you should be able to:</h4>\n",
    "\n",
    "- know how to load Python modules\n",
    "- use functions from the **`math`** module\n",
    "- find available functions from any module\n",
    "- understand conditions with **`if`**, **`elif`** and, **`else`**\n",
    "- understand the differences between **`list`**, **`tuple`**, and **`dict`**\n",
    "- slice lists and tuples\n"
   ]
  }
 ],
 "metadata": {
  "colab": {
   "collapsed_sections": [],
   "name": "Python_2_1.ipynb",
   "provenance": []
  },
  "kernelspec": {
   "display_name": "Python 3 (ipykernel)",
   "language": "python",
   "name": "python3"
  },
  "language_info": {
   "codemirror_mode": {
    "name": "ipython",
    "version": 3
   },
   "file_extension": ".py",
   "mimetype": "text/x-python",
   "name": "python",
   "nbconvert_exporter": "python",
   "pygments_lexer": "ipython3",
   "version": "3.9.13"
  },
  "vscode": {
   "interpreter": {
    "hash": "978ede36192cb259dee8e5bd565c04d84487df4425914b0b004da2b901af68ae"
   }
  }
 },
 "nbformat": 4,
 "nbformat_minor": 4
}
