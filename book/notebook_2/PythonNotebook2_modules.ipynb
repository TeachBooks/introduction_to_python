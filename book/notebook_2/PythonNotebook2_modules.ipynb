{
 "cells": [
  {
   "cell_type": "markdown",
   "metadata": {
    "id": "fHmKWsUSKuj4",
    "nbgrader": {
     "grade": false,
     "locked": true,
     "solution": false
    }
   },
   "source": [
    "<figure>\n",
    "  <IMG SRC=\"https://raw.githubusercontent.com/mbakker7/exploratory_computing_with_python/master/tudelft_logo.png\" WIDTH=250 ALIGN=\"right\">\n",
    "</figure>\n",
    "\n",
    "# 2.2 Python Modules\n",
    "\n",
    "Previously, you have learned how to:\n",
    "\n",
    "1) initialize variables in Python;\n",
    "2) perform simple actions with them (eg.: adding numbers together, displaying variables content, etc);\n",
    "3) work with functions (have your own code in a function to reuse it many times or use a function, which was written by another person). \n",
    "\n",
    "However, the scope of the last Notebook was limited by your Python knowledge and available functions in standard/vanilla Python (so-called <a href=\"https://docs.python.org/3/library/functions.html\">'built-in' Python functions</a>).\n",
    "\n",
    "There are not many Python built-in functions that can be useful for you, such as functions for math, plotting, signal processing, etc. Luckily, there are countless modules/packages written by other people.\n",
    "\n"
   ]
  },
  {
   "cell_type": "markdown",
   "metadata": {
    "id": "oyr90lgAQGtD",
    "nbgrader": {
     "grade": false,
     "locked": true,
     "solution": false
    }
   },
   "source": [
    "### Python built-in modules\n",
    "\n",
    "By installing any version of Python, you also automatically install its built-in modules.<br><br>One may wonder — why do they provide some functions within built-in modules, but not directly as a built-in function, such as the <b><code>abs()</code></b> or <b><code>print()</code></b>?\n",
    "\n",
    "The answers may vary, but, generally, it is to keep your code clean; compact; and, working. It keeps your code clean and compact as you only load functions that you need. It keeps your code working as it allows you to define your own functions with (almost) any kind of name, and use them easily, without worrying that you might break something if there is a function with the same name that does something completely different."
   ]
  },
  {
   "cell_type": "markdown",
   "metadata": {
    "id": "67a2hkUyRh_P",
    "nbgrader": {
     "grade": false,
     "locked": true,
     "solution": false
    }
   },
   "source": [
    "### <code>math</code>\n",
    "\n",
    "The <code>math</code> module is one of the most popular modules since it contains all implementations of basic math functions ($\\sin$, $\\cos$, $\\log_{10}$ (as log10), factorial, etc — the full list can be found <a href=\"https://docs.python.org/3/library/math.html\">here</a>). \n",
    "\n",
    "In order to access it, you just have to import it into your code with an <b><code>import</code></b> statement."
   ]
  },
  {
   "cell_type": "code",
   "execution_count": null,
   "metadata": {
    "colab": {
     "base_uri": "https://localhost:8080/"
    },
    "id": "A1WjrfHoHYFV",
    "nbgrader": {
     "grade": false,
     "locked": true,
     "solution": false
    },
    "outputId": "e14b2fc7-6b0b-4f6e-8342-45c3791030b9"
   },
   "outputs": [],
   "source": [
    "# importing all contents of the module math\n",
    "import math\n",
    "\n",
    "print(math) # showing that math is actually a built-in Python module"
   ]
  },
  {
   "cell_type": "markdown",
   "metadata": {
    "id": "0ssGu7FsTEtz",
    "nbgrader": {
     "grade": false,
     "locked": true,
     "solution": false
    }
   },
   "source": [
    "You can now use its functions like this:"
   ]
  },
  {
   "cell_type": "code",
   "execution_count": null,
   "metadata": {
    "colab": {
     "base_uri": "https://localhost:8080/"
    },
    "id": "11FBTZH7TATg",
    "nbgrader": {
     "grade": false,
     "locked": true,
     "solution": false
    },
    "outputId": "41f2699c-47a3-4ed2-f7be-b1f2ea059819"
   },
   "outputs": [],
   "source": [
    "print(f'Square root of 16 is equal to {math.sqrt(16)}')"
   ]
  },
  {
   "cell_type": "markdown",
   "metadata": {
    "id": "0EscmfkpTxXv",
    "nbgrader": {
     "grade": false,
     "locked": true,
     "solution": false
    }
   },
   "source": [
    "You can also use the constants defined within the module, such as **`math.pi`**:"
   ]
  },
  {
   "cell_type": "code",
   "execution_count": null,
   "metadata": {
    "colab": {
     "base_uri": "https://localhost:8080/"
    },
    "id": "DtwKkug2TiGT",
    "nbgrader": {
     "grade": false,
     "locked": true,
     "solution": false
    },
    "outputId": "60ffed22-e0e0-459b-e1dc-d35edfb5a3ff"
   },
   "outputs": [],
   "source": [
    "print(f'π is equal to {math.pi}')\n",
    "\n",
    "print(f\"and Euler's number e is {math.e}\")\n"
   ]
  },
  {
   "cell_type": "markdown",
   "metadata": {
    "id": "M8OQGFnGf_S9",
    "nbgrader": {
     "grade": false,
     "locked": true,
     "solution": false
    }
   },
   "source": [
    "#### <code>math.pi</code>\n",
    "\n",
    "As you can see, both constants and functions of a module are accessed by using: the module's name (in this case <b><code>math</code></b>) and a <b><code>.</code></b> followed by the name of the constant/function (in this case <b><code>pi</code></b>).\n",
    "\n",
    "We are able to do this since we have loaded all contents of the module by using the <b><code>import</code></b> keyword. If we try to use these functions somehow differently — we will get an error:"
   ]
  },
  {
   "cell_type": "code",
   "execution_count": null,
   "metadata": {
    "colab": {
     "base_uri": "https://localhost:8080/",
     "height": 201
    },
    "id": "98zHvteQUA3S",
    "nbgrader": {
     "grade": false,
     "locked": true,
     "solution": false
    },
    "outputId": "914a0a33-dfc6-45bc-d4c2-941ec4e666a9"
   },
   "outputs": [],
   "source": [
    "print('Square root of 16 is equal to')\n",
    "print(sqrt(16))"
   ]
  },
  {
   "cell_type": "markdown",
   "metadata": {
    "id": "LRTVWDEqhGyk",
    "nbgrader": {
     "grade": false,
     "locked": true,
     "solution": false
    }
   },
   "source": [
    "You could, however, directly specify the functionality of the module you want to access. Then, the above cell would work.\n",
    "\n",
    "This is done by typing: <code>from <b>module_name</b> import <b>necessary_functionality</b></code>, as shown below:"
   ]
  },
  {
   "cell_type": "code",
   "execution_count": null,
   "metadata": {
    "colab": {
     "base_uri": "https://localhost:8080/"
    },
    "id": "By8SDKMXhBKD",
    "nbgrader": {
     "grade": false,
     "locked": true,
     "solution": false
    },
    "outputId": "b277aeda-58a3-4e6d-de0e-038d843d77fe"
   },
   "outputs": [],
   "source": [
    "from math import sqrt\n",
    "\n",
    "print(f'Square root of 16 is equal to {sqrt(16)}.')"
   ]
  },
  {
   "cell_type": "code",
   "execution_count": null,
   "metadata": {
    "colab": {
     "base_uri": "https://localhost:8080/"
    },
    "id": "pVo16M0whkK7",
    "nbgrader": {
     "grade": false,
     "locked": true,
     "solution": false
    },
    "outputId": "053cee25-dc6b-4604-d69c-1025bbf60e6c"
   },
   "outputs": [],
   "source": [
    "from math import pi\n",
    "\n",
    "print(f'π is equal to {pi}.')"
   ]
  },
  {
   "cell_type": "markdown",
   "metadata": {
    "nbgrader": {
     "grade": false,
     "locked": true,
     "solution": false
    }
   },
   "source": [
    "### Listing all functions of a module\n",
    "\n",
    "Sometimes, when you use a module for the first time, you may have no clue about the functions inside of it. In order to unveil all the potential a module has to offer, you can either access the documentation on the corresponding web resource or you can use some Python code, as shown below:\n",
    "  "
   ]
  },
  {
   "cell_type": "code",
   "execution_count": null,
   "metadata": {
    "nbgrader": {
     "grade": false,
     "locked": true,
     "solution": false
    }
   },
   "outputs": [],
   "source": [
    "import math\n",
    "\n",
    "# listing all contents of a module\n",
    "print('contents of math:', dir(math))\n",
    "\n",
    "# trying to learn something about, let's say, the hypot thingy\n",
    "# note that \\n here is used to add a new line\n",
    "print('\\n\\nmath.hypot is a', math.hypot) "
   ]
  },
  {
   "cell_type": "code",
   "execution_count": null,
   "metadata": {
    "nbgrader": {
     "grade": false,
     "locked": true,
     "solution": false
    }
   },
   "outputs": [],
   "source": [
    "# you can also use ? or ?? to read the documentation about it in Python\n",
    "math??"
   ]
  },
  {
   "cell_type": "markdown",
   "metadata": {
    "id": "2SUM0W23oAdC",
    "nbgrader": {
     "grade": false,
     "locked": true,
     "solution": false
    }
   },
   "source": [
    "### Python third-party modules\n",
    "\n",
    "Besides built-in modules, there are also modules developed by other people and companies, which can be also used in your code. These modules are not installed by default in Python, they are usually installed by using the <i>'pip'</i> or <i>'conda'</i> package managers. Once they have been installed, they are accessed like any other Python module.\n",
    "\n",
    "However, for the purpose of this course, you will not need to use these since Anaconda has all the needed modules already installed."
   ]
  },
  {
   "cell_type": "markdown",
   "metadata": {
    "id": "PQbf2l1kAOWu",
    "nbgrader": {
     "grade": false,
     "locked": true,
     "solution": false
    }
   },
   "source": [
    "```{admonition} Additional study material\n",
    ":class: tip\n",
    "* Official Python Documentation - https://docs.python.org/3/tutorial/modules.html\n",
    "* Think Python (2nd ed.) - Chapters 3 and 14 \n",
    "+++\n",
    "```"
   ]
  }
 ],
 "metadata": {
  "colab": {
   "collapsed_sections": [],
   "name": "Python_2_1.ipynb",
   "provenance": []
  },
  "kernelspec": {
   "display_name": "Python 3 (ipykernel)",
   "language": "python",
   "name": "python3"
  },
  "language_info": {
   "codemirror_mode": {
    "name": "ipython",
    "version": 3
   },
   "file_extension": ".py",
   "mimetype": "text/x-python",
   "name": "python",
   "nbconvert_exporter": "python",
   "pygments_lexer": "ipython3",
   "version": "3.10.0"
  },
  "vscode": {
   "interpreter": {
    "hash": "978ede36192cb259dee8e5bd565c04d84487df4425914b0b004da2b901af68ae"
   }
  }
 },
 "nbformat": 4,
 "nbformat_minor": 4
}
