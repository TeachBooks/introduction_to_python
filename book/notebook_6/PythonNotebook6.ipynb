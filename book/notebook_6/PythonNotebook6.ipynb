{
 "cells": [
  {
   "cell_type": "markdown",
   "metadata": {},
   "source": [
    "**PLEASE FILL THE FOLLOWING:**\n",
    "\n",
    "Group number: ___\n",
    "\n",
    "Student #1: ___\n",
    "\n",
    "Student #2: ___"
   ]
  },
  {
   "cell_type": "markdown",
   "metadata": {
    "nbgrader": {
     "grade": false,
     "locked": true,
     "solution": false
    }
   },
   "source": [
    "#### <figure>\n",
    "  <IMG SRC=\"https://raw.githubusercontent.com/mbakker7/exploratory_computing_with_python/master/tudelft_logo.png\" WIDTH=250 ALIGN=\"right\">\n",
    "</figure>\n",
    "\n",
    "\n",
    "# Python Notebook #6\n",
    "\n",
    "## Table of Contents\n",
    "\n",
    "<ul>\n",
    "    <li> <a href=\"#files\">6.1 Loading data from a file</a>\n",
    "    <li> <a href=\"#surface\">6.2 Surface and color plots</a>\n",
    "    <li> <a href=\"#repetition\"> 6.3 List and loop repetition</a>    \n",
    "</ul>"
   ]
  },
  {
   "cell_type": "markdown",
   "metadata": {},
   "source": [
    "<div id='files'></div>\n",
    "\n",
    "## 6.1 Loading data from a file\n",
    "\n",
    "In the previous notebook you used numpy to handle vectors of data, and plotted data with matplotlib. The data came either from calculations in Python or from (short) lists which you entered in the notebook.\n",
    "If you need to work with larger amoutns of data that becomes inconvenient. Then it's useful to load data from a file.\n",
    "\n",
    "This notebook needs a file called `rico.txt`. Download it from brightspace (next to this notebook), and save it in the same folder as the notebook.\n"
   ]
  },
  {
   "cell_type": "code",
   "execution_count": null,
   "metadata": {},
   "outputs": [],
   "source": [
    "import numpy as np"
   ]
  },
  {
   "cell_type": "code",
   "execution_count": null,
   "metadata": {},
   "outputs": [],
   "source": [
    "rico = np.loadtxt('rico.txt')\n",
    "# if the file cannot be found, you will get an error message here."
   ]
  },
  {
   "cell_type": "markdown",
   "metadata": {},
   "source": [
    "What did we just load?"
   ]
  },
  {
   "cell_type": "code",
   "execution_count": null,
   "metadata": {},
   "outputs": [],
   "source": [
    "print(type(rico))\n",
    "print(rico.shape)"
   ]
  },
  {
   "cell_type": "markdown",
   "metadata": {},
   "source": [
    "Let's see what data it contains."
   ]
  },
  {
   "cell_type": "code",
   "execution_count": null,
   "metadata": {},
   "outputs": [],
   "source": [
    "print(rico[:10,:]) # select first 10 rows, all columns"
   ]
  },
  {
   "cell_type": "markdown",
   "metadata": {},
   "source": [
    "* open the file `rico.txt` in a _text editor_. For example Notepad (basic, comes with Windows),\n",
    "[Notepad++](https://notepad-plus-plus.org/) (nice, free, open source).  \n",
    "Word might work too, but is not as nice for working with these _plain text_ files.\n",
    "\n",
    "* look at the top of the file. You will see two lines starting with `#` followed by lines of numbers.\n",
    "\n",
    "* lines starting with `#` are considered as comments, and are ignored by Numpy.\n",
    "Those lines describe the columns of the file.\n",
    "\n",
    "* the following lines with numbers are loaded into the numpy array. You can compare the first few rows from the file with the array content you printed above.\n",
    "\n",
    "As you probably know, numbers like `2.0000e+01` are written in scientific notation, this one means `2 * 10**1 = 20`\n"
   ]
  },
  {
   "cell_type": "markdown",
   "metadata": {},
   "source": [
    "### What does it mean?\n",
    "\n",
    "The file rico.txt describe atmospheric conditions (like temperature, humidity, wind speed) as a function of height above the surface. The file is part of the input to the [DALES](https://github.com/dalesteam/dales) model, for running a specific simulation called [RICO](https://doi.org/10.1029/2011MS000056) (Rain In Cumulus over Ocean, vanZanten et al 2011).  \n",
    "\n",
    "\n",
    "The two first lines of the file give a hint of what the columns mean:\n",
    "```\n",
    "#  input file Profiles - RICO Trade Cu Period (12/16-01/08)\n",
    "#  height(m)    thl(K)          q_t (kg/kg)      u(m/s)          v(m/s)         TKE_init (m/s)\n",
    "```\n",
    "\n",
    "Some more explanation of the columns, and their number (starting from 0, since that's how Python numbers them): \n",
    "```\n",
    "0 height    height above the surface (m)\n",
    "1 thl       liquid water potential temperature (K), a kind of temperature\n",
    "2 qt        specific humidity (kg/kg) - amount of water, kg of water per kg of total air \n",
    "3 u         wind speed (m/s) in the eastward direction\n",
    "4 v         wind speed (m/s) in the northward direction\n",
    "5 TKE_init  turblent kinetic energy (m/s) - a measure of the amount of turbulence\n",
    "```\n",
    "\n"
   ]
  },
  {
   "cell_type": "markdown",
   "metadata": {},
   "source": [
    "<div class=\"alert alert-block alert-info\">\n",
    "    \n",
    "## Exercise 6.1.1 Plot the RICO input data\n",
    "\n",
    "* split the matrix into separate variables for each column    \n",
    "* use subplots to plot several quantities side by side:\n",
    "    ```\n",
    "    fig, axes = plt.subplots(nrows=1, ncols=5, sharey=True, figsize=(13,4))\n",
    "    ```\n",
    "* to plot in the first subplot, use `axes[0].plot(...)`\n",
    "* to set x and y labels, use `axes[0].set_ylabel(...)`\n",
    "* use the y axis of the plot for the hight above ground\n",
    "  \n",
    "    \n",
    "* `sharey=True` makes the plots share the y axis\n",
    "* figsize=(13,4) sets the figure size in inches (width,height) at some assumed dots-per-inch value. It's included here to make the plot a bit wider, so that the labels don't overlap. \n",
    "    "
   ]
  },
  {
   "cell_type": "code",
   "execution_count": null,
   "metadata": {},
   "outputs": [],
   "source": [
    "import matplotlib.pyplot as plt\n",
    "fig, axes = plt.subplots(nrows=1, ncols=5, sharey=True, figsize=(13,4))\n",
    "\n",
    "# your plotting code here...\n",
    "\n"
   ]
  },
  {
   "cell_type": "markdown",
   "metadata": {},
   "source": [
    "Now you can see a region near the surface with constant thl, this is a _mixed layer_ where convection mixes the air so that thl is nearly constant. qt is seen to decrease with height, which is typical. Also u varies with height, this is known as _wind shear_. "
   ]
  },
  {
   "cell_type": "markdown",
   "metadata": {},
   "source": [
    "<div id='surface'></div>\n",
    "\n",
    "## 6.2 Surface and color plots\n",
    "\n",
    "Next you will learn some more plotting with matplotlib, namely to plot a function of two variables, f(x,y). Either as a 2D image with colors showing the value, or as a surface in 3D where z = f(x,y).  \n",
    "\n",
    "First try the folloring example showing `np.meshgrid()`. Meshgrid is used to create 2D arrays X and Y, where X contains an x-coordinate and Y contains an y-coordinate."
   ]
  },
  {
   "cell_type": "code",
   "execution_count": null,
   "metadata": {},
   "outputs": [],
   "source": [
    "x = np.linspace(0, 3, 4) # [0, 1, 2, 3]\n",
    "y = np.linspace(0, 4, 5) # [0, 1, 2, 3, 4]\n",
    "\n",
    "X,Y = np.meshgrid(x,y)\n",
    "\n",
    "print('X')\n",
    "print(X)\n",
    "print()\n",
    "print('Y')\n",
    "print(Y)"
   ]
  },
  {
   "cell_type": "markdown",
   "metadata": {},
   "source": [
    "The repeated rows or columns in the meshgrid output may seem redundant, but they are convenient for \n",
    "building expressions."
   ]
  },
  {
   "cell_type": "markdown",
   "metadata": {},
   "source": [
    "### Surface plot"
   ]
  },
  {
   "cell_type": "code",
   "execution_count": null,
   "metadata": {},
   "outputs": [],
   "source": [
    "x = np.linspace(-5, 5, 40) # create new coordinate arrays with more points\n",
    "y = np.linspace(-5, 5, 40) \n",
    "\n",
    "X,Y = np.meshgrid(x,y)\n",
    "\n",
    "# a function to plot\n",
    "Z = X**2 + Y**2\n",
    "# Z has the same shape as X and Y\n",
    "# each element of Z is computed from the corresponding elements of X and Y\n",
    "\n",
    "ax = plt.axes(projection='3d')\n",
    "\n",
    "ax.plot_surface(X,Y,Z)\n",
    "\n",
    "plt.show()"
   ]
  },
  {
   "cell_type": "markdown",
   "metadata": {},
   "source": [
    "### Color plot"
   ]
  },
  {
   "cell_type": "code",
   "execution_count": null,
   "metadata": {},
   "outputs": [],
   "source": [
    "x = np.linspace(-5, 5, 40) # create new coordinate arrays with more points\n",
    "y = np.linspace(-5, 5, 40) \n",
    "\n",
    "X,Y = np.meshgrid(x,y)\n",
    "\n",
    "# a function to plot\n",
    "Z = X**2 + Y**2\n",
    "\n",
    "# optional: set square aspect ratio, meaning that one unit along x and y is equally long\n",
    "plt.gca().set_aspect('equal')  # gca() stands for get current axis\n",
    "\n",
    "plt.pcolormesh(X,Y,Z)   # plot Z as function of X and Y, using colors\n",
    "plt.colorbar()          # shows the color bar\n",
    "\n",
    "plt.show()"
   ]
  },
  {
   "cell_type": "markdown",
   "metadata": {},
   "source": [
    "<div class=\"alert alert-block alert-info\">\n",
    "    \n",
    "## Exercise 6.2.1 More surface plots\n",
    "* make surface plots of a few other function of your choice\n",
    "\n",
    "* you can use the same meshgrid as above or choose a different one if you want other x and y ranges.\n",
    "\n",
    "### some inspiration\n",
    "...which you can combine with other things \n",
    "```\n",
    "R = np.sqrt(X**2 + Y**2)  # distance to origo\n",
    "h = np.sin(1.4*X)         # a wave\n",
    "```"
   ]
  },
  {
   "cell_type": "code",
   "execution_count": null,
   "metadata": {},
   "outputs": [],
   "source": []
  },
  {
   "cell_type": "markdown",
   "metadata": {},
   "source": [
    "<div class=\"alert alert-block alert-info\">\n",
    "    \n",
    "## Exercise 6.2.2 ...and color plots\n",
    "\n",
    "Plot your functions from above using color maps. Remember to include the color bar.\n",
    "Choose color maps you like from [here](https://matplotlib.org/stable/gallery/color/colormap_reference.html),\n",
    "and apply them with the `cmap` argument:\n",
    "```\n",
    "plt.pcolormesh(X,Y,Z,cmap='ocean')\n",
    "```"
   ]
  },
  {
   "cell_type": "code",
   "execution_count": null,
   "metadata": {},
   "outputs": [],
   "source": []
  },
  {
   "cell_type": "markdown",
   "metadata": {},
   "source": [
    "<div id='repetition'></div>\n",
    "\n",
    "## 6.3 List and loop repetition"
   ]
  },
  {
   "cell_type": "markdown",
   "metadata": {},
   "source": [
    "<div class=\"alert alert-block alert-info\">\n",
    "    \n",
    "## Exercise 6.3.1\n",
    "\n",
    "* Make a list\n",
    "* Check it twice\n",
    "  (by printing it's elements once from the start and once from the end)\n"
   ]
  },
  {
   "cell_type": "code",
   "execution_count": null,
   "metadata": {},
   "outputs": [],
   "source": []
  }
 ],
 "metadata": {
  "kernelspec": {
   "display_name": "Python 3 (ipykernel)",
   "language": "python",
   "name": "python3"
  },
  "language_info": {
   "codemirror_mode": {
    "name": "ipython",
    "version": 3
   },
   "file_extension": ".py",
   "mimetype": "text/x-python",
   "name": "python",
   "nbconvert_exporter": "python",
   "pygments_lexer": "ipython3",
   "version": "3.10.12"
  },
  "latex_envs": {
   "LaTeX_envs_menu_present": true,
   "autoclose": false,
   "autocomplete": true,
   "bibliofile": "biblio.bib",
   "cite_by": "apalike",
   "current_citInitial": 1,
   "eqLabelWithNumbers": true,
   "eqNumInitial": 1,
   "hotkeys": {
    "equation": "Ctrl-E",
    "itemize": "Ctrl-I"
   },
   "labels_anchors": false,
   "latex_user_defs": false,
   "report_style_numbering": false,
   "user_envs_cfg": false
  },
  "vscode": {
   "interpreter": {
    "hash": "1fe2f2b718b1108b9c4176932db8a0ead471245140baaa21ea96a4066683e6b2"
   }
  }
 },
 "nbformat": 4,
 "nbformat_minor": 4
}
