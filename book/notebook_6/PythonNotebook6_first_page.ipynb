{
 "cells": [
  {
   "cell_type": "markdown",
   "metadata": {
    "nbgrader": {
     "grade": false,
     "locked": true,
     "solution": false
    }
   },
   "source": [
    "<figure>\n",
    "  <IMG SRC=\"https://raw.githubusercontent.com/mbakker7/exploratory_computing_with_python/master/tudelft_logo.png\" WIDTH=250 ALIGN=\"right\">\n",
    "</figure>\n",
    "\n",
    "# Lesson 6\n",
    "\n",
    "## 6.1 Creating a .py File\n",
    "\n",
    "To create a Python (`.py`) file, follow these instructions:\n",
    "\n",
    "````{tab-set}\n",
    "```{tab-item} Windows\n",
    "On windows, you can use the Notepad application to make and edit Python files. To do so, open Notepad, and save the file as `<filename>.py` in a sensible location.\n",
    "```\n",
    "```{tab-item} MacOS\n",
    "The simplest way to make and edit Python files on the Mac is by using an application called \"TextEdit\". Once again, you can find it by pressing command + space and typing \"textedit\". \n",
    "\n",
    "When you have TextEdit open, **before you do anything else**, click on \"Format\" in the top menu bar, then \"Make Plain Text\".\n",
    "\n",
    "Finally, save the file as `<filename>.py` in a location which you can find easily.\n",
    "```\n",
    "````\n",
    "\n",
    "\n",
    "\n",
    "## 6.2 Opening the terminal\n",
    "\n",
    "`````{tab-set}\n",
    "````{tab-item} Windows\n",
    "On Windows, use the Anaconda Prompt. The Anaconda Prompt can easily be found by searching for \"anaconda promp\" in the start menu.\n",
    "````\n",
    "````{tab-item} MacOS\n",
    "On MacOS, you can use the default terminal to access your Python environments. To open it, look for the app called \"Terminal\" in your Applications (or search for it by pressing command + space, then typing \"Terminal\"). You should get a windows that looks similar to the one below. \n",
    "\n",
    "```{warning}\n",
    "Make sure you have access to Anaconda by typing `conda --version` and pressing enter. If you get output saying something else than `conda X.Y.Z`, please ask for assistance!\n",
    "```\n",
    "\n",
    "```{figure} macos_terminal.png\n",
    "```\n",
    "````\n",
    "`````\n",
    "\n",
    "## 6.3 Running a Python file\n",
    "\n",
    "In your Anaconda Prompt (Windows) or terminal (MacOS), first navigate to the location of your Python file using the terminal commands demonstrated in class. For a summary of these commands you can refer to [this page](https://mude.citg.tudelft.nl/2024/book/external/learn-programming/book/install/common/cli.html#basic-cli-skills-cheat-sheets).\n",
    "\n",
    "Once you're in the right directory, you can then run the file like this:\n",
    "\n",
    "```{code} bash\n",
    "python <filename.py>\n",
    "```\n",
    "\n",
    "Try it out by copying and pasting the code below in a file called `hello_world.py`, and run it like this: \n",
    "\n",
    "```{code} bash\n",
    "python hello_world.py\n",
    "```\n",
    "\n",
    "```python\n",
    "import math\n",
    "import datetime\n",
    "import matplotlib.pyplot as plt\n",
    "import numpy as np\n",
    "\n",
    "def plot_sine_and_cosine():\n",
    "   x = np.linspace(0, 2*math.pi, 100)\n",
    "   plt.plot(x, np.sin(x))\n",
    "   plt.plot(x, np.cos(x))\n",
    "   plt.show()\n",
    "   plt.close()\n",
    "\n",
    "print(\"Hello, World!\")\n",
    "print(\"Today's date is:\", datetime.datetime.now())\n",
    "print(\"The square root of 16 is:\", math.sqrt(16))\n",
    "print(\"Here is a (bad) plot of the sin and cos of 0 < x < 2pi:\")\n",
    "plot_sine_and_cosine()\n",
    "```"
   ]
  },
  {
   "cell_type": "markdown",
   "metadata": {},
   "source": [
    "#### After this Notebook you should be able to:\n",
    "\n",
    "- create and run your own `.py` file"
   ]
  }
 ],
 "metadata": {
  "kernelspec": {
   "display_name": "base",
   "language": "python",
   "name": "python3"
  },
  "language_info": {
   "codemirror_mode": {
    "name": "ipython",
    "version": 3
   },
   "file_extension": ".py",
   "mimetype": "text/x-python",
   "name": "python",
   "nbconvert_exporter": "python",
   "pygments_lexer": "ipython3",
   "version": "3.12.2"
  },
  "latex_envs": {
   "LaTeX_envs_menu_present": true,
   "autoclose": false,
   "autocomplete": true,
   "bibliofile": "biblio.bib",
   "cite_by": "apalike",
   "current_citInitial": 1,
   "eqLabelWithNumbers": true,
   "eqNumInitial": 1,
   "hotkeys": {
    "equation": "Ctrl-E",
    "itemize": "Ctrl-I"
   },
   "labels_anchors": false,
   "latex_user_defs": false,
   "report_style_numbering": false,
   "user_envs_cfg": false
  }
 },
 "nbformat": 4,
 "nbformat_minor": 4
}
