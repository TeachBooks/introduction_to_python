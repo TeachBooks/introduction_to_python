{
 "cells": [
  {
   "cell_type": "markdown",
   "metadata": {
    "nbgrader": {
     "grade": false,
     "locked": true,
     "solution": false
    }
   },
   "source": [
    "<figure>\n",
    "  <IMG SRC=\"https://raw.githubusercontent.com/mbakker7/exploratory_computing_with_python/master/tudelft_logo.png\" WIDTH=250 ALIGN=\"right\">\n",
    "</figure>\n",
    "\n",
    "# Lesson 6\n",
    "\n",
    "## 6.1 Running a Python file\n",
    "\n",
    "To run a Python program saved as a `.py` file, follow the steps described below:\n",
    "\n",
    "**Prerequisites**\n",
    "- Ensure Python is installed on your system.\n",
    "- Verify Python installation by running the following in your terminal or command prompt:\n",
    "\n",
    "  ```bash\n",
    "  python --version\n",
    "  ```\n",
    "  or\n",
    "  ```bash\n",
    "  python3 --version\n",
    "  ```\n",
    "\n",
    "**Steps to Run a .py File**\n",
    "1. **Navigate to the File Location**  \n",
    "   Open your terminal or command prompt and change to the directory containing your `.py` file:\n",
    "   ```bash\n",
    "   cd /path/to/your/file\n",
    "   ```\n",
    "\n",
    "2. **Run the Python File**  \n",
    "   Use one of the following commands:\n",
    "   ```bash\n",
    "   python filename.py\n",
    "   ```\n",
    "   or\n",
    "   ```bash\n",
    "   python3 filename.py\n",
    "   ```\n",
    "\n",
    "3. **View Output**  \n",
    "   Any output from your program will be displayed in the terminal.\n",
    "\n",
    "**Example**\n",
    "Assuming you have a file named `example.py`:\n",
    "```bash\n",
    "cd ~/projects\n",
    "python example.py\n",
    "```\n",
    "```"
   ]
  },
  {
   "cell_type": "markdown",
   "metadata": {},
   "source": [
    "#### After this Notebook you should be able to:\n",
    "\n",
    "- know the basics of how to use `numpy`\n",
    "- be able to import and perform calculations with datasets\n",
    "- plot your datasets with `matplotlib`\n",
    "- plot surface plots with `np.meshgrid()` and `matplotlib`"
   ]
  }
 ],
 "metadata": {
  "kernelspec": {
   "display_name": "base",
   "language": "python",
   "name": "python3"
  },
  "language_info": {
   "codemirror_mode": {
    "name": "ipython",
    "version": 3
   },
   "file_extension": ".py",
   "mimetype": "text/x-python",
   "name": "python",
   "nbconvert_exporter": "python",
   "pygments_lexer": "ipython3",
   "version": "3.12.2"
  },
  "latex_envs": {
   "LaTeX_envs_menu_present": true,
   "autoclose": false,
   "autocomplete": true,
   "bibliofile": "biblio.bib",
   "cite_by": "apalike",
   "current_citInitial": 1,
   "eqLabelWithNumbers": true,
   "eqNumInitial": 1,
   "hotkeys": {
    "equation": "Ctrl-E",
    "itemize": "Ctrl-I"
   },
   "labels_anchors": false,
   "latex_user_defs": false,
   "report_style_numbering": false,
   "user_envs_cfg": false
  }
 },
 "nbformat": 4,
 "nbformat_minor": 4
}
