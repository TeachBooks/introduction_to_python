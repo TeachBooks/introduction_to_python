{
 "cells": [
  {
   "cell_type": "markdown",
   "metadata": {
    "vscode": {
     "languageId": "plaintext"
    }
   },
   "source": [
    "<figure>\n",
    "  <IMG SRC=\"https://raw.githubusercontent.com/mbakker7/exploratory_computing_with_python/master/tudelft_logo.png\" WIDTH=250 ALIGN=\"right\">\n",
    "</figure>\n",
    "\n",
    "# 2: First steps towards smart coding\n",
    "<br>\n",
    "\n",
    "In this chapter, we continue building our Python programming skills by exploring several fundamental concepts that are essential for writing efficient and organized code. We start with f-strings, a powerful feature for formatting and printing variables. Next, we delve into functions, the basis of reusable and modular code. We then introduce Python modules, which allow you to extend Python's capabilities using libraries and packages. Further, we examine conditions and if statements, which enable decision-making in your programs. Mastery of these topics will significantly enhance your programming efficiency and problem-solving capabilities, preparing you for more advanced applications of Python."
   ]
  }
 ],
 "metadata": {
  "colab": {
   "collapsed_sections": [],
   "name": "Python_2_1.ipynb",
   "provenance": []
  },
  "kernelspec": {
   "display_name": "Python 3 (ipykernel)",
   "language": "python",
   "name": "python3"
  },
  "language_info": {
   "codemirror_mode": {
    "name": "ipython",
    "version": 3
   },
   "file_extension": ".py",
   "mimetype": "text/x-python",
   "name": "python",
   "nbconvert_exporter": "python",
   "pygments_lexer": "ipython3",
   "version": "3.9.13"
  },
  "vscode": {
   "interpreter": {
    "hash": "978ede36192cb259dee8e5bd565c04d84487df4425914b0b004da2b901af68ae"
   }
  }
 },
 "nbformat": 4,
 "nbformat_minor": 4
}
