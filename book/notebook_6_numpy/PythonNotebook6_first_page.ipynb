{
 "cells": [
  {
   "cell_type": "markdown",
   "metadata": {
    "nbgrader": {
     "grade": false,
     "locked": true,
     "solution": false
    }
   },
   "source": [
    "<figure>\n",
    "  <IMG SRC=\"https://raw.githubusercontent.com/mbakker7/exploratory_computing_with_python/master/tudelft_logo.png\" WIDTH=250 ALIGN=\"right\">\n",
    "</figure>\n",
    "\n",
    "# 6: Numpy\n",
    "<br>\n",
    "\n",
    "In this chapter, we delve into essential numerical computing techniques using the `numpy` library. We begin by exploring the foundational concepts of vectors and matrices, followed by performing mathematical operations with arrays. Next, we demonstrate how to visualize data using `numpy` arrays for plotting. We then cover methods for loading data from files into `numpy` arrays. Finally, we introduce surface and color plots to enhance your data representation skills.  \n",
    "\n",
    "By mastering these topics, you will gain the tools needed for efficient data manipulation and visually compelling analysis.\n",
    "\n",
    "```{admonition} Attention\n",
    ":class: danger\n",
    "\n",
    "Asking ChatGPT or another AI to solve these basic problems will not add anything to you (or them).\n",
    "+++\n",
    "```"
   ]
  }
 ],
 "metadata": {
  "kernelspec": {
   "display_name": "Python 3 (ipykernel)",
   "language": "python",
   "name": "python3"
  },
  "language_info": {
   "codemirror_mode": {
    "name": "ipython",
    "version": 3
   },
   "file_extension": ".py",
   "mimetype": "text/x-python",
   "name": "python",
   "nbconvert_exporter": "python",
   "pygments_lexer": "ipython3",
   "version": "3.10.0"
  },
  "latex_envs": {
   "LaTeX_envs_menu_present": true,
   "autoclose": false,
   "autocomplete": true,
   "bibliofile": "biblio.bib",
   "cite_by": "apalike",
   "current_citInitial": 1,
   "eqLabelWithNumbers": true,
   "eqNumInitial": 1,
   "hotkeys": {
    "equation": "Ctrl-E",
    "itemize": "Ctrl-I"
   },
   "labels_anchors": false,
   "latex_user_defs": false,
   "report_style_numbering": false,
   "user_envs_cfg": false
  },
  "vscode": {
   "interpreter": {
    "hash": "1fe2f2b718b1108b9c4176932db8a0ead471245140baaa21ea96a4066683e6b2"
   }
  }
 },
 "nbformat": 4,
 "nbformat_minor": 4
}
