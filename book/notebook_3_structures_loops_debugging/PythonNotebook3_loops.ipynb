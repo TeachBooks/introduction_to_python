{
 "cells": [
  {
   "cell_type": "markdown",
   "metadata": {
    "nbgrader": {
     "grade": false,
     "locked": true,
     "solution": false
    }
   },
   "source": [
    "<figure>\n",
    "  <IMG SRC=\"https://raw.githubusercontent.com/mbakker7/exploratory_computing_with_python/master/tudelft_logo.png\" WIDTH=250 ALIGN=\"right\">\n",
    "</figure>\n",
    "\n",
    "# 3.2 Loops"
   ]
  },
  {
   "cell_type": "markdown",
   "metadata": {
    "id": "fHmKWsUSKuj4",
    "nbgrader": {
     "grade": false,
     "locked": true,
     "solution": false
    }
   },
   "source": [
    "Let's do another step to automatize things. Previous Sections introduced a lot of fundamental concepts, but they still don't unveil the true power of any programming language — loops!<br><br>If we want to perform the same procedure multiple times, then we would have to take the same code and copy-paste it. This approach would work, however it would require a lot of manual work and it does not look cool.<br><br>This problem is resolved with a <i>loop</i> construction. As the name suggest, this construction allows you to loop (or run) certain piece of code several times at one execution."
   ]
  },
  {
   "cell_type": "markdown",
   "metadata": {
    "id": "BcEOnv2kTT9A",
    "nbgrader": {
     "grade": false,
     "locked": true,
     "solution": false
    }
   },
   "source": [
    "## For loop\n",
    "\n",
    "The most common looping technique is a <b><code>for</code></b> loop. Let's see some examples:"
   ]
  },
  {
   "cell_type": "code",
   "execution_count": null,
   "metadata": {
    "colab": {
     "base_uri": "https://localhost:8080/"
    },
    "id": "fNaiOimubLMF",
    "nbgrader": {
     "grade": false,
     "locked": true,
     "solution": false
    },
    "outputId": "77085dd8-83cc-41d8-b7c1-17fc55dc38eb"
   },
   "outputs": [],
   "source": [
    "# let's create a list with some stuff in it\n",
    "\n",
    "my_list = [100, 'marble', False, 2, 2, [7, 7, 7], 'end']\n",
    "\n",
    "# in order to iterate (or go through each element of a list)\n",
    "# we use a for loop\n",
    "\n",
    "print('Start of the loop')\n",
    "for list_item in my_list:\n",
    "    print('In my list I can find:', list_item)\n",
    "print('End of the loop')"
   ]
  },
  {
   "cell_type": "markdown",
   "metadata": {
    "id": "NkKA4qLDb9IM",
    "nbgrader": {
     "grade": false,
     "locked": true,
     "solution": false
    }
   },
   "source": [
    "General `for` loop construction looks like this:\n",
    "\n",
    "```\n",
    "for variable in iterable:\n",
    "       do something with variable\n",
    "```\n",
    "\n",
    "iterable here means something with elements that can be iterated over, think of a list. During each iteration the following steps are happening under the hood:\n",
    "\n",
    "1.   `variable = iterable[0]` `variable` is assigned the first value from the iterable.\n",
    "\n",
    "2.   Then, you use `variable` as you wish\n",
    "\n",
    "3.   By the end of the 'cycle', the next element from the iterable is selected (`iterable[1]`), i.e., we return to step 1, but now assigning the second element... and so on.\n",
    "\n",
    "4. When there is not a next element (in other words, we have reached the end of the iterable) — it exits and the code under the loop is now executed.\n",
    "\n",
    "Looks cool, but what if we want to alter the original list within the loop?"
   ]
  },
  {
   "cell_type": "code",
   "execution_count": null,
   "metadata": {
    "colab": {
     "base_uri": "https://localhost:8080/"
    },
    "id": "1hZm9bOuhOiE",
    "nbgrader": {
     "grade": false,
     "locked": true,
     "solution": false
    },
    "outputId": "0b50490d-1d74-41cb-ba84-d4a595a7eede"
   },
   "outputs": [],
   "source": [
    "# let's see whether we can change the original list within a list \n",
    "# with a for loop\n",
    "\n",
    "x = [100, 'marble', False, 2, 2, [7, 7, 7], 'end']\n",
    "print('Try #1, before:', x)\n",
    "\n",
    "for item in x:\n",
    "    item = [5,6,7]\n",
    "\n",
    "print('Try #1, after', x)"
   ]
  },
  {
   "cell_type": "markdown",
   "metadata": {
    "nbgrader": {
     "grade": false,
     "locked": true,
     "solution": false
    }
   },
   "source": [
    "Nothing has changed.... let's try another method."
   ]
  },
  {
   "cell_type": "code",
   "execution_count": null,
   "metadata": {
    "nbgrader": {
     "grade": false,
     "locked": true,
     "solution": false
    }
   },
   "outputs": [],
   "source": [
    "length_of_x = len(x)\n",
    "print(f'Length of x: {length_of_x}')\n",
    "\n",
    "# range() is used to generate a sequence of numbers\n",
    "# more info at https://www.w3schools.com/python/ref_func_range.asp\n",
    "indices = range(length_of_x) # this will generate numbers from 0 till length_of_x, excluding the last one\n",
    "print(list(indices)) # print the numbers in the range (converted to a list)\n",
    "\n",
    "print('Try #2, before', my_list)\n",
    "\n",
    "for id in indices:\n",
    "    my_list[id] = -1\n",
    "\n",
    "print('Try #2, after', my_list)"
   ]
  },
  {
   "cell_type": "markdown",
   "metadata": {
    "nbgrader": {
     "grade": false,
     "locked": true,
     "solution": false
    }
   },
   "source": [
    "Now we have a method in our arsenal which can not only loop through a list but also access and alter its contents. Also, you can generate new data by using a <b><code>for</code></b> loop and by applying some processing to it. Here's an example on how you can automatize your greetings routine!"
   ]
  },
  {
   "cell_type": "code",
   "execution_count": null,
   "metadata": {
    "nbgrader": {
     "grade": false,
     "locked": true,
     "solution": false
    }
   },
   "outputs": [],
   "source": [
    "# General greeting\n",
    "msg = \"Ohayo!\"\n",
    "\n",
    "# the list with your friends names\n",
    "names = [\"Jarno\", \"Alex\", \"John\", \"Maria\", \"Xenia\", \"Janis\", \"Vasya\"]\n",
    "\n",
    "# An empty list, where all greetings will be stored (otherwise you cannot use the .append in the for loop below!)\n",
    "greetings = []\n",
    "\n",
    "for name in names:\n",
    "    personalized_greeting = f'{msg}, {name}-kun!' # create the personalize greeting\n",
    "    greetings.append(personalized_greeting) # append the personalized meeting tot the list of greetings\n",
    "\n",
    "# Printing our newly created greetings\n",
    "print(greetings)"
   ]
  },
  {
   "cell_type": "markdown",
   "metadata": {
    "nbgrader": {
     "grade": false,
     "locked": true,
     "solution": false
    }
   },
   "source": [
    "And you can also have loops inside loops!"
   ]
  },
  {
   "cell_type": "code",
   "execution_count": null,
   "metadata": {
    "nbgrader": {
     "grade": false,
     "locked": true,
     "solution": false
    }
   },
   "outputs": [],
   "source": [
    "# Let's say that you put down all your expenses per day separately, \n",
    "# in euros\n",
    "day1_expenses = [15, 100, 9]\n",
    "day2_expenses = [200]\n",
    "day3_expenses = [10, 12, 15, 5, 1]\n",
    "\n",
    "# you can also keep them within one list together\n",
    "expenses = [day1_expenses, day2_expenses, day3_expenses]\n",
    "print('All my expenses', expenses)\n",
    "\n",
    "# you can access also each expense separately!\n",
    "# day3 is third array and 2nd expense is second element \n",
    "# within that array\n",
    "print(f'My second expense on day 3 is {expenses[2][1]}')# recall 0th based indexing!"
   ]
  },
  {
   "cell_type": "code",
   "execution_count": null,
   "metadata": {
    "nbgrader": {
     "grade": false,
     "locked": true,
     "solution": false
    }
   },
   "outputs": [],
   "source": [
    "# Now let's use it in some calculations \n",
    "\n",
    "# Option #1 - loop over lists using indices i and j\n",
    "total_expenses = 0\n",
    "\n",
    "for i in range(len(expenses)): # loop over all days\n",
    "    # Accessing expenses made at day i + 1\n",
    "    daily_expenses_list = expenses[i]\n",
    "    # Creating temporary storage for current day expenses\n",
    "    daily_expenses = 0\n",
    "    \n",
    "    for j in range(len(daily_expenses_list)): # loop over expenses for day i + 1\n",
    "        daily_expenses += daily_expenses_list[j]\n",
    "    \n",
    "    # Adding daily expenses to the total expenses\n",
    "    total_expenses += daily_expenses\n",
    "    \n",
    "print(f'Option #1: In total I have spent {total_expenses} euro!')"
   ]
  },
  {
   "cell_type": "code",
   "execution_count": null,
   "metadata": {
    "nbgrader": {
     "grade": false,
     "locked": true,
     "solution": false
    }
   },
   "outputs": [],
   "source": [
    "# Option #2 - Shorter, directly adding expenses to the grand total\n",
    "total_expenses = 0\n",
    "\n",
    "for i in range(len(expenses)):\n",
    "    for j in range(len(expenses[i])):\n",
    "        total_expenses += expenses[i][j]\n",
    "    \n",
    "print(f'Option #2: In total I have spent {total_expenses} euro!')"
   ]
  },
  {
   "cell_type": "code",
   "execution_count": null,
   "metadata": {
    "nbgrader": {
     "grade": false,
     "locked": true,
     "solution": false
    }
   },
   "outputs": [],
   "source": [
    "# Option #3 - loop over list items\n",
    "total_expenses = 0\n",
    "\n",
    "for day_expenses in expenses:\n",
    "    for e in day_expenses:\n",
    "        total_expenses += e\n",
    "    \n",
    "print(f'Option #3: In total I have spent {total_expenses} euro!')"
   ]
  },
  {
   "cell_type": "code",
   "execution_count": null,
   "metadata": {
    "nbgrader": {
     "grade": false,
     "locked": true,
     "solution": false
    }
   },
   "outputs": [],
   "source": [
    "# Option #4 - Advanced technique - There is no loop?\n",
    "total_expenses = sum(map(sum, expenses))\n",
    "print(f'Option #4: In total I have spent {total_expenses} euro!')\n",
    "\n",
    "# If you have extra time, figure out how this works"
   ]
  },
  {
   "cell_type": "markdown",
   "metadata": {
    "id": "TNGZ78d8LOYC",
    "nbgrader": {
     "grade": false,
     "locked": true,
     "solution": false
    }
   },
   "source": [
    "## While loop \n",
    "\n",
    "The second popular loop construction is a `while` loop. The main difference is that it is suited for code structures that must repeat as long as a certain logical condition is satisfied. It looks like this:\n",
    "\n",
    "```\n",
    "while logical_condition == True:\n",
    "    do something\n",
    "```\n",
    "\n",
    "And here is a working code example:\n"
   ]
  },
  {
   "cell_type": "code",
   "execution_count": null,
   "metadata": {
    "colab": {
     "base_uri": "https://localhost:8080/"
    },
    "id": "rqsX011pL6p6",
    "nbgrader": {
     "grade": false,
     "locked": true,
     "solution": false
    },
    "outputId": "39bce5bb-bf01-469c-8758-6127efc4e943"
   },
   "outputs": [],
   "source": [
    "sum = 0\n",
    "\n",
    "while sum < 5:\n",
    "    print('sum in the beginning of the cycle:', sum)\n",
    "    sum += 1\n",
    "    print('sum in the end of the cycle:', sum)\n",
    "    print() # a blank line"
   ]
  },
  {
   "cell_type": "markdown",
   "metadata": {
    "id": "mW02NDD4MJWn",
    "nbgrader": {
     "grade": false,
     "locked": true,
     "solution": false
    }
   },
   "source": [
    "As you can see, this loop was used to increase the value of the sum variable until it reached $5$. The moment it reached $5$ and the loop condition was checked — it returned <b><code>False</code></b> and, therefore, the loop stopped.\n",
    "\n",
    "Additionally, it is worth to mention that the code inside the loop was altering the variable used in the loop condition statement, which allowed it to first run, and then stop. In the case where the code doesn't alter the loop condition, it won't stop (infinite loop), unless another special word is used.\n",
    "\n",
    "Here's a simple example of an infinite loop, which you may run (by removing the #'s) but in order to stop it — you have to interrupt the Notebook's kernel or restart it (use the Kernel menu)."
   ]
  },
  {
   "cell_type": "code",
   "execution_count": null,
   "metadata": {
    "colab": {
     "base_uri": "https://localhost:8080/",
     "height": 1000
    },
    "id": "AmIcH59oNaxU",
    "outputId": "e944bfe2-f906-45c9-ef2a-03280956679a"
   },
   "outputs": [],
   "source": [
    "# a, b = 0, 7\n",
    "\n",
    "# while a + b < 10:\n",
    "#     a += 1\n",
    "#     b -= 1\n",
    "#     print(f'a:{a};b:{b}')"
   ]
  },
  {
   "cell_type": "markdown",
   "metadata": {
    "id": "ryvB-qKfNxPh",
    "nbgrader": {
     "grade": false,
     "locked": true,
     "solution": false
    }
   },
   "source": [
    "## Break keyword\n",
    "\n",
    "After meeting and understanding the loop constructions, we can add a bit more control to it. For example, it would be nice to exit a loop earlier than it ends — in order to avoid infinite loops or just in case there is no need to run the loop further. This can be achieved by using the <b><code>break</code></b> keyword. The moment this keyword is executed, the code exits from the current loop."
   ]
  },
  {
   "cell_type": "code",
   "execution_count": null,
   "metadata": {
    "colab": {
     "base_uri": "https://localhost:8080/"
    },
    "id": "hvib4ruNTN6_",
    "nbgrader": {
     "grade": false,
     "locked": true,
     "solution": false
    },
    "outputId": "b0f08946-864e-430a-a8cc-765303a9ac6e"
   },
   "outputs": [],
   "source": [
    "stop_iteration = 4\n",
    "\n",
    "print('Before normal loop')\n",
    "for i in range(7):\n",
    "    print(f'{i} iteration and still running...')\n",
    "print('After normal loop')\n",
    "\n",
    "print('Before interrupted loop')\n",
    "for i in range(7):\n",
    "    print(f'{i} iteration and still running...')\n",
    "\n",
    "    if i == stop_iteration:\n",
    "        print('Leaving the loop')\n",
    "        break\n",
    "print('After interupted loop')"
   ]
  },
  {
   "cell_type": "markdown",
   "metadata": {
    "id": "guxGK4uGUXBA",
    "nbgrader": {
     "grade": false,
     "locked": true,
     "solution": false
    }
   },
   "source": [
    "The second loop shows how a small intrusion of an <b><code>if</code></b> statement and the <b><code>break</code></b> keyword can help us with stopping the loop earlier. The same word can be also used in a <b><code>while</code></b> loop:\n"
   ]
  },
  {
   "cell_type": "code",
   "execution_count": null,
   "metadata": {
    "colab": {
     "base_uri": "https://localhost:8080/"
    },
    "id": "tVkdaOP8Ul-W",
    "nbgrader": {
     "grade": false,
     "locked": true,
     "solution": false
    },
    "outputId": "5f391d65-82a2-4408-d74d-af89b84a040b"
   },
   "outputs": [],
   "source": [
    "iteration_number = 0\n",
    "\n",
    "print('Before the loop')\n",
    "while True:\n",
    "    iteration_number += 1\n",
    "\n",
    "    print(f'Inside the loop #{iteration_number}')\n",
    "    if iteration_number > 5:\n",
    "        print('Too many iterations is bad for your health')\n",
    "        break\n",
    "print('After the loop')"
   ]
  },
  {
   "cell_type": "markdown",
   "metadata": {
    "id": "AtRCfdMlWzhn",
    "nbgrader": {
     "grade": false,
     "locked": true,
     "solution": false
    }
   },
   "source": [
    "## Continue keyword\n",
    "\n",
    "Another possibility to be more flexible when using loops is to use the <b><code>continue</code></b> keyword.\n",
    "\n",
    "This will allow you to skip some iterations (more precisely — the moment the keyword is used it will skip the code underneath it and will start the next iteration from the beginning of the loop)."
   ]
  },
  {
   "cell_type": "code",
   "execution_count": null,
   "metadata": {
    "colab": {
     "base_uri": "https://localhost:8080/"
    },
    "id": "_1q4EB0bXMyk",
    "nbgrader": {
     "grade": false,
     "locked": true,
     "solution": false
    },
    "outputId": "57b11d07-251a-4319-d0ba-1d3ee1685b61"
   },
   "outputs": [],
   "source": [
    "def calculate_cool_function(arg):\n",
    "    res = 7 * arg ** 2 + 5 * arg + 3\n",
    "    print(f'Calculating cool function for {arg} ->  f({arg}) = {res}')\n",
    "\n",
    "print('Begin normal loop\\n')\n",
    "for i in range(7):\n",
    "    print(f'{i} iteration and still running...')\n",
    "    calculate_cool_function(i)\n",
    "print('\\nEnd normal loop\\n')\n",
    "\n",
    "print('-------------------')\n",
    "\n",
    "print('Begin altered loop\\n')\n",
    "for i in range(7):\n",
    "    print(f'{i} iteration and still running...')\n",
    "\n",
    "    # skipping every even iteration\n",
    "    if i % 2 == 0:\n",
    "        continue\n",
    "        \n",
    "    calculate_cool_function(i)\n",
    "    \n",
    "print('\\nEnd altered loop')"
   ]
  },
  {
   "cell_type": "markdown",
   "metadata": {
    "id": "_30hKsC4a1vy",
    "nbgrader": {
     "grade": false,
     "locked": true,
     "solution": false
    }
   },
   "source": [
    "As you can see, with the help of the <b><code>continue</code></b> keyword we managed to skip some of the iterations. Also worth noting that $0$ is divisible by any number, for that reason the <b><code>calculate_cool_function(i)</code></b> at <b><code>i = 0</code></b> didn't run."
   ]
  },
  {
   "cell_type": "markdown",
   "metadata": {},
   "source": [
    "## More about the range function\n",
    "\n",
    "<code>range()</code> can be used in three ways:\n",
    "* <code>range(end)</code>\n",
    "* <code>range(start, end)</code>\n",
    "* <code>range(start, end, step)</code>\n",
    "\n",
    "It creates a sequence of numbers, from <code>start</code> to <code>end</code>, optionally in steps of <code>step</code>.\n",
    "\n",
    "Note that the <code>end</code> number itself is not included.\n",
    "\n",
    "Try it below, and try out some different parameters.\n",
    "* What happens if the start > end? \n",
    "* Can you make range return numbers in descending order by using a negative step?\n",
    "* Does range work with floating point numbers?\n",
    "\n",
    "We use <code>list()</code> below to convert the range to a list of numbers. Try without <code>list()</code> to see what happens otherwise."
   ]
  },
  {
   "cell_type": "code",
   "execution_count": null,
   "metadata": {},
   "outputs": [],
   "source": [
    "list(range (3, 7))"
   ]
  },
  {
   "cell_type": "code",
   "execution_count": null,
   "metadata": {},
   "outputs": [],
   "source": [
    "list(range(3, 17, 2))"
   ]
  },
  {
   "cell_type": "code",
   "execution_count": null,
   "metadata": {},
   "outputs": [],
   "source": [
    "#Once you have a range, you can use it in a for loop\n",
    "for i in range(3, 17, 2):\n",
    "    print(f'i is {i}')"
   ]
  }
 ],
 "metadata": {
  "kernelspec": {
   "display_name": "Python 3 (ipykernel)",
   "language": "python",
   "name": "python3"
  },
  "language_info": {
   "codemirror_mode": {
    "name": "ipython",
    "version": 3
   },
   "file_extension": ".py",
   "mimetype": "text/x-python",
   "name": "python",
   "nbconvert_exporter": "python",
   "pygments_lexer": "ipython3",
   "version": "3.12.7"
  },
  "latex_envs": {
   "LaTeX_envs_menu_present": true,
   "autoclose": false,
   "autocomplete": true,
   "bibliofile": "biblio.bib",
   "cite_by": "apalike",
   "current_citInitial": 1,
   "eqLabelWithNumbers": true,
   "eqNumInitial": 1,
   "hotkeys": {
    "equation": "Ctrl-E",
    "itemize": "Ctrl-I"
   },
   "labels_anchors": false,
   "latex_user_defs": false,
   "report_style_numbering": false,
   "user_envs_cfg": false
  },
  "vscode": {
   "interpreter": {
    "hash": "1fe2f2b718b1108b9c4176932db8a0ead471245140baaa21ea96a4066683e6b2"
   }
  }
 },
 "nbformat": 4,
 "nbformat_minor": 4
}
