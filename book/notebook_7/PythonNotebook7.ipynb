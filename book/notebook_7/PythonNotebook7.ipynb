{
 "cells": [
  {
   "cell_type": "markdown",
   "metadata": {},
   "source": [
    "**PLEASE FILL THE FOLLOWING:**\n",
    "\n",
    "Group number: ___\n",
    "\n",
    "Student #1: ___\n",
    "\n",
    "Student #2: ___"
   ]
  },
  {
   "cell_type": "markdown",
   "metadata": {
    "nbgrader": {
     "grade": false,
     "locked": true,
     "solution": false
    }
   },
   "source": [
    "#### <figure>\n",
    "  <IMG SRC=\"https://raw.githubusercontent.com/mbakker7/exploratory_computing_with_python/master/tudelft_logo.png\" WIDTH=250 ALIGN=\"right\">\n",
    "</figure>\n",
    "\n",
    "\n",
    "# Python Notebook #7\n",
    "\n",
    "This time we will explore some topics from computational science:\n",
    "Random numbers, simulating a pendulum pendulum\n",
    "and drawing a fractal.\n",
    "\n",
    "## Table of Contents\n",
    "\n",
    "<ul>\n",
    "    <li> <a href=\"#random\">7.1 Random numbers</a>\n",
    "    <li> <a href=\"pendulum\">7.2 Pendulum</a>\n",
    "    <li> <a href=\"fractals\">7.3 Fractals</a>\n",
    "</ul>"
   ]
  },
  {
   "cell_type": "markdown",
   "metadata": {},
   "source": [
    "<div id='random'></div>\n",
    "\n",
    "## 7.1 Random numbers\n",
    "\n",
    "When simulating physical processes, one often needs to generate *random numbers*.\n",
    "Numpy has a set of functions for this, and can generate random numbers with many different *distributions*.\n",
    "When working with statistics, it's often useful to plot *histograms*. You will use histogram plots to test out a few random number generators.\n",
    "\n",
    "This section is inspired by Mark Bakker's series of [notebooks](http://mbakker7.github.io/exploratory_computing_with_python/).\n"
   ]
  },
  {
   "cell_type": "code",
   "execution_count": null,
   "metadata": {},
   "outputs": [],
   "source": [
    "# import modules\n",
    "import numpy as np\n",
    "import matplotlib.pyplot as plt"
   ]
  },
  {
   "cell_type": "markdown",
   "metadata": {},
   "source": [
    "Create a random number generator. "
   ]
  },
  {
   "cell_type": "code",
   "execution_count": null,
   "metadata": {},
   "outputs": [],
   "source": [
    "rng = np.random.default_rng()"
   ]
  },
  {
   "cell_type": "markdown",
   "metadata": {},
   "source": [
    "Let's generate a random number:"
   ]
  },
  {
   "cell_type": "code",
   "execution_count": null,
   "metadata": {},
   "outputs": [],
   "source": [
    "rng.uniform()"
   ]
  },
  {
   "cell_type": "markdown",
   "metadata": {},
   "source": [
    "How do you know it's random? Try generating another:"
   ]
  },
  {
   "cell_type": "code",
   "execution_count": null,
   "metadata": {},
   "outputs": [],
   "source": [
    "rng.uniform()"
   ]
  },
  {
   "cell_type": "markdown",
   "metadata": {},
   "source": [
    "`uniform` means all numbers in the range is equally likely. The default range is 0...1, but you can also specify your own range. You can also generate a whole array of random numbers at once.\n",
    "\n",
    "More information can be found in the numpy documentation for [`uniform`](https://numpy.org/doc/stable/reference/random/generator.html)\n",
    "and with the built-in help:"
   ]
  },
  {
   "cell_type": "code",
   "execution_count": null,
   "metadata": {},
   "outputs": [],
   "source": [
    "help(rng.uniform)"
   ]
  },
  {
   "cell_type": "markdown",
   "metadata": {},
   "source": [
    "Try generating some random arrays below. The size and shape of the array is controlled with the `size` argument which can be a number or a tuple."
   ]
  },
  {
   "cell_type": "code",
   "execution_count": null,
   "metadata": {},
   "outputs": [],
   "source": [
    "rng.uniform(low=-1, high=1, size=5)"
   ]
  },
  {
   "cell_type": "code",
   "execution_count": null,
   "metadata": {},
   "outputs": [],
   "source": [
    "rng.uniform(low=2, high=5, size=(3,5))"
   ]
  },
  {
   "cell_type": "markdown",
   "metadata": {},
   "source": [
    "<div class=\"alert alert-block alert-info\">\n",
    "    \n",
    "## Exercise 7.1.1 Make a histogram of the uniform distribution\n",
    "\n",
    "* create an array X of 1000 random numbers\n",
    "* use `plt.hist(X)` to plot a histogram\n",
    "\n",
    "See the [hist documentation](https://matplotlib.org/stable/api/_as_gen/matplotlib.pyplot.hist.html)\n",
    "\n",
    "* make another histogram with 20 bins, using the `bins` argument.\n",
    "\n"
   ]
  },
  {
   "cell_type": "code",
   "execution_count": null,
   "metadata": {},
   "outputs": [],
   "source": []
  },
  {
   "cell_type": "code",
   "execution_count": null,
   "metadata": {},
   "outputs": [],
   "source": []
  },
  {
   "cell_type": "markdown",
   "metadata": {},
   "source": [
    "<div class=\"alert alert-block alert-info\">\n",
    "    \n",
    "## Exercise 7.1.2 Exponential and normal distributions\n",
    "\n",
    "Now you can try other distributions.\n",
    "* Create similar histograms for the [*normal*](https://numpy.org/doc/stable/reference/random/generated/numpy.random.Generator.normal.html) and [*exponential*](https://numpy.org/doc/stable/reference/random/generated/numpy.random.Generator.exponential.html) distribution.\n",
    "\n",
    "Choose the number of random values and the number of bins for nice plots.\n",
    "\n"
   ]
  },
  {
   "cell_type": "code",
   "execution_count": null,
   "metadata": {},
   "outputs": [],
   "source": []
  },
  {
   "cell_type": "code",
   "execution_count": null,
   "metadata": {},
   "outputs": [],
   "source": []
  },
  {
   "cell_type": "markdown",
   "metadata": {},
   "source": [
    "<div class=\"alert alert-block alert-info\">\n",
    "    \n",
    "## Exercise 7.1.3 Rolling multiple dice\n",
    "\n",
    "With `rng.integers(low, high, size`) ([documentation](https://numpy.org/doc/stable/reference/random/generated/numpy.random.Generator.integers.html))\n",
    "you can generate integers, to simulate rolling dice.\n",
    "\n",
    "* Use this function to make a histogram of the outcome of rolling a normal six-sided die.\n",
    "  Hint: as with Python ranges, the low argument is inclusive, the high argument is exclusive.\n",
    "\n",
    "* Now do the same for the sum of M dice, for M = 2, 3, ...\n",
    "  Hint: for N rolls of M dice, an easy way is to generate an N by M array of die results, and then summing this array over the M-direction.\n",
    "  You need the `np.sum` function ([documentation](https://numpy.org/doc/stable/reference/generated/numpy.sum.html#numpy.sum))\n",
    "  and the axis ardument to select which direction to sum over.\n",
    "  Hint 2: for the plot to look nice, you need to set the bins. The most robust is to ask for every integer to be its own bin, using bins=range(1,6*M)\n",
    "\n",
    "Notice that if you make M large, the distribution starts looking like the normal distribution you plotted above. This is known as the *Central Limit Theorem*.\n",
    "  "
   ]
  },
  {
   "cell_type": "code",
   "execution_count": null,
   "metadata": {},
   "outputs": [],
   "source": []
  },
  {
   "cell_type": "code",
   "execution_count": null,
   "metadata": {},
   "outputs": [],
   "source": []
  },
  {
   "cell_type": "markdown",
   "metadata": {},
   "source": [
    "<div id='pendulum'></div>\n",
    "\n",
    "## 7.2 Simulating a Pendulum\n",
    "\n",
    "The motion of a pendulum can be described with two differential equations:\n",
    "\n",
    "$$\\frac{da}{dt} = v$$\n",
    "$$\\frac{dv}{dt} = - \\frac{g}{l} \\sin(a)$$\n",
    "\n",
    "$a$ is the angle (from the resting position), $v$ is the angular velocity, $g$ is the acceleration due to gravity and $l$ is the pendulum length.\n",
    "\n",
    "[Wikipedia](https://en.wikipedia.org/wiki/Pendulum_(mechanics)) or a mechanics book give more details, but for now let's see how such a problem can be handled numerically.\n",
    "A simple way to solve the system is *Euler's method*.\n",
    "\n",
    "If\n",
    "$$\\frac{dy}{dt} = f(y,t)$$\n",
    "one obtains an approximation of$y(t)$ by time-stepping:\n",
    "$$y(t+\\Delta t) \\approx y(t) + f(y,t) \\cdot \\Delta t$$\n",
    "\n",
    "The pendulum is described by a second-order differential equation, which was split into two first-order equations (for $v$ and $a$, above). Look at the function below, and see how it works.\n",
    "\n",
    "$\\Delta t$ should be \"small\" for an accurate result, and if it is too large, the method will break. A small $\\Delta t$ comes at the cost of having to compute more steps, so a compromise is needed. \n"
   ]
  },
  {
   "cell_type": "code",
   "execution_count": null,
   "metadata": {},
   "outputs": [],
   "source": [
    "# pendulum simulator - you don't need to change this\n",
    "\n",
    "def pendulum(a, v=0, l=1, g=9.81, dt=0.01, t_end=7):\n",
    "    \"\"\"\n",
    "    a:     initial angle (radians)\n",
    "    v:     initial angular velocity (radians/s)\n",
    "    l:     length of the pendulum (m)\n",
    "    g:     gravitational acceleration (m/s**2)\n",
    "    dt:    length of time step (s)\n",
    "    t_end: end time of simulation (s)\n",
    "    \n",
    "    returns 3 arrays:\n",
    "    T: times\n",
    "    A: angle as function of time\n",
    "    V: angular velocity as function of time\n",
    "    \"\"\"\n",
    "    T = []\n",
    "    A = []\n",
    "    V = []\n",
    "    t = 0\n",
    "    while t < t_end:\n",
    "        a += v * dt                # update angle with angular velocity\n",
    "        v += -g/l * np.sin(a) * dt # update angular velocity with the force\n",
    "        t += dt                    # update time\n",
    "        \n",
    "        T.append(t)                # collect output quantities\n",
    "        A.append(a)\n",
    "        V.append(v)\n",
    "    return T, A, V\n"
   ]
  },
  {
   "cell_type": "markdown",
   "metadata": {},
   "source": [
    "*Note*: In the function definition above.\n",
    "```\n",
    "def pendulum(a, v=0, l=1, g=9.81, dt=0.01, t_end=7):\n",
    "```\n",
    "most arguments have _default values_. This means that if you don't supply a value for g (for example), the default value will be used. "
   ]
  },
  {
   "cell_type": "markdown",
   "metadata": {},
   "source": [
    "<div class=\"alert alert-block alert-info\">\n",
    "    \n",
    "## Exercise 7.2.1 Simulating a pendulum\n",
    "    \n",
    "* use the pendulum function above to simulate a pendulum with different initial angles. Plot the result.\n",
    "  The angle is measured in radians, so half a turn is $\\pi$ radians.\n",
    "  You should see that for small initial angles the result is sine-shaped, a well-known result in physics because the equations can be simplified when the angle is small. What happens for larger angles?"
   ]
  },
  {
   "cell_type": "code",
   "execution_count": null,
   "metadata": {},
   "outputs": [],
   "source": []
  },
  {
   "cell_type": "markdown",
   "metadata": {},
   "source": [
    "<div id='fractals'></div>\n",
    "\n",
    "## 7.3 Fractals\n"
   ]
  },
  {
   "cell_type": "markdown",
   "metadata": {},
   "source": [
    "<div class=\"alert alert-block alert-info\">\n",
    "    \n",
    "## Exercise 7.3.1 An iterative map\n",
    "    \n",
    "Doctor M. studies the following sequence:\n",
    "    $$z_0 = 0$$\n",
    "    $$z_n = z_{n-1}^2 + c$$\n",
    "where $z$ and $c$ are complex numbers.\n",
    "    \n",
    "For some values of $c$, the sequence remains bounded, while for others the magnitude of $z$ grows larger and larger.\n",
    "Write a function to test a value of $c$ and determine the behavior of the sequence.\n",
    "    \n",
    "**Input**: Your function should take two parameters: c and a maximum number of iterations.\n",
    "If the value of $|z$ is ever larger than 2, it is known that $|z|$ will grow large, and you can stop iterating.\n",
    "**Output**: The function should return the number of iterations needed until $|z| > 2$, or 0 if $|z|$ remains bounded.\n",
    "\n",
    "**Hint 1:** c will be a complex number, but since this is Python you don't need to worry much, normal math will just work. But remember `abs()` for $|z|$.\n",
    "    \n",
    "**Hint 2:** you don't need to save all the $z_n$.\n",
    "  You can use a single z, and update it each iteration."
   ]
  },
  {
   "cell_type": "code",
   "execution_count": null,
   "metadata": {},
   "outputs": [],
   "source": [
    "# your function here:\n",
    "def M(c, Nmax):\n",
    "    ...\n",
    "    return N\n",
    "    "
   ]
  },
  {
   "cell_type": "code",
   "execution_count": null,
   "metadata": {},
   "outputs": [],
   "source": []
  },
  {
   "cell_type": "markdown",
   "metadata": {},
   "source": [
    "<div class=\"alert alert-block alert-info\">\n",
    "    \n",
    "## Exercise 7.3.2 Plot M\n",
    "    \n",
    "Use Nmax = 100, and make a plot of M in the complex plane.\n",
    "    \n",
    "    "
   ]
  },
  {
   "cell_type": "code",
   "execution_count": null,
   "metadata": {},
   "outputs": [],
   "source": [
    "# hint\n",
    "plt.figure(figsize=(8,8))\n",
    "Nmax = 100\n",
    "X = np.linspace(-2.5,1.5, 100)\n",
    "Y = np.linspace(-2,2,100)\n",
    "N = np.zeros((len(Y), len(X))) # number of iterations\n",
    "\n",
    "# for every point in N\n",
    "for j in range(len(Y)):\n",
    "    for i in range(len(X)):\n",
    "        c = X[i] + 1j * Y[j]  # prepare a c\n",
    "        ... \n",
    "        \n",
    "plt.imshow(N)"
   ]
  },
  {
   "cell_type": "code",
   "execution_count": null,
   "metadata": {},
   "outputs": [],
   "source": []
  },
  {
   "cell_type": "code",
   "execution_count": null,
   "metadata": {},
   "outputs": [],
   "source": []
  }
 ],
 "metadata": {
  "kernelspec": {
   "display_name": "Python 3 (ipykernel)",
   "language": "python",
   "name": "python3"
  },
  "language_info": {
   "codemirror_mode": {
    "name": "ipython",
    "version": 3
   },
   "file_extension": ".py",
   "mimetype": "text/x-python",
   "name": "python",
   "nbconvert_exporter": "python",
   "pygments_lexer": "ipython3",
   "version": "3.10.12"
  },
  "latex_envs": {
   "LaTeX_envs_menu_present": true,
   "autoclose": false,
   "autocomplete": true,
   "bibliofile": "biblio.bib",
   "cite_by": "apalike",
   "current_citInitial": 1,
   "eqLabelWithNumbers": true,
   "eqNumInitial": 1,
   "hotkeys": {
    "equation": "Ctrl-E",
    "itemize": "Ctrl-I"
   },
   "labels_anchors": false,
   "latex_user_defs": false,
   "report_style_numbering": false,
   "user_envs_cfg": false
  },
  "vscode": {
   "interpreter": {
    "hash": "1fe2f2b718b1108b9c4176932db8a0ead471245140baaa21ea96a4066683e6b2"
   }
  }
 },
 "nbformat": 4,
 "nbformat_minor": 4
}
