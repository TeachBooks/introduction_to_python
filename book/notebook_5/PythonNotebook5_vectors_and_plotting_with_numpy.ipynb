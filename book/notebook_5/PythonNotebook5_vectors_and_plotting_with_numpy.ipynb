{
 "cells": [
  {
   "cell_type": "markdown",
   "metadata": {
    "nbgrader": {
     "grade": false,
     "locked": true,
     "solution": false
    }
   },
   "source": [
    "<figure>\n",
    "  <IMG SRC=\"https://raw.githubusercontent.com/mbakker7/exploratory_computing_with_python/master/tudelft_logo.png\" WIDTH=250 ALIGN=\"right\">\n",
    "</figure>\n",
    "\n",
    "# 5.1 Introduction to numpy"
   ]
  },
  {
   "cell_type": "markdown",
   "metadata": {},
   "source": [
    "Numpy is a Python module for arrays of numbers, and for doing mathematical operations on them.\n",
    "Numpy is used for data analysis, plotting, linear algebra and is a very commonly used module in scientific Python.\n",
    "\n",
    "Let's import numpy:\n"
   ]
  },
  {
   "cell_type": "code",
   "execution_count": 2,
   "metadata": {},
   "outputs": [],
   "source": [
    "import numpy as np"
   ]
  },
  {
   "cell_type": "markdown",
   "metadata": {},
   "source": [
    "Now functions in numpy are accessible as `np.array()` for example.\n",
    "\n",
    "The part `as np` is not necessary, but commonly done for slightly shorter code than typing `numpy.array()` every time.\n"
   ]
  },
  {
   "cell_type": "markdown",
   "metadata": {},
   "source": [
    "A numpy vector is very much like a Python list, but you can do mathematics on the whole list at once.\n",
    "\n",
    "We can create a numpy array from a Python list:\n"
   ]
  },
  {
   "cell_type": "code",
   "execution_count": null,
   "metadata": {},
   "outputs": [],
   "source": [
    "x = np.array([5, 2, 3.3])\n",
    "print(x)"
   ]
  },
  {
   "cell_type": "markdown",
   "metadata": {},
   "source": [
    "Note: the outer parentheses `()` belong to the function call. The inner `[]` define a Python list, which is used to provide the values for the vector being created.\n",
    "\n",
    "There are other ways to create numpy arrays:"
   ]
  },
  {
   "cell_type": "code",
   "execution_count": 4,
   "metadata": {},
   "outputs": [],
   "source": [
    "z = np.zeros(4) \n",
    "e = np.ones(3)\n",
    "a = np.zeros_like(x) "
   ]
  },
  {
   "cell_type": "markdown",
   "metadata": {},
   "source": [
    "Use the cell below to print the newly created arrays. Are they what you expect?"
   ]
  },
  {
   "cell_type": "code",
   "execution_count": 8,
   "metadata": {},
   "outputs": [],
   "source": [
    "### use this cell to print arrays z, e, a"
   ]
  },
  {
   "cell_type": "markdown",
   "metadata": {},
   "source": [
    "# 5.1.1 Array math and plotting\n",
    "\n",
    "Now we can do math with the arrays:"
   ]
  },
  {
   "cell_type": "code",
   "execution_count": null,
   "metadata": {},
   "outputs": [],
   "source": [
    "y = x+e    \n",
    "print(y)\n",
    "\n",
    "print(y*x)"
   ]
  },
  {
   "cell_type": "markdown",
   "metadata": {},
   "source": [
    "Addition and multiplication are done element by element. There is also a _dot product_ which you may know from vectors in mathematics:"
   ]
  },
  {
   "cell_type": "code",
   "execution_count": null,
   "metadata": {},
   "outputs": [],
   "source": [
    "a = np.array([ 1, 3, 0, 2])\n",
    "b = np.array([-1, 2, 2, 0])\n",
    "\n",
    "np.dot(a, b)"
   ]
  },
  {
   "cell_type": "markdown",
   "metadata": {},
   "source": [
    "In Python, dot product can also be written as `a@b`, as shown below:"
   ]
  },
  {
   "cell_type": "code",
   "execution_count": null,
   "metadata": {},
   "outputs": [],
   "source": [
    "a@b"
   ]
  },
  {
   "cell_type": "markdown",
   "metadata": {},
   "source": [
    "You cannot add arrays of different length, that results in an error:\n"
   ]
  },
  {
   "cell_type": "code",
   "execution_count": null,
   "metadata": {},
   "outputs": [],
   "source": [
    "print(x)\n",
    "print(x + np.array([1, 2]))"
   ]
  },
  {
   "cell_type": "markdown",
   "metadata": {},
   "source": [
    "But you can add an array and a single number:"
   ]
  },
  {
   "cell_type": "code",
   "execution_count": null,
   "metadata": {},
   "outputs": [],
   "source": [
    "print(x)\n",
    "print(x + 1)"
   ]
  },
  {
   "cell_type": "markdown",
   "metadata": {},
   "source": [
    "Numpy also has a similar function to `range()` which is `np.arange()`:"
   ]
  },
  {
   "cell_type": "code",
   "execution_count": null,
   "metadata": {},
   "outputs": [],
   "source": [
    "np.arange(0.5, 4.5, 0.5)"
   ]
  },
  {
   "cell_type": "markdown",
   "metadata": {},
   "source": [
    "Note that like `range()`, the end point is not included. Also note that rounding issues may change whether the final point is included or not.\n",
    "\n",
    "If you want the end point to be included robustly, you can instead use `np.linspace(start, end, N)`.\n",
    "This creates an array of `N` equally spaced numbers where both start and end are included.\n",
    "**Use whichever is more convenient.**\n",
    "\n",
    "Let's now create an array `x` with equally spaced points, and evaluate a function on it."
   ]
  },
  {
   "cell_type": "code",
   "execution_count": 18,
   "metadata": {},
   "outputs": [],
   "source": [
    "x = np.linspace(0, 2*np.pi, 100)\n",
    "y1 = np.cos(x)"
   ]
  },
  {
   "cell_type": "markdown",
   "metadata": {},
   "source": [
    "Note we used `np.cos()`, which is similar to `math.cos()` but can work on numpy arrays.\n",
    "Now each element of `y1` equals the cosine of the corresponding element in `x`. \n",
    "\n",
    "Use the cell below to print `y1` to check."
   ]
  },
  {
   "cell_type": "code",
   "execution_count": 19,
   "metadata": {},
   "outputs": [],
   "source": [
    "### use this cell to print y1"
   ]
  },
  {
   "cell_type": "markdown",
   "metadata": {},
   "source": [
    "Now we can use the arrays to plot the cosine function, using `matplotlib`.\n"
   ]
  },
  {
   "cell_type": "code",
   "execution_count": 20,
   "metadata": {},
   "outputs": [],
   "source": [
    "import matplotlib.pyplot as plt\n",
    "plt.plot(x, y1)"
   ]
  },
  {
   "cell_type": "markdown",
   "metadata": {},
   "source": [
    "## 5.1.2 Saving your plots\n",
    "\n",
    "One more important matplotlib function is saving plots in a file, so that you can use them in reports.\n"
   ]
  },
  {
   "cell_type": "code",
   "execution_count": null,
   "metadata": {},
   "outputs": [],
   "source": [
    "plt.plot(x, y1)\n",
    "plt.savefig('cosplot.png')"
   ]
  },
  {
   "cell_type": "markdown",
   "metadata": {},
   "source": [
    "Matplotlib will now save your plot in the file you specified. The file will be placed in the same folder / directory as your notebook. You can also specify the directory that you would want the image to be saved: check out the documentation of the `savefig` function [here](https://matplotlib.org/stable/api/_as_gen/matplotlib.pyplot.savefig.html). \n",
    "\n",
    "*Note that in this interactive environment, saving the file won't work---this is when you're working locally.*\n",
    "\n",
    "Matplotlib can handle several formats: .png (an image), .pdf (vector graphics, small files and often looks good), .svg (also vector graphics, can be edited in for example Inkscape)\n",
    "\n",
    "[Inkscape](https://inkscape.org) is a free and open-source vector graphics editor, worth learning.\n"
   ]
  }
 ],
 "metadata": {
  "kernelspec": {
   "display_name": "base",
   "language": "python",
   "name": "python3"
  },
  "language_info": {
   "codemirror_mode": {
    "name": "ipython",
    "version": 3
   },
   "file_extension": ".py",
   "mimetype": "text/x-python",
   "name": "python",
   "nbconvert_exporter": "python",
   "pygments_lexer": "ipython3",
   "version": "3.12.2"
  },
  "latex_envs": {
   "LaTeX_envs_menu_present": true,
   "autoclose": false,
   "autocomplete": true,
   "bibliofile": "biblio.bib",
   "cite_by": "apalike",
   "current_citInitial": 1,
   "eqLabelWithNumbers": true,
   "eqNumInitial": 1,
   "hotkeys": {
    "equation": "Ctrl-E",
    "itemize": "Ctrl-I"
   },
   "labels_anchors": false,
   "latex_user_defs": false,
   "report_style_numbering": false,
   "user_envs_cfg": false
  }
 },
 "nbformat": 4,
 "nbformat_minor": 4
}
