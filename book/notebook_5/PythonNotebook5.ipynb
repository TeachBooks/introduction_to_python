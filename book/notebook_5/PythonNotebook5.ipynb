{
 "cells": [
  {
   "cell_type": "markdown",
   "metadata": {},
   "source": [
    "**PLEASE FILL THE FOLLOWING:**\n",
    "\n",
    "Group number: ___\n",
    "\n",
    "Student #1: ___\n",
    "\n",
    "Student #2: ___"
   ]
  },
  {
   "cell_type": "markdown",
   "metadata": {
    "nbgrader": {
     "grade": false,
     "locked": true,
     "solution": false
    }
   },
   "source": [
    "#### <figure>\n",
    "  <IMG SRC=\"https://raw.githubusercontent.com/mbakker7/exploratory_computing_with_python/master/tudelft_logo.png\" WIDTH=250 ALIGN=\"right\">\n",
    "</figure>\n",
    "\n",
    "\n",
    "# Python Notebook #5 \n",
    "\n",
    "## Table of Contents\n",
    "\n",
    "<ul>\n",
    "    <li> <a href=\"#numpy\">5.1 Vectors and matrices with numpy</a>\n",
    "    <li> <a href=\"#plotting\">5.2 Array math and plotting</a>\n",
    "    <li> <a href=\"#2D\"> 5.3 Matrices or 2-dimensional arrays</a>    \n",
    "</ul>"
   ]
  },
  {
   "cell_type": "markdown",
   "metadata": {},
   "source": [
    "<div id='numpy'></div>\n",
    "\n",
    "## 5.1 Vectors and matrices with numpy\n",
    "\n",
    "Numpy is a Python module for arrays of numbers, and for doing mathematical operations on them.\n",
    "Numpy is used for data analysis, plotting, linear algebra and is a very commonly used module in scientific Python.\n",
    "\n",
    "Let's import numpy:\n"
   ]
  },
  {
   "cell_type": "code",
   "execution_count": null,
   "metadata": {},
   "outputs": [],
   "source": [
    "import numpy as np"
   ]
  },
  {
   "cell_type": "markdown",
   "metadata": {},
   "source": [
    "Now functions in numpy are accessible as `np.array()` for example.\n",
    "The part `as np` is not necessary, but commonly done for slightly shorter code than typing `numpy.array()` every time.\n"
   ]
  },
  {
   "cell_type": "markdown",
   "metadata": {},
   "source": [
    "A numpy vector is very much like a Python list, but you can do mathematics on the whole list at once.\n",
    "\n",
    "We can create a numpy array from a Python list:\n"
   ]
  },
  {
   "cell_type": "code",
   "execution_count": null,
   "metadata": {},
   "outputs": [],
   "source": [
    "x = np.array([5, 2, 3.3])\n",
    "print(x)"
   ]
  },
  {
   "cell_type": "markdown",
   "metadata": {},
   "source": [
    "Note: the outer parentheses `()` belong to the function call. The inner `[]` define a Python list, which is used to provide the values for the vector being created.\n",
    "\n",
    "There are other ways to create numpy arrays:"
   ]
  },
  {
   "cell_type": "code",
   "execution_count": null,
   "metadata": {},
   "outputs": [],
   "source": [
    "z = np.zeros(4) \n",
    "e = np.ones(3)\n",
    "a = np.zeros_like(x) "
   ]
  },
  {
   "cell_type": "markdown",
   "metadata": {},
   "source": [
    "Print the newly created arrays. Are they what you expect?"
   ]
  },
  {
   "cell_type": "code",
   "execution_count": null,
   "metadata": {},
   "outputs": [],
   "source": []
  },
  {
   "cell_type": "markdown",
   "metadata": {},
   "source": [
    "Now we can do math with the arrays:"
   ]
  },
  {
   "cell_type": "code",
   "execution_count": null,
   "metadata": {},
   "outputs": [],
   "source": [
    "y = x+e    \n",
    "print(y)\n",
    "\n",
    "print(y*x)"
   ]
  },
  {
   "cell_type": "markdown",
   "metadata": {},
   "source": [
    "Addition and multiplication are done element by element. There is also a _dot product_ which you may know from vectors in mathematics:"
   ]
  },
  {
   "cell_type": "code",
   "execution_count": null,
   "metadata": {},
   "outputs": [],
   "source": [
    "a = np.array([ 1, 3, 0, 2])\n",
    "b = np.array([-1, 2, 2, 0])\n",
    "\n",
    "np.dot(a, b)"
   ]
  },
  {
   "cell_type": "markdown",
   "metadata": {},
   "source": [
    "You cannot add arrays of different length, that results in an error.\n",
    "But you can add an array and a single number:"
   ]
  },
  {
   "cell_type": "code",
   "execution_count": null,
   "metadata": {},
   "outputs": [],
   "source": [
    "print(x)\n",
    "print(x+1)"
   ]
  },
  {
   "cell_type": "markdown",
   "metadata": {},
   "source": [
    "<div id='plotting'></div>\n",
    "\n",
    "## 5.2 Array math and plotting\n",
    "\n",
    "Let's generate an array with evenly spaced values.\n",
    "Do you remember `range(start, stop, step)`? There is a similar numpy function,\n",
    "`np.arange()`."
   ]
  },
  {
   "cell_type": "code",
   "execution_count": null,
   "metadata": {},
   "outputs": [],
   "source": [
    "np.arange(0.5, 4.5, 0.5)"
   ]
  },
  {
   "cell_type": "markdown",
   "metadata": {},
   "source": [
    "Note that like `range()`, the end point is not included. Also note that rounding issues may change whether the final point is included or not.\n",
    "\n",
    "If you want the end point to be included robustly, you can instead use `np.linspace(start, end, N)`.\n",
    "This creates an array of N equally spaced numbers where both start and end are included.\n",
    "Use whichever is more convenient.\n",
    "\n",
    "Let's now create an array `x` with equally spaced points, and evaluate a function on it."
   ]
  },
  {
   "cell_type": "code",
   "execution_count": null,
   "metadata": {},
   "outputs": [],
   "source": [
    "x = np.linspace(0, 2*np.pi, 100)\n",
    "y1 = np.cos(x)"
   ]
  },
  {
   "cell_type": "markdown",
   "metadata": {},
   "source": [
    "Note we used `np.cos()`, which is similar to `math.cos()` but can work on numpy arrays.\n",
    "Now each element of `y1` equals the cosine of the corresponding element in `x`. Print them to check.\n",
    "\n"
   ]
  },
  {
   "cell_type": "code",
   "execution_count": null,
   "metadata": {},
   "outputs": [],
   "source": []
  },
  {
   "cell_type": "markdown",
   "metadata": {},
   "source": [
    "Now we can use the arrays to plot the cos function, using matplotlib.\n"
   ]
  },
  {
   "cell_type": "code",
   "execution_count": null,
   "metadata": {},
   "outputs": [],
   "source": [
    "import matplotlib.pyplot as plt"
   ]
  },
  {
   "cell_type": "code",
   "execution_count": null,
   "metadata": {},
   "outputs": [],
   "source": [
    "x = np.linspace(0, 2*np.pi, 100)\n",
    "y1 = np.cos(x)\n",
    "plt.plot (x, y1)"
   ]
  },
  {
   "cell_type": "markdown",
   "metadata": {},
   "source": [
    "<div class=\"alert alert-block alert-info\">\n",
    "    \n",
    "## Exercise 5.2.1 Function plots\n",
    "\n",
    "Copy the code above, modify it to add a sine function to the plot.\n",
    "Give the two curves distinct colors (choose colors you like) and add a legend showing which of the curves is which.\n",
    "\n",
    "\n"
   ]
  },
  {
   "cell_type": "code",
   "execution_count": null,
   "metadata": {},
   "outputs": [],
   "source": []
  },
  {
   "cell_type": "markdown",
   "metadata": {},
   "source": [
    "## Saving your plots\n",
    "\n",
    "One more important matplotlib function is saving plots in a file, so that you can use them in reports.\n"
   ]
  },
  {
   "cell_type": "code",
   "execution_count": null,
   "metadata": {},
   "outputs": [],
   "source": [
    "plt.plot (x, y1)\n",
    "plt.savefig('cosplot.png')"
   ]
  },
  {
   "cell_type": "markdown",
   "metadata": {},
   "source": [
    "Matplotlib will now save your plot in the file you specified. Find it on your computer and open it. It will be placed in the same folder / directory as your notebook.\n",
    "\n",
    "Matplotlib can handle several formats: .png (an image), .pdf (vector graphics, small files and often looks good), .svg (also vector graphics, can be edited in for example Inkscape)\n",
    "\n",
    "[Inkscape](https://inkscape.org) is a free and open-source vector graphics editor, worth learning.\n"
   ]
  },
  {
   "cell_type": "markdown",
   "metadata": {},
   "source": [
    "<div class=\"alert alert-block alert-info\">\n",
    "    \n",
    "## Exercise 5.2.2 Bar graph revisited\n",
    "\n",
    "In the last notebook you made a bar graph of monthly rainfall amounts. Perhaps you wondered if it's possible to place the bars side by side so they don't overlap.\n",
    "\n",
    "You can do this by shifting the x-coordinates of your bars, and setting the bar width using the `width=` argument to the bar graph function.\n",
    "\n",
    "* copy your plotting code from the last notebook. \n",
    "* make a numpy array of the month list.\n",
    "* now you can easily add or subtract a number from the whole array.\n",
    "* make a plot where the bars for the different regions don't overlap.\n",
    "\n"
   ]
  },
  {
   "cell_type": "code",
   "execution_count": null,
   "metadata": {},
   "outputs": [],
   "source": [
    "# just run this cell to define the data\n",
    "\n",
    "# Monthly mean precipitation (mm)\n",
    "# Data from https://climatecharts.net/\n",
    "\n",
    "month = range(1,13)\n",
    "Pr_NL      = [72.8, 54.1, 52.5, 38.7, 50.0, 63.0, 73.1, 82.9, 82.9, 86.8, 87.7, 83.6] # Netherlands\n",
    "Pr_Madrid  = [43.0, 45.1, 44.8, 58.6, 60.7, 31.0, 12.7, 16.3, 32.5, 75.8, 60.7, 48.5] # Spain, around Madrid\n",
    "Pr_Lapland = [27.0, 25.9, 22.5, 22.1, 35.6, 60.0, 66.9, 58.1, 46.6, 42.9, 34.2, 28.4] # Finland, Lapland, around Sodankylä\n",
    "#             Jan   Feb   Mar   Apr   May   Jun   Jul   Aug   Sep   Oct   Nov   Dec   "
   ]
  },
  {
   "cell_type": "code",
   "execution_count": null,
   "metadata": {},
   "outputs": [],
   "source": [
    "# your plotting here\n"
   ]
  },
  {
   "cell_type": "markdown",
   "metadata": {},
   "source": [
    "<div id='2D'></div>\n",
    "\n",
    "## 5.3 Matrices or 2-dimensional arrays"
   ]
  },
  {
   "cell_type": "markdown",
   "metadata": {},
   "source": [
    "<div class=\"alert alert-block alert-info\">\n",
    "    \n",
    "## Exercise 5.3.1\n",
    "\n",
    "* Create a 4x2 matrix `m` filled with different values \n",
    "\n",
    "4x2 means four rows and two columns.\n",
    "You can use `np.array()`, and pass it nested lists,\n",
    "or you can use `np.zeros((rows, columns))` and fill in the values afterwards.\n",
    "Here `rows` and `columns` are the number of rows and columns you want. Note the double parentheses. The reason is that `(rows, columns)` is a tuple,\n",
    "and the `np.zeros()` function takes this tuple as it's argument.\n",
    "\n",
    "\n",
    "* Check the shape of your matrix, using m.shape\n",
    "\n",
    "* Try the transpose() function on your array (hint: m.transpose()). What did it do?\n",
    "\n"
   ]
  },
  {
   "cell_type": "code",
   "execution_count": null,
   "metadata": {},
   "outputs": [],
   "source": []
  },
  {
   "cell_type": "markdown",
   "metadata": {},
   "source": [
    "Elements in a matrix are accessed with two indices, for example `m[2,1]`. Like in the mathematical notation for matrices, the row index comes first. So `m[2,1]` is the element on row 2 in column 1. Note that the indices start at 0.\n",
    "\n",
    "Try indexing your m matrix below."
   ]
  },
  {
   "cell_type": "code",
   "execution_count": null,
   "metadata": {},
   "outputs": [],
   "source": []
  },
  {
   "cell_type": "markdown",
   "metadata": {},
   "source": [
    "<div class=\"alert alert-block alert-info\">\n",
    "\n",
    "## Exercise 5.3.2 Slicing matrices\n",
    "\n",
    "As you have seen for Python lists and strings, numpy arrays can also be sliced using `[start:end:step]`.\n",
    "\n",
    "* Use slicing to cut out the part\n",
    "```\n",
    "11, 12\n",
    "15, 16\n",
    "``` \n",
    "from matrix A defined below."
   ]
  },
  {
   "cell_type": "code",
   "execution_count": null,
   "metadata": {},
   "outputs": [],
   "source": [
    "# Just run this cell to define A\n",
    "A = np.array([[ 1,  2,  3,  4],\n",
    "              [ 5,  6,  7,  8],\n",
    "              [ 9, 10, 11, 12],\n",
    "              [13, 14, 15, 16],\n",
    "              [17, 18, 19, 20]])"
   ]
  },
  {
   "cell_type": "code",
   "execution_count": null,
   "metadata": {},
   "outputs": [],
   "source": []
  }
 ],
 "metadata": {
  "kernelspec": {
   "display_name": "Python 3 (ipykernel)",
   "language": "python",
   "name": "python3"
  },
  "language_info": {
   "codemirror_mode": {
    "name": "ipython",
    "version": 3
   },
   "file_extension": ".py",
   "mimetype": "text/x-python",
   "name": "python",
   "nbconvert_exporter": "python",
   "pygments_lexer": "ipython3",
   "version": "3.10.12"
  },
  "latex_envs": {
   "LaTeX_envs_menu_present": true,
   "autoclose": false,
   "autocomplete": true,
   "bibliofile": "biblio.bib",
   "cite_by": "apalike",
   "current_citInitial": 1,
   "eqLabelWithNumbers": true,
   "eqNumInitial": 1,
   "hotkeys": {
    "equation": "Ctrl-E",
    "itemize": "Ctrl-I"
   },
   "labels_anchors": false,
   "latex_user_defs": false,
   "report_style_numbering": false,
   "user_envs_cfg": false
  },
  "vscode": {
   "interpreter": {
    "hash": "1fe2f2b718b1108b9c4176932db8a0ead471245140baaa21ea96a4066683e6b2"
   }
  }
 },
 "nbformat": 4,
 "nbformat_minor": 4
}
