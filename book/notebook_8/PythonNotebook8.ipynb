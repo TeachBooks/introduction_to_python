{
 "cells": [
  {
   "cell_type": "markdown",
   "metadata": {},
   "source": [
    "**PLEASE FILL THE FOLLOWING:**\n",
    "\n",
    "Group number: ___\n",
    "\n",
    "Student #1: ___\n",
    "\n",
    "Student #2: ___"
   ]
  },
  {
   "cell_type": "markdown",
   "metadata": {
    "nbgrader": {
     "grade": false,
     "locked": true,
     "solution": false
    }
   },
   "source": [
    "#### <figure>\n",
    "  <IMG SRC=\"https://raw.githubusercontent.com/mbakker7/exploratory_computing_with_python/master/tudelft_logo.png\" WIDTH=250 ALIGN=\"right\">\n",
    "</figure>\n",
    "\n",
    "\n",
    "# Python Notebook #8\n",
    "\n",
    "## Table of Contents\n",
    "\n",
    "<ul>\n",
    "    <li> <a href=\"#files\">8.1 Loading and plotting data from a csv file</a>\n",
    "    <li> <a href=\"#working\">8.2 Working with pandas dataframes</a>\n",
    "</ul>"
   ]
  },
  {
   "cell_type": "markdown",
   "metadata": {},
   "source": [
    "<div id='files'></div>\n",
    "\n",
    "## 8.1 Loading and plotting data from a csv file\n",
    "\n",
    "In notebook 6 you used numpy to load data from a txt tile. In this notebook you will learn how to load data from a csv file and handle it with the pandas package. \n",
    "\n",
    "We will start by loading two files called `T1_ice.csv` and `T1_seafloor.csv`.\n"
   ]
  },
  {
   "cell_type": "code",
   "execution_count": null,
   "metadata": {},
   "outputs": [],
   "source": [
    "import pandas as pd\n",
    "import matplotlib.pyplot as plt\n",
    "import numpy as np\n",
    "from datetime import datetime"
   ]
  },
  {
   "cell_type": "code",
   "execution_count": null,
   "metadata": {},
   "outputs": [],
   "source": [
    "ice = pd.read_csv('T1_ice.csv')\n",
    "# if the file cannot be found, you will get an error message here."
   ]
  },
  {
   "cell_type": "markdown",
   "metadata": {},
   "source": [
    "What did we just load?"
   ]
  },
  {
   "cell_type": "code",
   "execution_count": null,
   "metadata": {},
   "outputs": [],
   "source": [
    "ice"
   ]
  },
  {
   "cell_type": "markdown",
   "metadata": {},
   "source": [
    "This is called a [pandas dataframe](https://pandas.pydata.org/docs/reference/api/pandas.DataFrame.html) "
   ]
  },
  {
   "cell_type": "code",
   "execution_count": null,
   "metadata": {},
   "outputs": [],
   "source": [
    "seafloor = pd.read_csv('T1_seafloor.csv')"
   ]
  },
  {
   "cell_type": "code",
   "execution_count": null,
   "metadata": {},
   "outputs": [],
   "source": [
    "seafloor"
   ]
  },
  {
   "cell_type": "markdown",
   "metadata": {},
   "source": [
    "We can easily access the data in the different columns by using the name of each of them"
   ]
  },
  {
   "cell_type": "code",
   "execution_count": null,
   "metadata": {},
   "outputs": [],
   "source": [
    "ice['distance(m)'] #use the name of the desired column head within the square brackets"
   ]
  },
  {
   "cell_type": "code",
   "execution_count": null,
   "metadata": {},
   "outputs": [],
   "source": [
    "seafloor['latitude']"
   ]
  },
  {
   "cell_type": "markdown",
   "metadata": {},
   "source": [
    "### What kind of data are we looking at?\n",
    "\n",
    "The data is from an operation of the underwater vehicle called [ICEFIN](https://schmidt.astro.cornell.edu/icefin/).\n",
    "More specificly the data is from the ocean beneath the ice shelf Thwaites in Antarctica.\n",
    "\n",
    "**Have a look at the really cool video below!**"
   ]
  },
  {
   "cell_type": "code",
   "execution_count": null,
   "metadata": {},
   "outputs": [],
   "source": [
    "from IPython.display import YouTubeVideo\n",
    "YouTubeVideo(\"uXA0AkcrNoo\",start=30)"
   ]
  },
  {
   "cell_type": "markdown",
   "metadata": {},
   "source": [
    "Let's go ahead and plot the seafloor and bottom of the ice shelf as measured by ICEFIN"
   ]
  },
  {
   "cell_type": "code",
   "execution_count": null,
   "metadata": {},
   "outputs": [],
   "source": [
    "plt.figure(figsize=(10,5))\n",
    "plt.plot(ice['distance(m)'],ice['ice(m)'], color='lightgrey')\n",
    "plt.plot(seafloor['distance(m)'],seafloor['seafloor(m)'], color='saddlebrown')\n",
    "plt.xlabel('Distance [m]')\n",
    "plt.ylabel('Depth [m]')\n",
    "plt.xlim(np.min(seafloor['distance(m)']),np.max(seafloor['distance(m)'])) \n",
    "# using the minimum and maximum values of `seafloor['distance(m)']` to limit the plot to where we have data"
   ]
  },
  {
   "cell_type": "markdown",
   "metadata": {},
   "source": [
    "### What do we see here?\n",
    "\n",
    "The brown line is the sea floor and the grey line is the bottom of the ice. That means that everything in between the two lines is ocean water.\n"
   ]
  },
  {
   "cell_type": "markdown",
   "metadata": {},
   "source": [
    "<div class=\"alert alert-block alert-info\">\n",
    "    \n",
    "## Exercise 8.1.1 Improve the above plot to make it easier to understand\n",
    "\n",
    "* use `plt.fill_between` to color everything below the seafloor line brown\n",
    "* use `plt.fill_between` to color everything above the ice base line grey\n",
    "* adjust the limits of the x- and y-axis to make the plot look nice"
   ]
  },
  {
   "cell_type": "code",
   "execution_count": null,
   "metadata": {},
   "outputs": [],
   "source": [
    "plt.figure(figsize=(10,5))\n",
    "plt.plot(ice['distance(m)'],ice['ice(m)'], color='lightgrey')\n",
    "plt.plot(seafloor['distance(m)'],seafloor['seafloor(m)'], color='saddlebrown')\n",
    "plt.xlabel('Distance [m]')\n",
    "plt.ylabel('Depth [m]')\n",
    "plt.xlim(np.min(seafloor['distance(m)']),np.max(seafloor['distance(m)']))\n",
    "\n",
    "# Type solution here #\n",
    "\n"
   ]
  },
  {
   "cell_type": "markdown",
   "metadata": {},
   "source": [
    "### Dropping columns\n",
    "\n",
    "You can easily drop/remove columns of a pandas dataframe if you don't need the data"
   ]
  },
  {
   "cell_type": "code",
   "execution_count": null,
   "metadata": {},
   "outputs": [],
   "source": [
    "ice = ice.drop(columns=['latitude','longitude'])\n",
    "ice"
   ]
  },
  {
   "cell_type": "markdown",
   "metadata": {},
   "source": [
    "<div class=\"alert alert-block alert-info\">\n",
    "    \n",
    "## Exercise 8.1.2 Load another csv file and plot the data onto the plot from 8.1.1\n",
    "\n",
    "* use `pd.load_csv` to import `T1_ocean_1Hz.csv` into a dataframe called `ocean`\n",
    "* check what the dataframe looks like\n",
    "* drop columns so that you are only left with:\n",
    "  `time(UTC),distance(m),depth(m),Absolute_Salinity(g/kg)`\n",
    "* use `plt.scatter` to plot the depth as a function of distance\n",
    "* use the `s` argument to change the size of the plotted markers"
   ]
  },
  {
   "cell_type": "code",
   "execution_count": null,
   "metadata": {},
   "outputs": [],
   "source": [
    "# Load and check data\n",
    "ocean = ...\n"
   ]
  },
  {
   "cell_type": "code",
   "execution_count": null,
   "metadata": {},
   "outputs": [],
   "source": [
    "# Drop columns\n"
   ]
  },
  {
   "cell_type": "code",
   "execution_count": null,
   "metadata": {},
   "outputs": [],
   "source": [
    "# Plot the depth as function of distance and use `s` to change ther marker size\n",
    "\n",
    "plt.figure(figsize=(10,5))\n",
    "plt.plot(ice['distance(m)'],ice['ice(m)'], color='lightgrey')\n",
    "plt.plot(seafloor['distance(m)'],seafloor['seafloor(m)'], color='saddlebrown')\n",
    "plt.xlabel('Distance [m]')\n",
    "plt.ylabel('Depth [m]')\n",
    "plt.xlim(np.min(seafloor['distance(m)']),np.max(seafloor['distance(m)']))\n",
    "\n",
    "# Fill in the solution from 8.1.1 here #\n",
    "\n",
    "# Add scatter plot here #\n",
    "\n"
   ]
  },
  {
   "cell_type": "markdown",
   "metadata": {},
   "source": [
    "What you have plotted now is the journey of ICEFIN in the ocean below the ice shelf."
   ]
  },
  {
   "cell_type": "markdown",
   "metadata": {},
   "source": [
    "<div class=\"alert alert-block alert-info\">\n",
    "    \n",
    "## Exercise 8.1.3 dip deeper into the scatter plot\n",
    "\n",
    "Now that we have plotted the journey of ICEFIN it would be nice to plot some of the components that it has been measuring on it's journey below the ice shelf.\n",
    "\n",
    "With scatter plots we are able to color the markers based on data. In this exercise we will use the `Absolute_Salinity(g/kg)` column as data to be colored.\n",
    "\n",
    "Have a look at the scatter plot [documentation](https://matplotlib.org/stable/api/_as_gen/matplotlib.pyplot.scatter.html)!\n",
    "\n",
    "* copy and use the same scatter plot as above\n",
    "* parse the `Absolute_Salinity(g/kg)` column to the `c` argument of the scatter plot\n",
    "* use the `cmap` argument to add a colormap of choice\n",
    "* use the `vmin` and `vmax` arguments to control the range of the colormap (`vmin = 34.3` and `vmax = 34.6` should be good)\n",
    "* add a colorbar to the plot"
   ]
  },
  {
   "cell_type": "code",
   "execution_count": null,
   "metadata": {},
   "outputs": [],
   "source": [
    "plt.figure(figsize=(10,5))\n",
    "plt.plot(ice['distance(m)'],ice['ice(m)'], color='lightgrey')\n",
    "plt.plot(seafloor['distance(m)'],seafloor['seafloor(m)'], color='saddlebrown')\n",
    "plt.xlabel('Distance [m]')\n",
    "plt.ylabel('Depth [m]')\n",
    "plt.xlim(np.min(seafloor['distance(m)']),np.max(seafloor['distance(m)']))\n",
    "\n",
    "# Fill in the solution from 8.1.1 here #\n",
    "\n",
    "\n",
    "# Add scatter plot here #\n",
    "\n",
    "\n"
   ]
  },
  {
   "cell_type": "markdown",
   "metadata": {},
   "source": [
    "On the plot you should be able to see that the water has a lower salinity closer to the base of the ice.\n",
    "\n",
    "**Why is that?**\n",
    "\n",
    "Ice is frozen fresh water, so when the ice melts it decreases the salinity of the ocean water, and that signal will of course be greater closer to the ice base."
   ]
  },
  {
   "cell_type": "markdown",
   "metadata": {},
   "source": [
    "<div id='working'></div>\n",
    "\n",
    "## 8.2 Working with pandas dataframes"
   ]
  },
  {
   "cell_type": "markdown",
   "metadata": {},
   "source": [
    "So far we have just been plotting the data given from the files.\n",
    "In this part we want to do some simple calculations and also add new columns to our data.\n",
    "\n",
    "In this part we want to figure out how fast ICEFIN was roaming around below the ice."
   ]
  },
  {
   "cell_type": "markdown",
   "metadata": {},
   "source": [
    "### Group the dataframe by time"
   ]
  },
  {
   "cell_type": "markdown",
   "metadata": {},
   "source": [
    "When we print the dataframe `ocean` we will see that there are several data points sharing the same `time(UTC)`"
   ]
  },
  {
   "cell_type": "code",
   "execution_count": null,
   "metadata": {},
   "outputs": [],
   "source": [
    "ocean"
   ]
  },
  {
   "cell_type": "markdown",
   "metadata": {},
   "source": [
    "We therefore want to group the dataset such that all dates only have **one** value per column.\n",
    "\n",
    "This can be done by using the pandas build-in function `.groupby()`"
   ]
  },
  {
   "cell_type": "code",
   "execution_count": null,
   "metadata": {},
   "outputs": [],
   "source": [
    "ocean_mean = ocean.groupby(['time(UTC)'],as_index=False).mean()\n",
    "ocean_mean"
   ]
  },
  {
   "cell_type": "markdown",
   "metadata": {},
   "source": [
    "The new dataframe `ocean_mean` now has a different shape than `ocean` and contains the mean value of each column for every `time(UTC)`"
   ]
  },
  {
   "cell_type": "markdown",
   "metadata": {},
   "source": [
    "<div class=\"alert alert-block alert-info\">\n",
    "    \n",
    "## Exercise 8.2.1 creating a column with distances\n",
    "\n",
    "In the example below we create a new column `time_delta` which contains the time it takes from ICEFIN to get from point `i` to `i+1` and the result is stored at `i+1`.\n",
    "\n",
    "It is now your task to create a ned column which contains the distance travelled between point `i` and `i+1`, and store the result at `i+1`.\n",
    "\n",
    "* create a new column called `travelled_distance` with NaN values in every row\n",
    "* use the columns `distance(m)` and `depth(m)` to calculate the eucledian distance and store the result in `travelled_distance`\n",
    "\n",
    "Euclidean distance:\n",
    "$$dist = \\sqrt{(x_2 - x_1)^2 + (y_2 - y_1)^2}$$"
   ]
  },
  {
   "cell_type": "code",
   "execution_count": null,
   "metadata": {},
   "outputs": [],
   "source": [
    "# Creating a new column with NaN values\n",
    "ocean_mean['time_delta'] = np.nan \n",
    "ocean_mean"
   ]
  },
  {
   "cell_type": "code",
   "execution_count": null,
   "metadata": {},
   "outputs": [],
   "source": [
    "# Loop through the dataframe and fill in the new column\n",
    "\n",
    "for i in range(len(ocean_mean)-1):\n",
    "    date_format = '%d-%b-%Y %H:%M:%S'\n",
    "    time2 = datetime.strptime(ocean_mean['time(UTC)'].iloc[i+1], date_format)\n",
    "    time1 = datetime.strptime(ocean_mean['time(UTC)'].iloc[i], date_format)\n",
    "    ocean_mean['time_delta'].at[i+1] = (time2-time1).seconds\n",
    "ocean_mean"
   ]
  },
  {
   "cell_type": "code",
   "execution_count": null,
   "metadata": {},
   "outputs": [],
   "source": [
    "# Create a new column with NaN values\n",
    "\n",
    "# Type solution here #"
   ]
  },
  {
   "cell_type": "code",
   "execution_count": null,
   "metadata": {},
   "outputs": [],
   "source": [
    "# Fill in the column with the euclidean distance\n",
    "\n",
    "# Type solution here #"
   ]
  },
  {
   "cell_type": "markdown",
   "metadata": {},
   "source": [
    "New columns can also be added and filled using data from other columns.\n",
    "\n",
    "Here is an example"
   ]
  },
  {
   "cell_type": "code",
   "execution_count": null,
   "metadata": {},
   "outputs": [],
   "source": [
    "ice['distance-ice'] = ice['distance(m)']-ice['ice(m)']\n",
    "ice"
   ]
  },
  {
   "cell_type": "markdown",
   "metadata": {},
   "source": [
    "<div class=\"alert alert-block alert-info\">\n",
    "    \n",
    "## Exercise 8.2.2 calculating the velocity\n",
    "\n",
    "In the example below we create a new column `time_delta` which contains the time it takes from ICEFIN to get from point `i` to `i+1` and the result is stored at `i+1`.\n",
    "\n",
    "It is now your task to create a ned column which contains the distance travelled between point `i` and `i+1`, and store the result at `i+1`.\n",
    "\n",
    "* create a new column with the velocity using `time_delta` and `travelled_distance`\n",
    "* what is the maximum velocity?\n",
    "* what is the minimum velocity?\n",
    "* what is the mean velocity?\n",
    "\n",
    "Hint: Since there might be NaN values it might be needed to use i.e. `np.nanmin()` instead of `np.min()`"
   ]
  },
  {
   "cell_type": "code",
   "execution_count": null,
   "metadata": {},
   "outputs": [],
   "source": [
    "# Create a new column with the velocities\n",
    "\n",
    "# Type solution here #"
   ]
  },
  {
   "cell_type": "code",
   "execution_count": null,
   "metadata": {},
   "outputs": [],
   "source": [
    "# Calculate the max, min and mean velocities\n",
    "\n",
    "min_vel = ...\n",
    "max_vel = ...\n",
    "mean_vel = ...\n",
    "\n",
    "print(f'The minimum velocity is {min_vel:.2f} m/s, the maximum velocity is {max_vel:.2f} m/s, and the mean velocity is {mean_vel:.2f} m/s')"
   ]
  },
  {
   "cell_type": "code",
   "execution_count": null,
   "metadata": {},
   "outputs": [],
   "source": []
  }
 ],
 "metadata": {
  "kernelspec": {
   "display_name": "Python 3 (ipykernel)",
   "language": "python",
   "name": "python3"
  },
  "language_info": {
   "codemirror_mode": {
    "name": "ipython",
    "version": 3
   },
   "file_extension": ".py",
   "mimetype": "text/x-python",
   "name": "python",
   "nbconvert_exporter": "python",
   "pygments_lexer": "ipython3",
   "version": "3.10.12"
  },
  "latex_envs": {
   "LaTeX_envs_menu_present": true,
   "autoclose": false,
   "autocomplete": true,
   "bibliofile": "biblio.bib",
   "cite_by": "apalike",
   "current_citInitial": 1,
   "eqLabelWithNumbers": true,
   "eqNumInitial": 1,
   "hotkeys": {
    "equation": "Ctrl-E",
    "itemize": "Ctrl-I"
   },
   "labels_anchors": false,
   "latex_user_defs": false,
   "report_style_numbering": false,
   "user_envs_cfg": false
  },
  "vscode": {
   "interpreter": {
    "hash": "1fe2f2b718b1108b9c4176932db8a0ead471245140baaa21ea96a4066683e6b2"
   }
  }
 },
 "nbformat": 4,
 "nbformat_minor": 4
}
