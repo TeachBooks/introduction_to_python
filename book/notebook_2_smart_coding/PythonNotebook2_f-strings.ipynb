{
 "cells": [
  {
   "cell_type": "markdown",
   "metadata": {},
   "source": [
    "<figure>\n",
    "  <IMG SRC=\"https://raw.githubusercontent.com/mbakker7/exploratory_computing_with_python/master/tudelft_logo.png\" WIDTH=250 ALIGN=\"right\">\n",
    "</figure>\n",
    "\n",
    "# 2.0 Python f-strings\n",
    "\n",
    "In the first notebook you learned to use <code>print()</code> to display text and variables. But the print statements can get long if you want to show many variables at once. For example:\n"
   ]
  },
  {
   "cell_type": "code",
   "execution_count": null,
   "metadata": {},
   "outputs": [],
   "source": [
    "a = 2\n",
    "b = 7\n",
    "print('a is', a, 'and b is', b, '. Their product is', a*b, '.')"
   ]
  },
  {
   "cell_type": "markdown",
   "metadata": {},
   "source": [
    "Also you don't have full control over the spacing, e.g. the space added before the `'.'` after the value of `b`. There is a more convenient way to print variables:"
   ]
  },
  {
   "cell_type": "code",
   "execution_count": null,
   "metadata": {},
   "outputs": [],
   "source": [
    "print(f'a is {a} and b is {b}. Their product is {a*b}.')"
   ]
  },
  {
   "cell_type": "markdown",
   "metadata": {},
   "source": [
    "The string inside <code>print()</code> starts with <code>f'</code> and ends with a normal <code>'</code>. This type of string is called an \"f-string\", and it has special powers: it can contain variables and python code inside curly brackets <code>{ }</code>. Using f-strings is often more convenient than piecing together a print statement with a list of strings and variables.\n",
    "\n",
    "One more useful property of f-strings is that you can control how many decimal digits are printed for floating point numbers. After the variable but inside the brackets, type a colon followed by a formatting code. There are several such codes, for now we'll show only one: <code>.2f</code>.\n",
    "Here <code>.2</code> means two digits after the decimal point, and <code>f</code> specifies that the data to be printed is a floating point number."
   ]
  },
  {
   "cell_type": "code",
   "execution_count": null,
   "metadata": {},
   "outputs": [],
   "source": [
    "e = 2.71828182846\n",
    "\n",
    "print(f'e is {e}.')\n",
    "print(f'e with two decimals is {e:.2f}.')"
   ]
  },
  {
   "cell_type": "markdown",
   "metadata": {},
   "source": [
    "For your easy reference, please see below some of the formatting codes you could use to format a variable within an f-string.\n",
    "\n",
    "| Format Code       | Description                                      | Example Usage          | Output                  |\n",
    "|--------------------|--------------------------------------------------|------------------------|-------------------------|\n",
    "| `:.2f`            | Formats a float to 2 decimal places             | `f\"{3.14159:.2f}\"`    | `3.14`                 |\n",
    "| `:d`              | Formats an integer                              | `f\"{42:d}\"`           | `42`                   |\n",
    "| `:08d`            | Pads an integer with leading zeros to make it 8 digits | `f\"{42:08d}\"`         | `00000042`             |\n",
    "| `:.1%`            | Formats a number as a percentage with 1 decimal place | `f\"{0.1234:.1%}\"`    | `12.3%`                |\n",
    "| `:e`              | Formats a number in scientific notation (lowercase) | `f\"{12345:e}\"`        | `1.234500e+04`         |\n",
    "| `:E`              | Formats a number in scientific notation (uppercase) | `f\"{12345:E}\"`        | `1.234500E+04`         |\n",
    "| `:x`              | Formats an integer as a hexadecimal (lowercase) | `f\"{255:x}\"`          | `ff`                   |\n",
    "| `:X`              | Formats an integer as a hexadecimal (uppercase) | `f\"{255:X}\"`          | `FF`                   |\n",
    "| `:b`              | Formats an integer as binary                    | `f\"{42:b}\"`           | `101010`               |\n",
    "| `:o`              | Formats an integer as octal                     | `f\"{42:o}\"`           | `52`                   |\n",
    "| `:^10`            | Centers a string within 10 spaces               | `f\"{'hi':^10}\"`       | `    hi    `           |\n",
    "| `:<10`            | Left-aligns a string within 10 spaces           | `f\"{'hi':<10}\"`       | `hi        `           |\n",
    "| `:>10`            | Right-aligns a string within 10 spaces          | `f\"{'hi':>10}\"`       | `        hi`           |\n",
    "| `:c<10`           | Left-aligns a string within 10 custom characters (here `c`)    | `f\"{'hi':c<10}\"`       | `hicccccccc`           |\n",
    "| `:c>10`           | Right-aligns a string within 10 custom characters (here `c`)         | `f\"{'hi':c>10}\"`       | `cccccccchi`     |\n",
    "| `:,`              | Adds commas as thousand separators              | `f\"{1234567:,}\"`      | `1,234,567`            |\n",
    "| `:_`              | Adds underscores as thousand separators         | `f\"{1234567:_}\"`      | `1_234_567`            |"
   ]
  }
 ],
 "metadata": {
  "colab": {
   "collapsed_sections": [],
   "name": "Python_2_1.ipynb",
   "provenance": []
  },
  "kernelspec": {
   "display_name": "Python 3 (ipykernel)",
   "language": "python",
   "name": "python3"
  },
  "language_info": {
   "codemirror_mode": {
    "name": "ipython",
    "version": 3
   },
   "file_extension": ".py",
   "mimetype": "text/x-python",
   "name": "python",
   "nbconvert_exporter": "python",
   "pygments_lexer": "ipython3",
   "version": "3.10.0"
  }
 },
 "nbformat": 4,
 "nbformat_minor": 4
}
